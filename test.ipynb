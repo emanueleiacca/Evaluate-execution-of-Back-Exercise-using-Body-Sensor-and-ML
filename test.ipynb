{
 "cells": [
  {
   "cell_type": "code",
   "execution_count": 3,
   "metadata": {},
   "outputs": [],
   "source": [
    "import pandas as pd\n",
    "import numpy as np\n",
    "\n",
    "file_path = \"AF3_FeatReduc.xlsx\"\n",
    "data = pd.read_excel(file_path)\n",
    "y=data[\"Type\"]\n",
    "X= data.iloc[:, 1:-1]\n",
    "subjects=data[\"Sub\"]"
   ]
  },
  {
   "cell_type": "code",
   "execution_count": 2,
   "metadata": {},
   "outputs": [],
   "source": [
    "import lightgbm as lgb\n",
    "import optuna\n",
    "from sklearn.model_selection import GroupKFold\n",
    "from sklearn.metrics import accuracy_score\n"
   ]
  },
  {
   "cell_type": "code",
   "execution_count": 7,
   "metadata": {},
   "outputs": [
    {
     "name": "stderr",
     "output_type": "stream",
     "text": [
      "[I 2024-05-14 19:07:50,402] A new study created in memory with name: no-name-dc5ccbb3-8f58-4ef6-88e2-65a332284aaa\n"
     ]
    },
    {
     "name": "stdout",
     "output_type": "stream",
     "text": [
      "Training on subjects: [1 2 3 4 5 6] Testing on subject: [7]\n",
      "Training on subjects: [1 2 3 4 5 7] Testing on subject: [6]\n",
      "Training on subjects: [1 2 3 4 6 7] Testing on subject: [5]\n",
      "Training on subjects: [1 2 3 5 6 7] Testing on subject: [4]\n",
      "Training on subjects: [1 2 4 5 6 7] Testing on subject: [3]\n"
     ]
    },
    {
     "name": "stderr",
     "output_type": "stream",
     "text": [
      "[I 2024-05-14 19:07:50,957] Trial 0 finished with value: 0.985633575464084 and parameters: {'n_estimators': 175, 'learning_rate': 0.19019214697557332, 'max_depth': 13, 'num_leaves': 32, 'min_child_samples': 16, 'subsample': 0.8311989040672406, 'subsample_freq': 0, 'colsample_bytree': 0.9464704583099741, 'reg_alpha': 0.6011150117432088, 'reg_lambda': 0.7080725777960455, 'max_bin': 202}. Best is trial 0 with value: 0.985633575464084.\n"
     ]
    },
    {
     "name": "stdout",
     "output_type": "stream",
     "text": [
      "Training on subjects: [2 3 4 5 6 7] Testing on subject: [1]\n",
      "Training on subjects: [1 3 4 5 6 7] Testing on subject: [2]\n",
      "Training on subjects: [1 2 3 4 5 6] Testing on subject: [7]\n",
      "Training on subjects: [1 2 3 4 5 7] Testing on subject: [6]\n",
      "Training on subjects: [1 2 3 4 6 7] Testing on subject: [5]\n",
      "Training on subjects: [1 2 3 5 6 7] Testing on subject: [4]\n",
      "Training on subjects: [1 2 4 5 6 7] Testing on subject: [3]\n"
     ]
    },
    {
     "name": "stderr",
     "output_type": "stream",
     "text": [
      "[I 2024-05-14 19:07:51,540] Trial 1 finished with value: 0.985633575464084 and parameters: {'n_estimators': 294, 'learning_rate': 0.16665608551928393, 'max_depth': 7, 'num_leaves': 23, 'min_child_samples': 17, 'subsample': 0.8608484485919076, 'subsample_freq': 4, 'colsample_bytree': 0.7727780074568463, 'reg_alpha': 0.2912291401980419, 'reg_lambda': 0.6118528947223795, 'max_bin': 214}. Best is trial 0 with value: 0.985633575464084.\n"
     ]
    },
    {
     "name": "stdout",
     "output_type": "stream",
     "text": [
      "Training on subjects: [2 3 4 5 6 7] Testing on subject: [1]\n",
      "Training on subjects: [1 3 4 5 6 7] Testing on subject: [2]\n",
      "Training on subjects: [1 2 3 4 5 6] Testing on subject: [7]\n",
      "Training on subjects: [1 2 3 4 5 7] Testing on subject: [6]\n",
      "Training on subjects: [1 2 3 4 6 7] Testing on subject: [5]\n",
      "Training on subjects: [1 2 3 5 6 7] Testing on subject: [4]\n",
      "Training on subjects: [1 2 4 5 6 7] Testing on subject: [3]\n",
      "Training on subjects: [2 3 4 5 6 7] Testing on subject: [1]\n"
     ]
    },
    {
     "name": "stderr",
     "output_type": "stream",
     "text": [
      "[I 2024-05-14 19:07:51,913] Trial 2 finished with value: 0.985633575464084 and parameters: {'n_estimators': 158, 'learning_rate': 0.07390600681544465, 'max_depth': 10, 'num_leaves': 36, 'min_child_samples': 18, 'subsample': 0.9028468876827224, 'subsample_freq': 4, 'colsample_bytree': 0.6185801650879991, 'reg_alpha': 0.6075448519014384, 'reg_lambda': 0.17052412368729153, 'max_bin': 206}. Best is trial 0 with value: 0.985633575464084.\n"
     ]
    },
    {
     "name": "stdout",
     "output_type": "stream",
     "text": [
      "Training on subjects: [1 3 4 5 6 7] Testing on subject: [2]\n",
      "Training on subjects: [1 2 3 4 5 6] Testing on subject: [7]\n",
      "Training on subjects: [1 2 3 4 5 7] Testing on subject: [6]\n",
      "Training on subjects: [1 2 3 4 6 7] Testing on subject: [5]\n",
      "Training on subjects: [1 2 3 5 6 7] Testing on subject: [4]\n",
      "Training on subjects: [1 2 4 5 6 7] Testing on subject: [3]\n",
      "Training on subjects: [2 3 4 5 6 7] Testing on subject: [1]\n"
     ]
    },
    {
     "name": "stderr",
     "output_type": "stream",
     "text": [
      "[I 2024-05-14 19:07:52,509] Trial 3 finished with value: 0.985633575464084 and parameters: {'n_estimators': 290, 'learning_rate': 0.19316077458183734, 'max_depth': 13, 'num_leaves': 26, 'min_child_samples': 14, 'subsample': 0.9368466053024314, 'subsample_freq': 3, 'colsample_bytree': 0.6488152939379115, 'reg_alpha': 0.4951769101112702, 'reg_lambda': 0.034388521115218396, 'max_bin': 291}. Best is trial 0 with value: 0.985633575464084.\n"
     ]
    },
    {
     "name": "stdout",
     "output_type": "stream",
     "text": [
      "Training on subjects: [1 3 4 5 6 7] Testing on subject: [2]\n",
      "Training on subjects: [1 2 3 4 5 6] Testing on subject: [7]\n",
      "Training on subjects: [1 2 3 4 5 7] Testing on subject: [6]\n",
      "Training on subjects: [1 2 3 4 6 7] Testing on subject: [5]\n",
      "Training on subjects: [1 2 3 5 6 7] Testing on subject: [4]\n",
      "Training on subjects: [1 2 4 5 6 7] Testing on subject: [3]\n",
      "Training on subjects: [2 3 4 5 6 7] Testing on subject: [1]\n"
     ]
    },
    {
     "name": "stderr",
     "output_type": "stream",
     "text": [
      "[I 2024-05-14 19:07:52,930] Trial 4 finished with value: 0.985633575464084 and parameters: {'n_estimators': 152, 'learning_rate': 0.13284193458644242, 'max_depth': 8, 'num_leaves': 30, 'min_child_samples': 32, 'subsample': 0.8369708911051055, 'subsample_freq': 7, 'colsample_bytree': 0.9100531293444458, 'reg_alpha': 0.9394989415641891, 'reg_lambda': 0.8948273504276488, 'max_bin': 260}. Best is trial 0 with value: 0.985633575464084.\n"
     ]
    },
    {
     "name": "stdout",
     "output_type": "stream",
     "text": [
      "Training on subjects: [1 3 4 5 6 7] Testing on subject: [2]\n",
      "Training on subjects: [1 2 3 4 5 6] Testing on subject: [7]\n",
      "Training on subjects: [1 2 3 4 5 7] Testing on subject: [6]\n",
      "Training on subjects: [1 2 3 4 6 7] Testing on subject: [5]\n",
      "Training on subjects: [1 2 3 5 6 7] Testing on subject: [4]\n",
      "Training on subjects: [1 2 4 5 6 7] Testing on subject: [3]\n",
      "Training on subjects: [2 3 4 5 6 7] Testing on subject: [1]\n",
      "Training on subjects: [1 3 4 5 6 7] Testing on subject: [2]\n"
     ]
    },
    {
     "name": "stderr",
     "output_type": "stream",
     "text": [
      "[I 2024-05-14 19:07:53,606] Trial 5 finished with value: 0.985633575464084 and parameters: {'n_estimators': 285, 'learning_rate': 0.01861000790833198, 'max_depth': 7, 'num_leaves': 20, 'min_child_samples': 23, 'subsample': 0.8777354579378964, 'subsample_freq': 2, 'colsample_bytree': 0.9314950036607718, 'reg_alpha': 0.3567533266935893, 'reg_lambda': 0.28093450968738076, 'max_bin': 254}. Best is trial 0 with value: 0.985633575464084.\n"
     ]
    },
    {
     "name": "stdout",
     "output_type": "stream",
     "text": [
      "Training on subjects: [1 2 3 4 5 6] Testing on subject: [7]\n",
      "Training on subjects: [1 2 3 4 5 7] Testing on subject: [6]\n",
      "Training on subjects: [1 2 3 4 6 7] Testing on subject: [5]\n",
      "Training on subjects: [1 2 3 5 6 7] Testing on subject: [4]\n",
      "Training on subjects: [1 2 4 5 6 7] Testing on subject: [3]\n",
      "Training on subjects: [2 3 4 5 6 7] Testing on subject: [1]\n",
      "Training on subjects: [1 3 4 5 6 7] Testing on subject: [2]\n"
     ]
    },
    {
     "name": "stderr",
     "output_type": "stream",
     "text": [
      "[I 2024-05-14 19:07:54,124] Trial 6 finished with value: 0.985633575464084 and parameters: {'n_estimators': 128, 'learning_rate': 0.1606371991700539, 'max_depth': 5, 'num_leaves': 40, 'min_child_samples': 41, 'subsample': 0.8397431363068345, 'subsample_freq': 0, 'colsample_bytree': 0.9261845713819337, 'reg_alpha': 0.7068573438476171, 'reg_lambda': 0.7290071680409873, 'max_bin': 277}. Best is trial 0 with value: 0.985633575464084.\n"
     ]
    },
    {
     "name": "stdout",
     "output_type": "stream",
     "text": [
      "Training on subjects: [1 2 3 4 5 6] Testing on subject: [7]\n",
      "Training on subjects: [1 2 3 4 5 7] Testing on subject: [6]\n",
      "Training on subjects: [1 2 3 4 6 7] Testing on subject: [5]\n",
      "Training on subjects: [1 2 3 5 6 7] Testing on subject: [4]\n",
      "Training on subjects: [1 2 4 5 6 7] Testing on subject: [3]\n"
     ]
    },
    {
     "name": "stderr",
     "output_type": "stream",
     "text": [
      "[I 2024-05-14 19:07:54,428] Trial 7 finished with value: 0.985633575464084 and parameters: {'n_estimators': 114, 'learning_rate': 0.07233467998031025, 'max_depth': 6, 'num_leaves': 38, 'min_child_samples': 35, 'subsample': 0.8661796049705299, 'subsample_freq': 0, 'colsample_bytree': 0.7243929286862649, 'reg_alpha': 0.32518332202674705, 'reg_lambda': 0.7296061783380641, 'max_bin': 264}. Best is trial 0 with value: 0.985633575464084.\n"
     ]
    },
    {
     "name": "stdout",
     "output_type": "stream",
     "text": [
      "Training on subjects: [2 3 4 5 6 7] Testing on subject: [1]\n",
      "Training on subjects: [1 3 4 5 6 7] Testing on subject: [2]\n",
      "Training on subjects: [1 2 3 4 5 6] Testing on subject: [7]\n",
      "Training on subjects: [1 2 3 4 5 7] Testing on subject: [6]\n",
      "Training on subjects: [1 2 3 4 6 7] Testing on subject: [5]\n",
      "Training on subjects: [1 2 3 5 6 7] Testing on subject: [4]\n",
      "Training on subjects: [1 2 4 5 6 7] Testing on subject: [3]\n",
      "Training on subjects: [2 3 4 5 6 7] Testing on subject: [1]\n"
     ]
    },
    {
     "name": "stderr",
     "output_type": "stream",
     "text": [
      "[I 2024-05-14 19:07:54,929] Trial 8 finished with value: 0.985633575464084 and parameters: {'n_estimators': 278, 'learning_rate': 0.09497077010722792, 'max_depth': 6, 'num_leaves': 34, 'min_child_samples': 41, 'subsample': 0.9122554395138993, 'subsample_freq': 6, 'colsample_bytree': 0.7975182385457563, 'reg_alpha': 0.5227328293819941, 'reg_lambda': 0.42754101835854963, 'max_bin': 202}. Best is trial 0 with value: 0.985633575464084.\n"
     ]
    },
    {
     "name": "stdout",
     "output_type": "stream",
     "text": [
      "Training on subjects: [1 3 4 5 6 7] Testing on subject: [2]\n",
      "Training on subjects: [1 2 3 4 5 6] Testing on subject: [7]\n",
      "Training on subjects: [1 2 3 4 5 7] Testing on subject: [6]\n",
      "Training on subjects: [1 2 3 4 6 7] Testing on subject: [5]\n"
     ]
    },
    {
     "name": "stderr",
     "output_type": "stream",
     "text": [
      "[I 2024-05-14 19:07:55,281] Trial 9 finished with value: 0.985633575464084 and parameters: {'n_estimators': 121, 'learning_rate': 0.007254407951660116, 'max_depth': 12, 'num_leaves': 26, 'min_child_samples': 30, 'subsample': 0.9815132947852186, 'subsample_freq': 1, 'colsample_bytree': 0.7641531692142519, 'reg_alpha': 0.7555511385430487, 'reg_lambda': 0.22879816549162246, 'max_bin': 207}. Best is trial 0 with value: 0.985633575464084.\n"
     ]
    },
    {
     "name": "stdout",
     "output_type": "stream",
     "text": [
      "Training on subjects: [1 2 3 5 6 7] Testing on subject: [4]\n",
      "Training on subjects: [1 2 4 5 6 7] Testing on subject: [3]\n",
      "Training on subjects: [2 3 4 5 6 7] Testing on subject: [1]\n",
      "Training on subjects: [1 3 4 5 6 7] Testing on subject: [2]\n",
      "Training on subjects: [1 2 3 4 5 6] Testing on subject: [7]\n",
      "Training on subjects: [1 2 3 4 5 7] Testing on subject: [6]\n",
      "Training on subjects: [1 2 3 4 6 7] Testing on subject: [5]\n",
      "Training on subjects: [1 2 3 5 6 7] Testing on subject: [4]\n",
      "Training on subjects: [1 2 4 5 6 7] Testing on subject: [3]\n",
      "Training on subjects: [2 3 4 5 6 7] Testing on subject: [1]\n",
      "Training on subjects: [1 3 4 5 6 7] Testing on subject: [2]\n"
     ]
    },
    {
     "name": "stderr",
     "output_type": "stream",
     "text": [
      "[I 2024-05-14 19:07:55,891] Trial 10 finished with value: 0.985633575464084 and parameters: {'n_estimators': 211, 'learning_rate': 0.13717690756144954, 'max_depth': 15, 'num_leaves': 32, 'min_child_samples': 10, 'subsample': 0.8077450399922367, 'subsample_freq': 2, 'colsample_bytree': 0.990455959943198, 'reg_alpha': 0.09696877974827967, 'reg_lambda': 0.9923626654603374, 'max_bin': 228}. Best is trial 0 with value: 0.985633575464084.\n"
     ]
    },
    {
     "name": "stdout",
     "output_type": "stream",
     "text": [
      "Training on subjects: [1 2 3 4 5 6] Testing on subject: [7]\n",
      "Training on subjects: [1 2 3 4 5 7] Testing on subject: [6]\n",
      "Training on subjects: [1 2 3 4 6 7] Testing on subject: [5]\n",
      "Training on subjects: [1 2 3 5 6 7] Testing on subject: [4]\n"
     ]
    },
    {
     "name": "stderr",
     "output_type": "stream",
     "text": [
      "[I 2024-05-14 19:07:56,430] Trial 11 finished with value: 0.985633575464084 and parameters: {'n_estimators': 222, 'learning_rate': 0.19082337161050456, 'max_depth': 9, 'num_leaves': 20, 'min_child_samples': 22, 'subsample': 0.8019976014762662, 'subsample_freq': 5, 'colsample_bytree': 0.8474848589441921, 'reg_alpha': 0.10249122865832999, 'reg_lambda': 0.5925717606501665, 'max_bin': 228}. Best is trial 0 with value: 0.985633575464084.\n"
     ]
    },
    {
     "name": "stdout",
     "output_type": "stream",
     "text": [
      "Training on subjects: [1 2 4 5 6 7] Testing on subject: [3]\n",
      "Training on subjects: [2 3 4 5 6 7] Testing on subject: [1]\n",
      "Training on subjects: [1 3 4 5 6 7] Testing on subject: [2]\n",
      "Training on subjects: [1 2 3 4 5 6] Testing on subject: [7]\n",
      "Training on subjects: [1 2 3 4 5 7] Testing on subject: [6]\n",
      "Training on subjects: [1 2 3 4 6 7] Testing on subject: [5]\n",
      "Training on subjects: [1 2 3 5 6 7] Testing on subject: [4]\n"
     ]
    },
    {
     "name": "stderr",
     "output_type": "stream",
     "text": [
      "[I 2024-05-14 19:07:56,993] Trial 12 finished with value: 0.985633575464084 and parameters: {'n_estimators': 236, 'learning_rate': 0.1581059361975735, 'max_depth': 12, 'num_leaves': 27, 'min_child_samples': 24, 'subsample': 0.8454278023301758, 'subsample_freq': 4, 'colsample_bytree': 0.699896678404012, 'reg_alpha': 0.27765455748774076, 'reg_lambda': 0.5409608632634769, 'max_bin': 227}. Best is trial 0 with value: 0.985633575464084.\n"
     ]
    },
    {
     "name": "stdout",
     "output_type": "stream",
     "text": [
      "Training on subjects: [1 2 4 5 6 7] Testing on subject: [3]\n",
      "Training on subjects: [2 3 4 5 6 7] Testing on subject: [1]\n",
      "Training on subjects: [1 3 4 5 6 7] Testing on subject: [2]\n",
      "Training on subjects: [1 2 3 4 5 6] Testing on subject: [7]\n",
      "Training on subjects: [1 2 3 4 5 7] Testing on subject: [6]\n",
      "Training on subjects: [1 2 3 4 6 7] Testing on subject: [5]\n",
      "Training on subjects: [1 2 3 5 6 7] Testing on subject: [4]\n",
      "Training on subjects: [1 2 4 5 6 7] Testing on subject: [3]\n"
     ]
    },
    {
     "name": "stderr",
     "output_type": "stream",
     "text": [
      "[I 2024-05-14 19:07:57,428] Trial 13 finished with value: 0.985633575464084 and parameters: {'n_estimators': 184, 'learning_rate': 0.19898985554578108, 'max_depth': 15, 'num_leaves': 23, 'min_child_samples': 49, 'subsample': 0.8730465104736118, 'subsample_freq': 3, 'colsample_bytree': 0.8486918133802431, 'reg_alpha': 0.23089735588778548, 'reg_lambda': 0.7296529617988127, 'max_bin': 218}. Best is trial 0 with value: 0.985633575464084.\n"
     ]
    },
    {
     "name": "stdout",
     "output_type": "stream",
     "text": [
      "Training on subjects: [2 3 4 5 6 7] Testing on subject: [1]\n",
      "Training on subjects: [1 3 4 5 6 7] Testing on subject: [2]\n",
      "Training on subjects: [1 2 3 4 5 6] Testing on subject: [7]\n",
      "Training on subjects: [1 2 3 4 5 7] Testing on subject: [6]\n",
      "Training on subjects: [1 2 3 4 6 7] Testing on subject: [5]\n",
      "Training on subjects: [1 2 3 5 6 7] Testing on subject: [4]\n"
     ]
    },
    {
     "name": "stderr",
     "output_type": "stream",
     "text": [
      "[I 2024-05-14 19:07:57,911] Trial 14 finished with value: 0.985633575464084 and parameters: {'n_estimators': 248, 'learning_rate': 0.1663763656690497, 'max_depth': 11, 'num_leaves': 29, 'min_child_samples': 10, 'subsample': 0.8286137256002866, 'subsample_freq': 5, 'colsample_bytree': 0.8534865872047058, 'reg_alpha': 0.44327358372399167, 'reg_lambda': 0.4170915717975848, 'max_bin': 244}. Best is trial 0 with value: 0.985633575464084.\n"
     ]
    },
    {
     "name": "stdout",
     "output_type": "stream",
     "text": [
      "Training on subjects: [1 2 4 5 6 7] Testing on subject: [3]\n",
      "Training on subjects: [2 3 4 5 6 7] Testing on subject: [1]\n",
      "Training on subjects: [1 3 4 5 6 7] Testing on subject: [2]\n",
      "Training on subjects: [1 2 3 4 5 6] Testing on subject: [7]\n",
      "Training on subjects: [1 2 3 4 5 7] Testing on subject: [6]\n",
      "Training on subjects: [1 2 3 4 6 7] Testing on subject: [5]\n",
      "Training on subjects: [1 2 3 5 6 7] Testing on subject: [4]\n",
      "Training on subjects: [1 2 4 5 6 7] Testing on subject: [3]\n"
     ]
    },
    {
     "name": "stderr",
     "output_type": "stream",
     "text": [
      "[I 2024-05-14 19:07:58,336] Trial 15 finished with value: 0.985633575464084 and parameters: {'n_estimators': 184, 'learning_rate': 0.12438539755027656, 'max_depth': 9, 'num_leaves': 33, 'min_child_samples': 17, 'subsample': 0.9337732279271732, 'subsample_freq': 2, 'colsample_bytree': 0.7538351829164537, 'reg_alpha': 0.9203764090478699, 'reg_lambda': 0.6089582803996045, 'max_bin': 241}. Best is trial 0 with value: 0.985633575464084.\n"
     ]
    },
    {
     "name": "stdout",
     "output_type": "stream",
     "text": [
      "Training on subjects: [2 3 4 5 6 7] Testing on subject: [1]\n",
      "Training on subjects: [1 3 4 5 6 7] Testing on subject: [2]\n",
      "Training on subjects: [1 2 3 4 5 6] Testing on subject: [7]\n",
      "Training on subjects: [1 2 3 4 5 7] Testing on subject: [6]\n",
      "Training on subjects: [1 2 3 4 6 7] Testing on subject: [5]\n",
      "Training on subjects: [1 2 3 5 6 7] Testing on subject: [4]\n"
     ]
    },
    {
     "name": "stderr",
     "output_type": "stream",
     "text": [
      "[I 2024-05-14 19:07:58,828] Trial 16 finished with value: 0.985633575464084 and parameters: {'n_estimators': 261, 'learning_rate': 0.17104568300195833, 'max_depth': 14, 'num_leaves': 23, 'min_child_samples': 26, 'subsample': 0.8626663451144929, 'subsample_freq': 5, 'colsample_bytree': 0.9860930071516779, 'reg_alpha': 0.7155815433899493, 'reg_lambda': 0.8368801715559179, 'max_bin': 216}. Best is trial 0 with value: 0.985633575464084.\n"
     ]
    },
    {
     "name": "stdout",
     "output_type": "stream",
     "text": [
      "Training on subjects: [1 2 4 5 6 7] Testing on subject: [3]\n",
      "Training on subjects: [2 3 4 5 6 7] Testing on subject: [1]\n",
      "Training on subjects: [1 3 4 5 6 7] Testing on subject: [2]\n",
      "Training on subjects: [1 2 3 4 5 6] Testing on subject: [7]\n",
      "Training on subjects: [1 2 3 4 5 7] Testing on subject: [6]\n",
      "Training on subjects: [1 2 3 4 6 7] Testing on subject: [5]\n",
      "Training on subjects: [1 2 3 5 6 7] Testing on subject: [4]\n",
      "Training on subjects: [1 2 4 5 6 7] Testing on subject: [3]\n"
     ]
    },
    {
     "name": "stderr",
     "output_type": "stream",
     "text": [
      "[I 2024-05-14 19:07:59,240] Trial 17 finished with value: 0.985633575464084 and parameters: {'n_estimators': 188, 'learning_rate': 0.11323096510526516, 'max_depth': 10, 'num_leaves': 23, 'min_child_samples': 16, 'subsample': 0.822484091666232, 'subsample_freq': 1, 'colsample_bytree': 0.6873064153189612, 'reg_alpha': 0.6012759699226796, 'reg_lambda': 0.44632200845003633, 'max_bin': 219}. Best is trial 0 with value: 0.985633575464084.\n"
     ]
    },
    {
     "name": "stdout",
     "output_type": "stream",
     "text": [
      "Training on subjects: [2 3 4 5 6 7] Testing on subject: [1]\n",
      "Training on subjects: [1 3 4 5 6 7] Testing on subject: [2]\n",
      "Training on subjects: [1 2 3 4 5 6] Testing on subject: [7]\n",
      "Training on subjects: [1 2 3 4 5 7] Testing on subject: [6]\n",
      "Training on subjects: [1 2 3 4 6 7] Testing on subject: [5]\n",
      "Training on subjects: [1 2 3 5 6 7] Testing on subject: [4]\n",
      "Training on subjects: [1 2 4 5 6 7] Testing on subject: [3]\n",
      "Training on subjects: [2 3 4 5 6 7] Testing on subject: [1]\n"
     ]
    },
    {
     "name": "stderr",
     "output_type": "stream",
     "text": [
      "[I 2024-05-14 19:07:59,657] Trial 18 finished with value: 0.985633575464084 and parameters: {'n_estimators': 162, 'learning_rate': 0.1514316150243817, 'max_depth': 13, 'num_leaves': 30, 'min_child_samples': 20, 'subsample': 0.9874591096091891, 'subsample_freq': 7, 'colsample_bytree': 0.8121440847704084, 'reg_alpha': 0.17660393000485652, 'reg_lambda': 0.6572415663875775, 'max_bin': 201}. Best is trial 0 with value: 0.985633575464084.\n"
     ]
    },
    {
     "name": "stdout",
     "output_type": "stream",
     "text": [
      "Training on subjects: [1 3 4 5 6 7] Testing on subject: [2]\n",
      "Training on subjects: [1 2 3 4 5 6] Testing on subject: [7]\n",
      "Training on subjects: [1 2 3 4 5 7] Testing on subject: [6]\n"
     ]
    },
    {
     "name": "stderr",
     "output_type": "stream",
     "text": [
      "[I 2024-05-14 19:08:00,026] Trial 19 finished with value: 0.985633575464084 and parameters: {'n_estimators': 100, 'learning_rate': 0.03350486713312868, 'max_depth': 8, 'num_leaves': 35, 'min_child_samples': 13, 'subsample': 0.8943685355786479, 'subsample_freq': 1, 'colsample_bytree': 0.8841131847433006, 'reg_alpha': 0.02162477012080921, 'reg_lambda': 0.8624808991805707, 'max_bin': 240}. Best is trial 0 with value: 0.985633575464084.\n"
     ]
    },
    {
     "name": "stdout",
     "output_type": "stream",
     "text": [
      "Training on subjects: [1 2 3 4 6 7] Testing on subject: [5]\n",
      "Training on subjects: [1 2 3 5 6 7] Testing on subject: [4]\n",
      "Training on subjects: [1 2 4 5 6 7] Testing on subject: [3]\n",
      "Training on subjects: [2 3 4 5 6 7] Testing on subject: [1]\n",
      "Training on subjects: [1 3 4 5 6 7] Testing on subject: [2]\n",
      "Training on subjects: [1 2 3 4 5 6] Testing on subject: [7]\n",
      "Training on subjects: [1 2 3 4 5 7] Testing on subject: [6]\n",
      "Training on subjects: [1 2 3 4 6 7] Testing on subject: [5]\n",
      "Training on subjects: [1 2 3 5 6 7] Testing on subject: [4]\n",
      "Training on subjects: [1 2 4 5 6 7] Testing on subject: [3]\n"
     ]
    },
    {
     "name": "stderr",
     "output_type": "stream",
     "text": [
      "[I 2024-05-14 19:08:00,575] Trial 20 finished with value: 0.985633575464084 and parameters: {'n_estimators': 202, 'learning_rate': 0.17782149299000635, 'max_depth': 5, 'num_leaves': 28, 'min_child_samples': 29, 'subsample': 0.859442072827948, 'subsample_freq': 3, 'colsample_bytree': 0.9568500023028139, 'reg_alpha': 0.4280804000246746, 'reg_lambda': 0.3169675723423519, 'max_bin': 300}. Best is trial 0 with value: 0.985633575464084.\n"
     ]
    },
    {
     "name": "stdout",
     "output_type": "stream",
     "text": [
      "Training on subjects: [2 3 4 5 6 7] Testing on subject: [1]\n",
      "Training on subjects: [1 3 4 5 6 7] Testing on subject: [2]\n",
      "Training on subjects: [1 2 3 4 5 6] Testing on subject: [7]\n",
      "Training on subjects: [1 2 3 4 5 7] Testing on subject: [6]\n",
      "Training on subjects: [1 2 3 4 6 7] Testing on subject: [5]\n",
      "Training on subjects: [1 2 3 5 6 7] Testing on subject: [4]\n",
      "Training on subjects: [1 2 4 5 6 7] Testing on subject: [3]\n"
     ]
    },
    {
     "name": "stderr",
     "output_type": "stream",
     "text": [
      "[I 2024-05-14 19:08:01,008] Trial 21 finished with value: 0.985633575464084 and parameters: {'n_estimators': 158, 'learning_rate': 0.06892907943692739, 'max_depth': 10, 'num_leaves': 36, 'min_child_samples': 19, 'subsample': 0.8931105014060168, 'subsample_freq': 4, 'colsample_bytree': 0.6110935463191242, 'reg_alpha': 0.58213769054991, 'reg_lambda': 0.041589925237890096, 'max_bin': 211}. Best is trial 0 with value: 0.985633575464084.\n"
     ]
    },
    {
     "name": "stdout",
     "output_type": "stream",
     "text": [
      "Training on subjects: [2 3 4 5 6 7] Testing on subject: [1]\n",
      "Training on subjects: [1 3 4 5 6 7] Testing on subject: [2]\n",
      "Training on subjects: [1 2 3 4 5 6] Testing on subject: [7]\n",
      "Training on subjects: [1 2 3 4 5 7] Testing on subject: [6]\n",
      "Training on subjects: [1 2 3 4 6 7] Testing on subject: [5]\n",
      "Training on subjects: [1 2 3 5 6 7] Testing on subject: [4]\n",
      "Training on subjects: [1 2 4 5 6 7] Testing on subject: [3]\n"
     ]
    },
    {
     "name": "stderr",
     "output_type": "stream",
     "text": [
      "[I 2024-05-14 19:08:01,435] Trial 22 finished with value: 0.985633575464084 and parameters: {'n_estimators': 146, 'learning_rate': 0.05527851260972061, 'max_depth': 11, 'num_leaves': 37, 'min_child_samples': 17, 'subsample': 0.9073881304995614, 'subsample_freq': 4, 'colsample_bytree': 0.618735525429713, 'reg_alpha': 0.8291885190386507, 'reg_lambda': 0.1979817982368836, 'max_bin': 209}. Best is trial 0 with value: 0.985633575464084.\n"
     ]
    },
    {
     "name": "stdout",
     "output_type": "stream",
     "text": [
      "Training on subjects: [2 3 4 5 6 7] Testing on subject: [1]\n",
      "Training on subjects: [1 3 4 5 6 7] Testing on subject: [2]\n",
      "Training on subjects: [1 2 3 4 5 6] Testing on subject: [7]\n",
      "Training on subjects: [1 2 3 4 5 7] Testing on subject: [6]\n",
      "Training on subjects: [1 2 3 4 6 7] Testing on subject: [5]\n",
      "Training on subjects: [1 2 3 5 6 7] Testing on subject: [4]\n"
     ]
    },
    {
     "name": "stderr",
     "output_type": "stream",
     "text": [
      "[I 2024-05-14 19:08:01,911] Trial 23 finished with value: 0.985633575464084 and parameters: {'n_estimators': 168, 'learning_rate': 0.09290446838208541, 'max_depth': 8, 'num_leaves': 32, 'min_child_samples': 12, 'subsample': 0.9297449721200163, 'subsample_freq': 6, 'colsample_bytree': 0.6506090757484942, 'reg_alpha': 0.6301606793207284, 'reg_lambda': 0.14098605347455193, 'max_bin': 200}. Best is trial 0 with value: 0.985633575464084.\n"
     ]
    },
    {
     "name": "stdout",
     "output_type": "stream",
     "text": [
      "Training on subjects: [1 2 4 5 6 7] Testing on subject: [3]\n",
      "Training on subjects: [2 3 4 5 6 7] Testing on subject: [1]\n",
      "Training on subjects: [1 3 4 5 6 7] Testing on subject: [2]\n",
      "Training on subjects: [1 2 3 4 5 6] Testing on subject: [7]\n",
      "Training on subjects: [1 2 3 4 5 7] Testing on subject: [6]\n",
      "Training on subjects: [1 2 3 4 6 7] Testing on subject: [5]\n",
      "Training on subjects: [1 2 3 5 6 7] Testing on subject: [4]\n",
      "Training on subjects: [1 2 4 5 6 7] Testing on subject: [3]\n"
     ]
    },
    {
     "name": "stderr",
     "output_type": "stream",
     "text": [
      "[I 2024-05-14 19:08:02,335] Trial 24 finished with value: 0.985633575464084 and parameters: {'n_estimators': 141, 'learning_rate': 0.044567773404404445, 'max_depth': 11, 'num_leaves': 39, 'min_child_samples': 26, 'subsample': 0.8505704692264937, 'subsample_freq': 4, 'colsample_bytree': 0.8095992844141268, 'reg_alpha': 0.4317377971044425, 'reg_lambda': 0.5106112281381627, 'max_bin': 224}. Best is trial 0 with value: 0.985633575464084.\n"
     ]
    },
    {
     "name": "stdout",
     "output_type": "stream",
     "text": [
      "Training on subjects: [2 3 4 5 6 7] Testing on subject: [1]\n",
      "Training on subjects: [1 3 4 5 6 7] Testing on subject: [2]\n",
      "Training on subjects: [1 2 3 4 5 6] Testing on subject: [7]\n",
      "Training on subjects: [1 2 3 4 5 7] Testing on subject: [6]\n",
      "Training on subjects: [1 2 3 4 6 7] Testing on subject: [5]\n",
      "Training on subjects: [1 2 3 5 6 7] Testing on subject: [4]\n",
      "Training on subjects: [1 2 4 5 6 7] Testing on subject: [3]\n",
      "Training on subjects: [2 3 4 5 6 7] Testing on subject: [1]\n"
     ]
    },
    {
     "name": "stderr",
     "output_type": "stream",
     "text": [
      "[I 2024-05-14 19:08:02,751] Trial 25 finished with value: 0.985633575464084 and parameters: {'n_estimators': 171, 'learning_rate': 0.10962224656362968, 'max_depth': 9, 'num_leaves': 32, 'min_child_samples': 20, 'subsample': 0.8826768516464566, 'subsample_freq': 5, 'colsample_bytree': 0.7488249996468613, 'reg_alpha': 0.8137383455721934, 'reg_lambda': 0.3566955238896127, 'max_bin': 211}. Best is trial 0 with value: 0.985633575464084.\n"
     ]
    },
    {
     "name": "stdout",
     "output_type": "stream",
     "text": [
      "Training on subjects: [1 3 4 5 6 7] Testing on subject: [2]\n",
      "Training on subjects: [1 2 3 4 5 6] Testing on subject: [7]\n",
      "Training on subjects: [1 2 3 4 5 7] Testing on subject: [6]\n",
      "Training on subjects: [1 2 3 4 6 7] Testing on subject: [5]\n",
      "Training on subjects: [1 2 3 5 6 7] Testing on subject: [4]\n",
      "Training on subjects: [1 2 4 5 6 7] Testing on subject: [3]\n",
      "Training on subjects: [2 3 4 5 6 7] Testing on subject: [1]\n"
     ]
    },
    {
     "name": "stderr",
     "output_type": "stream",
     "text": [
      "[I 2024-05-14 19:08:03,209] Trial 26 finished with value: 0.985633575464084 and parameters: {'n_estimators': 230, 'learning_rate': 0.1456116229378751, 'max_depth': 13, 'num_leaves': 35, 'min_child_samples': 15, 'subsample': 0.9493009433627604, 'subsample_freq': 3, 'colsample_bytree': 0.6736342791811429, 'reg_alpha': 0.6527903870327945, 'reg_lambda': 0.6635178209639416, 'max_bin': 234}. Best is trial 0 with value: 0.985633575464084.\n"
     ]
    },
    {
     "name": "stdout",
     "output_type": "stream",
     "text": [
      "Training on subjects: [1 3 4 5 6 7] Testing on subject: [2]\n",
      "Training on subjects: [1 2 3 4 5 6] Testing on subject: [7]\n",
      "Training on subjects: [1 2 3 4 5 7] Testing on subject: [6]\n",
      "Training on subjects: [1 2 3 4 6 7] Testing on subject: [5]\n",
      "Training on subjects: [1 2 3 5 6 7] Testing on subject: [4]\n",
      "Training on subjects: [1 2 4 5 6 7] Testing on subject: [3]\n",
      "Training on subjects: [2 3 4 5 6 7] Testing on subject: [1]\n"
     ]
    },
    {
     "name": "stderr",
     "output_type": "stream",
     "text": [
      "[I 2024-05-14 19:08:03,633] Trial 27 finished with value: 0.985633575464084 and parameters: {'n_estimators': 202, 'learning_rate': 0.18275564192255667, 'max_depth': 7, 'num_leaves': 37, 'min_child_samples': 19, 'subsample': 0.8250587518135648, 'subsample_freq': 6, 'colsample_bytree': 0.7846757374990385, 'reg_alpha': 0.5575201221745554, 'reg_lambda': 0.7925656335611654, 'max_bin': 215}. Best is trial 0 with value: 0.985633575464084.\n"
     ]
    },
    {
     "name": "stdout",
     "output_type": "stream",
     "text": [
      "Training on subjects: [1 3 4 5 6 7] Testing on subject: [2]\n",
      "Training on subjects: [1 2 3 4 5 6] Testing on subject: [7]\n",
      "Training on subjects: [1 2 3 4 5 7] Testing on subject: [6]\n",
      "Training on subjects: [1 2 3 4 6 7] Testing on subject: [5]\n",
      "Training on subjects: [1 2 3 5 6 7] Testing on subject: [4]\n",
      "Training on subjects: [1 2 4 5 6 7] Testing on subject: [3]\n"
     ]
    },
    {
     "name": "stderr",
     "output_type": "stream",
     "text": [
      "[I 2024-05-14 19:08:04,169] Trial 28 finished with value: 0.985633575464084 and parameters: {'n_estimators': 299, 'learning_rate': 0.08015105721891345, 'max_depth': 12, 'num_leaves': 25, 'min_child_samples': 26, 'subsample': 0.9622077267965979, 'subsample_freq': 2, 'colsample_bytree': 0.717273888656067, 'reg_alpha': 0.3651081710956178, 'reg_lambda': 0.11342729464673024, 'max_bin': 234}. Best is trial 0 with value: 0.985633575464084.\n"
     ]
    },
    {
     "name": "stdout",
     "output_type": "stream",
     "text": [
      "Training on subjects: [2 3 4 5 6 7] Testing on subject: [1]\n",
      "Training on subjects: [1 3 4 5 6 7] Testing on subject: [2]\n",
      "Training on subjects: [1 2 3 4 5 6] Testing on subject: [7]\n",
      "Training on subjects: [1 2 3 4 5 7] Testing on subject: [6]\n",
      "Training on subjects: [1 2 3 4 6 7] Testing on subject: [5]\n",
      "Training on subjects: [1 2 3 5 6 7] Testing on subject: [4]\n",
      "Training on subjects: [1 2 4 5 6 7] Testing on subject: [3]\n",
      "Training on subjects: [2 3 4 5 6 7] Testing on subject: [1]\n"
     ]
    },
    {
     "name": "stderr",
     "output_type": "stream",
     "text": [
      "[I 2024-05-14 19:08:04,532] Trial 29 finished with value: 0.985633575464084 and parameters: {'n_estimators': 131, 'learning_rate': 0.1830910536623343, 'max_depth': 14, 'num_leaves': 31, 'min_child_samples': 12, 'subsample': 0.9244436321129565, 'subsample_freq': 4, 'colsample_bytree': 0.6588057518911439, 'reg_alpha': 0.4769439724377218, 'reg_lambda': 0.5538326471886973, 'max_bin': 205}. Best is trial 0 with value: 0.985633575464084.\n"
     ]
    },
    {
     "name": "stdout",
     "output_type": "stream",
     "text": [
      "Training on subjects: [1 3 4 5 6 7] Testing on subject: [2]\n",
      "Training on subjects: [1 2 3 4 5 6] Testing on subject: [7]\n",
      "Training on subjects: [1 2 3 4 5 7] Testing on subject: [6]\n",
      "Training on subjects: [1 2 3 4 6 7] Testing on subject: [5]\n",
      "Training on subjects: [1 2 3 5 6 7] Testing on subject: [4]\n",
      "Training on subjects: [1 2 4 5 6 7] Testing on subject: [3]\n",
      "Training on subjects: [2 3 4 5 6 7] Testing on subject: [1]\n"
     ]
    },
    {
     "name": "stderr",
     "output_type": "stream",
     "text": [
      "[I 2024-05-14 19:08:05,039] Trial 30 finished with value: 0.985633575464084 and parameters: {'n_estimators': 258, 'learning_rate': 0.19839933660728643, 'max_depth': 7, 'num_leaves': 34, 'min_child_samples': 15, 'subsample': 0.8856346912430116, 'subsample_freq': 3, 'colsample_bytree': 0.8307852666592941, 'reg_alpha': 0.6758920920960086, 'reg_lambda': 0.0026679612772813055, 'max_bin': 271}. Best is trial 0 with value: 0.985633575464084.\n"
     ]
    },
    {
     "name": "stdout",
     "output_type": "stream",
     "text": [
      "Training on subjects: [1 3 4 5 6 7] Testing on subject: [2]\n",
      "Training on subjects: [1 2 3 4 5 6] Testing on subject: [7]\n",
      "Training on subjects: [1 2 3 4 5 7] Testing on subject: [6]\n",
      "Training on subjects: [1 2 3 4 6 7] Testing on subject: [5]\n",
      "Training on subjects: [1 2 3 5 6 7] Testing on subject: [4]\n",
      "Training on subjects: [1 2 4 5 6 7] Testing on subject: [3]\n"
     ]
    },
    {
     "name": "stderr",
     "output_type": "stream",
     "text": [
      "[I 2024-05-14 19:08:05,520] Trial 31 finished with value: 0.985633575464084 and parameters: {'n_estimators': 281, 'learning_rate': 0.12773288470329403, 'max_depth': 14, 'num_leaves': 25, 'min_child_samples': 14, 'subsample': 0.950135953123147, 'subsample_freq': 3, 'colsample_bytree': 0.6346067762476311, 'reg_alpha': 0.5173983716741665, 'reg_lambda': 0.1075185512706883, 'max_bin': 299}. Best is trial 0 with value: 0.985633575464084.\n"
     ]
    },
    {
     "name": "stdout",
     "output_type": "stream",
     "text": [
      "Training on subjects: [2 3 4 5 6 7] Testing on subject: [1]\n",
      "Training on subjects: [1 3 4 5 6 7] Testing on subject: [2]\n",
      "Training on subjects: [1 2 3 4 5 6] Testing on subject: [7]\n",
      "Training on subjects: [1 2 3 4 5 7] Testing on subject: [6]\n",
      "Training on subjects: [1 2 3 4 6 7] Testing on subject: [5]\n",
      "Training on subjects: [1 2 3 5 6 7] Testing on subject: [4]\n"
     ]
    },
    {
     "name": "stderr",
     "output_type": "stream",
     "text": [
      "[I 2024-05-14 19:08:06,071] Trial 32 finished with value: 0.985633575464084 and parameters: {'n_estimators': 300, 'learning_rate': 0.1746351607473693, 'max_depth': 13, 'num_leaves': 21, 'min_child_samples': 22, 'subsample': 0.9036419931845586, 'subsample_freq': 0, 'colsample_bytree': 0.6016276929675652, 'reg_alpha': 0.3888895473223547, 'reg_lambda': 0.046272089222025, 'max_bin': 281}. Best is trial 0 with value: 0.985633575464084.\n"
     ]
    },
    {
     "name": "stdout",
     "output_type": "stream",
     "text": [
      "Training on subjects: [1 2 4 5 6 7] Testing on subject: [3]\n",
      "Training on subjects: [2 3 4 5 6 7] Testing on subject: [1]\n",
      "Training on subjects: [1 3 4 5 6 7] Testing on subject: [2]\n",
      "Training on subjects: [1 2 3 4 5 6] Testing on subject: [7]\n",
      "Training on subjects: [1 2 3 4 5 7] Testing on subject: [6]\n",
      "Training on subjects: [1 2 3 4 6 7] Testing on subject: [5]\n",
      "Training on subjects: [1 2 3 5 6 7] Testing on subject: [4]\n"
     ]
    },
    {
     "name": "stderr",
     "output_type": "stream",
     "text": [
      "[I 2024-05-14 19:08:06,577] Trial 33 finished with value: 0.985633575464084 and parameters: {'n_estimators': 266, 'learning_rate': 0.14035420942765772, 'max_depth': 12, 'num_leaves': 28, 'min_child_samples': 18, 'subsample': 0.9140499213634083, 'subsample_freq': 5, 'colsample_bytree': 0.8992599935893004, 'reg_alpha': 0.792020842609693, 'reg_lambda': 0.2043502949359169, 'max_bin': 291}. Best is trial 0 with value: 0.985633575464084.\n"
     ]
    },
    {
     "name": "stdout",
     "output_type": "stream",
     "text": [
      "Training on subjects: [1 2 4 5 6 7] Testing on subject: [3]\n",
      "Training on subjects: [2 3 4 5 6 7] Testing on subject: [1]\n",
      "Training on subjects: [1 3 4 5 6 7] Testing on subject: [2]\n",
      "Training on subjects: [1 2 3 4 5 6] Testing on subject: [7]\n",
      "Training on subjects: [1 2 3 4 5 7] Testing on subject: [6]\n",
      "Training on subjects: [1 2 3 4 6 7] Testing on subject: [5]\n",
      "Training on subjects: [1 2 3 5 6 7] Testing on subject: [4]\n",
      "Training on subjects: [1 2 4 5 6 7] Testing on subject: [3]\n"
     ]
    },
    {
     "name": "stderr",
     "output_type": "stream",
     "text": [
      "[I 2024-05-14 19:08:07,020] Trial 34 finished with value: 0.985633575464084 and parameters: {'n_estimators': 287, 'learning_rate': 0.1884104082353165, 'max_depth': 11, 'num_leaves': 22, 'min_child_samples': 34, 'subsample': 0.9432632734154297, 'subsample_freq': 1, 'colsample_bytree': 0.6442675283348648, 'reg_alpha': 0.9974460120224868, 'reg_lambda': 0.9455277694398375, 'max_bin': 258}. Best is trial 0 with value: 0.985633575464084.\n"
     ]
    },
    {
     "name": "stdout",
     "output_type": "stream",
     "text": [
      "Training on subjects: [2 3 4 5 6 7] Testing on subject: [1]\n",
      "Training on subjects: [1 3 4 5 6 7] Testing on subject: [2]\n",
      "Training on subjects: [1 2 3 4 5 6] Testing on subject: [7]\n",
      "Training on subjects: [1 2 3 4 5 7] Testing on subject: [6]\n",
      "Training on subjects: [1 2 3 4 6 7] Testing on subject: [5]\n",
      "Training on subjects: [1 2 3 5 6 7] Testing on subject: [4]\n",
      "Training on subjects: [1 2 4 5 6 7] Testing on subject: [3]\n",
      "Training on subjects: [2 3 4 5 6 7] Testing on subject: [1]\n"
     ]
    },
    {
     "name": "stderr",
     "output_type": "stream",
     "text": [
      "[I 2024-05-14 19:08:07,438] Trial 35 finished with value: 0.985633575464084 and parameters: {'n_estimators': 179, 'learning_rate': 0.1622286705448128, 'max_depth': 6, 'num_leaves': 25, 'min_child_samples': 22, 'subsample': 0.9675530064146617, 'subsample_freq': 0, 'colsample_bytree': 0.7284722744031821, 'reg_alpha': 0.3057065809127972, 'reg_lambda': 0.26797135979849923, 'max_bin': 252}. Best is trial 0 with value: 0.985633575464084.\n"
     ]
    },
    {
     "name": "stdout",
     "output_type": "stream",
     "text": [
      "Training on subjects: [1 3 4 5 6 7] Testing on subject: [2]\n",
      "Training on subjects: [1 2 3 4 5 6] Testing on subject: [7]\n",
      "Training on subjects: [1 2 3 4 5 7] Testing on subject: [6]\n",
      "Training on subjects: [1 2 3 4 6 7] Testing on subject: [5]\n",
      "Training on subjects: [1 2 3 5 6 7] Testing on subject: [4]\n",
      "Training on subjects: [1 2 4 5 6 7] Testing on subject: [3]\n"
     ]
    },
    {
     "name": "stderr",
     "output_type": "stream",
     "text": [
      "[I 2024-05-14 19:08:07,987] Trial 36 finished with value: 0.985633575464084 and parameters: {'n_estimators': 273, 'learning_rate': 0.0808230577607756, 'max_depth': 13, 'num_leaves': 40, 'min_child_samples': 38, 'subsample': 0.8534476367027968, 'subsample_freq': 7, 'colsample_bytree': 0.9372059254842907, 'reg_alpha': 0.535865539666439, 'reg_lambda': 0.7890170132010703, 'max_bin': 286}. Best is trial 0 with value: 0.985633575464084.\n"
     ]
    },
    {
     "name": "stdout",
     "output_type": "stream",
     "text": [
      "Training on subjects: [2 3 4 5 6 7] Testing on subject: [1]\n",
      "Training on subjects: [1 3 4 5 6 7] Testing on subject: [2]\n",
      "Training on subjects: [1 2 3 4 5 6] Testing on subject: [7]\n",
      "Training on subjects: [1 2 3 4 5 7] Testing on subject: [6]\n",
      "Training on subjects: [1 2 3 4 6 7] Testing on subject: [5]\n",
      "Training on subjects: [1 2 3 5 6 7] Testing on subject: [4]\n",
      "Training on subjects: [1 2 4 5 6 7] Testing on subject: [3]\n"
     ]
    },
    {
     "name": "stderr",
     "output_type": "stream",
     "text": [
      "[I 2024-05-14 19:08:08,449] Trial 37 finished with value: 0.985633575464084 and parameters: {'n_estimators': 151, 'learning_rate': 0.05714486285191288, 'max_depth': 10, 'num_leaves': 26, 'min_child_samples': 10, 'subsample': 0.8382881182636613, 'subsample_freq': 2, 'colsample_bytree': 0.6769676199265374, 'reg_alpha': 0.7221978586406994, 'reg_lambda': 0.7041747106474086, 'max_bin': 207}. Best is trial 0 with value: 0.985633575464084.\n"
     ]
    },
    {
     "name": "stdout",
     "output_type": "stream",
     "text": [
      "Training on subjects: [2 3 4 5 6 7] Testing on subject: [1]\n",
      "Training on subjects: [1 3 4 5 6 7] Testing on subject: [2]\n",
      "Training on subjects: [1 2 3 4 5 6] Testing on subject: [7]\n",
      "Training on subjects: [1 2 3 4 5 7] Testing on subject: [6]\n",
      "Training on subjects: [1 2 3 4 6 7] Testing on subject: [5]\n",
      "Training on subjects: [1 2 3 5 6 7] Testing on subject: [4]\n",
      "Training on subjects: [1 2 4 5 6 7] Testing on subject: [3]\n"
     ]
    },
    {
     "name": "stderr",
     "output_type": "stream",
     "text": [
      "[I 2024-05-14 19:08:08,962] Trial 38 finished with value: 0.985633575464084 and parameters: {'n_estimators': 216, 'learning_rate': 0.15349786453432257, 'max_depth': 5, 'num_leaves': 29, 'min_child_samples': 13, 'subsample': 0.8127748576113502, 'subsample_freq': 4, 'colsample_bytree': 0.7813674791440867, 'reg_alpha': 0.4869054711050941, 'reg_lambda': 0.16342952420781776, 'max_bin': 266}. Best is trial 0 with value: 0.985633575464084.\n"
     ]
    },
    {
     "name": "stdout",
     "output_type": "stream",
     "text": [
      "Training on subjects: [2 3 4 5 6 7] Testing on subject: [1]\n",
      "Training on subjects: [1 3 4 5 6 7] Testing on subject: [2]\n",
      "Training on subjects: [1 2 3 4 5 6] Testing on subject: [7]\n",
      "Training on subjects: [1 2 3 4 5 7] Testing on subject: [6]\n",
      "Training on subjects: [1 2 3 4 6 7] Testing on subject: [5]\n",
      "Training on subjects: [1 2 3 5 6 7] Testing on subject: [4]\n"
     ]
    },
    {
     "name": "stderr",
     "output_type": "stream",
     "text": [
      "[I 2024-05-14 19:08:09,521] Trial 39 finished with value: 0.985633575464084 and parameters: {'n_estimators': 292, 'learning_rate': 0.1946375593454186, 'max_depth': 15, 'num_leaves': 24, 'min_child_samples': 24, 'subsample': 0.8742093048119456, 'subsample_freq': 6, 'colsample_bytree': 0.8776386393812128, 'reg_alpha': 0.2051300849408053, 'reg_lambda': 0.06123793483619254, 'max_bin': 222}. Best is trial 0 with value: 0.985633575464084.\n"
     ]
    },
    {
     "name": "stdout",
     "output_type": "stream",
     "text": [
      "Training on subjects: [1 2 4 5 6 7] Testing on subject: [3]\n",
      "Training on subjects: [2 3 4 5 6 7] Testing on subject: [1]\n",
      "Training on subjects: [1 3 4 5 6 7] Testing on subject: [2]\n",
      "Training on subjects: [1 2 3 4 5 6] Testing on subject: [7]\n",
      "Training on subjects: [1 2 3 4 5 7] Testing on subject: [6]\n",
      "Training on subjects: [1 2 3 4 6 7] Testing on subject: [5]\n",
      "Training on subjects: [1 2 3 5 6 7] Testing on subject: [4]\n",
      "Training on subjects: [1 2 4 5 6 7] Testing on subject: [3]\n",
      "Training on subjects: [2 3 4 5 6 7] Testing on subject: [1]\n"
     ]
    },
    {
     "name": "stderr",
     "output_type": "stream",
     "text": [
      "[I 2024-05-14 19:08:09,915] Trial 40 finished with value: 0.985633575464084 and parameters: {'n_estimators': 131, 'learning_rate': 0.023096539792828746, 'max_depth': 14, 'num_leaves': 21, 'min_child_samples': 48, 'subsample': 0.9996031462949724, 'subsample_freq': 3, 'colsample_bytree': 0.7079655952444476, 'reg_alpha': 0.6212575147166335, 'reg_lambda': 0.46669362110246815, 'max_bin': 212}. Best is trial 0 with value: 0.985633575464084.\n"
     ]
    },
    {
     "name": "stdout",
     "output_type": "stream",
     "text": [
      "Training on subjects: [1 3 4 5 6 7] Testing on subject: [2]\n",
      "Training on subjects: [1 2 3 4 5 6] Testing on subject: [7]\n",
      "Training on subjects: [1 2 3 4 5 7] Testing on subject: [6]\n",
      "Training on subjects: [1 2 3 4 6 7] Testing on subject: [5]\n",
      "Training on subjects: [1 2 3 5 6 7] Testing on subject: [4]\n",
      "Training on subjects: [1 2 4 5 6 7] Testing on subject: [3]\n",
      "Training on subjects: [2 3 4 5 6 7] Testing on subject: [1]\n"
     ]
    },
    {
     "name": "stderr",
     "output_type": "stream",
     "text": [
      "[I 2024-05-14 19:08:10,385] Trial 41 finished with value: 0.985633575464084 and parameters: {'n_estimators': 194, 'learning_rate': 0.1661025663143777, 'max_depth': 8, 'num_leaves': 30, 'min_child_samples': 34, 'subsample': 0.839694173653557, 'subsample_freq': 7, 'colsample_bytree': 0.92005993534666, 'reg_alpha': 0.8851389325044365, 'reg_lambda': 0.9095469594448591, 'max_bin': 258}. Best is trial 0 with value: 0.985633575464084.\n"
     ]
    },
    {
     "name": "stdout",
     "output_type": "stream",
     "text": [
      "Training on subjects: [1 3 4 5 6 7] Testing on subject: [2]\n",
      "Training on subjects: [1 2 3 4 5 6] Testing on subject: [7]\n",
      "Training on subjects: [1 2 3 4 5 7] Testing on subject: [6]\n",
      "Training on subjects: [1 2 3 4 6 7] Testing on subject: [5]\n",
      "Training on subjects: [1 2 3 5 6 7] Testing on subject: [4]\n",
      "Training on subjects: [1 2 4 5 6 7] Testing on subject: [3]\n",
      "Training on subjects: [2 3 4 5 6 7] Testing on subject: [1]\n"
     ]
    },
    {
     "name": "stderr",
     "output_type": "stream",
     "text": [
      "[I 2024-05-14 19:08:10,854] Trial 42 finished with value: 0.985633575464084 and parameters: {'n_estimators': 174, 'learning_rate': 0.18669715362695372, 'max_depth': 7, 'num_leaves': 27, 'min_child_samples': 32, 'subsample': 0.8161857127605564, 'subsample_freq': 6, 'colsample_bytree': 0.961383656428021, 'reg_alpha': 0.25284397946204196, 'reg_lambda': 0.9871985846987762, 'max_bin': 275}. Best is trial 0 with value: 0.985633575464084.\n"
     ]
    },
    {
     "name": "stdout",
     "output_type": "stream",
     "text": [
      "Training on subjects: [1 3 4 5 6 7] Testing on subject: [2]\n",
      "Training on subjects: [1 2 3 4 5 6] Testing on subject: [7]\n",
      "Training on subjects: [1 2 3 4 5 7] Testing on subject: [6]\n",
      "Training on subjects: [1 2 3 4 6 7] Testing on subject: [5]\n",
      "Training on subjects: [1 2 3 5 6 7] Testing on subject: [4]\n",
      "Training on subjects: [1 2 4 5 6 7] Testing on subject: [3]\n"
     ]
    },
    {
     "name": "stderr",
     "output_type": "stream",
     "text": [
      "[I 2024-05-14 19:08:11,372] Trial 43 finished with value: 0.985633575464084 and parameters: {'n_estimators': 118, 'learning_rate': 0.13230619582096556, 'max_depth': 6, 'num_leaves': 33, 'min_child_samples': 39, 'subsample': 0.801683747995933, 'subsample_freq': 2, 'colsample_bytree': 0.974738243861066, 'reg_alpha': 0.9953753695081478, 'reg_lambda': 0.7722532209525065, 'max_bin': 247}. Best is trial 0 with value: 0.985633575464084.\n"
     ]
    },
    {
     "name": "stdout",
     "output_type": "stream",
     "text": [
      "Training on subjects: [2 3 4 5 6 7] Testing on subject: [1]\n",
      "Training on subjects: [1 3 4 5 6 7] Testing on subject: [2]\n",
      "Training on subjects: [1 2 3 4 5 6] Testing on subject: [7]\n",
      "Training on subjects: [1 2 3 4 5 7] Testing on subject: [6]\n",
      "Training on subjects: [1 2 3 4 6 7] Testing on subject: [5]\n",
      "Training on subjects: [1 2 3 5 6 7] Testing on subject: [4]\n",
      "Training on subjects: [1 2 4 5 6 7] Testing on subject: [3]\n"
     ]
    },
    {
     "name": "stderr",
     "output_type": "stream",
     "text": [
      "[I 2024-05-14 19:08:11,811] Trial 44 finished with value: 0.985633575464084 and parameters: {'n_estimators': 155, 'learning_rate': 0.10280976077471368, 'max_depth': 9, 'num_leaves': 31, 'min_child_samples': 29, 'subsample': 0.831924006564748, 'subsample_freq': 0, 'colsample_bytree': 0.8975143089147255, 'reg_alpha': 0.15775101943661962, 'reg_lambda': 0.5946898558809692, 'max_bin': 204}. Best is trial 0 with value: 0.985633575464084.\n"
     ]
    },
    {
     "name": "stdout",
     "output_type": "stream",
     "text": [
      "Training on subjects: [2 3 4 5 6 7] Testing on subject: [1]\n",
      "Training on subjects: [1 3 4 5 6 7] Testing on subject: [2]\n",
      "Training on subjects: [1 2 3 4 5 6] Testing on subject: [7]\n",
      "Training on subjects: [1 2 3 4 5 7] Testing on subject: [6]\n",
      "Training on subjects: [1 2 3 4 6 7] Testing on subject: [5]\n",
      "Training on subjects: [1 2 3 5 6 7] Testing on subject: [4]\n",
      "Training on subjects: [1 2 4 5 6 7] Testing on subject: [3]\n",
      "Training on subjects: [2 3 4 5 6 7] Testing on subject: [1]\n"
     ]
    },
    {
     "name": "stderr",
     "output_type": "stream",
     "text": [
      "[I 2024-05-14 19:08:12,214] Trial 45 finished with value: 0.985633575464084 and parameters: {'n_estimators': 140, 'learning_rate': 0.12116971487405383, 'max_depth': 8, 'num_leaves': 38, 'min_child_samples': 44, 'subsample': 0.8687826923884484, 'subsample_freq': 5, 'colsample_bytree': 0.9414999609753467, 'reg_alpha': 0.6791955366124687, 'reg_lambda': 0.640368355402584, 'max_bin': 293}. Best is trial 0 with value: 0.985633575464084.\n"
     ]
    },
    {
     "name": "stdout",
     "output_type": "stream",
     "text": [
      "Training on subjects: [1 3 4 5 6 7] Testing on subject: [2]\n",
      "Training on subjects: [1 2 3 4 5 6] Testing on subject: [7]\n",
      "Training on subjects: [1 2 3 4 5 7] Testing on subject: [6]\n",
      "Training on subjects: [1 2 3 4 6 7] Testing on subject: [5]\n",
      "Training on subjects: [1 2 3 5 6 7] Testing on subject: [4]\n",
      "Training on subjects: [1 2 4 5 6 7] Testing on subject: [3]\n",
      "Training on subjects: [2 3 4 5 6 7] Testing on subject: [1]\n",
      "Training on subjects: [1 3 4 5 6 7] Testing on subject: [2]\n"
     ]
    },
    {
     "name": "stderr",
     "output_type": "stream",
     "text": [
      "[I 2024-05-14 19:08:12,622] Trial 46 finished with value: 0.985633575464084 and parameters: {'n_estimators': 163, 'learning_rate': 0.15906602954163526, 'max_depth': 9, 'num_leaves': 27, 'min_child_samples': 16, 'subsample': 0.9174629526325218, 'subsample_freq': 5, 'colsample_bytree': 0.6247736408480163, 'reg_alpha': 0.7551779088577896, 'reg_lambda': 0.7372692501701102, 'max_bin': 234}. Best is trial 0 with value: 0.985633575464084.\n"
     ]
    },
    {
     "name": "stdout",
     "output_type": "stream",
     "text": [
      "Training on subjects: [1 2 3 4 5 6] Testing on subject: [7]\n",
      "Training on subjects: [1 2 3 4 5 7] Testing on subject: [6]\n",
      "Training on subjects: [1 2 3 4 6 7] Testing on subject: [5]\n",
      "Training on subjects: [1 2 3 5 6 7] Testing on subject: [4]\n"
     ]
    },
    {
     "name": "stderr",
     "output_type": "stream",
     "text": [
      "[I 2024-05-14 19:08:13,152] Trial 47 finished with value: 0.985633575464084 and parameters: {'n_estimators': 235, 'learning_rate': 0.14663912679484817, 'max_depth': 10, 'num_leaves': 34, 'min_child_samples': 11, 'subsample': 0.8542172252306856, 'subsample_freq': 7, 'colsample_bytree': 0.8658614071610682, 'reg_alpha': 0.3117959836600924, 'reg_lambda': 0.4044855608799327, 'max_bin': 269}. Best is trial 0 with value: 0.985633575464084.\n"
     ]
    },
    {
     "name": "stdout",
     "output_type": "stream",
     "text": [
      "Training on subjects: [1 2 4 5 6 7] Testing on subject: [3]\n",
      "Training on subjects: [2 3 4 5 6 7] Testing on subject: [1]\n",
      "Training on subjects: [1 3 4 5 6 7] Testing on subject: [2]\n",
      "Training on subjects: [1 2 3 4 5 6] Testing on subject: [7]\n",
      "Training on subjects: [1 2 3 4 5 7] Testing on subject: [6]\n",
      "Training on subjects: [1 2 3 4 6 7] Testing on subject: [5]\n",
      "Training on subjects: [1 2 3 5 6 7] Testing on subject: [4]\n"
     ]
    },
    {
     "name": "stderr",
     "output_type": "stream",
     "text": [
      "[I 2024-05-14 19:08:13,693] Trial 48 finished with value: 0.985633575464084 and parameters: {'n_estimators': 270, 'learning_rate': 0.17633345707669157, 'max_depth': 12, 'num_leaves': 24, 'min_child_samples': 31, 'subsample': 0.8325002803329311, 'subsample_freq': 1, 'colsample_bytree': 0.9204010502307981, 'reg_alpha': 0.08996709621839616, 'reg_lambda': 0.8776346312633897, 'max_bin': 260}. Best is trial 0 with value: 0.985633575464084.\n"
     ]
    },
    {
     "name": "stdout",
     "output_type": "stream",
     "text": [
      "Training on subjects: [1 2 4 5 6 7] Testing on subject: [3]\n",
      "Training on subjects: [2 3 4 5 6 7] Testing on subject: [1]\n",
      "Training on subjects: [1 3 4 5 6 7] Testing on subject: [2]\n",
      "Training on subjects: [1 2 3 4 5 6] Testing on subject: [7]\n",
      "Training on subjects: [1 2 3 4 5 7] Testing on subject: [6]\n",
      "Training on subjects: [1 2 3 4 6 7] Testing on subject: [5]\n",
      "Training on subjects: [1 2 3 5 6 7] Testing on subject: [4]\n"
     ]
    },
    {
     "name": "stderr",
     "output_type": "stream",
     "text": [
      "[I 2024-05-14 19:08:14,204] Trial 49 finished with value: 0.985633575464084 and parameters: {'n_estimators': 252, 'learning_rate': 0.16858315743914393, 'max_depth': 8, 'num_leaves': 29, 'min_child_samples': 27, 'subsample': 0.8190543029730347, 'subsample_freq': 4, 'colsample_bytree': 0.8357037802220342, 'reg_alpha': 0.9169131200108027, 'reg_lambda': 0.5489356345298817, 'max_bin': 219}. Best is trial 0 with value: 0.985633575464084.\n"
     ]
    },
    {
     "name": "stdout",
     "output_type": "stream",
     "text": [
      "Training on subjects: [1 2 4 5 6 7] Testing on subject: [3]\n",
      "Training on subjects: [2 3 4 5 6 7] Testing on subject: [1]\n",
      "Training on subjects: [1 3 4 5 6 7] Testing on subject: [2]\n",
      "Training on subjects: [1 2 3 4 5 6] Testing on subject: [7]\n",
      "Training on subjects: [1 2 3 4 5 7] Testing on subject: [6]\n",
      "Training on subjects: [1 2 3 4 6 7] Testing on subject: [5]\n",
      "Training on subjects: [1 2 3 5 6 7] Testing on subject: [4]\n",
      "Training on subjects: [1 2 4 5 6 7] Testing on subject: [3]\n"
     ]
    },
    {
     "name": "stderr",
     "output_type": "stream",
     "text": [
      "[I 2024-05-14 19:08:14,672] Trial 50 finished with value: 0.985633575464084 and parameters: {'n_estimators': 194, 'learning_rate': 0.0953736825871279, 'max_depth': 6, 'num_leaves': 31, 'min_child_samples': 21, 'subsample': 0.8446575082487192, 'subsample_freq': 1, 'colsample_bytree': 0.6670572798694177, 'reg_alpha': 0.39854032186498056, 'reg_lambda': 0.36628601503059965, 'max_bin': 281}. Best is trial 0 with value: 0.985633575464084.\n"
     ]
    },
    {
     "name": "stdout",
     "output_type": "stream",
     "text": [
      "Training on subjects: [2 3 4 5 6 7] Testing on subject: [1]\n",
      "Training on subjects: [1 3 4 5 6 7] Testing on subject: [2]\n",
      "Training on subjects: [1 2 3 4 5 6] Testing on subject: [7]\n",
      "Training on subjects: [1 2 3 4 5 7] Testing on subject: [6]\n",
      "Training on subjects: [1 2 3 4 6 7] Testing on subject: [5]\n",
      "Training on subjects: [1 2 3 5 6 7] Testing on subject: [4]\n",
      "Training on subjects: [1 2 4 5 6 7] Testing on subject: [3]\n",
      "Training on subjects: [2 3 4 5 6 7] Testing on subject: [1]\n"
     ]
    },
    {
     "name": "stderr",
     "output_type": "stream",
     "text": [
      "[I 2024-05-14 19:08:15,406] Trial 51 finished with value: 0.985633575464084 and parameters: {'n_estimators': 285, 'learning_rate': 0.005094229955669202, 'max_depth': 7, 'num_leaves': 21, 'min_child_samples': 24, 'subsample': 0.8741188633956151, 'subsample_freq': 2, 'colsample_bytree': 0.9916648714039666, 'reg_alpha': 0.35446694757919367, 'reg_lambda': 0.28579536931363436, 'max_bin': 252}. Best is trial 0 with value: 0.985633575464084.\n"
     ]
    },
    {
     "name": "stdout",
     "output_type": "stream",
     "text": [
      "Training on subjects: [1 3 4 5 6 7] Testing on subject: [2]\n",
      "Training on subjects: [1 2 3 4 5 6] Testing on subject: [7]\n",
      "Training on subjects: [1 2 3 4 5 7] Testing on subject: [6]\n",
      "Training on subjects: [1 2 3 4 6 7] Testing on subject: [5]\n",
      "Training on subjects: [1 2 3 5 6 7] Testing on subject: [4]\n",
      "Training on subjects: [1 2 4 5 6 7] Testing on subject: [3]\n",
      "Training on subjects: [2 3 4 5 6 7] Testing on subject: [1]\n"
     ]
    },
    {
     "name": "stderr",
     "output_type": "stream",
     "text": [
      "[I 2024-05-14 19:08:16,092] Trial 52 finished with value: 0.985633575464084 and parameters: {'n_estimators': 291, 'learning_rate': 0.015245882360857135, 'max_depth': 7, 'num_leaves': 20, 'min_child_samples': 17, 'subsample': 0.8828154352898072, 'subsample_freq': 3, 'colsample_bytree': 0.9102604445907678, 'reg_alpha': 0.555713746282575, 'reg_lambda': 0.09091607059964138, 'max_bin': 262}. Best is trial 0 with value: 0.985633575464084.\n"
     ]
    },
    {
     "name": "stdout",
     "output_type": "stream",
     "text": [
      "Training on subjects: [1 3 4 5 6 7] Testing on subject: [2]\n",
      "Training on subjects: [1 2 3 4 5 6] Testing on subject: [7]\n",
      "Training on subjects: [1 2 3 4 5 7] Testing on subject: [6]\n",
      "Training on subjects: [1 2 3 4 6 7] Testing on subject: [5]\n",
      "Training on subjects: [1 2 3 5 6 7] Testing on subject: [4]\n",
      "Training on subjects: [1 2 4 5 6 7] Testing on subject: [3]\n",
      "Training on subjects: [2 3 4 5 6 7] Testing on subject: [1]\n",
      "Training on subjects: [1 3 4 5 6 7] Testing on subject: [2]\n"
     ]
    },
    {
     "name": "stderr",
     "output_type": "stream",
     "text": [
      "[I 2024-05-14 19:08:16,736] Trial 53 finished with value: 0.985633575464084 and parameters: {'n_estimators': 277, 'learning_rate': 0.029803300982040468, 'max_depth': 6, 'num_leaves': 23, 'min_child_samples': 15, 'subsample': 0.8603479044262541, 'subsample_freq': 2, 'colsample_bytree': 0.9482516690354028, 'reg_alpha': 0.26615515082431507, 'reg_lambda': 0.17542935364847645, 'max_bin': 200}. Best is trial 0 with value: 0.985633575464084.\n"
     ]
    },
    {
     "name": "stdout",
     "output_type": "stream",
     "text": [
      "Training on subjects: [1 2 3 4 5 6] Testing on subject: [7]\n",
      "Training on subjects: [1 2 3 4 5 7] Testing on subject: [6]\n",
      "Training on subjects: [1 2 3 4 6 7] Testing on subject: [5]\n",
      "Training on subjects: [1 2 3 5 6 7] Testing on subject: [4]\n",
      "Training on subjects: [1 2 4 5 6 7] Testing on subject: [3]\n"
     ]
    },
    {
     "name": "stderr",
     "output_type": "stream",
     "text": [
      "[I 2024-05-14 19:08:17,453] Trial 54 finished with value: 0.985633575464084 and parameters: {'n_estimators': 246, 'learning_rate': 0.19258129793893516, 'max_depth': 11, 'num_leaves': 22, 'min_child_samples': 18, 'subsample': 0.895540265247565, 'subsample_freq': 0, 'colsample_bytree': 0.9762258440119681, 'reg_alpha': 0.45356572728796296, 'reg_lambda': 0.2405893794761062, 'max_bin': 254}. Best is trial 0 with value: 0.985633575464084.\n"
     ]
    },
    {
     "name": "stdout",
     "output_type": "stream",
     "text": [
      "Training on subjects: [2 3 4 5 6 7] Testing on subject: [1]\n",
      "Training on subjects: [1 3 4 5 6 7] Testing on subject: [2]\n",
      "Training on subjects: [1 2 3 4 5 6] Testing on subject: [7]\n",
      "Training on subjects: [1 2 3 4 5 7] Testing on subject: [6]\n",
      "Training on subjects: [1 2 3 4 6 7] Testing on subject: [5]\n",
      "Training on subjects: [1 2 3 5 6 7] Testing on subject: [4]\n"
     ]
    },
    {
     "name": "stderr",
     "output_type": "stream",
     "text": [
      "[I 2024-05-14 19:08:17,946] Trial 55 finished with value: 0.985633575464084 and parameters: {'n_estimators': 181, 'learning_rate': 0.04259665860198408, 'max_depth': 8, 'num_leaves': 22, 'min_child_samples': 20, 'subsample': 0.8669993799660746, 'subsample_freq': 3, 'colsample_bytree': 0.9327145199920073, 'reg_alpha': 0.5854749240827023, 'reg_lambda': 0.48946360929467936, 'max_bin': 241}. Best is trial 0 with value: 0.985633575464084.\n"
     ]
    },
    {
     "name": "stdout",
     "output_type": "stream",
     "text": [
      "Training on subjects: [1 2 4 5 6 7] Testing on subject: [3]\n",
      "Training on subjects: [2 3 4 5 6 7] Testing on subject: [1]\n",
      "Training on subjects: [1 3 4 5 6 7] Testing on subject: [2]\n",
      "Training on subjects: [1 2 3 4 5 6] Testing on subject: [7]\n",
      "Training on subjects: [1 2 3 4 5 7] Testing on subject: [6]\n",
      "Training on subjects: [1 2 3 4 6 7] Testing on subject: [5]\n",
      "Training on subjects: [1 2 3 5 6 7] Testing on subject: [4]\n",
      "Training on subjects: [1 2 4 5 6 7] Testing on subject: [3]\n"
     ]
    },
    {
     "name": "stderr",
     "output_type": "stream",
     "text": [
      "[I 2024-05-14 19:08:18,372] Trial 56 finished with value: 0.985633575464084 and parameters: {'n_estimators': 145, 'learning_rate': 0.06591475344041281, 'max_depth': 15, 'num_leaves': 36, 'min_child_samples': 23, 'subsample': 0.8487334795603176, 'subsample_freq': 4, 'colsample_bytree': 0.7432184702533468, 'reg_alpha': 0.33441945369057785, 'reg_lambda': 0.008566103285826611, 'max_bin': 247}. Best is trial 0 with value: 0.985633575464084.\n"
     ]
    },
    {
     "name": "stdout",
     "output_type": "stream",
     "text": [
      "Training on subjects: [2 3 4 5 6 7] Testing on subject: [1]\n",
      "Training on subjects: [1 3 4 5 6 7] Testing on subject: [2]\n",
      "Training on subjects: [1 2 3 4 5 6] Testing on subject: [7]\n",
      "Training on subjects: [1 2 3 4 5 7] Testing on subject: [6]\n",
      "Training on subjects: [1 2 3 4 6 7] Testing on subject: [5]\n",
      "Training on subjects: [1 2 3 5 6 7] Testing on subject: [4]\n",
      "Training on subjects: [1 2 4 5 6 7] Testing on subject: [3]\n",
      "Training on subjects: [2 3 4 5 6 7] Testing on subject: [1]\n"
     ]
    },
    {
     "name": "stderr",
     "output_type": "stream",
     "text": [
      "[I 2024-05-14 19:08:18,763] Trial 57 finished with value: 0.985633575464084 and parameters: {'n_estimators': 101, 'learning_rate': 0.11865967264656012, 'max_depth': 7, 'num_leaves': 20, 'min_child_samples': 13, 'subsample': 0.8852276158978467, 'subsample_freq': 2, 'colsample_bytree': 0.6940537566330541, 'reg_alpha': 0.38876816701382655, 'reg_lambda': 0.8243629598746848, 'max_bin': 213}. Best is trial 0 with value: 0.985633575464084.\n"
     ]
    },
    {
     "name": "stdout",
     "output_type": "stream",
     "text": [
      "Training on subjects: [1 3 4 5 6 7] Testing on subject: [2]\n",
      "Training on subjects: [1 2 3 4 5 6] Testing on subject: [7]\n",
      "Training on subjects: [1 2 3 4 5 7] Testing on subject: [6]\n",
      "Training on subjects: [1 2 3 4 6 7] Testing on subject: [5]\n",
      "Training on subjects: [1 2 3 5 6 7] Testing on subject: [4]\n",
      "Training on subjects: [1 2 4 5 6 7] Testing on subject: [3]\n",
      "Training on subjects: [2 3 4 5 6 7] Testing on subject: [1]\n",
      "Training on subjects: [1 3 4 5 6 7] Testing on subject: [2]\n"
     ]
    },
    {
     "name": "stderr",
     "output_type": "stream",
     "text": [
      "[I 2024-05-14 19:08:19,195] Trial 58 finished with value: 0.985633575464084 and parameters: {'n_estimators': 164, 'learning_rate': 0.17793434756510063, 'max_depth': 9, 'num_leaves': 24, 'min_child_samples': 36, 'subsample': 0.8585866201603191, 'subsample_freq': 1, 'colsample_bytree': 0.9979933495038062, 'reg_alpha': 0.4978003528350098, 'reg_lambda': 0.6760696773255255, 'max_bin': 207}. Best is trial 0 with value: 0.985633575464084.\n"
     ]
    },
    {
     "name": "stdout",
     "output_type": "stream",
     "text": [
      "Training on subjects: [1 2 3 4 5 6] Testing on subject: [7]\n",
      "Training on subjects: [1 2 3 4 5 7] Testing on subject: [6]\n",
      "Training on subjects: [1 2 3 4 6 7] Testing on subject: [5]\n",
      "Training on subjects: [1 2 3 5 6 7] Testing on subject: [4]\n",
      "Training on subjects: [1 2 4 5 6 7] Testing on subject: [3]\n"
     ]
    },
    {
     "name": "stderr",
     "output_type": "stream",
     "text": [
      "[I 2024-05-14 19:08:19,654] Trial 59 finished with value: 0.985633575464084 and parameters: {'n_estimators': 209, 'learning_rate': 0.07828223719142219, 'max_depth': 5, 'num_leaves': 26, 'min_child_samples': 19, 'subsample': 0.9373725863629777, 'subsample_freq': 3, 'colsample_bytree': 0.6005223209185396, 'reg_alpha': 0.8527249481888372, 'reg_lambda': 0.6180575489590514, 'max_bin': 230}. Best is trial 0 with value: 0.985633575464084.\n"
     ]
    },
    {
     "name": "stdout",
     "output_type": "stream",
     "text": [
      "Training on subjects: [2 3 4 5 6 7] Testing on subject: [1]\n",
      "Training on subjects: [1 3 4 5 6 7] Testing on subject: [2]\n",
      "Training on subjects: [1 2 3 4 5 6] Testing on subject: [7]\n",
      "Training on subjects: [1 2 3 4 5 7] Testing on subject: [6]\n",
      "Training on subjects: [1 2 3 4 6 7] Testing on subject: [5]\n",
      "Training on subjects: [1 2 3 5 6 7] Testing on subject: [4]\n",
      "Training on subjects: [1 2 4 5 6 7] Testing on subject: [3]\n",
      "Training on subjects: [2 3 4 5 6 7] Testing on subject: [1]\n"
     ]
    },
    {
     "name": "stderr",
     "output_type": "stream",
     "text": [
      "[I 2024-05-14 19:08:20,053] Trial 60 finished with value: 0.985633575464084 and parameters: {'n_estimators': 137, 'learning_rate': 0.19873986453630013, 'max_depth': 13, 'num_leaves': 28, 'min_child_samples': 17, 'subsample': 0.8095245595834965, 'subsample_freq': 4, 'colsample_bytree': 0.9668985527941816, 'reg_alpha': 0.13375315468733018, 'reg_lambda': 0.12862769085070253, 'max_bin': 224}. Best is trial 0 with value: 0.985633575464084.\n"
     ]
    },
    {
     "name": "stdout",
     "output_type": "stream",
     "text": [
      "Training on subjects: [1 3 4 5 6 7] Testing on subject: [2]\n",
      "Training on subjects: [1 2 3 4 5 6] Testing on subject: [7]\n",
      "Training on subjects: [1 2 3 4 5 7] Testing on subject: [6]\n",
      "Training on subjects: [1 2 3 4 6 7] Testing on subject: [5]\n",
      "Training on subjects: [1 2 3 5 6 7] Testing on subject: [4]\n",
      "Training on subjects: [1 2 4 5 6 7] Testing on subject: [3]\n",
      "Training on subjects: [2 3 4 5 6 7] Testing on subject: [1]\n"
     ]
    },
    {
     "name": "stderr",
     "output_type": "stream",
     "text": [
      "[I 2024-05-14 19:08:20,473] Trial 61 finished with value: 0.985633575464084 and parameters: {'n_estimators': 127, 'learning_rate': 0.13511201043636734, 'max_depth': 12, 'num_leaves': 40, 'min_child_samples': 42, 'subsample': 0.8409417004194825, 'subsample_freq': 0, 'colsample_bytree': 0.8832357938388047, 'reg_alpha': 0.7164864608228263, 'reg_lambda': 0.74451019125588, 'max_bin': 277}. Best is trial 0 with value: 0.985633575464084.\n"
     ]
    },
    {
     "name": "stdout",
     "output_type": "stream",
     "text": [
      "Training on subjects: [1 3 4 5 6 7] Testing on subject: [2]\n",
      "Training on subjects: [1 2 3 4 5 6] Testing on subject: [7]\n",
      "Training on subjects: [1 2 3 4 5 7] Testing on subject: [6]\n"
     ]
    },
    {
     "name": "stderr",
     "output_type": "stream",
     "text": [
      "[I 2024-05-14 19:08:20,845] Trial 62 finished with value: 0.985633575464084 and parameters: {'n_estimators': 110, 'learning_rate': 0.15557781499356818, 'max_depth': 5, 'num_leaves': 38, 'min_child_samples': 44, 'subsample': 0.8284929255505419, 'subsample_freq': 0, 'colsample_bytree': 0.8630270223971227, 'reg_alpha': 0.6442650520946036, 'reg_lambda': 0.6993643105995849, 'max_bin': 294}. Best is trial 0 with value: 0.985633575464084.\n"
     ]
    },
    {
     "name": "stdout",
     "output_type": "stream",
     "text": [
      "Training on subjects: [1 2 3 4 6 7] Testing on subject: [5]\n",
      "Training on subjects: [1 2 3 5 6 7] Testing on subject: [4]\n",
      "Training on subjects: [1 2 4 5 6 7] Testing on subject: [3]\n",
      "Training on subjects: [2 3 4 5 6 7] Testing on subject: [1]\n",
      "Training on subjects: [1 3 4 5 6 7] Testing on subject: [2]\n",
      "Training on subjects: [1 2 3 4 5 6] Testing on subject: [7]\n",
      "Training on subjects: [1 2 3 4 5 7] Testing on subject: [6]\n",
      "Training on subjects: [1 2 3 4 6 7] Testing on subject: [5]\n",
      "Training on subjects: [1 2 3 5 6 7] Testing on subject: [4]\n",
      "Training on subjects: [1 2 4 5 6 7] Testing on subject: [3]\n"
     ]
    },
    {
     "name": "stderr",
     "output_type": "stream",
     "text": [
      "[I 2024-05-14 19:08:21,262] Trial 63 finished with value: 0.985633575464084 and parameters: {'n_estimators': 150, 'learning_rate': 0.18319948093735341, 'max_depth': 10, 'num_leaves': 33, 'min_child_samples': 27, 'subsample': 0.9006327170176606, 'subsample_freq': 0, 'colsample_bytree': 0.9034172346697233, 'reg_alpha': 0.588824917115434, 'reg_lambda': 0.8120975563926731, 'max_bin': 287}. Best is trial 0 with value: 0.985633575464084.\n"
     ]
    },
    {
     "name": "stdout",
     "output_type": "stream",
     "text": [
      "Training on subjects: [2 3 4 5 6 7] Testing on subject: [1]\n",
      "Training on subjects: [1 3 4 5 6 7] Testing on subject: [2]\n",
      "Training on subjects: [1 2 3 4 5 6] Testing on subject: [7]\n",
      "Training on subjects: [1 2 3 4 5 7] Testing on subject: [6]\n",
      "Training on subjects: [1 2 3 4 6 7] Testing on subject: [5]\n",
      "Training on subjects: [1 2 3 5 6 7] Testing on subject: [4]\n"
     ]
    },
    {
     "name": "stderr",
     "output_type": "stream",
     "text": [
      "[I 2024-05-14 19:08:22,131] Trial 64 finished with value: 0.985633575464084 and parameters: {'n_estimators': 294, 'learning_rate': 0.14375650288513525, 'max_depth': 7, 'num_leaves': 39, 'min_child_samples': 15, 'subsample': 0.922155541670449, 'subsample_freq': 1, 'colsample_bytree': 0.7676839337831549, 'reg_alpha': 0.6763690074660899, 'reg_lambda': 0.866935669630105, 'max_bin': 273}. Best is trial 0 with value: 0.985633575464084.\n"
     ]
    },
    {
     "name": "stdout",
     "output_type": "stream",
     "text": [
      "Training on subjects: [1 2 4 5 6 7] Testing on subject: [3]\n",
      "Training on subjects: [2 3 4 5 6 7] Testing on subject: [1]\n",
      "Training on subjects: [1 3 4 5 6 7] Testing on subject: [2]\n",
      "Training on subjects: [1 2 3 4 5 6] Testing on subject: [7]\n",
      "Training on subjects: [1 2 3 4 5 7] Testing on subject: [6]\n",
      "Training on subjects: [1 2 3 4 6 7] Testing on subject: [5]\n",
      "Training on subjects: [1 2 3 5 6 7] Testing on subject: [4]\n",
      "Training on subjects: [1 2 4 5 6 7] Testing on subject: [3]\n"
     ]
    },
    {
     "name": "stderr",
     "output_type": "stream",
     "text": [
      "[I 2024-05-14 19:08:22,578] Trial 65 finished with value: 0.985633575464084 and parameters: {'n_estimators': 174, 'learning_rate': 0.17075784418197132, 'max_depth': 6, 'num_leaves': 37, 'min_child_samples': 14, 'subsample': 0.878168958058042, 'subsample_freq': 1, 'colsample_bytree': 0.9290927440425186, 'reg_alpha': 0.7684928980465229, 'reg_lambda': 0.5720356245773156, 'max_bin': 264}. Best is trial 0 with value: 0.985633575464084.\n"
     ]
    },
    {
     "name": "stdout",
     "output_type": "stream",
     "text": [
      "Training on subjects: [2 3 4 5 6 7] Testing on subject: [1]\n",
      "Training on subjects: [1 3 4 5 6 7] Testing on subject: [2]\n",
      "Training on subjects: [1 2 3 4 5 6] Testing on subject: [7]\n",
      "Training on subjects: [1 2 3 4 5 7] Testing on subject: [6]\n",
      "Training on subjects: [1 2 3 4 6 7] Testing on subject: [5]\n",
      "Training on subjects: [1 2 3 5 6 7] Testing on subject: [4]\n",
      "Training on subjects: [1 2 4 5 6 7] Testing on subject: [3]\n",
      "Training on subjects: [2 3 4 5 6 7] Testing on subject: [1]\n",
      "Training on subjects: [1 3 4 5 6 7] Testing on subject: [2]\n"
     ]
    },
    {
     "name": "stderr",
     "output_type": "stream",
     "text": [
      "[I 2024-05-14 19:08:22,987] Trial 66 finished with value: 0.985633575464084 and parameters: {'n_estimators': 159, 'learning_rate': 0.16420128763318478, 'max_depth': 8, 'num_leaves': 35, 'min_child_samples': 21, 'subsample': 0.824495736585182, 'subsample_freq': 5, 'colsample_bytree': 0.6352845499683623, 'reg_alpha': 0.5298462574446962, 'reg_lambda': 0.31434716929363427, 'max_bin': 203}. Best is trial 0 with value: 0.985633575464084.\n"
     ]
    },
    {
     "name": "stdout",
     "output_type": "stream",
     "text": [
      "Training on subjects: [1 2 3 4 5 6] Testing on subject: [7]\n",
      "Training on subjects: [1 2 3 4 5 7] Testing on subject: [6]\n",
      "Training on subjects: [1 2 3 4 6 7] Testing on subject: [5]\n",
      "Training on subjects: [1 2 3 5 6 7] Testing on subject: [4]\n"
     ]
    },
    {
     "name": "stderr",
     "output_type": "stream",
     "text": [
      "[I 2024-05-14 19:08:23,520] Trial 67 finished with value: 0.985633575464084 and parameters: {'n_estimators': 279, 'learning_rate': 0.1487432292393786, 'max_depth': 14, 'num_leaves': 36, 'min_child_samples': 47, 'subsample': 0.8906199307473974, 'subsample_freq': 4, 'colsample_bytree': 0.9513899679637925, 'reg_alpha': 0.444265497360163, 'reg_lambda': 0.689883213151026, 'max_bin': 268}. Best is trial 0 with value: 0.985633575464084.\n"
     ]
    },
    {
     "name": "stdout",
     "output_type": "stream",
     "text": [
      "Training on subjects: [1 2 4 5 6 7] Testing on subject: [3]\n",
      "Training on subjects: [2 3 4 5 6 7] Testing on subject: [1]\n",
      "Training on subjects: [1 3 4 5 6 7] Testing on subject: [2]\n",
      "Training on subjects: [1 2 3 4 5 6] Testing on subject: [7]\n",
      "Training on subjects: [1 2 3 4 5 7] Testing on subject: [6]\n",
      "Training on subjects: [1 2 3 4 6 7] Testing on subject: [5]\n",
      "Training on subjects: [1 2 3 5 6 7] Testing on subject: [4]\n",
      "Training on subjects: [1 2 4 5 6 7] Testing on subject: [3]\n",
      "Training on subjects: [2 3 4 5 6 7] Testing on subject: [1]\n"
     ]
    },
    {
     "name": "stderr",
     "output_type": "stream",
     "text": [
      "[I 2024-05-14 19:08:23,902] Trial 68 finished with value: 0.985633575464084 and parameters: {'n_estimators': 126, 'learning_rate': 0.08661352138635153, 'max_depth': 5, 'num_leaves': 32, 'min_child_samples': 12, 'subsample': 0.8653285112624662, 'subsample_freq': 6, 'colsample_bytree': 0.8143829946948389, 'reg_alpha': 0.22889514769125854, 'reg_lambda': 0.6446519322918082, 'max_bin': 280}. Best is trial 0 with value: 0.985633575464084.\n"
     ]
    },
    {
     "name": "stdout",
     "output_type": "stream",
     "text": [
      "Training on subjects: [1 3 4 5 6 7] Testing on subject: [2]\n",
      "Training on subjects: [1 2 3 4 5 6] Testing on subject: [7]\n",
      "Training on subjects: [1 2 3 4 5 7] Testing on subject: [6]\n",
      "Training on subjects: [1 2 3 4 6 7] Testing on subject: [5]\n",
      "Training on subjects: [1 2 3 5 6 7] Testing on subject: [4]\n",
      "Training on subjects: [1 2 4 5 6 7] Testing on subject: [3]\n",
      "Training on subjects: [2 3 4 5 6 7] Testing on subject: [1]\n",
      "Training on subjects: [1 3 4 5 6 7] Testing on subject: [2]\n"
     ]
    },
    {
     "name": "stderr",
     "output_type": "stream",
     "text": [
      "[I 2024-05-14 19:08:24,343] Trial 69 finished with value: 0.985633575464084 and parameters: {'n_estimators': 190, 'learning_rate': 0.10477501157669927, 'max_depth': 9, 'num_leaves': 34, 'min_child_samples': 18, 'subsample': 0.9620316757770344, 'subsample_freq': 3, 'colsample_bytree': 0.8895712469547806, 'reg_alpha': 0.9553775346322669, 'reg_lambda': 0.08049618436608467, 'max_bin': 287}. Best is trial 0 with value: 0.985633575464084.\n"
     ]
    },
    {
     "name": "stdout",
     "output_type": "stream",
     "text": [
      "Training on subjects: [1 2 3 4 5 6] Testing on subject: [7]\n",
      "Training on subjects: [1 2 3 4 5 7] Testing on subject: [6]\n",
      "Training on subjects: [1 2 3 4 6 7] Testing on subject: [5]\n",
      "Training on subjects: [1 2 3 5 6 7] Testing on subject: [4]\n",
      "Training on subjects: [1 2 4 5 6 7] Testing on subject: [3]\n",
      "Training on subjects: [2 3 4 5 6 7] Testing on subject: [1]\n"
     ]
    },
    {
     "name": "stderr",
     "output_type": "stream",
     "text": [
      "[I 2024-05-14 19:08:25,057] Trial 70 finished with value: 0.985633575464084 and parameters: {'n_estimators': 263, 'learning_rate': 0.1908282444327589, 'max_depth': 12, 'num_leaves': 30, 'min_child_samples': 24, 'subsample': 0.8377910156108465, 'subsample_freq': 1, 'colsample_bytree': 0.6149816926887646, 'reg_alpha': 0.6082299768634638, 'reg_lambda': 0.515328656027255, 'max_bin': 256}. Best is trial 0 with value: 0.985633575464084.\n"
     ]
    },
    {
     "name": "stdout",
     "output_type": "stream",
     "text": [
      "Training on subjects: [1 3 4 5 6 7] Testing on subject: [2]\n",
      "Training on subjects: [1 2 3 4 5 6] Testing on subject: [7]\n",
      "Training on subjects: [1 2 3 4 5 7] Testing on subject: [6]\n",
      "Training on subjects: [1 2 3 4 6 7] Testing on subject: [5]\n",
      "Training on subjects: [1 2 3 5 6 7] Testing on subject: [4]\n",
      "Training on subjects: [1 2 4 5 6 7] Testing on subject: [3]\n",
      "Training on subjects: [2 3 4 5 6 7] Testing on subject: [1]\n",
      "Training on subjects: [1 3 4 5 6 7] Testing on subject: [2]\n"
     ]
    },
    {
     "name": "stderr",
     "output_type": "stream",
     "text": [
      "[I 2024-05-14 19:08:25,430] Trial 71 finished with value: 0.985633575464084 and parameters: {'n_estimators': 115, 'learning_rate': 0.047495040766076996, 'max_depth': 6, 'num_leaves': 39, 'min_child_samples': 33, 'subsample': 0.8469540085177535, 'subsample_freq': 0, 'colsample_bytree': 0.7383534703075464, 'reg_alpha': 0.29577673101164137, 'reg_lambda': 0.763414275955718, 'max_bin': 248}. Best is trial 0 with value: 0.985633575464084.\n"
     ]
    },
    {
     "name": "stdout",
     "output_type": "stream",
     "text": [
      "Training on subjects: [1 2 3 4 5 6] Testing on subject: [7]\n",
      "Training on subjects: [1 2 3 4 5 7] Testing on subject: [6]\n",
      "Training on subjects: [1 2 3 4 6 7] Testing on subject: [5]\n",
      "Training on subjects: [1 2 3 5 6 7] Testing on subject: [4]\n",
      "Training on subjects: [1 2 4 5 6 7] Testing on subject: [3]\n",
      "Training on subjects: [2 3 4 5 6 7] Testing on subject: [1]\n"
     ]
    },
    {
     "name": "stderr",
     "output_type": "stream",
     "text": [
      "[I 2024-05-14 19:08:25,809] Trial 72 finished with value: 0.985633575464084 and parameters: {'n_estimators': 104, 'learning_rate': 0.062264268960897935, 'max_depth': 6, 'num_leaves': 38, 'min_child_samples': 36, 'subsample': 0.8567721374260362, 'subsample_freq': 0, 'colsample_bytree': 0.7869861854220636, 'reg_alpha': 0.3361409483763654, 'reg_lambda': 0.711853838479263, 'max_bin': 265}. Best is trial 0 with value: 0.985633575464084.\n"
     ]
    },
    {
     "name": "stdout",
     "output_type": "stream",
     "text": [
      "Training on subjects: [1 3 4 5 6 7] Testing on subject: [2]\n",
      "Training on subjects: [1 2 3 4 5 6] Testing on subject: [7]\n",
      "Training on subjects: [1 2 3 4 5 7] Testing on subject: [6]\n"
     ]
    },
    {
     "name": "stderr",
     "output_type": "stream",
     "text": [
      "[I 2024-05-14 19:08:26,193] Trial 73 finished with value: 0.985633575464084 and parameters: {'n_estimators': 133, 'learning_rate': 0.1802463803744846, 'max_depth': 5, 'num_leaves': 40, 'min_child_samples': 29, 'subsample': 0.9065764454363902, 'subsample_freq': 0, 'colsample_bytree': 0.7594809878942195, 'reg_alpha': 0.40308831321293814, 'reg_lambda': 0.8938916648265137, 'max_bin': 209}. Best is trial 0 with value: 0.985633575464084.\n"
     ]
    },
    {
     "name": "stdout",
     "output_type": "stream",
     "text": [
      "Training on subjects: [1 2 3 4 6 7] Testing on subject: [5]\n",
      "Training on subjects: [1 2 3 5 6 7] Testing on subject: [4]\n",
      "Training on subjects: [1 2 4 5 6 7] Testing on subject: [3]\n",
      "Training on subjects: [2 3 4 5 6 7] Testing on subject: [1]\n",
      "Training on subjects: [1 3 4 5 6 7] Testing on subject: [2]\n",
      "Training on subjects: [1 2 3 4 5 6] Testing on subject: [7]\n",
      "Training on subjects: [1 2 3 4 5 7] Testing on subject: [6]\n",
      "Training on subjects: [1 2 3 4 6 7] Testing on subject: [5]\n",
      "Training on subjects: [1 2 3 5 6 7] Testing on subject: [4]\n",
      "Training on subjects: [1 2 4 5 6 7] Testing on subject: [3]\n",
      "Training on subjects: [2 3 4 5 6 7] Testing on subject: [1]\n"
     ]
    },
    {
     "name": "stderr",
     "output_type": "stream",
     "text": [
      "[I 2024-05-14 19:08:26,581] Trial 74 finished with value: 0.985633575464084 and parameters: {'n_estimators': 123, 'learning_rate': 0.10973222495511886, 'max_depth': 7, 'num_leaves': 38, 'min_child_samples': 38, 'subsample': 0.8695904489713127, 'subsample_freq': 2, 'colsample_bytree': 0.7181840617040749, 'reg_alpha': 0.5605344667211026, 'reg_lambda': 0.613830446690593, 'max_bin': 217}. Best is trial 0 with value: 0.985633575464084.\n"
     ]
    },
    {
     "name": "stdout",
     "output_type": "stream",
     "text": [
      "Training on subjects: [1 3 4 5 6 7] Testing on subject: [2]\n",
      "Training on subjects: [1 2 3 4 5 6] Testing on subject: [7]\n",
      "Training on subjects: [1 2 3 4 5 7] Testing on subject: [6]\n"
     ]
    },
    {
     "name": "stderr",
     "output_type": "stream",
     "text": [
      "[I 2024-05-14 19:08:26,959] Trial 75 finished with value: 0.985633575464084 and parameters: {'n_estimators': 114, 'learning_rate': 0.07257493846186745, 'max_depth': 13, 'num_leaves': 39, 'min_child_samples': 40, 'subsample': 0.8335749828846077, 'subsample_freq': 0, 'colsample_bytree': 0.9169766978028349, 'reg_alpha': 0.4585332171867037, 'reg_lambda': 0.7294450064526238, 'max_bin': 297}. Best is trial 0 with value: 0.985633575464084.\n"
     ]
    },
    {
     "name": "stdout",
     "output_type": "stream",
     "text": [
      "Training on subjects: [1 2 3 4 6 7] Testing on subject: [5]\n",
      "Training on subjects: [1 2 3 5 6 7] Testing on subject: [4]\n",
      "Training on subjects: [1 2 4 5 6 7] Testing on subject: [3]\n",
      "Training on subjects: [2 3 4 5 6 7] Testing on subject: [1]\n",
      "Training on subjects: [1 3 4 5 6 7] Testing on subject: [2]\n",
      "Training on subjects: [1 2 3 4 5 6] Testing on subject: [7]\n",
      "Training on subjects: [1 2 3 4 5 7] Testing on subject: [6]\n",
      "Training on subjects: [1 2 3 4 6 7] Testing on subject: [5]\n",
      "Training on subjects: [1 2 3 5 6 7] Testing on subject: [4]\n",
      "Training on subjects: [1 2 4 5 6 7] Testing on subject: [3]\n",
      "Training on subjects: [2 3 4 5 6 7] Testing on subject: [1]\n"
     ]
    },
    {
     "name": "stderr",
     "output_type": "stream",
     "text": [
      "[I 2024-05-14 19:08:27,381] Trial 76 finished with value: 0.985633575464084 and parameters: {'n_estimators': 167, 'learning_rate': 0.12854271600427164, 'max_depth': 6, 'num_leaves': 36, 'min_child_samples': 31, 'subsample': 0.8787435280838454, 'subsample_freq': 4, 'colsample_bytree': 0.6852166832410734, 'reg_alpha': 0.24738323037359072, 'reg_lambda': 0.2272829223820949, 'max_bin': 260}. Best is trial 0 with value: 0.985633575464084.\n"
     ]
    },
    {
     "name": "stdout",
     "output_type": "stream",
     "text": [
      "Training on subjects: [1 3 4 5 6 7] Testing on subject: [2]\n",
      "Training on subjects: [1 2 3 4 5 6] Testing on subject: [7]\n",
      "Training on subjects: [1 2 3 4 5 7] Testing on subject: [6]\n",
      "Training on subjects: [1 2 3 4 6 7] Testing on subject: [5]\n",
      "Training on subjects: [1 2 3 5 6 7] Testing on subject: [4]\n",
      "Training on subjects: [1 2 4 5 6 7] Testing on subject: [3]\n",
      "Training on subjects: [2 3 4 5 6 7] Testing on subject: [1]\n",
      "Training on subjects: [1 3 4 5 6 7] Testing on subject: [2]\n"
     ]
    },
    {
     "name": "stderr",
     "output_type": "stream",
     "text": [
      "[I 2024-05-14 19:08:27,936] Trial 77 finished with value: 0.985633575464084 and parameters: {'n_estimators': 154, 'learning_rate': 0.0894098374864056, 'max_depth': 7, 'num_leaves': 23, 'min_child_samples': 35, 'subsample': 0.8604523729227037, 'subsample_freq': 0, 'colsample_bytree': 0.6510250702005568, 'reg_alpha': 0.419436455083652, 'reg_lambda': 0.8399292415365334, 'max_bin': 238}. Best is trial 0 with value: 0.985633575464084.\n"
     ]
    },
    {
     "name": "stdout",
     "output_type": "stream",
     "text": [
      "Training on subjects: [1 2 3 4 5 6] Testing on subject: [7]\n",
      "Training on subjects: [1 2 3 4 5 7] Testing on subject: [6]\n",
      "Training on subjects: [1 2 3 4 6 7] Testing on subject: [5]\n",
      "Training on subjects: [1 2 3 5 6 7] Testing on subject: [4]\n",
      "Training on subjects: [1 2 4 5 6 7] Testing on subject: [3]\n"
     ]
    },
    {
     "name": "stderr",
     "output_type": "stream",
     "text": [
      "[I 2024-05-14 19:08:28,384] Trial 78 finished with value: 0.985633575464084 and parameters: {'n_estimators': 147, 'learning_rate': 0.011349713981296826, 'max_depth': 5, 'num_leaves': 40, 'min_child_samples': 16, 'subsample': 0.8432592816238227, 'subsample_freq': 1, 'colsample_bytree': 0.7682322630457069, 'reg_alpha': 0.20321632573585466, 'reg_lambda': 0.16537440861807529, 'max_bin': 272}. Best is trial 0 with value: 0.985633575464084.\n"
     ]
    },
    {
     "name": "stdout",
     "output_type": "stream",
     "text": [
      "Training on subjects: [2 3 4 5 6 7] Testing on subject: [1]\n",
      "Training on subjects: [1 3 4 5 6 7] Testing on subject: [2]\n",
      "Training on subjects: [1 2 3 4 5 6] Testing on subject: [7]\n",
      "Training on subjects: [1 2 3 4 5 7] Testing on subject: [6]\n",
      "Training on subjects: [1 2 3 4 6 7] Testing on subject: [5]\n",
      "Training on subjects: [1 2 3 5 6 7] Testing on subject: [4]\n",
      "Training on subjects: [1 2 4 5 6 7] Testing on subject: [3]\n"
     ]
    },
    {
     "name": "stderr",
     "output_type": "stream",
     "text": [
      "[I 2024-05-14 19:08:28,816] Trial 79 finished with value: 0.985633575464084 and parameters: {'n_estimators': 136, 'learning_rate': 0.05167273462354074, 'max_depth': 7, 'num_leaves': 27, 'min_child_samples': 10, 'subsample': 0.8528279907849997, 'subsample_freq': 5, 'colsample_bytree': 0.8215915092952187, 'reg_alpha': 0.5087471485797205, 'reg_lambda': 0.9612134882304407, 'max_bin': 206}. Best is trial 0 with value: 0.985633575464084.\n"
     ]
    },
    {
     "name": "stdout",
     "output_type": "stream",
     "text": [
      "Training on subjects: [2 3 4 5 6 7] Testing on subject: [1]\n",
      "Training on subjects: [1 3 4 5 6 7] Testing on subject: [2]\n",
      "Training on subjects: [1 2 3 4 5 6] Testing on subject: [7]\n",
      "Training on subjects: [1 2 3 4 5 7] Testing on subject: [6]\n",
      "Training on subjects: [1 2 3 4 6 7] Testing on subject: [5]\n",
      "Training on subjects: [1 2 3 5 6 7] Testing on subject: [4]\n",
      "Training on subjects: [1 2 4 5 6 7] Testing on subject: [3]\n"
     ]
    },
    {
     "name": "stderr",
     "output_type": "stream",
     "text": [
      "[I 2024-05-14 19:08:29,411] Trial 80 finished with value: 0.985633575464084 and parameters: {'n_estimators': 300, 'learning_rate': 0.04017492196881536, 'max_depth': 11, 'num_leaves': 25, 'min_child_samples': 43, 'subsample': 0.8899494045333429, 'subsample_freq': 4, 'colsample_bytree': 0.7996931518496827, 'reg_alpha': 0.7461349520117118, 'reg_lambda': 0.793355808675313, 'max_bin': 283}. Best is trial 0 with value: 0.985633575464084.\n"
     ]
    },
    {
     "name": "stdout",
     "output_type": "stream",
     "text": [
      "Training on subjects: [2 3 4 5 6 7] Testing on subject: [1]\n",
      "Training on subjects: [1 3 4 5 6 7] Testing on subject: [2]\n",
      "Training on subjects: [1 2 3 4 5 6] Testing on subject: [7]\n",
      "Training on subjects: [1 2 3 4 5 7] Testing on subject: [6]\n",
      "Training on subjects: [1 2 3 4 6 7] Testing on subject: [5]\n",
      "Training on subjects: [1 2 3 5 6 7] Testing on subject: [4]\n"
     ]
    },
    {
     "name": "stderr",
     "output_type": "stream",
     "text": [
      "[I 2024-05-14 19:08:29,933] Trial 81 finished with value: 0.985633575464084 and parameters: {'n_estimators': 287, 'learning_rate': 0.09501598683155683, 'max_depth': 6, 'num_leaves': 33, 'min_child_samples': 40, 'subsample': 0.9143618382057022, 'subsample_freq': 7, 'colsample_bytree': 0.6260993998344551, 'reg_alpha': 0.6503254146307704, 'reg_lambda': 0.4250431516809325, 'max_bin': 201}. Best is trial 0 with value: 0.985633575464084.\n"
     ]
    },
    {
     "name": "stdout",
     "output_type": "stream",
     "text": [
      "Training on subjects: [1 2 4 5 6 7] Testing on subject: [3]\n",
      "Training on subjects: [2 3 4 5 6 7] Testing on subject: [1]\n",
      "Training on subjects: [1 3 4 5 6 7] Testing on subject: [2]\n",
      "Training on subjects: [1 2 3 4 5 6] Testing on subject: [7]\n",
      "Training on subjects: [1 2 3 4 5 7] Testing on subject: [6]\n",
      "Training on subjects: [1 2 3 4 6 7] Testing on subject: [5]\n",
      "Training on subjects: [1 2 3 5 6 7] Testing on subject: [4]\n"
     ]
    },
    {
     "name": "stderr",
     "output_type": "stream",
     "text": [
      "[I 2024-05-14 19:08:30,480] Trial 82 finished with value: 0.985633575464084 and parameters: {'n_estimators': 294, 'learning_rate': 0.0722665742743509, 'max_depth': 6, 'num_leaves': 35, 'min_child_samples': 46, 'subsample': 0.9305517304305377, 'subsample_freq': 6, 'colsample_bytree': 0.7323414595658756, 'reg_alpha': 0.29038420212903004, 'reg_lambda': 0.37282134789636046, 'max_bin': 203}. Best is trial 0 with value: 0.985633575464084.\n"
     ]
    },
    {
     "name": "stdout",
     "output_type": "stream",
     "text": [
      "Training on subjects: [1 2 4 5 6 7] Testing on subject: [3]\n",
      "Training on subjects: [2 3 4 5 6 7] Testing on subject: [1]\n",
      "Training on subjects: [1 3 4 5 6 7] Testing on subject: [2]\n",
      "Training on subjects: [1 2 3 4 5 6] Testing on subject: [7]\n",
      "Training on subjects: [1 2 3 4 5 7] Testing on subject: [6]\n",
      "Training on subjects: [1 2 3 4 6 7] Testing on subject: [5]\n",
      "Training on subjects: [1 2 3 5 6 7] Testing on subject: [4]\n"
     ]
    },
    {
     "name": "stderr",
     "output_type": "stream",
     "text": [
      "[I 2024-05-14 19:08:31,005] Trial 83 finished with value: 0.985633575464084 and parameters: {'n_estimators': 284, 'learning_rate': 0.1609987621333833, 'max_depth': 6, 'num_leaves': 37, 'min_child_samples': 41, 'subsample': 0.9105150329984181, 'subsample_freq': 7, 'colsample_bytree': 0.7907217247834583, 'reg_alpha': 0.5528763669623674, 'reg_lambda': 0.32875346883731715, 'max_bin': 214}. Best is trial 0 with value: 0.985633575464084.\n"
     ]
    },
    {
     "name": "stdout",
     "output_type": "stream",
     "text": [
      "Training on subjects: [1 2 4 5 6 7] Testing on subject: [3]\n",
      "Training on subjects: [2 3 4 5 6 7] Testing on subject: [1]\n",
      "Training on subjects: [1 3 4 5 6 7] Testing on subject: [2]\n",
      "Training on subjects: [1 2 3 4 5 6] Testing on subject: [7]\n",
      "Training on subjects: [1 2 3 4 5 7] Testing on subject: [6]\n",
      "Training on subjects: [1 2 3 4 6 7] Testing on subject: [5]\n",
      "Training on subjects: [1 2 3 5 6 7] Testing on subject: [4]\n"
     ]
    },
    {
     "name": "stderr",
     "output_type": "stream",
     "text": [
      "[I 2024-05-14 19:08:31,550] Trial 84 finished with value: 0.985633575464084 and parameters: {'n_estimators': 271, 'learning_rate': 0.14014390620188652, 'max_depth': 8, 'num_leaves': 34, 'min_child_samples': 38, 'subsample': 0.899823848325228, 'subsample_freq': 6, 'colsample_bytree': 0.8376816515651339, 'reg_alpha': 0.4728393531330103, 'reg_lambda': 0.27489704921304176, 'max_bin': 209}. Best is trial 0 with value: 0.985633575464084.\n"
     ]
    },
    {
     "name": "stdout",
     "output_type": "stream",
     "text": [
      "Training on subjects: [1 2 4 5 6 7] Testing on subject: [3]\n",
      "Training on subjects: [2 3 4 5 6 7] Testing on subject: [1]\n",
      "Training on subjects: [1 3 4 5 6 7] Testing on subject: [2]\n",
      "Training on subjects: [1 2 3 4 5 6] Testing on subject: [7]\n",
      "Training on subjects: [1 2 3 4 5 7] Testing on subject: [6]\n",
      "Training on subjects: [1 2 3 4 6 7] Testing on subject: [5]\n",
      "Training on subjects: [1 2 3 5 6 7] Testing on subject: [4]\n"
     ]
    },
    {
     "name": "stderr",
     "output_type": "stream",
     "text": [
      "[I 2024-05-14 19:08:32,072] Trial 85 finished with value: 0.985633575464084 and parameters: {'n_estimators': 275, 'learning_rate': 0.11542668687296907, 'max_depth': 7, 'num_leaves': 32, 'min_child_samples': 45, 'subsample': 0.9231046567646819, 'subsample_freq': 3, 'colsample_bytree': 0.7743524742615701, 'reg_alpha': 0.7021081885021133, 'reg_lambda': 0.4570534868143921, 'max_bin': 251}. Best is trial 0 with value: 0.985633575464084.\n"
     ]
    },
    {
     "name": "stdout",
     "output_type": "stream",
     "text": [
      "Training on subjects: [1 2 4 5 6 7] Testing on subject: [3]\n",
      "Training on subjects: [2 3 4 5 6 7] Testing on subject: [1]\n",
      "Training on subjects: [1 3 4 5 6 7] Testing on subject: [2]\n",
      "Training on subjects: [1 2 3 4 5 6] Testing on subject: [7]\n",
      "Training on subjects: [1 2 3 4 5 7] Testing on subject: [6]\n",
      "Training on subjects: [1 2 3 4 6 7] Testing on subject: [5]\n",
      "Training on subjects: [1 2 3 5 6 7] Testing on subject: [4]\n"
     ]
    },
    {
     "name": "stderr",
     "output_type": "stream",
     "text": [
      "[I 2024-05-14 19:08:32,611] Trial 86 finished with value: 0.985633575464084 and parameters: {'n_estimators': 290, 'learning_rate': 0.1856235244479981, 'max_depth': 5, 'num_leaves': 31, 'min_child_samples': 50, 'subsample': 0.9547136872647403, 'subsample_freq': 7, 'colsample_bytree': 0.8049143193336044, 'reg_alpha': 0.8300410910954198, 'reg_lambda': 0.5745851230445385, 'max_bin': 255}. Best is trial 0 with value: 0.985633575464084.\n"
     ]
    },
    {
     "name": "stdout",
     "output_type": "stream",
     "text": [
      "Training on subjects: [1 2 4 5 6 7] Testing on subject: [3]\n",
      "Training on subjects: [2 3 4 5 6 7] Testing on subject: [1]\n",
      "Training on subjects: [1 3 4 5 6 7] Testing on subject: [2]\n",
      "Training on subjects: [1 2 3 4 5 6] Testing on subject: [7]\n",
      "Training on subjects: [1 2 3 4 5 7] Testing on subject: [6]\n",
      "Training on subjects: [1 2 3 4 6 7] Testing on subject: [5]\n",
      "Training on subjects: [1 2 3 5 6 7] Testing on subject: [4]\n"
     ]
    },
    {
     "name": "stderr",
     "output_type": "stream",
     "text": [
      "[I 2024-05-14 19:08:33,166] Trial 87 finished with value: 0.985633575464084 and parameters: {'n_estimators': 258, 'learning_rate': 0.08100494418759897, 'max_depth': 8, 'num_leaves': 37, 'min_child_samples': 14, 'subsample': 0.877778348989217, 'subsample_freq': 5, 'colsample_bytree': 0.7040139996738723, 'reg_alpha': 0.6188492380958557, 'reg_lambda': 0.665583991716595, 'max_bin': 210}. Best is trial 0 with value: 0.985633575464084.\n"
     ]
    },
    {
     "name": "stdout",
     "output_type": "stream",
     "text": [
      "Training on subjects: [1 2 4 5 6 7] Testing on subject: [3]\n",
      "Training on subjects: [2 3 4 5 6 7] Testing on subject: [1]\n",
      "Training on subjects: [1 3 4 5 6 7] Testing on subject: [2]\n",
      "Training on subjects: [1 2 3 4 5 6] Testing on subject: [7]\n",
      "Training on subjects: [1 2 3 4 5 7] Testing on subject: [6]\n",
      "Training on subjects: [1 2 3 4 6 7] Testing on subject: [5]\n",
      "Training on subjects: [1 2 3 5 6 7] Testing on subject: [4]\n",
      "Training on subjects: [1 2 4 5 6 7] Testing on subject: [3]\n"
     ]
    },
    {
     "name": "stderr",
     "output_type": "stream",
     "text": [
      "[I 2024-05-14 19:08:33,638] Trial 88 finished with value: 0.985633575464084 and parameters: {'n_estimators': 225, 'learning_rate': 0.19550839407197113, 'max_depth': 12, 'num_leaves': 21, 'min_child_samples': 36, 'subsample': 0.8966244273953153, 'subsample_freq': 6, 'colsample_bytree': 0.7531207340057657, 'reg_alpha': 0.36653323639461277, 'reg_lambda': 0.2153715037479833, 'max_bin': 290}. Best is trial 0 with value: 0.985633575464084.\n"
     ]
    },
    {
     "name": "stdout",
     "output_type": "stream",
     "text": [
      "Training on subjects: [2 3 4 5 6 7] Testing on subject: [1]\n",
      "Training on subjects: [1 3 4 5 6 7] Testing on subject: [2]\n",
      "Training on subjects: [1 2 3 4 5 6] Testing on subject: [7]\n",
      "Training on subjects: [1 2 3 4 5 7] Testing on subject: [6]\n",
      "Training on subjects: [1 2 3 4 6 7] Testing on subject: [5]\n",
      "Training on subjects: [1 2 3 5 6 7] Testing on subject: [4]\n",
      "Training on subjects: [1 2 4 5 6 7] Testing on subject: [3]\n",
      "Training on subjects: [2 3 4 5 6 7] Testing on subject: [1]\n"
     ]
    },
    {
     "name": "stderr",
     "output_type": "stream",
     "text": [
      "[I 2024-05-14 19:08:34,023] Trial 89 finished with value: 0.985633575464084 and parameters: {'n_estimators': 107, 'learning_rate': 0.0016663899977134855, 'max_depth': 13, 'num_leaves': 33, 'min_child_samples': 33, 'subsample': 0.9422747970564842, 'subsample_freq': 4, 'colsample_bytree': 0.6621810122578682, 'reg_alpha': 0.48646032145015267, 'reg_lambda': 0.5264942964622724, 'max_bin': 269}. Best is trial 0 with value: 0.985633575464084.\n"
     ]
    },
    {
     "name": "stdout",
     "output_type": "stream",
     "text": [
      "Training on subjects: [1 3 4 5 6 7] Testing on subject: [2]\n",
      "Training on subjects: [1 2 3 4 5 6] Testing on subject: [7]\n",
      "Training on subjects: [1 2 3 4 5 7] Testing on subject: [6]\n",
      "Training on subjects: [1 2 3 4 6 7] Testing on subject: [5]\n",
      "Training on subjects: [1 2 3 5 6 7] Testing on subject: [4]\n",
      "Training on subjects: [1 2 4 5 6 7] Testing on subject: [3]\n",
      "Training on subjects: [2 3 4 5 6 7] Testing on subject: [1]\n",
      "Training on subjects: [1 3 4 5 6 7] Testing on subject: [2]\n"
     ]
    },
    {
     "name": "stderr",
     "output_type": "stream",
     "text": [
      "[I 2024-05-14 19:08:34,513] Trial 90 finished with value: 0.985633575464084 and parameters: {'n_estimators': 281, 'learning_rate': 0.1737334217531984, 'max_depth': 6, 'num_leaves': 35, 'min_child_samples': 30, 'subsample': 0.9749621823108052, 'subsample_freq': 0, 'colsample_bytree': 0.9294459648985555, 'reg_alpha': 0.32879275091088067, 'reg_lambda': 0.03552846748390735, 'max_bin': 277}. Best is trial 0 with value: 0.985633575464084.\n"
     ]
    },
    {
     "name": "stdout",
     "output_type": "stream",
     "text": [
      "Training on subjects: [1 2 3 4 5 6] Testing on subject: [7]\n",
      "Training on subjects: [1 2 3 4 5 7] Testing on subject: [6]\n",
      "Training on subjects: [1 2 3 4 6 7] Testing on subject: [5]\n",
      "Training on subjects: [1 2 3 5 6 7] Testing on subject: [4]\n",
      "Training on subjects: [1 2 4 5 6 7] Testing on subject: [3]\n"
     ]
    },
    {
     "name": "stderr",
     "output_type": "stream",
     "text": [
      "[I 2024-05-14 19:08:35,024] Trial 91 finished with value: 0.985633575464084 and parameters: {'n_estimators': 121, 'learning_rate': 0.024761282773989597, 'max_depth': 14, 'num_leaves': 29, 'min_child_samples': 16, 'subsample': 0.8353166043508577, 'subsample_freq': 1, 'colsample_bytree': 0.7947047774138499, 'reg_alpha': 0.6908175641520735, 'reg_lambda': 0.24550029599990308, 'max_bin': 205}. Best is trial 0 with value: 0.985633575464084.\n"
     ]
    },
    {
     "name": "stdout",
     "output_type": "stream",
     "text": [
      "Training on subjects: [2 3 4 5 6 7] Testing on subject: [1]\n",
      "Training on subjects: [1 3 4 5 6 7] Testing on subject: [2]\n",
      "Training on subjects: [1 2 3 4 5 6] Testing on subject: [7]\n",
      "Training on subjects: [1 2 3 4 5 7] Testing on subject: [6]\n",
      "Training on subjects: [1 2 3 4 6 7] Testing on subject: [5]\n",
      "Training on subjects: [1 2 3 5 6 7] Testing on subject: [4]\n",
      "Training on subjects: [1 2 4 5 6 7] Testing on subject: [3]\n"
     ]
    },
    {
     "name": "stderr",
     "output_type": "stream",
     "text": [
      "[I 2024-05-14 19:08:35,444] Trial 92 finished with value: 0.985633575464084 and parameters: {'n_estimators': 139, 'learning_rate': 0.009759799870043365, 'max_depth': 13, 'num_leaves': 26, 'min_child_samples': 28, 'subsample': 0.9971243237025861, 'subsample_freq': 1, 'colsample_bytree': 0.94132391170025, 'reg_alpha': 0.8843031571934468, 'reg_lambda': 0.19164621248807176, 'max_bin': 203}. Best is trial 0 with value: 0.985633575464084.\n"
     ]
    },
    {
     "name": "stdout",
     "output_type": "stream",
     "text": [
      "Training on subjects: [2 3 4 5 6 7] Testing on subject: [1]\n",
      "Training on subjects: [1 3 4 5 6 7] Testing on subject: [2]\n",
      "Training on subjects: [1 2 3 4 5 6] Testing on subject: [7]\n",
      "Training on subjects: [1 2 3 4 5 7] Testing on subject: [6]\n",
      "Training on subjects: [1 2 3 4 6 7] Testing on subject: [5]\n",
      "Training on subjects: [1 2 3 5 6 7] Testing on subject: [4]\n",
      "Training on subjects: [1 2 4 5 6 7] Testing on subject: [3]\n"
     ]
    },
    {
     "name": "stderr",
     "output_type": "stream",
     "text": [
      "[I 2024-05-14 19:08:36,010] Trial 93 finished with value: 0.985633575464084 and parameters: {'n_estimators': 296, 'learning_rate': 0.0985441478461146, 'max_depth': 12, 'num_leaves': 30, 'min_child_samples': 19, 'subsample': 0.982476303577495, 'subsample_freq': 2, 'colsample_bytree': 0.7182179643749623, 'reg_alpha': 0.7907869317310803, 'reg_lambda': 0.13718594948826857, 'max_bin': 200}. Best is trial 0 with value: 0.985633575464084.\n"
     ]
    },
    {
     "name": "stdout",
     "output_type": "stream",
     "text": [
      "Training on subjects: [2 3 4 5 6 7] Testing on subject: [1]\n",
      "Training on subjects: [1 3 4 5 6 7] Testing on subject: [2]\n",
      "Training on subjects: [1 2 3 4 5 6] Testing on subject: [7]\n",
      "Training on subjects: [1 2 3 4 5 7] Testing on subject: [6]\n",
      "Training on subjects: [1 2 3 4 6 7] Testing on subject: [5]\n",
      "Training on subjects: [1 2 3 5 6 7] Testing on subject: [4]\n",
      "Training on subjects: [1 2 4 5 6 7] Testing on subject: [3]\n"
     ]
    },
    {
     "name": "stderr",
     "output_type": "stream",
     "text": [
      "[I 2024-05-14 19:08:36,465] Trial 94 finished with value: 0.985633575464084 and parameters: {'n_estimators': 143, 'learning_rate': 0.018310113584728064, 'max_depth': 10, 'num_leaves': 22, 'min_child_samples': 25, 'subsample': 0.827119942627965, 'subsample_freq': 2, 'colsample_bytree': 0.778710337456125, 'reg_alpha': 0.6327497603068377, 'reg_lambda': 0.9227970145632473, 'max_bin': 207}. Best is trial 0 with value: 0.985633575464084.\n"
     ]
    },
    {
     "name": "stdout",
     "output_type": "stream",
     "text": [
      "Training on subjects: [2 3 4 5 6 7] Testing on subject: [1]\n",
      "Training on subjects: [1 3 4 5 6 7] Testing on subject: [2]\n",
      "Training on subjects: [1 2 3 4 5 6] Testing on subject: [7]\n",
      "Training on subjects: [1 2 3 4 5 7] Testing on subject: [6]\n",
      "Training on subjects: [1 2 3 4 6 7] Testing on subject: [5]\n"
     ]
    },
    {
     "name": "stderr",
     "output_type": "stream",
     "text": [
      "[I 2024-05-14 19:08:36,947] Trial 95 finished with value: 0.985633575464084 and parameters: {'n_estimators': 113, 'learning_rate': 0.036247104883102794, 'max_depth': 13, 'num_leaves': 24, 'min_child_samples': 37, 'subsample': 0.8486938411950613, 'subsample_freq': 0, 'colsample_bytree': 0.8248305628873892, 'reg_alpha': 0.5325113887953048, 'reg_lambda': 0.39803759093766317, 'max_bin': 245}. Best is trial 0 with value: 0.985633575464084.\n"
     ]
    },
    {
     "name": "stdout",
     "output_type": "stream",
     "text": [
      "Training on subjects: [1 2 3 5 6 7] Testing on subject: [4]\n",
      "Training on subjects: [1 2 4 5 6 7] Testing on subject: [3]\n",
      "Training on subjects: [2 3 4 5 6 7] Testing on subject: [1]\n",
      "Training on subjects: [1 3 4 5 6 7] Testing on subject: [2]\n",
      "Training on subjects: [1 2 3 4 5 6] Testing on subject: [7]\n",
      "Training on subjects: [1 2 3 4 5 7] Testing on subject: [6]\n",
      "Training on subjects: [1 2 3 4 6 7] Testing on subject: [5]\n",
      "Training on subjects: [1 2 3 5 6 7] Testing on subject: [4]\n",
      "Training on subjects: [1 2 4 5 6 7] Testing on subject: [3]\n"
     ]
    },
    {
     "name": "stderr",
     "output_type": "stream",
     "text": [
      "[I 2024-05-14 19:08:37,359] Trial 96 finished with value: 0.985633575464084 and parameters: {'n_estimators': 128, 'learning_rate': 0.0865886746789599, 'max_depth': 11, 'num_leaves': 28, 'min_child_samples': 42, 'subsample': 0.872080903089224, 'subsample_freq': 1, 'colsample_bytree': 0.9591582714933923, 'reg_alpha': 0.5638624028589687, 'reg_lambda': 0.33134110192584315, 'max_bin': 216}. Best is trial 0 with value: 0.985633575464084.\n"
     ]
    },
    {
     "name": "stdout",
     "output_type": "stream",
     "text": [
      "Training on subjects: [2 3 4 5 6 7] Testing on subject: [1]\n",
      "Training on subjects: [1 3 4 5 6 7] Testing on subject: [2]\n",
      "Training on subjects: [1 2 3 4 5 6] Testing on subject: [7]\n",
      "Training on subjects: [1 2 3 4 5 7] Testing on subject: [6]\n",
      "Training on subjects: [1 2 3 4 6 7] Testing on subject: [5]\n",
      "Training on subjects: [1 2 3 5 6 7] Testing on subject: [4]\n",
      "Training on subjects: [1 2 4 5 6 7] Testing on subject: [3]\n"
     ]
    },
    {
     "name": "stderr",
     "output_type": "stream",
     "text": [
      "[I 2024-05-14 19:08:37,805] Trial 97 finished with value: 0.985633575464084 and parameters: {'n_estimators': 174, 'learning_rate': 0.15462603740129788, 'max_depth': 7, 'num_leaves': 20, 'min_child_samples': 13, 'subsample': 0.822068759556713, 'subsample_freq': 0, 'colsample_bytree': 0.9808296722220559, 'reg_alpha': 0.7403990507855092, 'reg_lambda': 0.2947685134291357, 'max_bin': 212}. Best is trial 0 with value: 0.985633575464084.\n"
     ]
    },
    {
     "name": "stdout",
     "output_type": "stream",
     "text": [
      "Training on subjects: [2 3 4 5 6 7] Testing on subject: [1]\n",
      "Training on subjects: [1 3 4 5 6 7] Testing on subject: [2]\n",
      "Training on subjects: [1 2 3 4 5 6] Testing on subject: [7]\n",
      "Training on subjects: [1 2 3 4 5 7] Testing on subject: [6]\n",
      "Training on subjects: [1 2 3 4 6 7] Testing on subject: [5]\n",
      "Training on subjects: [1 2 3 5 6 7] Testing on subject: [4]\n",
      "Training on subjects: [1 2 4 5 6 7] Testing on subject: [3]\n",
      "Training on subjects: [2 3 4 5 6 7] Testing on subject: [1]\n"
     ]
    },
    {
     "name": "stderr",
     "output_type": "stream",
     "text": [
      "[I 2024-05-14 19:08:38,214] Trial 98 finished with value: 0.985633575464084 and parameters: {'n_estimators': 119, 'learning_rate': 0.12418348800822761, 'max_depth': 14, 'num_leaves': 25, 'min_child_samples': 21, 'subsample': 0.8154342282751132, 'subsample_freq': 3, 'colsample_bytree': 0.8503551675034106, 'reg_alpha': 0.6649709571056694, 'reg_lambda': 0.26106719604065387, 'max_bin': 220}. Best is trial 0 with value: 0.985633575464084.\n"
     ]
    },
    {
     "name": "stdout",
     "output_type": "stream",
     "text": [
      "Training on subjects: [1 3 4 5 6 7] Testing on subject: [2]\n",
      "Training on subjects: [1 2 3 4 5 6] Testing on subject: [7]\n",
      "Training on subjects: [1 2 3 4 5 7] Testing on subject: [6]\n",
      "Training on subjects: [1 2 3 4 6 7] Testing on subject: [5]\n",
      "Training on subjects: [1 2 3 5 6 7] Testing on subject: [4]\n",
      "Training on subjects: [1 2 4 5 6 7] Testing on subject: [3]\n",
      "Training on subjects: [2 3 4 5 6 7] Testing on subject: [1]\n"
     ]
    },
    {
     "name": "stderr",
     "output_type": "stream",
     "text": [
      "[I 2024-05-14 19:08:38,674] Trial 99 finished with value: 0.985633575464084 and parameters: {'n_estimators': 159, 'learning_rate': 0.10539881230011489, 'max_depth': 5, 'num_leaves': 36, 'min_child_samples': 34, 'subsample': 0.9183390232151429, 'subsample_freq': 2, 'colsample_bytree': 0.7585860961570453, 'reg_alpha': 0.5999448477485357, 'reg_lambda': 0.6342675913202305, 'max_bin': 208}. Best is trial 0 with value: 0.985633575464084.\n"
     ]
    },
    {
     "name": "stdout",
     "output_type": "stream",
     "text": [
      "Training on subjects: [1 3 4 5 6 7] Testing on subject: [2]\n",
      "Best trial:\n",
      " Accuracy:  0.985633575464084\n",
      " Params: \n",
      "    n_estimators: 175\n",
      "    learning_rate: 0.19019214697557332\n",
      "    max_depth: 13\n",
      "    num_leaves: 32\n",
      "    min_child_samples: 16\n",
      "    subsample: 0.8311989040672406\n",
      "    subsample_freq: 0\n",
      "    colsample_bytree: 0.9464704583099741\n",
      "    reg_alpha: 0.6011150117432088\n",
      "    reg_lambda: 0.7080725777960455\n",
      "    max_bin: 202\n",
      "Best Hyperparameters: {'n_estimators': 175, 'learning_rate': 0.19019214697557332, 'max_depth': 13, 'num_leaves': 32, 'min_child_samples': 16, 'subsample': 0.8311989040672406, 'subsample_freq': 0, 'colsample_bytree': 0.9464704583099741, 'reg_alpha': 0.6011150117432088, 'reg_lambda': 0.7080725777960455, 'max_bin': 202}\n",
      "Best Score for Top 50,000: 0.985633575464084\n"
     ]
    },
    {
     "data": {
      "application/vnd.plotly.v1+json": {
       "config": {
        "plotlyServerURL": "https://plot.ly"
       },
       "data": [
        {
         "mode": "markers",
         "name": "Objective Value",
         "type": "scatter",
         "x": [
          0,
          1,
          2,
          3,
          4,
          5,
          6,
          7,
          8,
          9,
          10,
          11,
          12,
          13,
          14,
          15,
          16,
          17,
          18,
          19,
          20,
          21,
          22,
          23,
          24,
          25,
          26,
          27,
          28,
          29,
          30,
          31,
          32,
          33,
          34,
          35,
          36,
          37,
          38,
          39,
          40,
          41,
          42,
          43,
          44,
          45,
          46,
          47,
          48,
          49,
          50,
          51,
          52,
          53,
          54,
          55,
          56,
          57,
          58,
          59,
          60,
          61,
          62,
          63,
          64,
          65,
          66,
          67,
          68,
          69,
          70,
          71,
          72,
          73,
          74,
          75,
          76,
          77,
          78,
          79,
          80,
          81,
          82,
          83,
          84,
          85,
          86,
          87,
          88,
          89,
          90,
          91,
          92,
          93,
          94,
          95,
          96,
          97,
          98,
          99
         ],
         "y": [
          0.985633575464084,
          0.985633575464084,
          0.985633575464084,
          0.985633575464084,
          0.985633575464084,
          0.985633575464084,
          0.985633575464084,
          0.985633575464084,
          0.985633575464084,
          0.985633575464084,
          0.985633575464084,
          0.985633575464084,
          0.985633575464084,
          0.985633575464084,
          0.985633575464084,
          0.985633575464084,
          0.985633575464084,
          0.985633575464084,
          0.985633575464084,
          0.985633575464084,
          0.985633575464084,
          0.985633575464084,
          0.985633575464084,
          0.985633575464084,
          0.985633575464084,
          0.985633575464084,
          0.985633575464084,
          0.985633575464084,
          0.985633575464084,
          0.985633575464084,
          0.985633575464084,
          0.985633575464084,
          0.985633575464084,
          0.985633575464084,
          0.985633575464084,
          0.985633575464084,
          0.985633575464084,
          0.985633575464084,
          0.985633575464084,
          0.985633575464084,
          0.985633575464084,
          0.985633575464084,
          0.985633575464084,
          0.985633575464084,
          0.985633575464084,
          0.985633575464084,
          0.985633575464084,
          0.985633575464084,
          0.985633575464084,
          0.985633575464084,
          0.985633575464084,
          0.985633575464084,
          0.985633575464084,
          0.985633575464084,
          0.985633575464084,
          0.985633575464084,
          0.985633575464084,
          0.985633575464084,
          0.985633575464084,
          0.985633575464084,
          0.985633575464084,
          0.985633575464084,
          0.985633575464084,
          0.985633575464084,
          0.985633575464084,
          0.985633575464084,
          0.985633575464084,
          0.985633575464084,
          0.985633575464084,
          0.985633575464084,
          0.985633575464084,
          0.985633575464084,
          0.985633575464084,
          0.985633575464084,
          0.985633575464084,
          0.985633575464084,
          0.985633575464084,
          0.985633575464084,
          0.985633575464084,
          0.985633575464084,
          0.985633575464084,
          0.985633575464084,
          0.985633575464084,
          0.985633575464084,
          0.985633575464084,
          0.985633575464084,
          0.985633575464084,
          0.985633575464084,
          0.985633575464084,
          0.985633575464084,
          0.985633575464084,
          0.985633575464084,
          0.985633575464084,
          0.985633575464084,
          0.985633575464084,
          0.985633575464084,
          0.985633575464084,
          0.985633575464084,
          0.985633575464084,
          0.985633575464084
         ]
        },
        {
         "mode": "lines",
         "name": "Best Value",
         "type": "scatter",
         "x": [
          0,
          1,
          2,
          3,
          4,
          5,
          6,
          7,
          8,
          9,
          10,
          11,
          12,
          13,
          14,
          15,
          16,
          17,
          18,
          19,
          20,
          21,
          22,
          23,
          24,
          25,
          26,
          27,
          28,
          29,
          30,
          31,
          32,
          33,
          34,
          35,
          36,
          37,
          38,
          39,
          40,
          41,
          42,
          43,
          44,
          45,
          46,
          47,
          48,
          49,
          50,
          51,
          52,
          53,
          54,
          55,
          56,
          57,
          58,
          59,
          60,
          61,
          62,
          63,
          64,
          65,
          66,
          67,
          68,
          69,
          70,
          71,
          72,
          73,
          74,
          75,
          76,
          77,
          78,
          79,
          80,
          81,
          82,
          83,
          84,
          85,
          86,
          87,
          88,
          89,
          90,
          91,
          92,
          93,
          94,
          95,
          96,
          97,
          98,
          99
         ],
         "y": [
          0.985633575464084,
          0.985633575464084,
          0.985633575464084,
          0.985633575464084,
          0.985633575464084,
          0.985633575464084,
          0.985633575464084,
          0.985633575464084,
          0.985633575464084,
          0.985633575464084,
          0.985633575464084,
          0.985633575464084,
          0.985633575464084,
          0.985633575464084,
          0.985633575464084,
          0.985633575464084,
          0.985633575464084,
          0.985633575464084,
          0.985633575464084,
          0.985633575464084,
          0.985633575464084,
          0.985633575464084,
          0.985633575464084,
          0.985633575464084,
          0.985633575464084,
          0.985633575464084,
          0.985633575464084,
          0.985633575464084,
          0.985633575464084,
          0.985633575464084,
          0.985633575464084,
          0.985633575464084,
          0.985633575464084,
          0.985633575464084,
          0.985633575464084,
          0.985633575464084,
          0.985633575464084,
          0.985633575464084,
          0.985633575464084,
          0.985633575464084,
          0.985633575464084,
          0.985633575464084,
          0.985633575464084,
          0.985633575464084,
          0.985633575464084,
          0.985633575464084,
          0.985633575464084,
          0.985633575464084,
          0.985633575464084,
          0.985633575464084,
          0.985633575464084,
          0.985633575464084,
          0.985633575464084,
          0.985633575464084,
          0.985633575464084,
          0.985633575464084,
          0.985633575464084,
          0.985633575464084,
          0.985633575464084,
          0.985633575464084,
          0.985633575464084,
          0.985633575464084,
          0.985633575464084,
          0.985633575464084,
          0.985633575464084,
          0.985633575464084,
          0.985633575464084,
          0.985633575464084,
          0.985633575464084,
          0.985633575464084,
          0.985633575464084,
          0.985633575464084,
          0.985633575464084,
          0.985633575464084,
          0.985633575464084,
          0.985633575464084,
          0.985633575464084,
          0.985633575464084,
          0.985633575464084,
          0.985633575464084,
          0.985633575464084,
          0.985633575464084,
          0.985633575464084,
          0.985633575464084,
          0.985633575464084,
          0.985633575464084,
          0.985633575464084,
          0.985633575464084,
          0.985633575464084,
          0.985633575464084,
          0.985633575464084,
          0.985633575464084,
          0.985633575464084,
          0.985633575464084,
          0.985633575464084,
          0.985633575464084,
          0.985633575464084,
          0.985633575464084,
          0.985633575464084,
          0.985633575464084
         ]
        },
        {
         "marker": {
          "color": "#cccccc"
         },
         "mode": "markers",
         "name": "Infeasible Trial",
         "showlegend": false,
         "type": "scatter",
         "x": [],
         "y": []
        }
       ],
       "layout": {
        "template": {
         "data": {
          "bar": [
           {
            "error_x": {
             "color": "#2a3f5f"
            },
            "error_y": {
             "color": "#2a3f5f"
            },
            "marker": {
             "line": {
              "color": "#E5ECF6",
              "width": 0.5
             },
             "pattern": {
              "fillmode": "overlay",
              "size": 10,
              "solidity": 0.2
             }
            },
            "type": "bar"
           }
          ],
          "barpolar": [
           {
            "marker": {
             "line": {
              "color": "#E5ECF6",
              "width": 0.5
             },
             "pattern": {
              "fillmode": "overlay",
              "size": 10,
              "solidity": 0.2
             }
            },
            "type": "barpolar"
           }
          ],
          "carpet": [
           {
            "aaxis": {
             "endlinecolor": "#2a3f5f",
             "gridcolor": "white",
             "linecolor": "white",
             "minorgridcolor": "white",
             "startlinecolor": "#2a3f5f"
            },
            "baxis": {
             "endlinecolor": "#2a3f5f",
             "gridcolor": "white",
             "linecolor": "white",
             "minorgridcolor": "white",
             "startlinecolor": "#2a3f5f"
            },
            "type": "carpet"
           }
          ],
          "choropleth": [
           {
            "colorbar": {
             "outlinewidth": 0,
             "ticks": ""
            },
            "type": "choropleth"
           }
          ],
          "contour": [
           {
            "colorbar": {
             "outlinewidth": 0,
             "ticks": ""
            },
            "colorscale": [
             [
              0,
              "#0d0887"
             ],
             [
              0.1111111111111111,
              "#46039f"
             ],
             [
              0.2222222222222222,
              "#7201a8"
             ],
             [
              0.3333333333333333,
              "#9c179e"
             ],
             [
              0.4444444444444444,
              "#bd3786"
             ],
             [
              0.5555555555555556,
              "#d8576b"
             ],
             [
              0.6666666666666666,
              "#ed7953"
             ],
             [
              0.7777777777777778,
              "#fb9f3a"
             ],
             [
              0.8888888888888888,
              "#fdca26"
             ],
             [
              1,
              "#f0f921"
             ]
            ],
            "type": "contour"
           }
          ],
          "contourcarpet": [
           {
            "colorbar": {
             "outlinewidth": 0,
             "ticks": ""
            },
            "type": "contourcarpet"
           }
          ],
          "heatmap": [
           {
            "colorbar": {
             "outlinewidth": 0,
             "ticks": ""
            },
            "colorscale": [
             [
              0,
              "#0d0887"
             ],
             [
              0.1111111111111111,
              "#46039f"
             ],
             [
              0.2222222222222222,
              "#7201a8"
             ],
             [
              0.3333333333333333,
              "#9c179e"
             ],
             [
              0.4444444444444444,
              "#bd3786"
             ],
             [
              0.5555555555555556,
              "#d8576b"
             ],
             [
              0.6666666666666666,
              "#ed7953"
             ],
             [
              0.7777777777777778,
              "#fb9f3a"
             ],
             [
              0.8888888888888888,
              "#fdca26"
             ],
             [
              1,
              "#f0f921"
             ]
            ],
            "type": "heatmap"
           }
          ],
          "heatmapgl": [
           {
            "colorbar": {
             "outlinewidth": 0,
             "ticks": ""
            },
            "colorscale": [
             [
              0,
              "#0d0887"
             ],
             [
              0.1111111111111111,
              "#46039f"
             ],
             [
              0.2222222222222222,
              "#7201a8"
             ],
             [
              0.3333333333333333,
              "#9c179e"
             ],
             [
              0.4444444444444444,
              "#bd3786"
             ],
             [
              0.5555555555555556,
              "#d8576b"
             ],
             [
              0.6666666666666666,
              "#ed7953"
             ],
             [
              0.7777777777777778,
              "#fb9f3a"
             ],
             [
              0.8888888888888888,
              "#fdca26"
             ],
             [
              1,
              "#f0f921"
             ]
            ],
            "type": "heatmapgl"
           }
          ],
          "histogram": [
           {
            "marker": {
             "pattern": {
              "fillmode": "overlay",
              "size": 10,
              "solidity": 0.2
             }
            },
            "type": "histogram"
           }
          ],
          "histogram2d": [
           {
            "colorbar": {
             "outlinewidth": 0,
             "ticks": ""
            },
            "colorscale": [
             [
              0,
              "#0d0887"
             ],
             [
              0.1111111111111111,
              "#46039f"
             ],
             [
              0.2222222222222222,
              "#7201a8"
             ],
             [
              0.3333333333333333,
              "#9c179e"
             ],
             [
              0.4444444444444444,
              "#bd3786"
             ],
             [
              0.5555555555555556,
              "#d8576b"
             ],
             [
              0.6666666666666666,
              "#ed7953"
             ],
             [
              0.7777777777777778,
              "#fb9f3a"
             ],
             [
              0.8888888888888888,
              "#fdca26"
             ],
             [
              1,
              "#f0f921"
             ]
            ],
            "type": "histogram2d"
           }
          ],
          "histogram2dcontour": [
           {
            "colorbar": {
             "outlinewidth": 0,
             "ticks": ""
            },
            "colorscale": [
             [
              0,
              "#0d0887"
             ],
             [
              0.1111111111111111,
              "#46039f"
             ],
             [
              0.2222222222222222,
              "#7201a8"
             ],
             [
              0.3333333333333333,
              "#9c179e"
             ],
             [
              0.4444444444444444,
              "#bd3786"
             ],
             [
              0.5555555555555556,
              "#d8576b"
             ],
             [
              0.6666666666666666,
              "#ed7953"
             ],
             [
              0.7777777777777778,
              "#fb9f3a"
             ],
             [
              0.8888888888888888,
              "#fdca26"
             ],
             [
              1,
              "#f0f921"
             ]
            ],
            "type": "histogram2dcontour"
           }
          ],
          "mesh3d": [
           {
            "colorbar": {
             "outlinewidth": 0,
             "ticks": ""
            },
            "type": "mesh3d"
           }
          ],
          "parcoords": [
           {
            "line": {
             "colorbar": {
              "outlinewidth": 0,
              "ticks": ""
             }
            },
            "type": "parcoords"
           }
          ],
          "pie": [
           {
            "automargin": true,
            "type": "pie"
           }
          ],
          "scatter": [
           {
            "fillpattern": {
             "fillmode": "overlay",
             "size": 10,
             "solidity": 0.2
            },
            "type": "scatter"
           }
          ],
          "scatter3d": [
           {
            "line": {
             "colorbar": {
              "outlinewidth": 0,
              "ticks": ""
             }
            },
            "marker": {
             "colorbar": {
              "outlinewidth": 0,
              "ticks": ""
             }
            },
            "type": "scatter3d"
           }
          ],
          "scattercarpet": [
           {
            "marker": {
             "colorbar": {
              "outlinewidth": 0,
              "ticks": ""
             }
            },
            "type": "scattercarpet"
           }
          ],
          "scattergeo": [
           {
            "marker": {
             "colorbar": {
              "outlinewidth": 0,
              "ticks": ""
             }
            },
            "type": "scattergeo"
           }
          ],
          "scattergl": [
           {
            "marker": {
             "colorbar": {
              "outlinewidth": 0,
              "ticks": ""
             }
            },
            "type": "scattergl"
           }
          ],
          "scattermapbox": [
           {
            "marker": {
             "colorbar": {
              "outlinewidth": 0,
              "ticks": ""
             }
            },
            "type": "scattermapbox"
           }
          ],
          "scatterpolar": [
           {
            "marker": {
             "colorbar": {
              "outlinewidth": 0,
              "ticks": ""
             }
            },
            "type": "scatterpolar"
           }
          ],
          "scatterpolargl": [
           {
            "marker": {
             "colorbar": {
              "outlinewidth": 0,
              "ticks": ""
             }
            },
            "type": "scatterpolargl"
           }
          ],
          "scatterternary": [
           {
            "marker": {
             "colorbar": {
              "outlinewidth": 0,
              "ticks": ""
             }
            },
            "type": "scatterternary"
           }
          ],
          "surface": [
           {
            "colorbar": {
             "outlinewidth": 0,
             "ticks": ""
            },
            "colorscale": [
             [
              0,
              "#0d0887"
             ],
             [
              0.1111111111111111,
              "#46039f"
             ],
             [
              0.2222222222222222,
              "#7201a8"
             ],
             [
              0.3333333333333333,
              "#9c179e"
             ],
             [
              0.4444444444444444,
              "#bd3786"
             ],
             [
              0.5555555555555556,
              "#d8576b"
             ],
             [
              0.6666666666666666,
              "#ed7953"
             ],
             [
              0.7777777777777778,
              "#fb9f3a"
             ],
             [
              0.8888888888888888,
              "#fdca26"
             ],
             [
              1,
              "#f0f921"
             ]
            ],
            "type": "surface"
           }
          ],
          "table": [
           {
            "cells": {
             "fill": {
              "color": "#EBF0F8"
             },
             "line": {
              "color": "white"
             }
            },
            "header": {
             "fill": {
              "color": "#C8D4E3"
             },
             "line": {
              "color": "white"
             }
            },
            "type": "table"
           }
          ]
         },
         "layout": {
          "annotationdefaults": {
           "arrowcolor": "#2a3f5f",
           "arrowhead": 0,
           "arrowwidth": 1
          },
          "autotypenumbers": "strict",
          "coloraxis": {
           "colorbar": {
            "outlinewidth": 0,
            "ticks": ""
           }
          },
          "colorscale": {
           "diverging": [
            [
             0,
             "#8e0152"
            ],
            [
             0.1,
             "#c51b7d"
            ],
            [
             0.2,
             "#de77ae"
            ],
            [
             0.3,
             "#f1b6da"
            ],
            [
             0.4,
             "#fde0ef"
            ],
            [
             0.5,
             "#f7f7f7"
            ],
            [
             0.6,
             "#e6f5d0"
            ],
            [
             0.7,
             "#b8e186"
            ],
            [
             0.8,
             "#7fbc41"
            ],
            [
             0.9,
             "#4d9221"
            ],
            [
             1,
             "#276419"
            ]
           ],
           "sequential": [
            [
             0,
             "#0d0887"
            ],
            [
             0.1111111111111111,
             "#46039f"
            ],
            [
             0.2222222222222222,
             "#7201a8"
            ],
            [
             0.3333333333333333,
             "#9c179e"
            ],
            [
             0.4444444444444444,
             "#bd3786"
            ],
            [
             0.5555555555555556,
             "#d8576b"
            ],
            [
             0.6666666666666666,
             "#ed7953"
            ],
            [
             0.7777777777777778,
             "#fb9f3a"
            ],
            [
             0.8888888888888888,
             "#fdca26"
            ],
            [
             1,
             "#f0f921"
            ]
           ],
           "sequentialminus": [
            [
             0,
             "#0d0887"
            ],
            [
             0.1111111111111111,
             "#46039f"
            ],
            [
             0.2222222222222222,
             "#7201a8"
            ],
            [
             0.3333333333333333,
             "#9c179e"
            ],
            [
             0.4444444444444444,
             "#bd3786"
            ],
            [
             0.5555555555555556,
             "#d8576b"
            ],
            [
             0.6666666666666666,
             "#ed7953"
            ],
            [
             0.7777777777777778,
             "#fb9f3a"
            ],
            [
             0.8888888888888888,
             "#fdca26"
            ],
            [
             1,
             "#f0f921"
            ]
           ]
          },
          "colorway": [
           "#636efa",
           "#EF553B",
           "#00cc96",
           "#ab63fa",
           "#FFA15A",
           "#19d3f3",
           "#FF6692",
           "#B6E880",
           "#FF97FF",
           "#FECB52"
          ],
          "font": {
           "color": "#2a3f5f"
          },
          "geo": {
           "bgcolor": "white",
           "lakecolor": "white",
           "landcolor": "#E5ECF6",
           "showlakes": true,
           "showland": true,
           "subunitcolor": "white"
          },
          "hoverlabel": {
           "align": "left"
          },
          "hovermode": "closest",
          "mapbox": {
           "style": "light"
          },
          "paper_bgcolor": "white",
          "plot_bgcolor": "#E5ECF6",
          "polar": {
           "angularaxis": {
            "gridcolor": "white",
            "linecolor": "white",
            "ticks": ""
           },
           "bgcolor": "#E5ECF6",
           "radialaxis": {
            "gridcolor": "white",
            "linecolor": "white",
            "ticks": ""
           }
          },
          "scene": {
           "xaxis": {
            "backgroundcolor": "#E5ECF6",
            "gridcolor": "white",
            "gridwidth": 2,
            "linecolor": "white",
            "showbackground": true,
            "ticks": "",
            "zerolinecolor": "white"
           },
           "yaxis": {
            "backgroundcolor": "#E5ECF6",
            "gridcolor": "white",
            "gridwidth": 2,
            "linecolor": "white",
            "showbackground": true,
            "ticks": "",
            "zerolinecolor": "white"
           },
           "zaxis": {
            "backgroundcolor": "#E5ECF6",
            "gridcolor": "white",
            "gridwidth": 2,
            "linecolor": "white",
            "showbackground": true,
            "ticks": "",
            "zerolinecolor": "white"
           }
          },
          "shapedefaults": {
           "line": {
            "color": "#2a3f5f"
           }
          },
          "ternary": {
           "aaxis": {
            "gridcolor": "white",
            "linecolor": "white",
            "ticks": ""
           },
           "baxis": {
            "gridcolor": "white",
            "linecolor": "white",
            "ticks": ""
           },
           "bgcolor": "#E5ECF6",
           "caxis": {
            "gridcolor": "white",
            "linecolor": "white",
            "ticks": ""
           }
          },
          "title": {
           "x": 0.05
          },
          "xaxis": {
           "automargin": true,
           "gridcolor": "white",
           "linecolor": "white",
           "ticks": "",
           "title": {
            "standoff": 15
           },
           "zerolinecolor": "white",
           "zerolinewidth": 2
          },
          "yaxis": {
           "automargin": true,
           "gridcolor": "white",
           "linecolor": "white",
           "ticks": "",
           "title": {
            "standoff": 15
           },
           "zerolinecolor": "white",
           "zerolinewidth": 2
          }
         }
        },
        "title": {
         "text": "Optimization History Plot"
        },
        "xaxis": {
         "title": {
          "text": "Trial"
         }
        },
        "yaxis": {
         "title": {
          "text": "Objective Value"
         }
        }
       }
      }
     },
     "metadata": {},
     "output_type": "display_data"
    },
    {
     "data": {
      "application/vnd.plotly.v1+json": {
       "config": {
        "plotlyServerURL": "https://plot.ly"
       },
       "data": [
        {
         "cliponaxis": false,
         "hovertemplate": [
          "max_depth (IntDistribution): 0.021269718868066518<extra></extra>",
          "reg_lambda (FloatDistribution): 0.04457590966033934<extra></extra>",
          "reg_alpha (FloatDistribution): 0.0469834597481505<extra></extra>",
          "min_child_samples (IntDistribution): 0.052167200830467254<extra></extra>",
          "subsample_freq (IntDistribution): 0.061333036134134246<extra></extra>",
          "num_leaves (IntDistribution): 0.06921883891493519<extra></extra>",
          "max_bin (IntDistribution): 0.0862467917600942<extra></extra>",
          "n_estimators (IntDistribution): 0.08914905399209322<extra></extra>",
          "subsample (FloatDistribution): 0.1314139202773407<extra></extra>",
          "colsample_bytree (FloatDistribution): 0.16574147403734144<extra></extra>",
          "learning_rate (FloatDistribution): 0.23190059577703753<extra></extra>"
         ],
         "name": "Objective Value",
         "orientation": "h",
         "text": [
          "0.02",
          "0.04",
          "0.05",
          "0.05",
          "0.06",
          "0.07",
          "0.09",
          "0.09",
          "0.13",
          "0.17",
          "0.23"
         ],
         "textposition": "outside",
         "type": "bar",
         "x": [
          0.021269718868066518,
          0.04457590966033934,
          0.0469834597481505,
          0.052167200830467254,
          0.061333036134134246,
          0.06921883891493519,
          0.0862467917600942,
          0.08914905399209322,
          0.1314139202773407,
          0.16574147403734144,
          0.23190059577703753
         ],
         "y": [
          "max_depth",
          "reg_lambda",
          "reg_alpha",
          "min_child_samples",
          "subsample_freq",
          "num_leaves",
          "max_bin",
          "n_estimators",
          "subsample",
          "colsample_bytree",
          "learning_rate"
         ]
        }
       ],
       "layout": {
        "template": {
         "data": {
          "bar": [
           {
            "error_x": {
             "color": "#2a3f5f"
            },
            "error_y": {
             "color": "#2a3f5f"
            },
            "marker": {
             "line": {
              "color": "#E5ECF6",
              "width": 0.5
             },
             "pattern": {
              "fillmode": "overlay",
              "size": 10,
              "solidity": 0.2
             }
            },
            "type": "bar"
           }
          ],
          "barpolar": [
           {
            "marker": {
             "line": {
              "color": "#E5ECF6",
              "width": 0.5
             },
             "pattern": {
              "fillmode": "overlay",
              "size": 10,
              "solidity": 0.2
             }
            },
            "type": "barpolar"
           }
          ],
          "carpet": [
           {
            "aaxis": {
             "endlinecolor": "#2a3f5f",
             "gridcolor": "white",
             "linecolor": "white",
             "minorgridcolor": "white",
             "startlinecolor": "#2a3f5f"
            },
            "baxis": {
             "endlinecolor": "#2a3f5f",
             "gridcolor": "white",
             "linecolor": "white",
             "minorgridcolor": "white",
             "startlinecolor": "#2a3f5f"
            },
            "type": "carpet"
           }
          ],
          "choropleth": [
           {
            "colorbar": {
             "outlinewidth": 0,
             "ticks": ""
            },
            "type": "choropleth"
           }
          ],
          "contour": [
           {
            "colorbar": {
             "outlinewidth": 0,
             "ticks": ""
            },
            "colorscale": [
             [
              0,
              "#0d0887"
             ],
             [
              0.1111111111111111,
              "#46039f"
             ],
             [
              0.2222222222222222,
              "#7201a8"
             ],
             [
              0.3333333333333333,
              "#9c179e"
             ],
             [
              0.4444444444444444,
              "#bd3786"
             ],
             [
              0.5555555555555556,
              "#d8576b"
             ],
             [
              0.6666666666666666,
              "#ed7953"
             ],
             [
              0.7777777777777778,
              "#fb9f3a"
             ],
             [
              0.8888888888888888,
              "#fdca26"
             ],
             [
              1,
              "#f0f921"
             ]
            ],
            "type": "contour"
           }
          ],
          "contourcarpet": [
           {
            "colorbar": {
             "outlinewidth": 0,
             "ticks": ""
            },
            "type": "contourcarpet"
           }
          ],
          "heatmap": [
           {
            "colorbar": {
             "outlinewidth": 0,
             "ticks": ""
            },
            "colorscale": [
             [
              0,
              "#0d0887"
             ],
             [
              0.1111111111111111,
              "#46039f"
             ],
             [
              0.2222222222222222,
              "#7201a8"
             ],
             [
              0.3333333333333333,
              "#9c179e"
             ],
             [
              0.4444444444444444,
              "#bd3786"
             ],
             [
              0.5555555555555556,
              "#d8576b"
             ],
             [
              0.6666666666666666,
              "#ed7953"
             ],
             [
              0.7777777777777778,
              "#fb9f3a"
             ],
             [
              0.8888888888888888,
              "#fdca26"
             ],
             [
              1,
              "#f0f921"
             ]
            ],
            "type": "heatmap"
           }
          ],
          "heatmapgl": [
           {
            "colorbar": {
             "outlinewidth": 0,
             "ticks": ""
            },
            "colorscale": [
             [
              0,
              "#0d0887"
             ],
             [
              0.1111111111111111,
              "#46039f"
             ],
             [
              0.2222222222222222,
              "#7201a8"
             ],
             [
              0.3333333333333333,
              "#9c179e"
             ],
             [
              0.4444444444444444,
              "#bd3786"
             ],
             [
              0.5555555555555556,
              "#d8576b"
             ],
             [
              0.6666666666666666,
              "#ed7953"
             ],
             [
              0.7777777777777778,
              "#fb9f3a"
             ],
             [
              0.8888888888888888,
              "#fdca26"
             ],
             [
              1,
              "#f0f921"
             ]
            ],
            "type": "heatmapgl"
           }
          ],
          "histogram": [
           {
            "marker": {
             "pattern": {
              "fillmode": "overlay",
              "size": 10,
              "solidity": 0.2
             }
            },
            "type": "histogram"
           }
          ],
          "histogram2d": [
           {
            "colorbar": {
             "outlinewidth": 0,
             "ticks": ""
            },
            "colorscale": [
             [
              0,
              "#0d0887"
             ],
             [
              0.1111111111111111,
              "#46039f"
             ],
             [
              0.2222222222222222,
              "#7201a8"
             ],
             [
              0.3333333333333333,
              "#9c179e"
             ],
             [
              0.4444444444444444,
              "#bd3786"
             ],
             [
              0.5555555555555556,
              "#d8576b"
             ],
             [
              0.6666666666666666,
              "#ed7953"
             ],
             [
              0.7777777777777778,
              "#fb9f3a"
             ],
             [
              0.8888888888888888,
              "#fdca26"
             ],
             [
              1,
              "#f0f921"
             ]
            ],
            "type": "histogram2d"
           }
          ],
          "histogram2dcontour": [
           {
            "colorbar": {
             "outlinewidth": 0,
             "ticks": ""
            },
            "colorscale": [
             [
              0,
              "#0d0887"
             ],
             [
              0.1111111111111111,
              "#46039f"
             ],
             [
              0.2222222222222222,
              "#7201a8"
             ],
             [
              0.3333333333333333,
              "#9c179e"
             ],
             [
              0.4444444444444444,
              "#bd3786"
             ],
             [
              0.5555555555555556,
              "#d8576b"
             ],
             [
              0.6666666666666666,
              "#ed7953"
             ],
             [
              0.7777777777777778,
              "#fb9f3a"
             ],
             [
              0.8888888888888888,
              "#fdca26"
             ],
             [
              1,
              "#f0f921"
             ]
            ],
            "type": "histogram2dcontour"
           }
          ],
          "mesh3d": [
           {
            "colorbar": {
             "outlinewidth": 0,
             "ticks": ""
            },
            "type": "mesh3d"
           }
          ],
          "parcoords": [
           {
            "line": {
             "colorbar": {
              "outlinewidth": 0,
              "ticks": ""
             }
            },
            "type": "parcoords"
           }
          ],
          "pie": [
           {
            "automargin": true,
            "type": "pie"
           }
          ],
          "scatter": [
           {
            "fillpattern": {
             "fillmode": "overlay",
             "size": 10,
             "solidity": 0.2
            },
            "type": "scatter"
           }
          ],
          "scatter3d": [
           {
            "line": {
             "colorbar": {
              "outlinewidth": 0,
              "ticks": ""
             }
            },
            "marker": {
             "colorbar": {
              "outlinewidth": 0,
              "ticks": ""
             }
            },
            "type": "scatter3d"
           }
          ],
          "scattercarpet": [
           {
            "marker": {
             "colorbar": {
              "outlinewidth": 0,
              "ticks": ""
             }
            },
            "type": "scattercarpet"
           }
          ],
          "scattergeo": [
           {
            "marker": {
             "colorbar": {
              "outlinewidth": 0,
              "ticks": ""
             }
            },
            "type": "scattergeo"
           }
          ],
          "scattergl": [
           {
            "marker": {
             "colorbar": {
              "outlinewidth": 0,
              "ticks": ""
             }
            },
            "type": "scattergl"
           }
          ],
          "scattermapbox": [
           {
            "marker": {
             "colorbar": {
              "outlinewidth": 0,
              "ticks": ""
             }
            },
            "type": "scattermapbox"
           }
          ],
          "scatterpolar": [
           {
            "marker": {
             "colorbar": {
              "outlinewidth": 0,
              "ticks": ""
             }
            },
            "type": "scatterpolar"
           }
          ],
          "scatterpolargl": [
           {
            "marker": {
             "colorbar": {
              "outlinewidth": 0,
              "ticks": ""
             }
            },
            "type": "scatterpolargl"
           }
          ],
          "scatterternary": [
           {
            "marker": {
             "colorbar": {
              "outlinewidth": 0,
              "ticks": ""
             }
            },
            "type": "scatterternary"
           }
          ],
          "surface": [
           {
            "colorbar": {
             "outlinewidth": 0,
             "ticks": ""
            },
            "colorscale": [
             [
              0,
              "#0d0887"
             ],
             [
              0.1111111111111111,
              "#46039f"
             ],
             [
              0.2222222222222222,
              "#7201a8"
             ],
             [
              0.3333333333333333,
              "#9c179e"
             ],
             [
              0.4444444444444444,
              "#bd3786"
             ],
             [
              0.5555555555555556,
              "#d8576b"
             ],
             [
              0.6666666666666666,
              "#ed7953"
             ],
             [
              0.7777777777777778,
              "#fb9f3a"
             ],
             [
              0.8888888888888888,
              "#fdca26"
             ],
             [
              1,
              "#f0f921"
             ]
            ],
            "type": "surface"
           }
          ],
          "table": [
           {
            "cells": {
             "fill": {
              "color": "#EBF0F8"
             },
             "line": {
              "color": "white"
             }
            },
            "header": {
             "fill": {
              "color": "#C8D4E3"
             },
             "line": {
              "color": "white"
             }
            },
            "type": "table"
           }
          ]
         },
         "layout": {
          "annotationdefaults": {
           "arrowcolor": "#2a3f5f",
           "arrowhead": 0,
           "arrowwidth": 1
          },
          "autotypenumbers": "strict",
          "coloraxis": {
           "colorbar": {
            "outlinewidth": 0,
            "ticks": ""
           }
          },
          "colorscale": {
           "diverging": [
            [
             0,
             "#8e0152"
            ],
            [
             0.1,
             "#c51b7d"
            ],
            [
             0.2,
             "#de77ae"
            ],
            [
             0.3,
             "#f1b6da"
            ],
            [
             0.4,
             "#fde0ef"
            ],
            [
             0.5,
             "#f7f7f7"
            ],
            [
             0.6,
             "#e6f5d0"
            ],
            [
             0.7,
             "#b8e186"
            ],
            [
             0.8,
             "#7fbc41"
            ],
            [
             0.9,
             "#4d9221"
            ],
            [
             1,
             "#276419"
            ]
           ],
           "sequential": [
            [
             0,
             "#0d0887"
            ],
            [
             0.1111111111111111,
             "#46039f"
            ],
            [
             0.2222222222222222,
             "#7201a8"
            ],
            [
             0.3333333333333333,
             "#9c179e"
            ],
            [
             0.4444444444444444,
             "#bd3786"
            ],
            [
             0.5555555555555556,
             "#d8576b"
            ],
            [
             0.6666666666666666,
             "#ed7953"
            ],
            [
             0.7777777777777778,
             "#fb9f3a"
            ],
            [
             0.8888888888888888,
             "#fdca26"
            ],
            [
             1,
             "#f0f921"
            ]
           ],
           "sequentialminus": [
            [
             0,
             "#0d0887"
            ],
            [
             0.1111111111111111,
             "#46039f"
            ],
            [
             0.2222222222222222,
             "#7201a8"
            ],
            [
             0.3333333333333333,
             "#9c179e"
            ],
            [
             0.4444444444444444,
             "#bd3786"
            ],
            [
             0.5555555555555556,
             "#d8576b"
            ],
            [
             0.6666666666666666,
             "#ed7953"
            ],
            [
             0.7777777777777778,
             "#fb9f3a"
            ],
            [
             0.8888888888888888,
             "#fdca26"
            ],
            [
             1,
             "#f0f921"
            ]
           ]
          },
          "colorway": [
           "#636efa",
           "#EF553B",
           "#00cc96",
           "#ab63fa",
           "#FFA15A",
           "#19d3f3",
           "#FF6692",
           "#B6E880",
           "#FF97FF",
           "#FECB52"
          ],
          "font": {
           "color": "#2a3f5f"
          },
          "geo": {
           "bgcolor": "white",
           "lakecolor": "white",
           "landcolor": "#E5ECF6",
           "showlakes": true,
           "showland": true,
           "subunitcolor": "white"
          },
          "hoverlabel": {
           "align": "left"
          },
          "hovermode": "closest",
          "mapbox": {
           "style": "light"
          },
          "paper_bgcolor": "white",
          "plot_bgcolor": "#E5ECF6",
          "polar": {
           "angularaxis": {
            "gridcolor": "white",
            "linecolor": "white",
            "ticks": ""
           },
           "bgcolor": "#E5ECF6",
           "radialaxis": {
            "gridcolor": "white",
            "linecolor": "white",
            "ticks": ""
           }
          },
          "scene": {
           "xaxis": {
            "backgroundcolor": "#E5ECF6",
            "gridcolor": "white",
            "gridwidth": 2,
            "linecolor": "white",
            "showbackground": true,
            "ticks": "",
            "zerolinecolor": "white"
           },
           "yaxis": {
            "backgroundcolor": "#E5ECF6",
            "gridcolor": "white",
            "gridwidth": 2,
            "linecolor": "white",
            "showbackground": true,
            "ticks": "",
            "zerolinecolor": "white"
           },
           "zaxis": {
            "backgroundcolor": "#E5ECF6",
            "gridcolor": "white",
            "gridwidth": 2,
            "linecolor": "white",
            "showbackground": true,
            "ticks": "",
            "zerolinecolor": "white"
           }
          },
          "shapedefaults": {
           "line": {
            "color": "#2a3f5f"
           }
          },
          "ternary": {
           "aaxis": {
            "gridcolor": "white",
            "linecolor": "white",
            "ticks": ""
           },
           "baxis": {
            "gridcolor": "white",
            "linecolor": "white",
            "ticks": ""
           },
           "bgcolor": "#E5ECF6",
           "caxis": {
            "gridcolor": "white",
            "linecolor": "white",
            "ticks": ""
           }
          },
          "title": {
           "x": 0.05
          },
          "xaxis": {
           "automargin": true,
           "gridcolor": "white",
           "linecolor": "white",
           "ticks": "",
           "title": {
            "standoff": 15
           },
           "zerolinecolor": "white",
           "zerolinewidth": 2
          },
          "yaxis": {
           "automargin": true,
           "gridcolor": "white",
           "linecolor": "white",
           "ticks": "",
           "title": {
            "standoff": 15
           },
           "zerolinecolor": "white",
           "zerolinewidth": 2
          }
         }
        },
        "title": {
         "text": "Hyperparameter Importances"
        },
        "xaxis": {
         "title": {
          "text": "Hyperparameter Importance"
         }
        },
        "yaxis": {
         "title": {
          "text": "Hyperparameter"
         }
        }
       }
      }
     },
     "metadata": {},
     "output_type": "display_data"
    },
    {
     "data": {
      "application/vnd.plotly.v1+json": {
       "config": {
        "plotlyServerURL": "https://plot.ly"
       },
       "data": [
        {
         "marker": {
          "color": [
           0,
           1,
           2,
           3,
           4,
           5,
           6,
           7,
           8,
           9,
           10,
           11,
           12,
           13,
           14,
           15,
           16,
           17,
           18,
           19,
           20,
           21,
           22,
           23,
           24,
           25,
           26,
           27,
           28,
           29,
           30,
           31,
           32,
           33,
           34,
           35,
           36,
           37,
           38,
           39,
           40,
           41,
           42,
           43,
           44,
           45,
           46,
           47,
           48,
           49,
           50,
           51,
           52,
           53,
           54,
           55,
           56,
           57,
           58,
           59,
           60,
           61,
           62,
           63,
           64,
           65,
           66,
           67,
           68,
           69,
           70,
           71,
           72,
           73,
           74,
           75,
           76,
           77,
           78,
           79,
           80,
           81,
           82,
           83,
           84,
           85,
           86,
           87,
           88,
           89,
           90,
           91,
           92,
           93,
           94,
           95,
           96,
           97,
           98,
           99
          ],
          "colorbar": {
           "title": {
            "text": "Trial"
           },
           "x": 1,
           "xpad": 40
          },
          "colorscale": [
           [
            0,
            "rgb(247,251,255)"
           ],
           [
            0.125,
            "rgb(222,235,247)"
           ],
           [
            0.25,
            "rgb(198,219,239)"
           ],
           [
            0.375,
            "rgb(158,202,225)"
           ],
           [
            0.5,
            "rgb(107,174,214)"
           ],
           [
            0.625,
            "rgb(66,146,198)"
           ],
           [
            0.75,
            "rgb(33,113,181)"
           ],
           [
            0.875,
            "rgb(8,81,156)"
           ],
           [
            1,
            "rgb(8,48,107)"
           ]
          ],
          "line": {
           "color": "Grey",
           "width": 0.5
          },
          "showscale": true
         },
         "mode": "markers",
         "name": "Feasible Trial",
         "showlegend": false,
         "type": "scatter",
         "x": [
          0.9464704583099741,
          0.7727780074568463,
          0.6185801650879991,
          0.6488152939379115,
          0.9100531293444458,
          0.9314950036607718,
          0.9261845713819337,
          0.7243929286862649,
          0.7975182385457563,
          0.7641531692142519,
          0.990455959943198,
          0.8474848589441921,
          0.699896678404012,
          0.8486918133802431,
          0.8534865872047058,
          0.7538351829164537,
          0.9860930071516779,
          0.6873064153189612,
          0.8121440847704084,
          0.8841131847433006,
          0.9568500023028139,
          0.6110935463191242,
          0.618735525429713,
          0.6506090757484942,
          0.8095992844141268,
          0.7488249996468613,
          0.6736342791811429,
          0.7846757374990385,
          0.717273888656067,
          0.6588057518911439,
          0.8307852666592941,
          0.6346067762476311,
          0.6016276929675652,
          0.8992599935893004,
          0.6442675283348648,
          0.7284722744031821,
          0.9372059254842907,
          0.6769676199265374,
          0.7813674791440867,
          0.8776386393812128,
          0.7079655952444476,
          0.92005993534666,
          0.961383656428021,
          0.974738243861066,
          0.8975143089147255,
          0.9414999609753467,
          0.6247736408480163,
          0.8658614071610682,
          0.9204010502307981,
          0.8357037802220342,
          0.6670572798694177,
          0.9916648714039666,
          0.9102604445907678,
          0.9482516690354028,
          0.9762258440119681,
          0.9327145199920073,
          0.7432184702533468,
          0.6940537566330541,
          0.9979933495038062,
          0.6005223209185396,
          0.9668985527941816,
          0.8832357938388047,
          0.8630270223971227,
          0.9034172346697233,
          0.7676839337831549,
          0.9290927440425186,
          0.6352845499683623,
          0.9513899679637925,
          0.8143829946948389,
          0.8895712469547806,
          0.6149816926887646,
          0.7383534703075464,
          0.7869861854220636,
          0.7594809878942195,
          0.7181840617040749,
          0.9169766978028349,
          0.6852166832410734,
          0.6510250702005568,
          0.7682322630457069,
          0.8215915092952187,
          0.7996931518496827,
          0.6260993998344551,
          0.7323414595658756,
          0.7907217247834583,
          0.8376816515651339,
          0.7743524742615701,
          0.8049143193336044,
          0.7040139996738723,
          0.7531207340057657,
          0.6621810122578682,
          0.9294459648985555,
          0.7947047774138499,
          0.94132391170025,
          0.7182179643749623,
          0.778710337456125,
          0.8248305628873892,
          0.9591582714933923,
          0.9808296722220559,
          0.8503551675034106,
          0.7585860961570453
         ],
         "xaxis": "x",
         "y": [
          0.985633575464084,
          0.985633575464084,
          0.985633575464084,
          0.985633575464084,
          0.985633575464084,
          0.985633575464084,
          0.985633575464084,
          0.985633575464084,
          0.985633575464084,
          0.985633575464084,
          0.985633575464084,
          0.985633575464084,
          0.985633575464084,
          0.985633575464084,
          0.985633575464084,
          0.985633575464084,
          0.985633575464084,
          0.985633575464084,
          0.985633575464084,
          0.985633575464084,
          0.985633575464084,
          0.985633575464084,
          0.985633575464084,
          0.985633575464084,
          0.985633575464084,
          0.985633575464084,
          0.985633575464084,
          0.985633575464084,
          0.985633575464084,
          0.985633575464084,
          0.985633575464084,
          0.985633575464084,
          0.985633575464084,
          0.985633575464084,
          0.985633575464084,
          0.985633575464084,
          0.985633575464084,
          0.985633575464084,
          0.985633575464084,
          0.985633575464084,
          0.985633575464084,
          0.985633575464084,
          0.985633575464084,
          0.985633575464084,
          0.985633575464084,
          0.985633575464084,
          0.985633575464084,
          0.985633575464084,
          0.985633575464084,
          0.985633575464084,
          0.985633575464084,
          0.985633575464084,
          0.985633575464084,
          0.985633575464084,
          0.985633575464084,
          0.985633575464084,
          0.985633575464084,
          0.985633575464084,
          0.985633575464084,
          0.985633575464084,
          0.985633575464084,
          0.985633575464084,
          0.985633575464084,
          0.985633575464084,
          0.985633575464084,
          0.985633575464084,
          0.985633575464084,
          0.985633575464084,
          0.985633575464084,
          0.985633575464084,
          0.985633575464084,
          0.985633575464084,
          0.985633575464084,
          0.985633575464084,
          0.985633575464084,
          0.985633575464084,
          0.985633575464084,
          0.985633575464084,
          0.985633575464084,
          0.985633575464084,
          0.985633575464084,
          0.985633575464084,
          0.985633575464084,
          0.985633575464084,
          0.985633575464084,
          0.985633575464084,
          0.985633575464084,
          0.985633575464084,
          0.985633575464084,
          0.985633575464084,
          0.985633575464084,
          0.985633575464084,
          0.985633575464084,
          0.985633575464084,
          0.985633575464084,
          0.985633575464084,
          0.985633575464084,
          0.985633575464084,
          0.985633575464084,
          0.985633575464084
         ],
         "yaxis": "y"
        },
        {
         "marker": {
          "color": [
           0,
           1,
           2,
           3,
           4,
           5,
           6,
           7,
           8,
           9,
           10,
           11,
           12,
           13,
           14,
           15,
           16,
           17,
           18,
           19,
           20,
           21,
           22,
           23,
           24,
           25,
           26,
           27,
           28,
           29,
           30,
           31,
           32,
           33,
           34,
           35,
           36,
           37,
           38,
           39,
           40,
           41,
           42,
           43,
           44,
           45,
           46,
           47,
           48,
           49,
           50,
           51,
           52,
           53,
           54,
           55,
           56,
           57,
           58,
           59,
           60,
           61,
           62,
           63,
           64,
           65,
           66,
           67,
           68,
           69,
           70,
           71,
           72,
           73,
           74,
           75,
           76,
           77,
           78,
           79,
           80,
           81,
           82,
           83,
           84,
           85,
           86,
           87,
           88,
           89,
           90,
           91,
           92,
           93,
           94,
           95,
           96,
           97,
           98,
           99
          ],
          "colorbar": {
           "title": {
            "text": "Trial"
           },
           "x": 1,
           "xpad": 40
          },
          "colorscale": [
           [
            0,
            "rgb(247,251,255)"
           ],
           [
            0.125,
            "rgb(222,235,247)"
           ],
           [
            0.25,
            "rgb(198,219,239)"
           ],
           [
            0.375,
            "rgb(158,202,225)"
           ],
           [
            0.5,
            "rgb(107,174,214)"
           ],
           [
            0.625,
            "rgb(66,146,198)"
           ],
           [
            0.75,
            "rgb(33,113,181)"
           ],
           [
            0.875,
            "rgb(8,81,156)"
           ],
           [
            1,
            "rgb(8,48,107)"
           ]
          ],
          "line": {
           "color": "Grey",
           "width": 0.5
          },
          "showscale": false
         },
         "mode": "markers",
         "name": "Feasible Trial",
         "showlegend": false,
         "type": "scatter",
         "x": [
          0.19019214697557332,
          0.16665608551928393,
          0.07390600681544465,
          0.19316077458183734,
          0.13284193458644242,
          0.01861000790833198,
          0.1606371991700539,
          0.07233467998031025,
          0.09497077010722792,
          0.007254407951660116,
          0.13717690756144954,
          0.19082337161050456,
          0.1581059361975735,
          0.19898985554578108,
          0.1663763656690497,
          0.12438539755027656,
          0.17104568300195833,
          0.11323096510526516,
          0.1514316150243817,
          0.03350486713312868,
          0.17782149299000635,
          0.06892907943692739,
          0.05527851260972061,
          0.09290446838208541,
          0.044567773404404445,
          0.10962224656362968,
          0.1456116229378751,
          0.18275564192255667,
          0.08015105721891345,
          0.1830910536623343,
          0.19839933660728643,
          0.12773288470329403,
          0.1746351607473693,
          0.14035420942765772,
          0.1884104082353165,
          0.1622286705448128,
          0.0808230577607756,
          0.05714486285191288,
          0.15349786453432257,
          0.1946375593454186,
          0.023096539792828746,
          0.1661025663143777,
          0.18669715362695372,
          0.13230619582096556,
          0.10280976077471368,
          0.12116971487405383,
          0.15906602954163526,
          0.14663912679484817,
          0.17633345707669157,
          0.16858315743914393,
          0.0953736825871279,
          0.005094229955669202,
          0.015245882360857135,
          0.029803300982040468,
          0.19258129793893516,
          0.04259665860198408,
          0.06591475344041281,
          0.11865967264656012,
          0.17793434756510063,
          0.07828223719142219,
          0.19873986453630013,
          0.13511201043636734,
          0.15557781499356818,
          0.18319948093735341,
          0.14375650288513525,
          0.17075784418197132,
          0.16420128763318478,
          0.1487432292393786,
          0.08661352138635153,
          0.10477501157669927,
          0.1908282444327589,
          0.047495040766076996,
          0.062264268960897935,
          0.1802463803744846,
          0.10973222495511886,
          0.07257493846186745,
          0.12854271600427164,
          0.0894098374864056,
          0.011349713981296826,
          0.05167273462354074,
          0.04017492196881536,
          0.09501598683155683,
          0.0722665742743509,
          0.1609987621333833,
          0.14014390620188652,
          0.11542668687296907,
          0.1856235244479981,
          0.08100494418759897,
          0.19550839407197113,
          0.0016663899977134855,
          0.1737334217531984,
          0.024761282773989597,
          0.009759799870043365,
          0.0985441478461146,
          0.018310113584728064,
          0.036247104883102794,
          0.0865886746789599,
          0.15462603740129788,
          0.12418348800822761,
          0.10539881230011489
         ],
         "xaxis": "x2",
         "y": [
          0.985633575464084,
          0.985633575464084,
          0.985633575464084,
          0.985633575464084,
          0.985633575464084,
          0.985633575464084,
          0.985633575464084,
          0.985633575464084,
          0.985633575464084,
          0.985633575464084,
          0.985633575464084,
          0.985633575464084,
          0.985633575464084,
          0.985633575464084,
          0.985633575464084,
          0.985633575464084,
          0.985633575464084,
          0.985633575464084,
          0.985633575464084,
          0.985633575464084,
          0.985633575464084,
          0.985633575464084,
          0.985633575464084,
          0.985633575464084,
          0.985633575464084,
          0.985633575464084,
          0.985633575464084,
          0.985633575464084,
          0.985633575464084,
          0.985633575464084,
          0.985633575464084,
          0.985633575464084,
          0.985633575464084,
          0.985633575464084,
          0.985633575464084,
          0.985633575464084,
          0.985633575464084,
          0.985633575464084,
          0.985633575464084,
          0.985633575464084,
          0.985633575464084,
          0.985633575464084,
          0.985633575464084,
          0.985633575464084,
          0.985633575464084,
          0.985633575464084,
          0.985633575464084,
          0.985633575464084,
          0.985633575464084,
          0.985633575464084,
          0.985633575464084,
          0.985633575464084,
          0.985633575464084,
          0.985633575464084,
          0.985633575464084,
          0.985633575464084,
          0.985633575464084,
          0.985633575464084,
          0.985633575464084,
          0.985633575464084,
          0.985633575464084,
          0.985633575464084,
          0.985633575464084,
          0.985633575464084,
          0.985633575464084,
          0.985633575464084,
          0.985633575464084,
          0.985633575464084,
          0.985633575464084,
          0.985633575464084,
          0.985633575464084,
          0.985633575464084,
          0.985633575464084,
          0.985633575464084,
          0.985633575464084,
          0.985633575464084,
          0.985633575464084,
          0.985633575464084,
          0.985633575464084,
          0.985633575464084,
          0.985633575464084,
          0.985633575464084,
          0.985633575464084,
          0.985633575464084,
          0.985633575464084,
          0.985633575464084,
          0.985633575464084,
          0.985633575464084,
          0.985633575464084,
          0.985633575464084,
          0.985633575464084,
          0.985633575464084,
          0.985633575464084,
          0.985633575464084,
          0.985633575464084,
          0.985633575464084,
          0.985633575464084,
          0.985633575464084,
          0.985633575464084,
          0.985633575464084
         ],
         "yaxis": "y2"
        },
        {
         "marker": {
          "color": [
           0,
           1,
           2,
           3,
           4,
           5,
           6,
           7,
           8,
           9,
           10,
           11,
           12,
           13,
           14,
           15,
           16,
           17,
           18,
           19,
           20,
           21,
           22,
           23,
           24,
           25,
           26,
           27,
           28,
           29,
           30,
           31,
           32,
           33,
           34,
           35,
           36,
           37,
           38,
           39,
           40,
           41,
           42,
           43,
           44,
           45,
           46,
           47,
           48,
           49,
           50,
           51,
           52,
           53,
           54,
           55,
           56,
           57,
           58,
           59,
           60,
           61,
           62,
           63,
           64,
           65,
           66,
           67,
           68,
           69,
           70,
           71,
           72,
           73,
           74,
           75,
           76,
           77,
           78,
           79,
           80,
           81,
           82,
           83,
           84,
           85,
           86,
           87,
           88,
           89,
           90,
           91,
           92,
           93,
           94,
           95,
           96,
           97,
           98,
           99
          ],
          "colorbar": {
           "title": {
            "text": "Trial"
           },
           "x": 1,
           "xpad": 40
          },
          "colorscale": [
           [
            0,
            "rgb(247,251,255)"
           ],
           [
            0.125,
            "rgb(222,235,247)"
           ],
           [
            0.25,
            "rgb(198,219,239)"
           ],
           [
            0.375,
            "rgb(158,202,225)"
           ],
           [
            0.5,
            "rgb(107,174,214)"
           ],
           [
            0.625,
            "rgb(66,146,198)"
           ],
           [
            0.75,
            "rgb(33,113,181)"
           ],
           [
            0.875,
            "rgb(8,81,156)"
           ],
           [
            1,
            "rgb(8,48,107)"
           ]
          ],
          "line": {
           "color": "Grey",
           "width": 0.5
          },
          "showscale": false
         },
         "mode": "markers",
         "name": "Feasible Trial",
         "showlegend": false,
         "type": "scatter",
         "x": [
          202,
          214,
          206,
          291,
          260,
          254,
          277,
          264,
          202,
          207,
          228,
          228,
          227,
          218,
          244,
          241,
          216,
          219,
          201,
          240,
          300,
          211,
          209,
          200,
          224,
          211,
          234,
          215,
          234,
          205,
          271,
          299,
          281,
          291,
          258,
          252,
          286,
          207,
          266,
          222,
          212,
          258,
          275,
          247,
          204,
          293,
          234,
          269,
          260,
          219,
          281,
          252,
          262,
          200,
          254,
          241,
          247,
          213,
          207,
          230,
          224,
          277,
          294,
          287,
          273,
          264,
          203,
          268,
          280,
          287,
          256,
          248,
          265,
          209,
          217,
          297,
          260,
          238,
          272,
          206,
          283,
          201,
          203,
          214,
          209,
          251,
          255,
          210,
          290,
          269,
          277,
          205,
          203,
          200,
          207,
          245,
          216,
          212,
          220,
          208
         ],
         "xaxis": "x3",
         "y": [
          0.985633575464084,
          0.985633575464084,
          0.985633575464084,
          0.985633575464084,
          0.985633575464084,
          0.985633575464084,
          0.985633575464084,
          0.985633575464084,
          0.985633575464084,
          0.985633575464084,
          0.985633575464084,
          0.985633575464084,
          0.985633575464084,
          0.985633575464084,
          0.985633575464084,
          0.985633575464084,
          0.985633575464084,
          0.985633575464084,
          0.985633575464084,
          0.985633575464084,
          0.985633575464084,
          0.985633575464084,
          0.985633575464084,
          0.985633575464084,
          0.985633575464084,
          0.985633575464084,
          0.985633575464084,
          0.985633575464084,
          0.985633575464084,
          0.985633575464084,
          0.985633575464084,
          0.985633575464084,
          0.985633575464084,
          0.985633575464084,
          0.985633575464084,
          0.985633575464084,
          0.985633575464084,
          0.985633575464084,
          0.985633575464084,
          0.985633575464084,
          0.985633575464084,
          0.985633575464084,
          0.985633575464084,
          0.985633575464084,
          0.985633575464084,
          0.985633575464084,
          0.985633575464084,
          0.985633575464084,
          0.985633575464084,
          0.985633575464084,
          0.985633575464084,
          0.985633575464084,
          0.985633575464084,
          0.985633575464084,
          0.985633575464084,
          0.985633575464084,
          0.985633575464084,
          0.985633575464084,
          0.985633575464084,
          0.985633575464084,
          0.985633575464084,
          0.985633575464084,
          0.985633575464084,
          0.985633575464084,
          0.985633575464084,
          0.985633575464084,
          0.985633575464084,
          0.985633575464084,
          0.985633575464084,
          0.985633575464084,
          0.985633575464084,
          0.985633575464084,
          0.985633575464084,
          0.985633575464084,
          0.985633575464084,
          0.985633575464084,
          0.985633575464084,
          0.985633575464084,
          0.985633575464084,
          0.985633575464084,
          0.985633575464084,
          0.985633575464084,
          0.985633575464084,
          0.985633575464084,
          0.985633575464084,
          0.985633575464084,
          0.985633575464084,
          0.985633575464084,
          0.985633575464084,
          0.985633575464084,
          0.985633575464084,
          0.985633575464084,
          0.985633575464084,
          0.985633575464084,
          0.985633575464084,
          0.985633575464084,
          0.985633575464084,
          0.985633575464084,
          0.985633575464084,
          0.985633575464084
         ],
         "yaxis": "y3"
        },
        {
         "marker": {
          "color": [
           0,
           1,
           2,
           3,
           4,
           5,
           6,
           7,
           8,
           9,
           10,
           11,
           12,
           13,
           14,
           15,
           16,
           17,
           18,
           19,
           20,
           21,
           22,
           23,
           24,
           25,
           26,
           27,
           28,
           29,
           30,
           31,
           32,
           33,
           34,
           35,
           36,
           37,
           38,
           39,
           40,
           41,
           42,
           43,
           44,
           45,
           46,
           47,
           48,
           49,
           50,
           51,
           52,
           53,
           54,
           55,
           56,
           57,
           58,
           59,
           60,
           61,
           62,
           63,
           64,
           65,
           66,
           67,
           68,
           69,
           70,
           71,
           72,
           73,
           74,
           75,
           76,
           77,
           78,
           79,
           80,
           81,
           82,
           83,
           84,
           85,
           86,
           87,
           88,
           89,
           90,
           91,
           92,
           93,
           94,
           95,
           96,
           97,
           98,
           99
          ],
          "colorbar": {
           "title": {
            "text": "Trial"
           },
           "x": 1,
           "xpad": 40
          },
          "colorscale": [
           [
            0,
            "rgb(247,251,255)"
           ],
           [
            0.125,
            "rgb(222,235,247)"
           ],
           [
            0.25,
            "rgb(198,219,239)"
           ],
           [
            0.375,
            "rgb(158,202,225)"
           ],
           [
            0.5,
            "rgb(107,174,214)"
           ],
           [
            0.625,
            "rgb(66,146,198)"
           ],
           [
            0.75,
            "rgb(33,113,181)"
           ],
           [
            0.875,
            "rgb(8,81,156)"
           ],
           [
            1,
            "rgb(8,48,107)"
           ]
          ],
          "line": {
           "color": "Grey",
           "width": 0.5
          },
          "showscale": false
         },
         "mode": "markers",
         "name": "Feasible Trial",
         "showlegend": false,
         "type": "scatter",
         "x": [
          13,
          7,
          10,
          13,
          8,
          7,
          5,
          6,
          6,
          12,
          15,
          9,
          12,
          15,
          11,
          9,
          14,
          10,
          13,
          8,
          5,
          10,
          11,
          8,
          11,
          9,
          13,
          7,
          12,
          14,
          7,
          14,
          13,
          12,
          11,
          6,
          13,
          10,
          5,
          15,
          14,
          8,
          7,
          6,
          9,
          8,
          9,
          10,
          12,
          8,
          6,
          7,
          7,
          6,
          11,
          8,
          15,
          7,
          9,
          5,
          13,
          12,
          5,
          10,
          7,
          6,
          8,
          14,
          5,
          9,
          12,
          6,
          6,
          5,
          7,
          13,
          6,
          7,
          5,
          7,
          11,
          6,
          6,
          6,
          8,
          7,
          5,
          8,
          12,
          13,
          6,
          14,
          13,
          12,
          10,
          13,
          11,
          7,
          14,
          5
         ],
         "xaxis": "x4",
         "y": [
          0.985633575464084,
          0.985633575464084,
          0.985633575464084,
          0.985633575464084,
          0.985633575464084,
          0.985633575464084,
          0.985633575464084,
          0.985633575464084,
          0.985633575464084,
          0.985633575464084,
          0.985633575464084,
          0.985633575464084,
          0.985633575464084,
          0.985633575464084,
          0.985633575464084,
          0.985633575464084,
          0.985633575464084,
          0.985633575464084,
          0.985633575464084,
          0.985633575464084,
          0.985633575464084,
          0.985633575464084,
          0.985633575464084,
          0.985633575464084,
          0.985633575464084,
          0.985633575464084,
          0.985633575464084,
          0.985633575464084,
          0.985633575464084,
          0.985633575464084,
          0.985633575464084,
          0.985633575464084,
          0.985633575464084,
          0.985633575464084,
          0.985633575464084,
          0.985633575464084,
          0.985633575464084,
          0.985633575464084,
          0.985633575464084,
          0.985633575464084,
          0.985633575464084,
          0.985633575464084,
          0.985633575464084,
          0.985633575464084,
          0.985633575464084,
          0.985633575464084,
          0.985633575464084,
          0.985633575464084,
          0.985633575464084,
          0.985633575464084,
          0.985633575464084,
          0.985633575464084,
          0.985633575464084,
          0.985633575464084,
          0.985633575464084,
          0.985633575464084,
          0.985633575464084,
          0.985633575464084,
          0.985633575464084,
          0.985633575464084,
          0.985633575464084,
          0.985633575464084,
          0.985633575464084,
          0.985633575464084,
          0.985633575464084,
          0.985633575464084,
          0.985633575464084,
          0.985633575464084,
          0.985633575464084,
          0.985633575464084,
          0.985633575464084,
          0.985633575464084,
          0.985633575464084,
          0.985633575464084,
          0.985633575464084,
          0.985633575464084,
          0.985633575464084,
          0.985633575464084,
          0.985633575464084,
          0.985633575464084,
          0.985633575464084,
          0.985633575464084,
          0.985633575464084,
          0.985633575464084,
          0.985633575464084,
          0.985633575464084,
          0.985633575464084,
          0.985633575464084,
          0.985633575464084,
          0.985633575464084,
          0.985633575464084,
          0.985633575464084,
          0.985633575464084,
          0.985633575464084,
          0.985633575464084,
          0.985633575464084,
          0.985633575464084,
          0.985633575464084,
          0.985633575464084,
          0.985633575464084
         ],
         "yaxis": "y4"
        },
        {
         "marker": {
          "color": [
           0,
           1,
           2,
           3,
           4,
           5,
           6,
           7,
           8,
           9,
           10,
           11,
           12,
           13,
           14,
           15,
           16,
           17,
           18,
           19,
           20,
           21,
           22,
           23,
           24,
           25,
           26,
           27,
           28,
           29,
           30,
           31,
           32,
           33,
           34,
           35,
           36,
           37,
           38,
           39,
           40,
           41,
           42,
           43,
           44,
           45,
           46,
           47,
           48,
           49,
           50,
           51,
           52,
           53,
           54,
           55,
           56,
           57,
           58,
           59,
           60,
           61,
           62,
           63,
           64,
           65,
           66,
           67,
           68,
           69,
           70,
           71,
           72,
           73,
           74,
           75,
           76,
           77,
           78,
           79,
           80,
           81,
           82,
           83,
           84,
           85,
           86,
           87,
           88,
           89,
           90,
           91,
           92,
           93,
           94,
           95,
           96,
           97,
           98,
           99
          ],
          "colorbar": {
           "title": {
            "text": "Trial"
           },
           "x": 1,
           "xpad": 40
          },
          "colorscale": [
           [
            0,
            "rgb(247,251,255)"
           ],
           [
            0.125,
            "rgb(222,235,247)"
           ],
           [
            0.25,
            "rgb(198,219,239)"
           ],
           [
            0.375,
            "rgb(158,202,225)"
           ],
           [
            0.5,
            "rgb(107,174,214)"
           ],
           [
            0.625,
            "rgb(66,146,198)"
           ],
           [
            0.75,
            "rgb(33,113,181)"
           ],
           [
            0.875,
            "rgb(8,81,156)"
           ],
           [
            1,
            "rgb(8,48,107)"
           ]
          ],
          "line": {
           "color": "Grey",
           "width": 0.5
          },
          "showscale": false
         },
         "mode": "markers",
         "name": "Feasible Trial",
         "showlegend": false,
         "type": "scatter",
         "x": [
          16,
          17,
          18,
          14,
          32,
          23,
          41,
          35,
          41,
          30,
          10,
          22,
          24,
          49,
          10,
          17,
          26,
          16,
          20,
          13,
          29,
          19,
          17,
          12,
          26,
          20,
          15,
          19,
          26,
          12,
          15,
          14,
          22,
          18,
          34,
          22,
          38,
          10,
          13,
          24,
          48,
          34,
          32,
          39,
          29,
          44,
          16,
          11,
          31,
          27,
          21,
          24,
          17,
          15,
          18,
          20,
          23,
          13,
          36,
          19,
          17,
          42,
          44,
          27,
          15,
          14,
          21,
          47,
          12,
          18,
          24,
          33,
          36,
          29,
          38,
          40,
          31,
          35,
          16,
          10,
          43,
          40,
          46,
          41,
          38,
          45,
          50,
          14,
          36,
          33,
          30,
          16,
          28,
          19,
          25,
          37,
          42,
          13,
          21,
          34
         ],
         "xaxis": "x5",
         "y": [
          0.985633575464084,
          0.985633575464084,
          0.985633575464084,
          0.985633575464084,
          0.985633575464084,
          0.985633575464084,
          0.985633575464084,
          0.985633575464084,
          0.985633575464084,
          0.985633575464084,
          0.985633575464084,
          0.985633575464084,
          0.985633575464084,
          0.985633575464084,
          0.985633575464084,
          0.985633575464084,
          0.985633575464084,
          0.985633575464084,
          0.985633575464084,
          0.985633575464084,
          0.985633575464084,
          0.985633575464084,
          0.985633575464084,
          0.985633575464084,
          0.985633575464084,
          0.985633575464084,
          0.985633575464084,
          0.985633575464084,
          0.985633575464084,
          0.985633575464084,
          0.985633575464084,
          0.985633575464084,
          0.985633575464084,
          0.985633575464084,
          0.985633575464084,
          0.985633575464084,
          0.985633575464084,
          0.985633575464084,
          0.985633575464084,
          0.985633575464084,
          0.985633575464084,
          0.985633575464084,
          0.985633575464084,
          0.985633575464084,
          0.985633575464084,
          0.985633575464084,
          0.985633575464084,
          0.985633575464084,
          0.985633575464084,
          0.985633575464084,
          0.985633575464084,
          0.985633575464084,
          0.985633575464084,
          0.985633575464084,
          0.985633575464084,
          0.985633575464084,
          0.985633575464084,
          0.985633575464084,
          0.985633575464084,
          0.985633575464084,
          0.985633575464084,
          0.985633575464084,
          0.985633575464084,
          0.985633575464084,
          0.985633575464084,
          0.985633575464084,
          0.985633575464084,
          0.985633575464084,
          0.985633575464084,
          0.985633575464084,
          0.985633575464084,
          0.985633575464084,
          0.985633575464084,
          0.985633575464084,
          0.985633575464084,
          0.985633575464084,
          0.985633575464084,
          0.985633575464084,
          0.985633575464084,
          0.985633575464084,
          0.985633575464084,
          0.985633575464084,
          0.985633575464084,
          0.985633575464084,
          0.985633575464084,
          0.985633575464084,
          0.985633575464084,
          0.985633575464084,
          0.985633575464084,
          0.985633575464084,
          0.985633575464084,
          0.985633575464084,
          0.985633575464084,
          0.985633575464084,
          0.985633575464084,
          0.985633575464084,
          0.985633575464084,
          0.985633575464084,
          0.985633575464084,
          0.985633575464084
         ],
         "yaxis": "y5"
        },
        {
         "marker": {
          "color": [
           0,
           1,
           2,
           3,
           4,
           5,
           6,
           7,
           8,
           9,
           10,
           11,
           12,
           13,
           14,
           15,
           16,
           17,
           18,
           19,
           20,
           21,
           22,
           23,
           24,
           25,
           26,
           27,
           28,
           29,
           30,
           31,
           32,
           33,
           34,
           35,
           36,
           37,
           38,
           39,
           40,
           41,
           42,
           43,
           44,
           45,
           46,
           47,
           48,
           49,
           50,
           51,
           52,
           53,
           54,
           55,
           56,
           57,
           58,
           59,
           60,
           61,
           62,
           63,
           64,
           65,
           66,
           67,
           68,
           69,
           70,
           71,
           72,
           73,
           74,
           75,
           76,
           77,
           78,
           79,
           80,
           81,
           82,
           83,
           84,
           85,
           86,
           87,
           88,
           89,
           90,
           91,
           92,
           93,
           94,
           95,
           96,
           97,
           98,
           99
          ],
          "colorbar": {
           "title": {
            "text": "Trial"
           },
           "x": 1,
           "xpad": 40
          },
          "colorscale": [
           [
            0,
            "rgb(247,251,255)"
           ],
           [
            0.125,
            "rgb(222,235,247)"
           ],
           [
            0.25,
            "rgb(198,219,239)"
           ],
           [
            0.375,
            "rgb(158,202,225)"
           ],
           [
            0.5,
            "rgb(107,174,214)"
           ],
           [
            0.625,
            "rgb(66,146,198)"
           ],
           [
            0.75,
            "rgb(33,113,181)"
           ],
           [
            0.875,
            "rgb(8,81,156)"
           ],
           [
            1,
            "rgb(8,48,107)"
           ]
          ],
          "line": {
           "color": "Grey",
           "width": 0.5
          },
          "showscale": false
         },
         "mode": "markers",
         "name": "Feasible Trial",
         "showlegend": false,
         "type": "scatter",
         "x": [
          175,
          294,
          158,
          290,
          152,
          285,
          128,
          114,
          278,
          121,
          211,
          222,
          236,
          184,
          248,
          184,
          261,
          188,
          162,
          100,
          202,
          158,
          146,
          168,
          141,
          171,
          230,
          202,
          299,
          131,
          258,
          281,
          300,
          266,
          287,
          179,
          273,
          151,
          216,
          292,
          131,
          194,
          174,
          118,
          155,
          140,
          163,
          235,
          270,
          252,
          194,
          285,
          291,
          277,
          246,
          181,
          145,
          101,
          164,
          209,
          137,
          127,
          110,
          150,
          294,
          174,
          159,
          279,
          126,
          190,
          263,
          115,
          104,
          133,
          123,
          114,
          167,
          154,
          147,
          136,
          300,
          287,
          294,
          284,
          271,
          275,
          290,
          258,
          225,
          107,
          281,
          121,
          139,
          296,
          143,
          113,
          128,
          174,
          119,
          159
         ],
         "xaxis": "x6",
         "y": [
          0.985633575464084,
          0.985633575464084,
          0.985633575464084,
          0.985633575464084,
          0.985633575464084,
          0.985633575464084,
          0.985633575464084,
          0.985633575464084,
          0.985633575464084,
          0.985633575464084,
          0.985633575464084,
          0.985633575464084,
          0.985633575464084,
          0.985633575464084,
          0.985633575464084,
          0.985633575464084,
          0.985633575464084,
          0.985633575464084,
          0.985633575464084,
          0.985633575464084,
          0.985633575464084,
          0.985633575464084,
          0.985633575464084,
          0.985633575464084,
          0.985633575464084,
          0.985633575464084,
          0.985633575464084,
          0.985633575464084,
          0.985633575464084,
          0.985633575464084,
          0.985633575464084,
          0.985633575464084,
          0.985633575464084,
          0.985633575464084,
          0.985633575464084,
          0.985633575464084,
          0.985633575464084,
          0.985633575464084,
          0.985633575464084,
          0.985633575464084,
          0.985633575464084,
          0.985633575464084,
          0.985633575464084,
          0.985633575464084,
          0.985633575464084,
          0.985633575464084,
          0.985633575464084,
          0.985633575464084,
          0.985633575464084,
          0.985633575464084,
          0.985633575464084,
          0.985633575464084,
          0.985633575464084,
          0.985633575464084,
          0.985633575464084,
          0.985633575464084,
          0.985633575464084,
          0.985633575464084,
          0.985633575464084,
          0.985633575464084,
          0.985633575464084,
          0.985633575464084,
          0.985633575464084,
          0.985633575464084,
          0.985633575464084,
          0.985633575464084,
          0.985633575464084,
          0.985633575464084,
          0.985633575464084,
          0.985633575464084,
          0.985633575464084,
          0.985633575464084,
          0.985633575464084,
          0.985633575464084,
          0.985633575464084,
          0.985633575464084,
          0.985633575464084,
          0.985633575464084,
          0.985633575464084,
          0.985633575464084,
          0.985633575464084,
          0.985633575464084,
          0.985633575464084,
          0.985633575464084,
          0.985633575464084,
          0.985633575464084,
          0.985633575464084,
          0.985633575464084,
          0.985633575464084,
          0.985633575464084,
          0.985633575464084,
          0.985633575464084,
          0.985633575464084,
          0.985633575464084,
          0.985633575464084,
          0.985633575464084,
          0.985633575464084,
          0.985633575464084,
          0.985633575464084,
          0.985633575464084
         ],
         "yaxis": "y6"
        },
        {
         "marker": {
          "color": [
           0,
           1,
           2,
           3,
           4,
           5,
           6,
           7,
           8,
           9,
           10,
           11,
           12,
           13,
           14,
           15,
           16,
           17,
           18,
           19,
           20,
           21,
           22,
           23,
           24,
           25,
           26,
           27,
           28,
           29,
           30,
           31,
           32,
           33,
           34,
           35,
           36,
           37,
           38,
           39,
           40,
           41,
           42,
           43,
           44,
           45,
           46,
           47,
           48,
           49,
           50,
           51,
           52,
           53,
           54,
           55,
           56,
           57,
           58,
           59,
           60,
           61,
           62,
           63,
           64,
           65,
           66,
           67,
           68,
           69,
           70,
           71,
           72,
           73,
           74,
           75,
           76,
           77,
           78,
           79,
           80,
           81,
           82,
           83,
           84,
           85,
           86,
           87,
           88,
           89,
           90,
           91,
           92,
           93,
           94,
           95,
           96,
           97,
           98,
           99
          ],
          "colorbar": {
           "title": {
            "text": "Trial"
           },
           "x": 1,
           "xpad": 40
          },
          "colorscale": [
           [
            0,
            "rgb(247,251,255)"
           ],
           [
            0.125,
            "rgb(222,235,247)"
           ],
           [
            0.25,
            "rgb(198,219,239)"
           ],
           [
            0.375,
            "rgb(158,202,225)"
           ],
           [
            0.5,
            "rgb(107,174,214)"
           ],
           [
            0.625,
            "rgb(66,146,198)"
           ],
           [
            0.75,
            "rgb(33,113,181)"
           ],
           [
            0.875,
            "rgb(8,81,156)"
           ],
           [
            1,
            "rgb(8,48,107)"
           ]
          ],
          "line": {
           "color": "Grey",
           "width": 0.5
          },
          "showscale": false
         },
         "mode": "markers",
         "name": "Feasible Trial",
         "showlegend": false,
         "type": "scatter",
         "x": [
          32,
          23,
          36,
          26,
          30,
          20,
          40,
          38,
          34,
          26,
          32,
          20,
          27,
          23,
          29,
          33,
          23,
          23,
          30,
          35,
          28,
          36,
          37,
          32,
          39,
          32,
          35,
          37,
          25,
          31,
          34,
          25,
          21,
          28,
          22,
          25,
          40,
          26,
          29,
          24,
          21,
          30,
          27,
          33,
          31,
          38,
          27,
          34,
          24,
          29,
          31,
          21,
          20,
          23,
          22,
          22,
          36,
          20,
          24,
          26,
          28,
          40,
          38,
          33,
          39,
          37,
          35,
          36,
          32,
          34,
          30,
          39,
          38,
          40,
          38,
          39,
          36,
          23,
          40,
          27,
          25,
          33,
          35,
          37,
          34,
          32,
          31,
          37,
          21,
          33,
          35,
          29,
          26,
          30,
          22,
          24,
          28,
          20,
          25,
          36
         ],
         "xaxis": "x7",
         "y": [
          0.985633575464084,
          0.985633575464084,
          0.985633575464084,
          0.985633575464084,
          0.985633575464084,
          0.985633575464084,
          0.985633575464084,
          0.985633575464084,
          0.985633575464084,
          0.985633575464084,
          0.985633575464084,
          0.985633575464084,
          0.985633575464084,
          0.985633575464084,
          0.985633575464084,
          0.985633575464084,
          0.985633575464084,
          0.985633575464084,
          0.985633575464084,
          0.985633575464084,
          0.985633575464084,
          0.985633575464084,
          0.985633575464084,
          0.985633575464084,
          0.985633575464084,
          0.985633575464084,
          0.985633575464084,
          0.985633575464084,
          0.985633575464084,
          0.985633575464084,
          0.985633575464084,
          0.985633575464084,
          0.985633575464084,
          0.985633575464084,
          0.985633575464084,
          0.985633575464084,
          0.985633575464084,
          0.985633575464084,
          0.985633575464084,
          0.985633575464084,
          0.985633575464084,
          0.985633575464084,
          0.985633575464084,
          0.985633575464084,
          0.985633575464084,
          0.985633575464084,
          0.985633575464084,
          0.985633575464084,
          0.985633575464084,
          0.985633575464084,
          0.985633575464084,
          0.985633575464084,
          0.985633575464084,
          0.985633575464084,
          0.985633575464084,
          0.985633575464084,
          0.985633575464084,
          0.985633575464084,
          0.985633575464084,
          0.985633575464084,
          0.985633575464084,
          0.985633575464084,
          0.985633575464084,
          0.985633575464084,
          0.985633575464084,
          0.985633575464084,
          0.985633575464084,
          0.985633575464084,
          0.985633575464084,
          0.985633575464084,
          0.985633575464084,
          0.985633575464084,
          0.985633575464084,
          0.985633575464084,
          0.985633575464084,
          0.985633575464084,
          0.985633575464084,
          0.985633575464084,
          0.985633575464084,
          0.985633575464084,
          0.985633575464084,
          0.985633575464084,
          0.985633575464084,
          0.985633575464084,
          0.985633575464084,
          0.985633575464084,
          0.985633575464084,
          0.985633575464084,
          0.985633575464084,
          0.985633575464084,
          0.985633575464084,
          0.985633575464084,
          0.985633575464084,
          0.985633575464084,
          0.985633575464084,
          0.985633575464084,
          0.985633575464084,
          0.985633575464084,
          0.985633575464084,
          0.985633575464084
         ],
         "yaxis": "y7"
        },
        {
         "marker": {
          "color": [
           0,
           1,
           2,
           3,
           4,
           5,
           6,
           7,
           8,
           9,
           10,
           11,
           12,
           13,
           14,
           15,
           16,
           17,
           18,
           19,
           20,
           21,
           22,
           23,
           24,
           25,
           26,
           27,
           28,
           29,
           30,
           31,
           32,
           33,
           34,
           35,
           36,
           37,
           38,
           39,
           40,
           41,
           42,
           43,
           44,
           45,
           46,
           47,
           48,
           49,
           50,
           51,
           52,
           53,
           54,
           55,
           56,
           57,
           58,
           59,
           60,
           61,
           62,
           63,
           64,
           65,
           66,
           67,
           68,
           69,
           70,
           71,
           72,
           73,
           74,
           75,
           76,
           77,
           78,
           79,
           80,
           81,
           82,
           83,
           84,
           85,
           86,
           87,
           88,
           89,
           90,
           91,
           92,
           93,
           94,
           95,
           96,
           97,
           98,
           99
          ],
          "colorbar": {
           "title": {
            "text": "Trial"
           },
           "x": 1,
           "xpad": 40
          },
          "colorscale": [
           [
            0,
            "rgb(247,251,255)"
           ],
           [
            0.125,
            "rgb(222,235,247)"
           ],
           [
            0.25,
            "rgb(198,219,239)"
           ],
           [
            0.375,
            "rgb(158,202,225)"
           ],
           [
            0.5,
            "rgb(107,174,214)"
           ],
           [
            0.625,
            "rgb(66,146,198)"
           ],
           [
            0.75,
            "rgb(33,113,181)"
           ],
           [
            0.875,
            "rgb(8,81,156)"
           ],
           [
            1,
            "rgb(8,48,107)"
           ]
          ],
          "line": {
           "color": "Grey",
           "width": 0.5
          },
          "showscale": false
         },
         "mode": "markers",
         "name": "Feasible Trial",
         "showlegend": false,
         "type": "scatter",
         "x": [
          0.6011150117432088,
          0.2912291401980419,
          0.6075448519014384,
          0.4951769101112702,
          0.9394989415641891,
          0.3567533266935893,
          0.7068573438476171,
          0.32518332202674705,
          0.5227328293819941,
          0.7555511385430487,
          0.09696877974827967,
          0.10249122865832999,
          0.27765455748774076,
          0.23089735588778548,
          0.44327358372399167,
          0.9203764090478699,
          0.7155815433899493,
          0.6012759699226796,
          0.17660393000485652,
          0.02162477012080921,
          0.4280804000246746,
          0.58213769054991,
          0.8291885190386507,
          0.6301606793207284,
          0.4317377971044425,
          0.8137383455721934,
          0.6527903870327945,
          0.5575201221745554,
          0.3651081710956178,
          0.4769439724377218,
          0.6758920920960086,
          0.5173983716741665,
          0.3888895473223547,
          0.792020842609693,
          0.9974460120224868,
          0.3057065809127972,
          0.535865539666439,
          0.7221978586406994,
          0.4869054711050941,
          0.2051300849408053,
          0.6212575147166335,
          0.8851389325044365,
          0.25284397946204196,
          0.9953753695081478,
          0.15775101943661962,
          0.6791955366124687,
          0.7551779088577896,
          0.3117959836600924,
          0.08996709621839616,
          0.9169131200108027,
          0.39854032186498056,
          0.35446694757919367,
          0.555713746282575,
          0.26615515082431507,
          0.45356572728796296,
          0.5854749240827023,
          0.33441945369057785,
          0.38876816701382655,
          0.4978003528350098,
          0.8527249481888372,
          0.13375315468733018,
          0.7164864608228263,
          0.6442650520946036,
          0.588824917115434,
          0.6763690074660899,
          0.7684928980465229,
          0.5298462574446962,
          0.444265497360163,
          0.22889514769125854,
          0.9553775346322669,
          0.6082299768634638,
          0.29577673101164137,
          0.3361409483763654,
          0.40308831321293814,
          0.5605344667211026,
          0.4585332171867037,
          0.24738323037359072,
          0.419436455083652,
          0.20321632573585466,
          0.5087471485797205,
          0.7461349520117118,
          0.6503254146307704,
          0.29038420212903004,
          0.5528763669623674,
          0.4728393531330103,
          0.7021081885021133,
          0.8300410910954198,
          0.6188492380958557,
          0.36653323639461277,
          0.48646032145015267,
          0.32879275091088067,
          0.6908175641520735,
          0.8843031571934468,
          0.7907869317310803,
          0.6327497603068377,
          0.5325113887953048,
          0.5638624028589687,
          0.7403990507855092,
          0.6649709571056694,
          0.5999448477485357
         ],
         "xaxis": "x8",
         "y": [
          0.985633575464084,
          0.985633575464084,
          0.985633575464084,
          0.985633575464084,
          0.985633575464084,
          0.985633575464084,
          0.985633575464084,
          0.985633575464084,
          0.985633575464084,
          0.985633575464084,
          0.985633575464084,
          0.985633575464084,
          0.985633575464084,
          0.985633575464084,
          0.985633575464084,
          0.985633575464084,
          0.985633575464084,
          0.985633575464084,
          0.985633575464084,
          0.985633575464084,
          0.985633575464084,
          0.985633575464084,
          0.985633575464084,
          0.985633575464084,
          0.985633575464084,
          0.985633575464084,
          0.985633575464084,
          0.985633575464084,
          0.985633575464084,
          0.985633575464084,
          0.985633575464084,
          0.985633575464084,
          0.985633575464084,
          0.985633575464084,
          0.985633575464084,
          0.985633575464084,
          0.985633575464084,
          0.985633575464084,
          0.985633575464084,
          0.985633575464084,
          0.985633575464084,
          0.985633575464084,
          0.985633575464084,
          0.985633575464084,
          0.985633575464084,
          0.985633575464084,
          0.985633575464084,
          0.985633575464084,
          0.985633575464084,
          0.985633575464084,
          0.985633575464084,
          0.985633575464084,
          0.985633575464084,
          0.985633575464084,
          0.985633575464084,
          0.985633575464084,
          0.985633575464084,
          0.985633575464084,
          0.985633575464084,
          0.985633575464084,
          0.985633575464084,
          0.985633575464084,
          0.985633575464084,
          0.985633575464084,
          0.985633575464084,
          0.985633575464084,
          0.985633575464084,
          0.985633575464084,
          0.985633575464084,
          0.985633575464084,
          0.985633575464084,
          0.985633575464084,
          0.985633575464084,
          0.985633575464084,
          0.985633575464084,
          0.985633575464084,
          0.985633575464084,
          0.985633575464084,
          0.985633575464084,
          0.985633575464084,
          0.985633575464084,
          0.985633575464084,
          0.985633575464084,
          0.985633575464084,
          0.985633575464084,
          0.985633575464084,
          0.985633575464084,
          0.985633575464084,
          0.985633575464084,
          0.985633575464084,
          0.985633575464084,
          0.985633575464084,
          0.985633575464084,
          0.985633575464084,
          0.985633575464084,
          0.985633575464084,
          0.985633575464084,
          0.985633575464084,
          0.985633575464084,
          0.985633575464084
         ],
         "yaxis": "y8"
        },
        {
         "marker": {
          "color": [
           0,
           1,
           2,
           3,
           4,
           5,
           6,
           7,
           8,
           9,
           10,
           11,
           12,
           13,
           14,
           15,
           16,
           17,
           18,
           19,
           20,
           21,
           22,
           23,
           24,
           25,
           26,
           27,
           28,
           29,
           30,
           31,
           32,
           33,
           34,
           35,
           36,
           37,
           38,
           39,
           40,
           41,
           42,
           43,
           44,
           45,
           46,
           47,
           48,
           49,
           50,
           51,
           52,
           53,
           54,
           55,
           56,
           57,
           58,
           59,
           60,
           61,
           62,
           63,
           64,
           65,
           66,
           67,
           68,
           69,
           70,
           71,
           72,
           73,
           74,
           75,
           76,
           77,
           78,
           79,
           80,
           81,
           82,
           83,
           84,
           85,
           86,
           87,
           88,
           89,
           90,
           91,
           92,
           93,
           94,
           95,
           96,
           97,
           98,
           99
          ],
          "colorbar": {
           "title": {
            "text": "Trial"
           },
           "x": 1,
           "xpad": 40
          },
          "colorscale": [
           [
            0,
            "rgb(247,251,255)"
           ],
           [
            0.125,
            "rgb(222,235,247)"
           ],
           [
            0.25,
            "rgb(198,219,239)"
           ],
           [
            0.375,
            "rgb(158,202,225)"
           ],
           [
            0.5,
            "rgb(107,174,214)"
           ],
           [
            0.625,
            "rgb(66,146,198)"
           ],
           [
            0.75,
            "rgb(33,113,181)"
           ],
           [
            0.875,
            "rgb(8,81,156)"
           ],
           [
            1,
            "rgb(8,48,107)"
           ]
          ],
          "line": {
           "color": "Grey",
           "width": 0.5
          },
          "showscale": false
         },
         "mode": "markers",
         "name": "Feasible Trial",
         "showlegend": false,
         "type": "scatter",
         "x": [
          0.7080725777960455,
          0.6118528947223795,
          0.17052412368729153,
          0.034388521115218396,
          0.8948273504276488,
          0.28093450968738076,
          0.7290071680409873,
          0.7296061783380641,
          0.42754101835854963,
          0.22879816549162246,
          0.9923626654603374,
          0.5925717606501665,
          0.5409608632634769,
          0.7296529617988127,
          0.4170915717975848,
          0.6089582803996045,
          0.8368801715559179,
          0.44632200845003633,
          0.6572415663875775,
          0.8624808991805707,
          0.3169675723423519,
          0.041589925237890096,
          0.1979817982368836,
          0.14098605347455193,
          0.5106112281381627,
          0.3566955238896127,
          0.6635178209639416,
          0.7925656335611654,
          0.11342729464673024,
          0.5538326471886973,
          0.0026679612772813055,
          0.1075185512706883,
          0.046272089222025,
          0.2043502949359169,
          0.9455277694398375,
          0.26797135979849923,
          0.7890170132010703,
          0.7041747106474086,
          0.16342952420781776,
          0.06123793483619254,
          0.46669362110246815,
          0.9095469594448591,
          0.9871985846987762,
          0.7722532209525065,
          0.5946898558809692,
          0.640368355402584,
          0.7372692501701102,
          0.4044855608799327,
          0.8776346312633897,
          0.5489356345298817,
          0.36628601503059965,
          0.28579536931363436,
          0.09091607059964138,
          0.17542935364847645,
          0.2405893794761062,
          0.48946360929467936,
          0.008566103285826611,
          0.8243629598746848,
          0.6760696773255255,
          0.6180575489590514,
          0.12862769085070253,
          0.74451019125588,
          0.6993643105995849,
          0.8120975563926731,
          0.866935669630105,
          0.5720356245773156,
          0.31434716929363427,
          0.689883213151026,
          0.6446519322918082,
          0.08049618436608467,
          0.515328656027255,
          0.763414275955718,
          0.711853838479263,
          0.8938916648265137,
          0.613830446690593,
          0.7294450064526238,
          0.2272829223820949,
          0.8399292415365334,
          0.16537440861807529,
          0.9612134882304407,
          0.793355808675313,
          0.4250431516809325,
          0.37282134789636046,
          0.32875346883731715,
          0.27489704921304176,
          0.4570534868143921,
          0.5745851230445385,
          0.665583991716595,
          0.2153715037479833,
          0.5264942964622724,
          0.03552846748390735,
          0.24550029599990308,
          0.19164621248807176,
          0.13718594948826857,
          0.9227970145632473,
          0.39803759093766317,
          0.33134110192584315,
          0.2947685134291357,
          0.26106719604065387,
          0.6342675913202305
         ],
         "xaxis": "x9",
         "y": [
          0.985633575464084,
          0.985633575464084,
          0.985633575464084,
          0.985633575464084,
          0.985633575464084,
          0.985633575464084,
          0.985633575464084,
          0.985633575464084,
          0.985633575464084,
          0.985633575464084,
          0.985633575464084,
          0.985633575464084,
          0.985633575464084,
          0.985633575464084,
          0.985633575464084,
          0.985633575464084,
          0.985633575464084,
          0.985633575464084,
          0.985633575464084,
          0.985633575464084,
          0.985633575464084,
          0.985633575464084,
          0.985633575464084,
          0.985633575464084,
          0.985633575464084,
          0.985633575464084,
          0.985633575464084,
          0.985633575464084,
          0.985633575464084,
          0.985633575464084,
          0.985633575464084,
          0.985633575464084,
          0.985633575464084,
          0.985633575464084,
          0.985633575464084,
          0.985633575464084,
          0.985633575464084,
          0.985633575464084,
          0.985633575464084,
          0.985633575464084,
          0.985633575464084,
          0.985633575464084,
          0.985633575464084,
          0.985633575464084,
          0.985633575464084,
          0.985633575464084,
          0.985633575464084,
          0.985633575464084,
          0.985633575464084,
          0.985633575464084,
          0.985633575464084,
          0.985633575464084,
          0.985633575464084,
          0.985633575464084,
          0.985633575464084,
          0.985633575464084,
          0.985633575464084,
          0.985633575464084,
          0.985633575464084,
          0.985633575464084,
          0.985633575464084,
          0.985633575464084,
          0.985633575464084,
          0.985633575464084,
          0.985633575464084,
          0.985633575464084,
          0.985633575464084,
          0.985633575464084,
          0.985633575464084,
          0.985633575464084,
          0.985633575464084,
          0.985633575464084,
          0.985633575464084,
          0.985633575464084,
          0.985633575464084,
          0.985633575464084,
          0.985633575464084,
          0.985633575464084,
          0.985633575464084,
          0.985633575464084,
          0.985633575464084,
          0.985633575464084,
          0.985633575464084,
          0.985633575464084,
          0.985633575464084,
          0.985633575464084,
          0.985633575464084,
          0.985633575464084,
          0.985633575464084,
          0.985633575464084,
          0.985633575464084,
          0.985633575464084,
          0.985633575464084,
          0.985633575464084,
          0.985633575464084,
          0.985633575464084,
          0.985633575464084,
          0.985633575464084,
          0.985633575464084,
          0.985633575464084
         ],
         "yaxis": "y9"
        },
        {
         "marker": {
          "color": [
           0,
           1,
           2,
           3,
           4,
           5,
           6,
           7,
           8,
           9,
           10,
           11,
           12,
           13,
           14,
           15,
           16,
           17,
           18,
           19,
           20,
           21,
           22,
           23,
           24,
           25,
           26,
           27,
           28,
           29,
           30,
           31,
           32,
           33,
           34,
           35,
           36,
           37,
           38,
           39,
           40,
           41,
           42,
           43,
           44,
           45,
           46,
           47,
           48,
           49,
           50,
           51,
           52,
           53,
           54,
           55,
           56,
           57,
           58,
           59,
           60,
           61,
           62,
           63,
           64,
           65,
           66,
           67,
           68,
           69,
           70,
           71,
           72,
           73,
           74,
           75,
           76,
           77,
           78,
           79,
           80,
           81,
           82,
           83,
           84,
           85,
           86,
           87,
           88,
           89,
           90,
           91,
           92,
           93,
           94,
           95,
           96,
           97,
           98,
           99
          ],
          "colorbar": {
           "title": {
            "text": "Trial"
           },
           "x": 1,
           "xpad": 40
          },
          "colorscale": [
           [
            0,
            "rgb(247,251,255)"
           ],
           [
            0.125,
            "rgb(222,235,247)"
           ],
           [
            0.25,
            "rgb(198,219,239)"
           ],
           [
            0.375,
            "rgb(158,202,225)"
           ],
           [
            0.5,
            "rgb(107,174,214)"
           ],
           [
            0.625,
            "rgb(66,146,198)"
           ],
           [
            0.75,
            "rgb(33,113,181)"
           ],
           [
            0.875,
            "rgb(8,81,156)"
           ],
           [
            1,
            "rgb(8,48,107)"
           ]
          ],
          "line": {
           "color": "Grey",
           "width": 0.5
          },
          "showscale": false
         },
         "mode": "markers",
         "name": "Feasible Trial",
         "showlegend": false,
         "type": "scatter",
         "x": [
          0.8311989040672406,
          0.8608484485919076,
          0.9028468876827224,
          0.9368466053024314,
          0.8369708911051055,
          0.8777354579378964,
          0.8397431363068345,
          0.8661796049705299,
          0.9122554395138993,
          0.9815132947852186,
          0.8077450399922367,
          0.8019976014762662,
          0.8454278023301758,
          0.8730465104736118,
          0.8286137256002866,
          0.9337732279271732,
          0.8626663451144929,
          0.822484091666232,
          0.9874591096091891,
          0.8943685355786479,
          0.859442072827948,
          0.8931105014060168,
          0.9073881304995614,
          0.9297449721200163,
          0.8505704692264937,
          0.8826768516464566,
          0.9493009433627604,
          0.8250587518135648,
          0.9622077267965979,
          0.9244436321129565,
          0.8856346912430116,
          0.950135953123147,
          0.9036419931845586,
          0.9140499213634083,
          0.9432632734154297,
          0.9675530064146617,
          0.8534476367027968,
          0.8382881182636613,
          0.8127748576113502,
          0.8742093048119456,
          0.9996031462949724,
          0.839694173653557,
          0.8161857127605564,
          0.801683747995933,
          0.831924006564748,
          0.8687826923884484,
          0.9174629526325218,
          0.8542172252306856,
          0.8325002803329311,
          0.8190543029730347,
          0.8446575082487192,
          0.8741188633956151,
          0.8828154352898072,
          0.8603479044262541,
          0.895540265247565,
          0.8669993799660746,
          0.8487334795603176,
          0.8852276158978467,
          0.8585866201603191,
          0.9373725863629777,
          0.8095245595834965,
          0.8409417004194825,
          0.8284929255505419,
          0.9006327170176606,
          0.922155541670449,
          0.878168958058042,
          0.824495736585182,
          0.8906199307473974,
          0.8653285112624662,
          0.9620316757770344,
          0.8377910156108465,
          0.8469540085177535,
          0.8567721374260362,
          0.9065764454363902,
          0.8695904489713127,
          0.8335749828846077,
          0.8787435280838454,
          0.8604523729227037,
          0.8432592816238227,
          0.8528279907849997,
          0.8899494045333429,
          0.9143618382057022,
          0.9305517304305377,
          0.9105150329984181,
          0.899823848325228,
          0.9231046567646819,
          0.9547136872647403,
          0.877778348989217,
          0.8966244273953153,
          0.9422747970564842,
          0.9749621823108052,
          0.8353166043508577,
          0.9971243237025861,
          0.982476303577495,
          0.827119942627965,
          0.8486938411950613,
          0.872080903089224,
          0.822068759556713,
          0.8154342282751132,
          0.9183390232151429
         ],
         "xaxis": "x10",
         "y": [
          0.985633575464084,
          0.985633575464084,
          0.985633575464084,
          0.985633575464084,
          0.985633575464084,
          0.985633575464084,
          0.985633575464084,
          0.985633575464084,
          0.985633575464084,
          0.985633575464084,
          0.985633575464084,
          0.985633575464084,
          0.985633575464084,
          0.985633575464084,
          0.985633575464084,
          0.985633575464084,
          0.985633575464084,
          0.985633575464084,
          0.985633575464084,
          0.985633575464084,
          0.985633575464084,
          0.985633575464084,
          0.985633575464084,
          0.985633575464084,
          0.985633575464084,
          0.985633575464084,
          0.985633575464084,
          0.985633575464084,
          0.985633575464084,
          0.985633575464084,
          0.985633575464084,
          0.985633575464084,
          0.985633575464084,
          0.985633575464084,
          0.985633575464084,
          0.985633575464084,
          0.985633575464084,
          0.985633575464084,
          0.985633575464084,
          0.985633575464084,
          0.985633575464084,
          0.985633575464084,
          0.985633575464084,
          0.985633575464084,
          0.985633575464084,
          0.985633575464084,
          0.985633575464084,
          0.985633575464084,
          0.985633575464084,
          0.985633575464084,
          0.985633575464084,
          0.985633575464084,
          0.985633575464084,
          0.985633575464084,
          0.985633575464084,
          0.985633575464084,
          0.985633575464084,
          0.985633575464084,
          0.985633575464084,
          0.985633575464084,
          0.985633575464084,
          0.985633575464084,
          0.985633575464084,
          0.985633575464084,
          0.985633575464084,
          0.985633575464084,
          0.985633575464084,
          0.985633575464084,
          0.985633575464084,
          0.985633575464084,
          0.985633575464084,
          0.985633575464084,
          0.985633575464084,
          0.985633575464084,
          0.985633575464084,
          0.985633575464084,
          0.985633575464084,
          0.985633575464084,
          0.985633575464084,
          0.985633575464084,
          0.985633575464084,
          0.985633575464084,
          0.985633575464084,
          0.985633575464084,
          0.985633575464084,
          0.985633575464084,
          0.985633575464084,
          0.985633575464084,
          0.985633575464084,
          0.985633575464084,
          0.985633575464084,
          0.985633575464084,
          0.985633575464084,
          0.985633575464084,
          0.985633575464084,
          0.985633575464084,
          0.985633575464084,
          0.985633575464084,
          0.985633575464084,
          0.985633575464084
         ],
         "yaxis": "y10"
        },
        {
         "marker": {
          "color": [
           0,
           1,
           2,
           3,
           4,
           5,
           6,
           7,
           8,
           9,
           10,
           11,
           12,
           13,
           14,
           15,
           16,
           17,
           18,
           19,
           20,
           21,
           22,
           23,
           24,
           25,
           26,
           27,
           28,
           29,
           30,
           31,
           32,
           33,
           34,
           35,
           36,
           37,
           38,
           39,
           40,
           41,
           42,
           43,
           44,
           45,
           46,
           47,
           48,
           49,
           50,
           51,
           52,
           53,
           54,
           55,
           56,
           57,
           58,
           59,
           60,
           61,
           62,
           63,
           64,
           65,
           66,
           67,
           68,
           69,
           70,
           71,
           72,
           73,
           74,
           75,
           76,
           77,
           78,
           79,
           80,
           81,
           82,
           83,
           84,
           85,
           86,
           87,
           88,
           89,
           90,
           91,
           92,
           93,
           94,
           95,
           96,
           97,
           98,
           99
          ],
          "colorbar": {
           "title": {
            "text": "Trial"
           },
           "x": 1,
           "xpad": 40
          },
          "colorscale": [
           [
            0,
            "rgb(247,251,255)"
           ],
           [
            0.125,
            "rgb(222,235,247)"
           ],
           [
            0.25,
            "rgb(198,219,239)"
           ],
           [
            0.375,
            "rgb(158,202,225)"
           ],
           [
            0.5,
            "rgb(107,174,214)"
           ],
           [
            0.625,
            "rgb(66,146,198)"
           ],
           [
            0.75,
            "rgb(33,113,181)"
           ],
           [
            0.875,
            "rgb(8,81,156)"
           ],
           [
            1,
            "rgb(8,48,107)"
           ]
          ],
          "line": {
           "color": "Grey",
           "width": 0.5
          },
          "showscale": false
         },
         "mode": "markers",
         "name": "Feasible Trial",
         "showlegend": false,
         "type": "scatter",
         "x": [
          0,
          4,
          4,
          3,
          7,
          2,
          0,
          0,
          6,
          1,
          2,
          5,
          4,
          3,
          5,
          2,
          5,
          1,
          7,
          1,
          3,
          4,
          4,
          6,
          4,
          5,
          3,
          6,
          2,
          4,
          3,
          3,
          0,
          5,
          1,
          0,
          7,
          2,
          4,
          6,
          3,
          7,
          6,
          2,
          0,
          5,
          5,
          7,
          1,
          4,
          1,
          2,
          3,
          2,
          0,
          3,
          4,
          2,
          1,
          3,
          4,
          0,
          0,
          0,
          1,
          1,
          5,
          4,
          6,
          3,
          1,
          0,
          0,
          0,
          2,
          0,
          4,
          0,
          1,
          5,
          4,
          7,
          6,
          7,
          6,
          3,
          7,
          5,
          6,
          4,
          0,
          1,
          1,
          2,
          2,
          0,
          1,
          0,
          3,
          2
         ],
         "xaxis": "x11",
         "y": [
          0.985633575464084,
          0.985633575464084,
          0.985633575464084,
          0.985633575464084,
          0.985633575464084,
          0.985633575464084,
          0.985633575464084,
          0.985633575464084,
          0.985633575464084,
          0.985633575464084,
          0.985633575464084,
          0.985633575464084,
          0.985633575464084,
          0.985633575464084,
          0.985633575464084,
          0.985633575464084,
          0.985633575464084,
          0.985633575464084,
          0.985633575464084,
          0.985633575464084,
          0.985633575464084,
          0.985633575464084,
          0.985633575464084,
          0.985633575464084,
          0.985633575464084,
          0.985633575464084,
          0.985633575464084,
          0.985633575464084,
          0.985633575464084,
          0.985633575464084,
          0.985633575464084,
          0.985633575464084,
          0.985633575464084,
          0.985633575464084,
          0.985633575464084,
          0.985633575464084,
          0.985633575464084,
          0.985633575464084,
          0.985633575464084,
          0.985633575464084,
          0.985633575464084,
          0.985633575464084,
          0.985633575464084,
          0.985633575464084,
          0.985633575464084,
          0.985633575464084,
          0.985633575464084,
          0.985633575464084,
          0.985633575464084,
          0.985633575464084,
          0.985633575464084,
          0.985633575464084,
          0.985633575464084,
          0.985633575464084,
          0.985633575464084,
          0.985633575464084,
          0.985633575464084,
          0.985633575464084,
          0.985633575464084,
          0.985633575464084,
          0.985633575464084,
          0.985633575464084,
          0.985633575464084,
          0.985633575464084,
          0.985633575464084,
          0.985633575464084,
          0.985633575464084,
          0.985633575464084,
          0.985633575464084,
          0.985633575464084,
          0.985633575464084,
          0.985633575464084,
          0.985633575464084,
          0.985633575464084,
          0.985633575464084,
          0.985633575464084,
          0.985633575464084,
          0.985633575464084,
          0.985633575464084,
          0.985633575464084,
          0.985633575464084,
          0.985633575464084,
          0.985633575464084,
          0.985633575464084,
          0.985633575464084,
          0.985633575464084,
          0.985633575464084,
          0.985633575464084,
          0.985633575464084,
          0.985633575464084,
          0.985633575464084,
          0.985633575464084,
          0.985633575464084,
          0.985633575464084,
          0.985633575464084,
          0.985633575464084,
          0.985633575464084,
          0.985633575464084,
          0.985633575464084,
          0.985633575464084
         ],
         "yaxis": "y11"
        }
       ],
       "layout": {
        "template": {
         "data": {
          "bar": [
           {
            "error_x": {
             "color": "#2a3f5f"
            },
            "error_y": {
             "color": "#2a3f5f"
            },
            "marker": {
             "line": {
              "color": "#E5ECF6",
              "width": 0.5
             },
             "pattern": {
              "fillmode": "overlay",
              "size": 10,
              "solidity": 0.2
             }
            },
            "type": "bar"
           }
          ],
          "barpolar": [
           {
            "marker": {
             "line": {
              "color": "#E5ECF6",
              "width": 0.5
             },
             "pattern": {
              "fillmode": "overlay",
              "size": 10,
              "solidity": 0.2
             }
            },
            "type": "barpolar"
           }
          ],
          "carpet": [
           {
            "aaxis": {
             "endlinecolor": "#2a3f5f",
             "gridcolor": "white",
             "linecolor": "white",
             "minorgridcolor": "white",
             "startlinecolor": "#2a3f5f"
            },
            "baxis": {
             "endlinecolor": "#2a3f5f",
             "gridcolor": "white",
             "linecolor": "white",
             "minorgridcolor": "white",
             "startlinecolor": "#2a3f5f"
            },
            "type": "carpet"
           }
          ],
          "choropleth": [
           {
            "colorbar": {
             "outlinewidth": 0,
             "ticks": ""
            },
            "type": "choropleth"
           }
          ],
          "contour": [
           {
            "colorbar": {
             "outlinewidth": 0,
             "ticks": ""
            },
            "colorscale": [
             [
              0,
              "#0d0887"
             ],
             [
              0.1111111111111111,
              "#46039f"
             ],
             [
              0.2222222222222222,
              "#7201a8"
             ],
             [
              0.3333333333333333,
              "#9c179e"
             ],
             [
              0.4444444444444444,
              "#bd3786"
             ],
             [
              0.5555555555555556,
              "#d8576b"
             ],
             [
              0.6666666666666666,
              "#ed7953"
             ],
             [
              0.7777777777777778,
              "#fb9f3a"
             ],
             [
              0.8888888888888888,
              "#fdca26"
             ],
             [
              1,
              "#f0f921"
             ]
            ],
            "type": "contour"
           }
          ],
          "contourcarpet": [
           {
            "colorbar": {
             "outlinewidth": 0,
             "ticks": ""
            },
            "type": "contourcarpet"
           }
          ],
          "heatmap": [
           {
            "colorbar": {
             "outlinewidth": 0,
             "ticks": ""
            },
            "colorscale": [
             [
              0,
              "#0d0887"
             ],
             [
              0.1111111111111111,
              "#46039f"
             ],
             [
              0.2222222222222222,
              "#7201a8"
             ],
             [
              0.3333333333333333,
              "#9c179e"
             ],
             [
              0.4444444444444444,
              "#bd3786"
             ],
             [
              0.5555555555555556,
              "#d8576b"
             ],
             [
              0.6666666666666666,
              "#ed7953"
             ],
             [
              0.7777777777777778,
              "#fb9f3a"
             ],
             [
              0.8888888888888888,
              "#fdca26"
             ],
             [
              1,
              "#f0f921"
             ]
            ],
            "type": "heatmap"
           }
          ],
          "heatmapgl": [
           {
            "colorbar": {
             "outlinewidth": 0,
             "ticks": ""
            },
            "colorscale": [
             [
              0,
              "#0d0887"
             ],
             [
              0.1111111111111111,
              "#46039f"
             ],
             [
              0.2222222222222222,
              "#7201a8"
             ],
             [
              0.3333333333333333,
              "#9c179e"
             ],
             [
              0.4444444444444444,
              "#bd3786"
             ],
             [
              0.5555555555555556,
              "#d8576b"
             ],
             [
              0.6666666666666666,
              "#ed7953"
             ],
             [
              0.7777777777777778,
              "#fb9f3a"
             ],
             [
              0.8888888888888888,
              "#fdca26"
             ],
             [
              1,
              "#f0f921"
             ]
            ],
            "type": "heatmapgl"
           }
          ],
          "histogram": [
           {
            "marker": {
             "pattern": {
              "fillmode": "overlay",
              "size": 10,
              "solidity": 0.2
             }
            },
            "type": "histogram"
           }
          ],
          "histogram2d": [
           {
            "colorbar": {
             "outlinewidth": 0,
             "ticks": ""
            },
            "colorscale": [
             [
              0,
              "#0d0887"
             ],
             [
              0.1111111111111111,
              "#46039f"
             ],
             [
              0.2222222222222222,
              "#7201a8"
             ],
             [
              0.3333333333333333,
              "#9c179e"
             ],
             [
              0.4444444444444444,
              "#bd3786"
             ],
             [
              0.5555555555555556,
              "#d8576b"
             ],
             [
              0.6666666666666666,
              "#ed7953"
             ],
             [
              0.7777777777777778,
              "#fb9f3a"
             ],
             [
              0.8888888888888888,
              "#fdca26"
             ],
             [
              1,
              "#f0f921"
             ]
            ],
            "type": "histogram2d"
           }
          ],
          "histogram2dcontour": [
           {
            "colorbar": {
             "outlinewidth": 0,
             "ticks": ""
            },
            "colorscale": [
             [
              0,
              "#0d0887"
             ],
             [
              0.1111111111111111,
              "#46039f"
             ],
             [
              0.2222222222222222,
              "#7201a8"
             ],
             [
              0.3333333333333333,
              "#9c179e"
             ],
             [
              0.4444444444444444,
              "#bd3786"
             ],
             [
              0.5555555555555556,
              "#d8576b"
             ],
             [
              0.6666666666666666,
              "#ed7953"
             ],
             [
              0.7777777777777778,
              "#fb9f3a"
             ],
             [
              0.8888888888888888,
              "#fdca26"
             ],
             [
              1,
              "#f0f921"
             ]
            ],
            "type": "histogram2dcontour"
           }
          ],
          "mesh3d": [
           {
            "colorbar": {
             "outlinewidth": 0,
             "ticks": ""
            },
            "type": "mesh3d"
           }
          ],
          "parcoords": [
           {
            "line": {
             "colorbar": {
              "outlinewidth": 0,
              "ticks": ""
             }
            },
            "type": "parcoords"
           }
          ],
          "pie": [
           {
            "automargin": true,
            "type": "pie"
           }
          ],
          "scatter": [
           {
            "fillpattern": {
             "fillmode": "overlay",
             "size": 10,
             "solidity": 0.2
            },
            "type": "scatter"
           }
          ],
          "scatter3d": [
           {
            "line": {
             "colorbar": {
              "outlinewidth": 0,
              "ticks": ""
             }
            },
            "marker": {
             "colorbar": {
              "outlinewidth": 0,
              "ticks": ""
             }
            },
            "type": "scatter3d"
           }
          ],
          "scattercarpet": [
           {
            "marker": {
             "colorbar": {
              "outlinewidth": 0,
              "ticks": ""
             }
            },
            "type": "scattercarpet"
           }
          ],
          "scattergeo": [
           {
            "marker": {
             "colorbar": {
              "outlinewidth": 0,
              "ticks": ""
             }
            },
            "type": "scattergeo"
           }
          ],
          "scattergl": [
           {
            "marker": {
             "colorbar": {
              "outlinewidth": 0,
              "ticks": ""
             }
            },
            "type": "scattergl"
           }
          ],
          "scattermapbox": [
           {
            "marker": {
             "colorbar": {
              "outlinewidth": 0,
              "ticks": ""
             }
            },
            "type": "scattermapbox"
           }
          ],
          "scatterpolar": [
           {
            "marker": {
             "colorbar": {
              "outlinewidth": 0,
              "ticks": ""
             }
            },
            "type": "scatterpolar"
           }
          ],
          "scatterpolargl": [
           {
            "marker": {
             "colorbar": {
              "outlinewidth": 0,
              "ticks": ""
             }
            },
            "type": "scatterpolargl"
           }
          ],
          "scatterternary": [
           {
            "marker": {
             "colorbar": {
              "outlinewidth": 0,
              "ticks": ""
             }
            },
            "type": "scatterternary"
           }
          ],
          "surface": [
           {
            "colorbar": {
             "outlinewidth": 0,
             "ticks": ""
            },
            "colorscale": [
             [
              0,
              "#0d0887"
             ],
             [
              0.1111111111111111,
              "#46039f"
             ],
             [
              0.2222222222222222,
              "#7201a8"
             ],
             [
              0.3333333333333333,
              "#9c179e"
             ],
             [
              0.4444444444444444,
              "#bd3786"
             ],
             [
              0.5555555555555556,
              "#d8576b"
             ],
             [
              0.6666666666666666,
              "#ed7953"
             ],
             [
              0.7777777777777778,
              "#fb9f3a"
             ],
             [
              0.8888888888888888,
              "#fdca26"
             ],
             [
              1,
              "#f0f921"
             ]
            ],
            "type": "surface"
           }
          ],
          "table": [
           {
            "cells": {
             "fill": {
              "color": "#EBF0F8"
             },
             "line": {
              "color": "white"
             }
            },
            "header": {
             "fill": {
              "color": "#C8D4E3"
             },
             "line": {
              "color": "white"
             }
            },
            "type": "table"
           }
          ]
         },
         "layout": {
          "annotationdefaults": {
           "arrowcolor": "#2a3f5f",
           "arrowhead": 0,
           "arrowwidth": 1
          },
          "autotypenumbers": "strict",
          "coloraxis": {
           "colorbar": {
            "outlinewidth": 0,
            "ticks": ""
           }
          },
          "colorscale": {
           "diverging": [
            [
             0,
             "#8e0152"
            ],
            [
             0.1,
             "#c51b7d"
            ],
            [
             0.2,
             "#de77ae"
            ],
            [
             0.3,
             "#f1b6da"
            ],
            [
             0.4,
             "#fde0ef"
            ],
            [
             0.5,
             "#f7f7f7"
            ],
            [
             0.6,
             "#e6f5d0"
            ],
            [
             0.7,
             "#b8e186"
            ],
            [
             0.8,
             "#7fbc41"
            ],
            [
             0.9,
             "#4d9221"
            ],
            [
             1,
             "#276419"
            ]
           ],
           "sequential": [
            [
             0,
             "#0d0887"
            ],
            [
             0.1111111111111111,
             "#46039f"
            ],
            [
             0.2222222222222222,
             "#7201a8"
            ],
            [
             0.3333333333333333,
             "#9c179e"
            ],
            [
             0.4444444444444444,
             "#bd3786"
            ],
            [
             0.5555555555555556,
             "#d8576b"
            ],
            [
             0.6666666666666666,
             "#ed7953"
            ],
            [
             0.7777777777777778,
             "#fb9f3a"
            ],
            [
             0.8888888888888888,
             "#fdca26"
            ],
            [
             1,
             "#f0f921"
            ]
           ],
           "sequentialminus": [
            [
             0,
             "#0d0887"
            ],
            [
             0.1111111111111111,
             "#46039f"
            ],
            [
             0.2222222222222222,
             "#7201a8"
            ],
            [
             0.3333333333333333,
             "#9c179e"
            ],
            [
             0.4444444444444444,
             "#bd3786"
            ],
            [
             0.5555555555555556,
             "#d8576b"
            ],
            [
             0.6666666666666666,
             "#ed7953"
            ],
            [
             0.7777777777777778,
             "#fb9f3a"
            ],
            [
             0.8888888888888888,
             "#fdca26"
            ],
            [
             1,
             "#f0f921"
            ]
           ]
          },
          "colorway": [
           "#636efa",
           "#EF553B",
           "#00cc96",
           "#ab63fa",
           "#FFA15A",
           "#19d3f3",
           "#FF6692",
           "#B6E880",
           "#FF97FF",
           "#FECB52"
          ],
          "font": {
           "color": "#2a3f5f"
          },
          "geo": {
           "bgcolor": "white",
           "lakecolor": "white",
           "landcolor": "#E5ECF6",
           "showlakes": true,
           "showland": true,
           "subunitcolor": "white"
          },
          "hoverlabel": {
           "align": "left"
          },
          "hovermode": "closest",
          "mapbox": {
           "style": "light"
          },
          "paper_bgcolor": "white",
          "plot_bgcolor": "#E5ECF6",
          "polar": {
           "angularaxis": {
            "gridcolor": "white",
            "linecolor": "white",
            "ticks": ""
           },
           "bgcolor": "#E5ECF6",
           "radialaxis": {
            "gridcolor": "white",
            "linecolor": "white",
            "ticks": ""
           }
          },
          "scene": {
           "xaxis": {
            "backgroundcolor": "#E5ECF6",
            "gridcolor": "white",
            "gridwidth": 2,
            "linecolor": "white",
            "showbackground": true,
            "ticks": "",
            "zerolinecolor": "white"
           },
           "yaxis": {
            "backgroundcolor": "#E5ECF6",
            "gridcolor": "white",
            "gridwidth": 2,
            "linecolor": "white",
            "showbackground": true,
            "ticks": "",
            "zerolinecolor": "white"
           },
           "zaxis": {
            "backgroundcolor": "#E5ECF6",
            "gridcolor": "white",
            "gridwidth": 2,
            "linecolor": "white",
            "showbackground": true,
            "ticks": "",
            "zerolinecolor": "white"
           }
          },
          "shapedefaults": {
           "line": {
            "color": "#2a3f5f"
           }
          },
          "ternary": {
           "aaxis": {
            "gridcolor": "white",
            "linecolor": "white",
            "ticks": ""
           },
           "baxis": {
            "gridcolor": "white",
            "linecolor": "white",
            "ticks": ""
           },
           "bgcolor": "#E5ECF6",
           "caxis": {
            "gridcolor": "white",
            "linecolor": "white",
            "ticks": ""
           }
          },
          "title": {
           "x": 0.05
          },
          "xaxis": {
           "automargin": true,
           "gridcolor": "white",
           "linecolor": "white",
           "ticks": "",
           "title": {
            "standoff": 15
           },
           "zerolinecolor": "white",
           "zerolinewidth": 2
          },
          "yaxis": {
           "automargin": true,
           "gridcolor": "white",
           "linecolor": "white",
           "ticks": "",
           "title": {
            "standoff": 15
           },
           "zerolinecolor": "white",
           "zerolinewidth": 2
          }
         }
        },
        "title": {
         "text": "Slice Plot"
        },
        "width": 3300,
        "xaxis": {
         "anchor": "y",
         "domain": [
          0,
          0.07438016528925619
         ],
         "title": {
          "text": "colsample_bytree"
         }
        },
        "xaxis10": {
         "anchor": "y10",
         "domain": [
          0.8330578512396694,
          0.9074380165289255
         ],
         "title": {
          "text": "subsample"
         }
        },
        "xaxis11": {
         "anchor": "y11",
         "domain": [
          0.9256198347107437,
          0.9999999999999999
         ],
         "title": {
          "text": "subsample_freq"
         }
        },
        "xaxis2": {
         "anchor": "y2",
         "domain": [
          0.09256198347107437,
          0.16694214876033056
         ],
         "title": {
          "text": "learning_rate"
         }
        },
        "xaxis3": {
         "anchor": "y3",
         "domain": [
          0.18512396694214875,
          0.25950413223140495
         ],
         "title": {
          "text": "max_bin"
         }
        },
        "xaxis4": {
         "anchor": "y4",
         "domain": [
          0.27768595041322314,
          0.3520661157024793
         ],
         "title": {
          "text": "max_depth"
         }
        },
        "xaxis5": {
         "anchor": "y5",
         "domain": [
          0.3702479338842975,
          0.44462809917355367
         ],
         "title": {
          "text": "min_child_samples"
         }
        },
        "xaxis6": {
         "anchor": "y6",
         "domain": [
          0.46280991735537186,
          0.5371900826446281
         ],
         "title": {
          "text": "n_estimators"
         }
        },
        "xaxis7": {
         "anchor": "y7",
         "domain": [
          0.5553719008264463,
          0.6297520661157024
         ],
         "title": {
          "text": "num_leaves"
         }
        },
        "xaxis8": {
         "anchor": "y8",
         "domain": [
          0.6479338842975206,
          0.7223140495867768
         ],
         "title": {
          "text": "reg_alpha"
         }
        },
        "xaxis9": {
         "anchor": "y9",
         "domain": [
          0.740495867768595,
          0.8148760330578512
         ],
         "title": {
          "text": "reg_lambda"
         }
        },
        "yaxis": {
         "anchor": "x",
         "domain": [
          0,
          1
         ],
         "title": {
          "text": "Objective Value"
         }
        },
        "yaxis10": {
         "anchor": "x10",
         "domain": [
          0,
          1
         ],
         "matches": "y",
         "showticklabels": false
        },
        "yaxis11": {
         "anchor": "x11",
         "domain": [
          0,
          1
         ],
         "matches": "y",
         "showticklabels": false
        },
        "yaxis2": {
         "anchor": "x2",
         "domain": [
          0,
          1
         ],
         "matches": "y",
         "showticklabels": false
        },
        "yaxis3": {
         "anchor": "x3",
         "domain": [
          0,
          1
         ],
         "matches": "y",
         "showticklabels": false
        },
        "yaxis4": {
         "anchor": "x4",
         "domain": [
          0,
          1
         ],
         "matches": "y",
         "showticklabels": false
        },
        "yaxis5": {
         "anchor": "x5",
         "domain": [
          0,
          1
         ],
         "matches": "y",
         "showticklabels": false
        },
        "yaxis6": {
         "anchor": "x6",
         "domain": [
          0,
          1
         ],
         "matches": "y",
         "showticklabels": false
        },
        "yaxis7": {
         "anchor": "x7",
         "domain": [
          0,
          1
         ],
         "matches": "y",
         "showticklabels": false
        },
        "yaxis8": {
         "anchor": "x8",
         "domain": [
          0,
          1
         ],
         "matches": "y",
         "showticklabels": false
        },
        "yaxis9": {
         "anchor": "x9",
         "domain": [
          0,
          1
         ],
         "matches": "y",
         "showticklabels": false
        }
       }
      }
     },
     "metadata": {},
     "output_type": "display_data"
    }
   ],
   "source": [
    "import optuna.visualization as vis\n",
    "\n",
    "gkf = GroupKFold(n_splits=7)  # Since there are 7 players\n",
    "\n",
    "# Define the objective function for Optuna\n",
    "def objective(trial):\n",
    "    # Hyperparameters to tune\n",
    "    param = {\n",
    "        'n_estimators': trial.suggest_int('n_estimators', 100, 300),\n",
    "        'learning_rate': trial.suggest_float('learning_rate', 0.001, 0.2),\n",
    "        'max_depth': trial.suggest_int('max_depth', 5, 15),\n",
    "        'num_leaves': trial.suggest_int('num_leaves', 20, 40),\n",
    "        'min_child_samples': trial.suggest_int('min_child_samples', 10, 50),\n",
    "        'subsample': trial.suggest_float('subsample', 0.8, 1.0),\n",
    "        'subsample_freq': trial.suggest_int('subsample_freq', 0, 7),\n",
    "        'colsample_bytree': trial.suggest_float('colsample_bytree', 0.6, 1.0),\n",
    "        'reg_alpha': trial.suggest_float('reg_alpha', 0.0, 1.0),\n",
    "        'reg_lambda': trial.suggest_float('reg_lambda', 0.0, 1.0),\n",
    "        'max_bin': trial.suggest_int('max_bin', 200, 300),\n",
    "        'force_col_wise': True,\n",
    "        'verbosity': -1\n",
    "    }\n",
    "    \n",
    "    # Storage for fold accuracy\n",
    "    accuracies = []\n",
    "    \n",
    "    for train_idx, test_idx in gkf.split(X, y, groups=subjects):\n",
    "        print(\"Training on subjects:\", subjects.iloc[train_idx].unique(), \"Testing on subject:\", subjects.iloc[test_idx].unique())\n",
    "\n",
    "        X_train, X_test = X.iloc[train_idx], X.iloc[test_idx]\n",
    "        y_train, y_test = y.iloc[train_idx], y.iloc[test_idx]\n",
    "        \n",
    "        # Create and train LightGBM model\n",
    "        model = lgb.LGBMClassifier(**param)\n",
    "        model.fit(X_train, y_train, eval_set=[(X_test, y_test)])\n",
    "        \n",
    "        # Predict on test data\n",
    "        preds = model.predict(X_test)\n",
    "        acc = accuracy_score(y_test, preds)\n",
    "        accuracies.append(acc)\n",
    "    \n",
    "    # Calculate the average accuracy across all folds\n",
    "    average_accuracy = np.mean(accuracies)\n",
    "    return average_accuracy\n",
    "sampler = optuna.samplers.TPESampler(seed=42)\n",
    "\n",
    "# Create a study object and optimize the objective\n",
    "study = optuna.create_study(direction='maximize',sampler=sampler)\n",
    "study.optimize(objective, n_trials=100)  # Modify `n_trials` as per computation resource availability\n",
    "\n",
    "# Print best parameters\n",
    "print(\"Best trial:\")\n",
    "trial = study.best_trial\n",
    "print(\" Accuracy: \", trial.value)\n",
    "print(\" Params: \")\n",
    "for key, value in trial.params.items():\n",
    "    print(f\"    {key}: {value}\")\n",
    "\n",
    "best_params = study.best_params\n",
    "best_score = study.best_value\n",
    "\n",
    "print(\"Best Hyperparameters:\", best_params)\n",
    "print(\"Best Score for Top 50,000:\", best_score)\n",
    "\n",
    "history_plot = vis.plot_optimization_history(study)\n",
    "history_plot.show()\n",
    "\n",
    "importance_plot = vis.plot_param_importances(study)\n",
    "importance_plot.show()\n",
    "\n",
    "slice_plot = vis.plot_slice(study)\n",
    "slice_plot.show()"
   ]
  },
  {
   "cell_type": "code",
   "execution_count": 11,
   "metadata": {},
   "outputs": [
    {
     "name": "stderr",
     "output_type": "stream",
     "text": [
      "[I 2024-05-14 19:14:36,481] A new study created in memory with name: no-name-5cad7fea-ccbc-4353-8ccd-dc19f28297dd\n",
      "[I 2024-05-14 19:14:36,557] Trial 0 finished with value: 0.947497982243745 and parameters: {'criterion': 'entropy', 'splitter': 'best', 'max_depth': 3, 'min_samples_split': 4, 'min_samples_leaf': 2, 'max_features': 'sqrt'}. Best is trial 0 with value: 0.947497982243745.\n",
      "[I 2024-05-14 19:14:36,629] Trial 1 finished with value: 0.9880145278450364 and parameters: {'criterion': 'entropy', 'splitter': 'best', 'max_depth': 3, 'min_samples_split': 5, 'min_samples_leaf': 7, 'max_features': 'sqrt'}. Best is trial 1 with value: 0.9880145278450364.\n"
     ]
    },
    {
     "name": "stdout",
     "output_type": "stream",
     "text": [
      "Training on subjects: [1 2 3 4 5 6] Testing on subject: [7]\n",
      "Training on subjects: [1 2 3 4 5 7] Testing on subject: [6]\n",
      "Training on subjects: [1 2 3 4 6 7] Testing on subject: [5]\n",
      "Training on subjects: [1 2 3 5 6 7] Testing on subject: [4]\n",
      "Training on subjects: [1 2 4 5 6 7] Testing on subject: [3]\n",
      "Training on subjects: [2 3 4 5 6 7] Testing on subject: [1]\n",
      "Training on subjects: [1 3 4 5 6 7] Testing on subject: [2]\n",
      "Training on subjects: [1 2 3 4 5 6] Testing on subject: [7]\n",
      "Training on subjects: [1 2 3 4 5 7] Testing on subject: [6]\n",
      "Training on subjects: [1 2 3 4 6 7] Testing on subject: [5]\n",
      "Training on subjects: [1 2 3 5 6 7] Testing on subject: [4]\n",
      "Training on subjects: [1 2 4 5 6 7] Testing on subject: [3]\n",
      "Training on subjects: [2 3 4 5 6 7] Testing on subject: [1]\n",
      "Training on subjects: [1 3 4 5 6 7] Testing on subject: [2]\n",
      "Training on subjects: [1 2 3 4 5 6] Testing on subject: [7]\n",
      "Training on subjects: [1 2 3 4 5 7] Testing on subject: [6]\n",
      "Training on subjects: [1 2 3 4 6 7] Testing on subject: [5]\n",
      "Training on subjects: [1 2 3 5 6 7] Testing on subject: [4]\n",
      "Training on subjects: [1 2 4 5 6 7] Testing on subject: [3]\n",
      "Training on subjects: [2 3 4 5 6 7] Testing on subject: [1]\n",
      "Training on subjects: [1 3 4 5 6 7] Testing on subject: [2]\n"
     ]
    },
    {
     "name": "stderr",
     "output_type": "stream",
     "text": [
      "[I 2024-05-14 19:14:36,697] Trial 2 finished with value: 0.9880952380952381 and parameters: {'criterion': 'gini', 'splitter': 'random', 'max_depth': 7, 'min_samples_split': 16, 'min_samples_leaf': 4, 'max_features': 'log2'}. Best is trial 2 with value: 0.9880952380952381.\n",
      "[I 2024-05-14 19:14:36,771] Trial 3 finished with value: 0.9641646489104116 and parameters: {'criterion': 'gini', 'splitter': 'random', 'max_depth': 15, 'min_samples_split': 17, 'min_samples_leaf': 7, 'max_features': 'log2'}. Best is trial 2 with value: 0.9880952380952381.\n",
      "[I 2024-05-14 19:14:36,826] Trial 4 finished with value: 0.9642857142857143 and parameters: {'criterion': 'entropy', 'splitter': 'random', 'max_depth': 4, 'min_samples_split': 14, 'min_samples_leaf': 7, 'max_features': 'log2'}. Best is trial 2 with value: 0.9880952380952381.\n"
     ]
    },
    {
     "name": "stdout",
     "output_type": "stream",
     "text": [
      "Training on subjects: [1 2 3 4 5 6] Testing on subject: [7]\n",
      "Training on subjects: [1 2 3 4 5 7] Testing on subject: [6]\n",
      "Training on subjects: [1 2 3 4 6 7] Testing on subject: [5]\n",
      "Training on subjects: [1 2 3 5 6 7] Testing on subject: [4]\n",
      "Training on subjects: [1 2 4 5 6 7] Testing on subject: [3]\n",
      "Training on subjects: [2 3 4 5 6 7] Testing on subject: [1]\n",
      "Training on subjects: [1 3 4 5 6 7] Testing on subject: [2]\n",
      "Training on subjects: [1 2 3 4 5 6] Testing on subject: [7]\n",
      "Training on subjects: [1 2 3 4 5 7] Testing on subject: [6]\n",
      "Training on subjects: [1 2 3 4 6 7] Testing on subject: [5]\n",
      "Training on subjects: [1 2 3 5 6 7] Testing on subject: [4]\n",
      "Training on subjects: [1 2 4 5 6 7] Testing on subject: [3]\n",
      "Training on subjects: [2 3 4 5 6 7] Testing on subject: [1]\n",
      "Training on subjects: [1 3 4 5 6 7] Testing on subject: [2]\n",
      "Training on subjects: [1 2 3 4 5 6] Testing on subject: [7]\n",
      "Training on subjects: [1 2 3 4 5 7] Testing on subject: [6]\n",
      "Training on subjects: [1 2 3 4 6 7] Testing on subject: [5]\n",
      "Training on subjects: [1 2 3 5 6 7] Testing on subject: [4]\n",
      "Training on subjects: [1 2 4 5 6 7] Testing on subject: [3]\n",
      "Training on subjects: [2 3 4 5 6 7] Testing on subject: [1]\n",
      "Training on subjects: [1 3 4 5 6 7] Testing on subject: [2]\n"
     ]
    },
    {
     "name": "stderr",
     "output_type": "stream",
     "text": [
      "[I 2024-05-14 19:14:36,919] Trial 5 finished with value: 0.9904358353510896 and parameters: {'criterion': 'gini', 'splitter': 'best', 'max_depth': 9, 'min_samples_split': 19, 'min_samples_leaf': 2, 'max_features': None}. Best is trial 5 with value: 0.9904358353510896.\n",
      "[I 2024-05-14 19:14:37,028] Trial 6 finished with value: 0.9904358353510896 and parameters: {'criterion': 'gini', 'splitter': 'best', 'max_depth': 5, 'min_samples_split': 12, 'min_samples_leaf': 3, 'max_features': None}. Best is trial 5 with value: 0.9904358353510896.\n",
      "[I 2024-05-14 19:14:37,095] Trial 7 finished with value: 0.9190476190476191 and parameters: {'criterion': 'gini', 'splitter': 'random', 'max_depth': 11, 'min_samples_split': 15, 'min_samples_leaf': 16, 'max_features': 'log2'}. Best is trial 5 with value: 0.9904358353510896.\n"
     ]
    },
    {
     "name": "stdout",
     "output_type": "stream",
     "text": [
      "Training on subjects: [1 2 3 4 5 6] Testing on subject: [7]\n",
      "Training on subjects: [1 2 3 4 5 7] Testing on subject: [6]\n",
      "Training on subjects: [1 2 3 4 6 7] Testing on subject: [5]\n",
      "Training on subjects: [1 2 3 5 6 7] Testing on subject: [4]\n",
      "Training on subjects: [1 2 4 5 6 7] Testing on subject: [3]\n",
      "Training on subjects: [2 3 4 5 6 7] Testing on subject: [1]\n",
      "Training on subjects: [1 3 4 5 6 7] Testing on subject: [2]\n",
      "Training on subjects: [1 2 3 4 5 6] Testing on subject: [7]\n",
      "Training on subjects: [1 2 3 4 5 7] Testing on subject: [6]\n",
      "Training on subjects: [1 2 3 4 6 7] Testing on subject: [5]\n",
      "Training on subjects: [1 2 3 5 6 7] Testing on subject: [4]\n",
      "Training on subjects: [1 2 4 5 6 7] Testing on subject: [3]\n",
      "Training on subjects: [2 3 4 5 6 7] Testing on subject: [1]\n",
      "Training on subjects: [1 3 4 5 6 7] Testing on subject: [2]\n",
      "Training on subjects: [1 2 3 4 5 6] Testing on subject: [7]\n",
      "Training on subjects: [1 2 3 4 5 7] Testing on subject: [6]\n",
      "Training on subjects: [1 2 3 4 6 7] Testing on subject: [5]\n",
      "Training on subjects: [1 2 3 5 6 7] Testing on subject: [4]\n",
      "Training on subjects: [1 2 4 5 6 7] Testing on subject: [3]\n"
     ]
    },
    {
     "name": "stderr",
     "output_type": "stream",
     "text": [
      "[I 2024-05-14 19:14:37,153] Trial 8 finished with value: 0.9904761904761905 and parameters: {'criterion': 'gini', 'splitter': 'best', 'max_depth': 5, 'min_samples_split': 8, 'min_samples_leaf': 15, 'max_features': 'log2'}. Best is trial 8 with value: 0.9904761904761905.\n",
      "[I 2024-05-14 19:14:37,327] Trial 9 finished with value: 0.992816787732042 and parameters: {'criterion': 'entropy', 'splitter': 'best', 'max_depth': 12, 'min_samples_split': 11, 'min_samples_leaf': 11, 'max_features': 'sqrt'}. Best is trial 9 with value: 0.992816787732042.\n"
     ]
    },
    {
     "name": "stdout",
     "output_type": "stream",
     "text": [
      "Training on subjects: [2 3 4 5 6 7] Testing on subject: [1]\n",
      "Training on subjects: [1 3 4 5 6 7] Testing on subject: [2]\n",
      "Training on subjects: [1 2 3 4 5 6] Testing on subject: [7]\n",
      "Training on subjects: [1 2 3 4 5 7] Testing on subject: [6]\n",
      "Training on subjects: [1 2 3 4 6 7] Testing on subject: [5]\n",
      "Training on subjects: [1 2 3 5 6 7] Testing on subject: [4]\n",
      "Training on subjects: [1 2 4 5 6 7] Testing on subject: [3]\n",
      "Training on subjects: [2 3 4 5 6 7] Testing on subject: [1]\n",
      "Training on subjects: [1 3 4 5 6 7] Testing on subject: [2]\n"
     ]
    },
    {
     "name": "stderr",
     "output_type": "stream",
     "text": [
      "[I 2024-05-14 19:14:37,437] Trial 10 finished with value: 0.992816787732042 and parameters: {'criterion': 'entropy', 'splitter': 'best', 'max_depth': 14, 'min_samples_split': 9, 'min_samples_leaf': 20, 'max_features': 'sqrt'}. Best is trial 9 with value: 0.992816787732042.\n",
      "[I 2024-05-14 19:14:37,559] Trial 11 finished with value: 0.9928571428571429 and parameters: {'criterion': 'entropy', 'splitter': 'best', 'max_depth': 14, 'min_samples_split': 9, 'min_samples_leaf': 20, 'max_features': 'sqrt'}. Best is trial 11 with value: 0.9928571428571429.\n"
     ]
    },
    {
     "name": "stdout",
     "output_type": "stream",
     "text": [
      "Training on subjects: [1 2 3 4 5 6] Testing on subject: [7]\n",
      "Training on subjects: [1 2 3 4 5 7] Testing on subject: [6]\n",
      "Training on subjects: [1 2 3 4 6 7] Testing on subject: [5]\n",
      "Training on subjects: [1 2 3 5 6 7] Testing on subject: [4]\n",
      "Training on subjects: [1 2 4 5 6 7] Testing on subject: [3]\n",
      "Training on subjects: [2 3 4 5 6 7] Testing on subject: [1]\n",
      "Training on subjects: [1 3 4 5 6 7] Testing on subject: [2]\n",
      "Training on subjects: [1 2 3 4 5 6] Testing on subject: [7]\n",
      "Training on subjects: [1 2 3 4 5 7] Testing on subject: [6]\n",
      "Training on subjects: [1 2 3 4 6 7] Testing on subject: [5]\n",
      "Training on subjects: [1 2 3 5 6 7] Testing on subject: [4]\n",
      "Training on subjects: [1 2 4 5 6 7] Testing on subject: [3]\n",
      "Training on subjects: [2 3 4 5 6 7] Testing on subject: [1]\n",
      "Training on subjects: [1 3 4 5 6 7] Testing on subject: [2]\n"
     ]
    },
    {
     "name": "stderr",
     "output_type": "stream",
     "text": [
      "[I 2024-05-14 19:14:37,647] Trial 12 finished with value: 0.9904358353510896 and parameters: {'criterion': 'entropy', 'splitter': 'best', 'max_depth': 12, 'min_samples_split': 10, 'min_samples_leaf': 13, 'max_features': 'sqrt'}. Best is trial 11 with value: 0.9928571428571429.\n",
      "[I 2024-05-14 19:14:37,765] Trial 13 finished with value: 0.9928571428571429 and parameters: {'criterion': 'entropy', 'splitter': 'best', 'max_depth': 12, 'min_samples_split': 6, 'min_samples_leaf': 20, 'max_features': 'sqrt'}. Best is trial 11 with value: 0.9928571428571429.\n"
     ]
    },
    {
     "name": "stdout",
     "output_type": "stream",
     "text": [
      "Training on subjects: [1 2 3 4 5 6] Testing on subject: [7]\n",
      "Training on subjects: [1 2 3 4 5 7] Testing on subject: [6]\n",
      "Training on subjects: [1 2 3 4 6 7] Testing on subject: [5]\n",
      "Training on subjects: [1 2 3 5 6 7] Testing on subject: [4]\n",
      "Training on subjects: [1 2 4 5 6 7] Testing on subject: [3]\n",
      "Training on subjects: [2 3 4 5 6 7] Testing on subject: [1]\n",
      "Training on subjects: [1 3 4 5 6 7] Testing on subject: [2]\n",
      "Training on subjects: [1 2 3 4 5 6] Testing on subject: [7]\n",
      "Training on subjects: [1 2 3 4 5 7] Testing on subject: [6]\n",
      "Training on subjects: [1 2 3 4 6 7] Testing on subject: [5]\n",
      "Training on subjects: [1 2 3 5 6 7] Testing on subject: [4]\n",
      "Training on subjects: [1 2 4 5 6 7] Testing on subject: [3]\n",
      "Training on subjects: [2 3 4 5 6 7] Testing on subject: [1]\n",
      "Training on subjects: [1 3 4 5 6 7] Testing on subject: [2]\n"
     ]
    },
    {
     "name": "stderr",
     "output_type": "stream",
     "text": [
      "[I 2024-05-14 19:14:37,877] Trial 14 finished with value: 0.980952380952381 and parameters: {'criterion': 'entropy', 'splitter': 'best', 'max_depth': 10, 'min_samples_split': 2, 'min_samples_leaf': 20, 'max_features': 'sqrt'}. Best is trial 11 with value: 0.9928571428571429.\n",
      "[I 2024-05-14 19:14:37,963] Trial 15 finished with value: 0.9928571428571429 and parameters: {'criterion': 'entropy', 'splitter': 'best', 'max_depth': 13, 'min_samples_split': 7, 'min_samples_leaf': 17, 'max_features': 'sqrt'}. Best is trial 11 with value: 0.9928571428571429.\n"
     ]
    },
    {
     "name": "stdout",
     "output_type": "stream",
     "text": [
      "Training on subjects: [1 2 3 4 5 6] Testing on subject: [7]\n",
      "Training on subjects: [1 2 3 4 5 7] Testing on subject: [6]\n",
      "Training on subjects: [1 2 3 4 6 7] Testing on subject: [5]\n",
      "Training on subjects: [1 2 3 5 6 7] Testing on subject: [4]\n",
      "Training on subjects: [1 2 4 5 6 7] Testing on subject: [3]\n",
      "Training on subjects: [2 3 4 5 6 7] Testing on subject: [1]\n",
      "Training on subjects: [1 3 4 5 6 7] Testing on subject: [2]\n",
      "Training on subjects: [1 2 3 4 5 6] Testing on subject: [7]\n",
      "Training on subjects: [1 2 3 4 5 7] Testing on subject: [6]\n",
      "Training on subjects: [1 2 3 4 6 7] Testing on subject: [5]\n",
      "Training on subjects: [1 2 3 5 6 7] Testing on subject: [4]\n",
      "Training on subjects: [1 2 4 5 6 7] Testing on subject: [3]\n",
      "Training on subjects: [2 3 4 5 6 7] Testing on subject: [1]\n",
      "Training on subjects: [1 3 4 5 6 7] Testing on subject: [2]\n"
     ]
    },
    {
     "name": "stderr",
     "output_type": "stream",
     "text": [
      "[I 2024-05-14 19:14:38,086] Trial 16 finished with value: 0.9904761904761905 and parameters: {'criterion': 'entropy', 'splitter': 'best', 'max_depth': 15, 'min_samples_split': 6, 'min_samples_leaf': 18, 'max_features': 'sqrt'}. Best is trial 11 with value: 0.9928571428571429.\n"
     ]
    },
    {
     "name": "stdout",
     "output_type": "stream",
     "text": [
      "Training on subjects: [1 2 3 4 5 6] Testing on subject: [7]\n",
      "Training on subjects: [1 2 3 4 5 7] Testing on subject: [6]\n",
      "Training on subjects: [1 2 3 4 6 7] Testing on subject: [5]\n",
      "Training on subjects: [1 2 3 5 6 7] Testing on subject: [4]\n",
      "Training on subjects: [1 2 4 5 6 7] Testing on subject: [3]\n",
      "Training on subjects: [2 3 4 5 6 7] Testing on subject: [1]\n",
      "Training on subjects: [1 3 4 5 6 7] Testing on subject: [2]\n",
      "Training on subjects: [1 2 3 4 5 6] Testing on subject: [7]\n",
      "Training on subjects: [1 2 3 4 5 7] Testing on subject: [6]\n",
      "Training on subjects: [1 2 3 4 6 7] Testing on subject: [5]\n",
      "Training on subjects: [1 2 3 5 6 7] Testing on subject: [4]\n",
      "Training on subjects: [1 2 4 5 6 7] Testing on subject: [3]\n",
      "Training on subjects: [2 3 4 5 6 7] Testing on subject: [1]\n"
     ]
    },
    {
     "name": "stderr",
     "output_type": "stream",
     "text": [
      "[I 2024-05-14 19:14:38,227] Trial 17 finished with value: 0.9879741727199355 and parameters: {'criterion': 'entropy', 'splitter': 'best', 'max_depth': 8, 'min_samples_split': 2, 'min_samples_leaf': 14, 'max_features': None}. Best is trial 11 with value: 0.9928571428571429.\n",
      "[I 2024-05-14 19:14:38,322] Trial 18 finished with value: 0.9547619047619047 and parameters: {'criterion': 'entropy', 'splitter': 'random', 'max_depth': 13, 'min_samples_split': 13, 'min_samples_leaf': 18, 'max_features': 'sqrt'}. Best is trial 11 with value: 0.9928571428571429.\n",
      "[I 2024-05-14 19:14:38,412] Trial 19 finished with value: 0.9808716707021793 and parameters: {'criterion': 'entropy', 'splitter': 'best', 'max_depth': 1, 'min_samples_split': 4, 'min_samples_leaf': 12, 'max_features': 'sqrt'}. Best is trial 11 with value: 0.9928571428571429.\n"
     ]
    },
    {
     "name": "stdout",
     "output_type": "stream",
     "text": [
      "Training on subjects: [1 3 4 5 6 7] Testing on subject: [2]\n",
      "Training on subjects: [1 2 3 4 5 6] Testing on subject: [7]\n",
      "Training on subjects: [1 2 3 4 5 7] Testing on subject: [6]\n",
      "Training on subjects: [1 2 3 4 6 7] Testing on subject: [5]\n",
      "Training on subjects: [1 2 3 5 6 7] Testing on subject: [4]\n",
      "Training on subjects: [1 2 4 5 6 7] Testing on subject: [3]\n",
      "Training on subjects: [2 3 4 5 6 7] Testing on subject: [1]\n",
      "Training on subjects: [1 3 4 5 6 7] Testing on subject: [2]\n",
      "Training on subjects: [1 2 3 4 5 6] Testing on subject: [7]\n",
      "Training on subjects: [1 2 3 4 5 7] Testing on subject: [6]\n",
      "Training on subjects: [1 2 3 4 6 7] Testing on subject: [5]\n",
      "Training on subjects: [1 2 3 5 6 7] Testing on subject: [4]\n",
      "Training on subjects: [1 2 4 5 6 7] Testing on subject: [3]\n",
      "Training on subjects: [2 3 4 5 6 7] Testing on subject: [1]\n",
      "Training on subjects: [1 3 4 5 6 7] Testing on subject: [2]\n"
     ]
    },
    {
     "name": "stderr",
     "output_type": "stream",
     "text": [
      "[I 2024-05-14 19:14:38,556] Trial 20 finished with value: 0.9808716707021793 and parameters: {'criterion': 'entropy', 'splitter': 'best', 'max_depth': 10, 'min_samples_split': 8, 'min_samples_leaf': 9, 'max_features': None}. Best is trial 11 with value: 0.9928571428571429.\n"
     ]
    },
    {
     "name": "stdout",
     "output_type": "stream",
     "text": [
      "Training on subjects: [1 2 3 4 5 6] Testing on subject: [7]\n",
      "Training on subjects: [1 2 3 4 5 7] Testing on subject: [6]\n",
      "Training on subjects: [1 2 3 4 6 7] Testing on subject: [5]\n",
      "Training on subjects: [1 2 3 5 6 7] Testing on subject: [4]\n",
      "Training on subjects: [1 2 4 5 6 7] Testing on subject: [3]\n",
      "Training on subjects: [2 3 4 5 6 7] Testing on subject: [1]\n",
      "Training on subjects: [1 3 4 5 6 7] Testing on subject: [2]\n",
      "Training on subjects: [1 2 3 4 5 6] Testing on subject: [7]\n",
      "Training on subjects: [1 2 3 4 5 7] Testing on subject: [6]\n",
      "Training on subjects: [1 2 3 4 6 7] Testing on subject: [5]\n",
      "Training on subjects: [1 2 3 5 6 7] Testing on subject: [4]\n",
      "Training on subjects: [1 2 4 5 6 7] Testing on subject: [3]\n",
      "Training on subjects: [2 3 4 5 6 7] Testing on subject: [1]\n",
      "Training on subjects: [1 3 4 5 6 7] Testing on subject: [2]\n"
     ]
    },
    {
     "name": "stderr",
     "output_type": "stream",
     "text": [
      "[I 2024-05-14 19:14:38,656] Trial 21 finished with value: 0.9356335754640839 and parameters: {'criterion': 'entropy', 'splitter': 'best', 'max_depth': 13, 'min_samples_split': 7, 'min_samples_leaf': 17, 'max_features': 'sqrt'}. Best is trial 11 with value: 0.9928571428571429.\n",
      "[I 2024-05-14 19:14:38,762] Trial 22 finished with value: 0.9832526230831317 and parameters: {'criterion': 'entropy', 'splitter': 'best', 'max_depth': 13, 'min_samples_split': 6, 'min_samples_leaf': 20, 'max_features': 'sqrt'}. Best is trial 11 with value: 0.9928571428571429.\n",
      "[I 2024-05-14 19:14:38,873] Trial 23 finished with value: 0.9904358353510896 and parameters: {'criterion': 'entropy', 'splitter': 'best', 'max_depth': 15, 'min_samples_split': 10, 'min_samples_leaf': 18, 'max_features': 'sqrt'}. Best is trial 11 with value: 0.9928571428571429.\n"
     ]
    },
    {
     "name": "stdout",
     "output_type": "stream",
     "text": [
      "Training on subjects: [1 2 3 4 5 6] Testing on subject: [7]\n",
      "Training on subjects: [1 2 3 4 5 7] Testing on subject: [6]\n",
      "Training on subjects: [1 2 3 4 6 7] Testing on subject: [5]\n",
      "Training on subjects: [1 2 3 5 6 7] Testing on subject: [4]\n",
      "Training on subjects: [1 2 4 5 6 7] Testing on subject: [3]\n",
      "Training on subjects: [2 3 4 5 6 7] Testing on subject: [1]\n",
      "Training on subjects: [1 3 4 5 6 7] Testing on subject: [2]\n",
      "Training on subjects: [1 2 3 4 5 6] Testing on subject: [7]\n",
      "Training on subjects: [1 2 3 4 5 7] Testing on subject: [6]\n",
      "Training on subjects: [1 2 3 4 6 7] Testing on subject: [5]\n",
      "Training on subjects: [1 2 3 5 6 7] Testing on subject: [4]\n",
      "Training on subjects: [1 2 4 5 6 7] Testing on subject: [3]\n",
      "Training on subjects: [2 3 4 5 6 7] Testing on subject: [1]\n",
      "Training on subjects: [1 3 4 5 6 7] Testing on subject: [2]\n"
     ]
    },
    {
     "name": "stderr",
     "output_type": "stream",
     "text": [
      "[I 2024-05-14 19:14:38,972] Trial 24 finished with value: 0.9903954802259888 and parameters: {'criterion': 'entropy', 'splitter': 'best', 'max_depth': 11, 'min_samples_split': 8, 'min_samples_leaf': 16, 'max_features': 'sqrt'}. Best is trial 11 with value: 0.9928571428571429.\n",
      "[I 2024-05-14 19:14:39,071] Trial 25 finished with value: 0.9904358353510896 and parameters: {'criterion': 'entropy', 'splitter': 'best', 'max_depth': 14, 'min_samples_split': 5, 'min_samples_leaf': 19, 'max_features': 'sqrt'}. Best is trial 11 with value: 0.9928571428571429.\n"
     ]
    },
    {
     "name": "stdout",
     "output_type": "stream",
     "text": [
      "Training on subjects: [1 2 3 4 5 6] Testing on subject: [7]\n",
      "Training on subjects: [1 2 3 4 5 7] Testing on subject: [6]\n",
      "Training on subjects: [1 2 3 4 6 7] Testing on subject: [5]\n",
      "Training on subjects: [1 2 3 5 6 7] Testing on subject: [4]\n",
      "Training on subjects: [1 2 4 5 6 7] Testing on subject: [3]\n",
      "Training on subjects: [2 3 4 5 6 7] Testing on subject: [1]\n",
      "Training on subjects: [1 3 4 5 6 7] Testing on subject: [2]\n",
      "Training on subjects: [1 2 3 4 5 6] Testing on subject: [7]\n",
      "Training on subjects: [1 2 3 4 5 7] Testing on subject: [6]\n",
      "Training on subjects: [1 2 3 4 6 7] Testing on subject: [5]\n",
      "Training on subjects: [1 2 3 5 6 7] Testing on subject: [4]\n",
      "Training on subjects: [1 2 4 5 6 7] Testing on subject: [3]\n",
      "Training on subjects: [2 3 4 5 6 7] Testing on subject: [1]\n",
      "Training on subjects: [1 3 4 5 6 7] Testing on subject: [2]\n",
      "Training on subjects: [1 2 3 4 5 6] Testing on subject: [7]\n",
      "Training on subjects: [1 2 3 4 5 7] Testing on subject: [6]\n"
     ]
    },
    {
     "name": "stderr",
     "output_type": "stream",
     "text": [
      "[I 2024-05-14 19:14:39,175] Trial 26 finished with value: 0.9904358353510896 and parameters: {'criterion': 'entropy', 'splitter': 'random', 'max_depth': 12, 'min_samples_split': 7, 'min_samples_leaf': 17, 'max_features': 'sqrt'}. Best is trial 11 with value: 0.9928571428571429.\n",
      "[I 2024-05-14 19:14:39,275] Trial 27 finished with value: 0.9500000000000001 and parameters: {'criterion': 'entropy', 'splitter': 'best', 'max_depth': 14, 'min_samples_split': 10, 'min_samples_leaf': 15, 'max_features': 'sqrt'}. Best is trial 11 with value: 0.9928571428571429.\n"
     ]
    },
    {
     "name": "stdout",
     "output_type": "stream",
     "text": [
      "Training on subjects: [1 2 3 4 6 7] Testing on subject: [5]\n",
      "Training on subjects: [1 2 3 5 6 7] Testing on subject: [4]\n",
      "Training on subjects: [1 2 4 5 6 7] Testing on subject: [3]\n",
      "Training on subjects: [2 3 4 5 6 7] Testing on subject: [1]\n",
      "Training on subjects: [1 3 4 5 6 7] Testing on subject: [2]\n",
      "Training on subjects: [1 2 3 4 5 6] Testing on subject: [7]\n",
      "Training on subjects: [1 2 3 4 5 7] Testing on subject: [6]\n",
      "Training on subjects: [1 2 3 4 6 7] Testing on subject: [5]\n",
      "Training on subjects: [1 2 3 5 6 7] Testing on subject: [4]\n",
      "Training on subjects: [1 2 4 5 6 7] Testing on subject: [3]\n",
      "Training on subjects: [2 3 4 5 6 7] Testing on subject: [1]\n",
      "Training on subjects: [1 3 4 5 6 7] Testing on subject: [2]\n",
      "Training on subjects: [1 2 3 4 5 6] Testing on subject: [7]\n",
      "Training on subjects: [1 2 3 4 5 7] Testing on subject: [6]\n",
      "Training on subjects: [1 2 3 4 6 7] Testing on subject: [5]\n"
     ]
    },
    {
     "name": "stderr",
     "output_type": "stream",
     "text": [
      "[I 2024-05-14 19:14:39,413] Trial 28 finished with value: 0.98091202582728 and parameters: {'criterion': 'entropy', 'splitter': 'best', 'max_depth': 7, 'min_samples_split': 4, 'min_samples_leaf': 19, 'max_features': None}. Best is trial 11 with value: 0.9928571428571429.\n",
      "[I 2024-05-14 19:14:39,513] Trial 29 finished with value: 0.9855932203389831 and parameters: {'criterion': 'entropy', 'splitter': 'best', 'max_depth': 11, 'min_samples_split': 12, 'min_samples_leaf': 20, 'max_features': 'sqrt'}. Best is trial 11 with value: 0.9928571428571429.\n"
     ]
    },
    {
     "name": "stdout",
     "output_type": "stream",
     "text": [
      "Training on subjects: [1 2 3 5 6 7] Testing on subject: [4]\n",
      "Training on subjects: [1 2 4 5 6 7] Testing on subject: [3]\n",
      "Training on subjects: [2 3 4 5 6 7] Testing on subject: [1]\n",
      "Training on subjects: [1 3 4 5 6 7] Testing on subject: [2]\n",
      "Training on subjects: [1 2 3 4 5 6] Testing on subject: [7]\n",
      "Training on subjects: [1 2 3 4 5 7] Testing on subject: [6]\n",
      "Training on subjects: [1 2 3 4 6 7] Testing on subject: [5]\n",
      "Training on subjects: [1 2 3 5 6 7] Testing on subject: [4]\n",
      "Training on subjects: [1 2 4 5 6 7] Testing on subject: [3]\n",
      "Training on subjects: [2 3 4 5 6 7] Testing on subject: [1]\n",
      "Training on subjects: [1 3 4 5 6 7] Testing on subject: [2]\n",
      "Training on subjects: [1 2 3 4 5 6] Testing on subject: [7]\n",
      "Training on subjects: [1 2 3 4 5 7] Testing on subject: [6]\n",
      "Training on subjects: [1 2 3 4 6 7] Testing on subject: [5]\n"
     ]
    },
    {
     "name": "stderr",
     "output_type": "stream",
     "text": [
      "[I 2024-05-14 19:14:39,607] Trial 30 finished with value: 0.9832929782082325 and parameters: {'criterion': 'entropy', 'splitter': 'best', 'max_depth': 10, 'min_samples_split': 3, 'min_samples_leaf': 17, 'max_features': 'sqrt'}. Best is trial 11 with value: 0.9928571428571429.\n",
      "[I 2024-05-14 19:14:39,712] Trial 31 finished with value: 0.9880145278450364 and parameters: {'criterion': 'entropy', 'splitter': 'best', 'max_depth': 12, 'min_samples_split': 11, 'min_samples_leaf': 11, 'max_features': 'sqrt'}. Best is trial 11 with value: 0.9928571428571429.\n"
     ]
    },
    {
     "name": "stdout",
     "output_type": "stream",
     "text": [
      "Training on subjects: [1 2 3 5 6 7] Testing on subject: [4]\n",
      "Training on subjects: [1 2 4 5 6 7] Testing on subject: [3]\n",
      "Training on subjects: [2 3 4 5 6 7] Testing on subject: [1]\n",
      "Training on subjects: [1 3 4 5 6 7] Testing on subject: [2]\n",
      "Training on subjects: [1 2 3 4 5 6] Testing on subject: [7]\n",
      "Training on subjects: [1 2 3 4 5 7] Testing on subject: [6]\n",
      "Training on subjects: [1 2 3 4 6 7] Testing on subject: [5]\n",
      "Training on subjects: [1 2 3 5 6 7] Testing on subject: [4]\n",
      "Training on subjects: [1 2 4 5 6 7] Testing on subject: [3]\n",
      "Training on subjects: [2 3 4 5 6 7] Testing on subject: [1]\n",
      "Training on subjects: [1 3 4 5 6 7] Testing on subject: [2]\n",
      "Training on subjects: [1 2 3 4 5 6] Testing on subject: [7]\n",
      "Training on subjects: [1 2 3 4 5 7] Testing on subject: [6]\n",
      "Training on subjects: [1 2 3 4 6 7] Testing on subject: [5]\n"
     ]
    },
    {
     "name": "stderr",
     "output_type": "stream",
     "text": [
      "[I 2024-05-14 19:14:39,812] Trial 32 finished with value: 0.9880145278450364 and parameters: {'criterion': 'entropy', 'splitter': 'best', 'max_depth': 13, 'min_samples_split': 9, 'min_samples_leaf': 10, 'max_features': 'sqrt'}. Best is trial 11 with value: 0.9928571428571429.\n",
      "[I 2024-05-14 19:14:39,915] Trial 33 finished with value: 0.9665859564164648 and parameters: {'criterion': 'entropy', 'splitter': 'best', 'max_depth': 12, 'min_samples_split': 6, 'min_samples_leaf': 9, 'max_features': 'sqrt'}. Best is trial 11 with value: 0.9928571428571429.\n"
     ]
    },
    {
     "name": "stdout",
     "output_type": "stream",
     "text": [
      "Training on subjects: [1 2 3 5 6 7] Testing on subject: [4]\n",
      "Training on subjects: [1 2 4 5 6 7] Testing on subject: [3]\n",
      "Training on subjects: [2 3 4 5 6 7] Testing on subject: [1]\n",
      "Training on subjects: [1 3 4 5 6 7] Testing on subject: [2]\n",
      "Training on subjects: [1 2 3 4 5 6] Testing on subject: [7]\n",
      "Training on subjects: [1 2 3 4 5 7] Testing on subject: [6]\n",
      "Training on subjects: [1 2 3 4 6 7] Testing on subject: [5]\n",
      "Training on subjects: [1 2 3 5 6 7] Testing on subject: [4]\n",
      "Training on subjects: [1 2 4 5 6 7] Testing on subject: [3]\n",
      "Training on subjects: [2 3 4 5 6 7] Testing on subject: [1]\n",
      "Training on subjects: [1 3 4 5 6 7] Testing on subject: [2]\n",
      "Training on subjects: [1 2 3 4 5 6] Testing on subject: [7]\n",
      "Training on subjects: [1 2 3 4 5 7] Testing on subject: [6]\n",
      "Training on subjects: [1 2 3 4 6 7] Testing on subject: [5]\n"
     ]
    },
    {
     "name": "stderr",
     "output_type": "stream",
     "text": [
      "[I 2024-05-14 19:14:40,034] Trial 34 finished with value: 0.9808716707021793 and parameters: {'criterion': 'entropy', 'splitter': 'best', 'max_depth': 14, 'min_samples_split': 11, 'min_samples_leaf': 5, 'max_features': 'sqrt'}. Best is trial 11 with value: 0.9928571428571429.\n",
      "[I 2024-05-14 19:14:40,117] Trial 35 finished with value: 0.9046811945117029 and parameters: {'criterion': 'gini', 'splitter': 'random', 'max_depth': 9, 'min_samples_split': 5, 'min_samples_leaf': 13, 'max_features': 'log2'}. Best is trial 11 with value: 0.9928571428571429.\n"
     ]
    },
    {
     "name": "stdout",
     "output_type": "stream",
     "text": [
      "Training on subjects: [1 2 3 5 6 7] Testing on subject: [4]\n",
      "Training on subjects: [1 2 4 5 6 7] Testing on subject: [3]\n",
      "Training on subjects: [2 3 4 5 6 7] Testing on subject: [1]\n",
      "Training on subjects: [1 3 4 5 6 7] Testing on subject: [2]\n",
      "Training on subjects: [1 2 3 4 5 6] Testing on subject: [7]\n",
      "Training on subjects: [1 2 3 4 5 7] Testing on subject: [6]\n",
      "Training on subjects: [1 2 3 4 6 7] Testing on subject: [5]\n",
      "Training on subjects: [1 2 3 5 6 7] Testing on subject: [4]\n",
      "Training on subjects: [1 2 4 5 6 7] Testing on subject: [3]\n",
      "Training on subjects: [2 3 4 5 6 7] Testing on subject: [1]\n",
      "Training on subjects: [1 3 4 5 6 7] Testing on subject: [2]\n",
      "Training on subjects: [1 2 3 4 5 6] Testing on subject: [7]\n",
      "Training on subjects: [1 2 3 4 5 7] Testing on subject: [6]\n",
      "Training on subjects: [1 2 3 4 6 7] Testing on subject: [5]\n",
      "Training on subjects: [1 2 3 5 6 7] Testing on subject: [4]\n",
      "Training on subjects: [1 2 4 5 6 7] Testing on subject: [3]\n",
      "Training on subjects: [2 3 4 5 6 7] Testing on subject: [1]\n"
     ]
    },
    {
     "name": "stderr",
     "output_type": "stream",
     "text": [
      "[I 2024-05-14 19:14:40,218] Trial 36 finished with value: 0.9214285714285715 and parameters: {'criterion': 'entropy', 'splitter': 'best', 'max_depth': 15, 'min_samples_split': 9, 'min_samples_leaf': 19, 'max_features': 'sqrt'}. Best is trial 11 with value: 0.9928571428571429.\n",
      "[I 2024-05-14 19:14:40,332] Trial 37 finished with value: 0.9976190476190476 and parameters: {'criterion': 'gini', 'splitter': 'random', 'max_depth': 11, 'min_samples_split': 13, 'min_samples_leaf': 6, 'max_features': 'sqrt'}. Best is trial 37 with value: 0.9976190476190476.\n"
     ]
    },
    {
     "name": "stdout",
     "output_type": "stream",
     "text": [
      "Training on subjects: [1 3 4 5 6 7] Testing on subject: [2]\n",
      "Training on subjects: [1 2 3 4 5 6] Testing on subject: [7]\n",
      "Training on subjects: [1 2 3 4 5 7] Testing on subject: [6]\n",
      "Training on subjects: [1 2 3 4 6 7] Testing on subject: [5]\n",
      "Training on subjects: [1 2 3 5 6 7] Testing on subject: [4]\n",
      "Training on subjects: [1 2 4 5 6 7] Testing on subject: [3]\n",
      "Training on subjects: [2 3 4 5 6 7] Testing on subject: [1]\n",
      "Training on subjects: [1 3 4 5 6 7] Testing on subject: [2]\n",
      "Training on subjects: [1 2 3 4 5 6] Testing on subject: [7]\n",
      "Training on subjects: [1 2 3 4 5 7] Testing on subject: [6]\n",
      "Training on subjects: [1 2 3 4 6 7] Testing on subject: [5]\n",
      "Training on subjects: [1 2 3 5 6 7] Testing on subject: [4]\n",
      "Training on subjects: [1 2 4 5 6 7] Testing on subject: [3]\n",
      "Training on subjects: [2 3 4 5 6 7] Testing on subject: [1]\n"
     ]
    },
    {
     "name": "stderr",
     "output_type": "stream",
     "text": [
      "[I 2024-05-14 19:14:40,459] Trial 38 finished with value: 0.9856739305891848 and parameters: {'criterion': 'gini', 'splitter': 'random', 'max_depth': 11, 'min_samples_split': 15, 'min_samples_leaf': 5, 'max_features': 'log2'}. Best is trial 37 with value: 0.9976190476190476.\n",
      "[I 2024-05-14 19:14:40,597] Trial 39 finished with value: 0.9904761904761905 and parameters: {'criterion': 'gini', 'splitter': 'random', 'max_depth': 9, 'min_samples_split': 17, 'min_samples_leaf': 1, 'max_features': None}. Best is trial 37 with value: 0.9976190476190476.\n"
     ]
    },
    {
     "name": "stdout",
     "output_type": "stream",
     "text": [
      "Training on subjects: [1 3 4 5 6 7] Testing on subject: [2]\n",
      "Training on subjects: [1 2 3 4 5 6] Testing on subject: [7]\n",
      "Training on subjects: [1 2 3 4 5 7] Testing on subject: [6]\n",
      "Training on subjects: [1 2 3 4 6 7] Testing on subject: [5]\n",
      "Training on subjects: [1 2 3 5 6 7] Testing on subject: [4]\n",
      "Training on subjects: [1 2 4 5 6 7] Testing on subject: [3]\n",
      "Training on subjects: [2 3 4 5 6 7] Testing on subject: [1]\n",
      "Training on subjects: [1 3 4 5 6 7] Testing on subject: [2]\n",
      "Training on subjects: [1 2 3 4 5 6] Testing on subject: [7]\n"
     ]
    },
    {
     "name": "stderr",
     "output_type": "stream",
     "text": [
      "[I 2024-05-14 19:14:40,722] Trial 40 finished with value: 0.9714285714285714 and parameters: {'criterion': 'gini', 'splitter': 'random', 'max_depth': 13, 'min_samples_split': 14, 'min_samples_leaf': 6, 'max_features': 'sqrt'}. Best is trial 37 with value: 0.9976190476190476.\n",
      "[I 2024-05-14 19:14:40,815] Trial 41 finished with value: 0.9642453591606134 and parameters: {'criterion': 'gini', 'splitter': 'random', 'max_depth': 12, 'min_samples_split': 12, 'min_samples_leaf': 8, 'max_features': 'sqrt'}. Best is trial 37 with value: 0.9976190476190476.\n"
     ]
    },
    {
     "name": "stdout",
     "output_type": "stream",
     "text": [
      "Training on subjects: [1 2 3 4 5 7] Testing on subject: [6]\n",
      "Training on subjects: [1 2 3 4 6 7] Testing on subject: [5]\n",
      "Training on subjects: [1 2 3 5 6 7] Testing on subject: [4]\n",
      "Training on subjects: [1 2 4 5 6 7] Testing on subject: [3]\n",
      "Training on subjects: [2 3 4 5 6 7] Testing on subject: [1]\n",
      "Training on subjects: [1 3 4 5 6 7] Testing on subject: [2]\n",
      "Training on subjects: [1 2 3 4 5 6] Testing on subject: [7]\n",
      "Training on subjects: [1 2 3 4 5 7] Testing on subject: [6]\n",
      "Training on subjects: [1 2 3 4 6 7] Testing on subject: [5]\n",
      "Training on subjects: [1 2 3 5 6 7] Testing on subject: [4]\n",
      "Training on subjects: [1 2 4 5 6 7] Testing on subject: [3]\n",
      "Training on subjects: [2 3 4 5 6 7] Testing on subject: [1]\n",
      "Training on subjects: [1 3 4 5 6 7] Testing on subject: [2]\n",
      "Training on subjects: [1 2 3 4 5 6] Testing on subject: [7]\n",
      "Training on subjects: [1 2 3 4 5 7] Testing on subject: [6]\n"
     ]
    },
    {
     "name": "stderr",
     "output_type": "stream",
     "text": [
      "[I 2024-05-14 19:14:40,901] Trial 42 finished with value: 0.9880952380952381 and parameters: {'criterion': 'gini', 'splitter': 'random', 'max_depth': 14, 'min_samples_split': 20, 'min_samples_leaf': 3, 'max_features': 'sqrt'}. Best is trial 37 with value: 0.9976190476190476.\n",
      "[I 2024-05-14 19:14:41,013] Trial 43 finished with value: 0.992816787732042 and parameters: {'criterion': 'gini', 'splitter': 'best', 'max_depth': 11, 'min_samples_split': 13, 'min_samples_leaf': 16, 'max_features': 'sqrt'}. Best is trial 37 with value: 0.9976190476190476.\n"
     ]
    },
    {
     "name": "stdout",
     "output_type": "stream",
     "text": [
      "Training on subjects: [1 2 3 4 6 7] Testing on subject: [5]\n",
      "Training on subjects: [1 2 3 5 6 7] Testing on subject: [4]\n",
      "Training on subjects: [1 2 4 5 6 7] Testing on subject: [3]\n",
      "Training on subjects: [2 3 4 5 6 7] Testing on subject: [1]\n",
      "Training on subjects: [1 3 4 5 6 7] Testing on subject: [2]\n",
      "Training on subjects: [1 2 3 4 5 6] Testing on subject: [7]\n",
      "Training on subjects: [1 2 3 4 5 7] Testing on subject: [6]\n",
      "Training on subjects: [1 2 3 4 6 7] Testing on subject: [5]\n",
      "Training on subjects: [1 2 3 5 6 7] Testing on subject: [4]\n",
      "Training on subjects: [1 2 4 5 6 7] Testing on subject: [3]\n",
      "Training on subjects: [2 3 4 5 6 7] Testing on subject: [1]\n",
      "Training on subjects: [1 3 4 5 6 7] Testing on subject: [2]\n",
      "Training on subjects: [1 2 3 4 5 6] Testing on subject: [7]\n",
      "Training on subjects: [1 2 3 4 5 7] Testing on subject: [6]\n",
      "Training on subjects: [1 2 3 4 6 7] Testing on subject: [5]\n"
     ]
    },
    {
     "name": "stderr",
     "output_type": "stream",
     "text": [
      "[I 2024-05-14 19:14:41,121] Trial 44 finished with value: 0.8663034705407586 and parameters: {'criterion': 'gini', 'splitter': 'random', 'max_depth': 10, 'min_samples_split': 7, 'min_samples_leaf': 19, 'max_features': 'log2'}. Best is trial 37 with value: 0.9976190476190476.\n",
      "[I 2024-05-14 19:14:41,216] Trial 45 finished with value: 0.9666666666666667 and parameters: {'criterion': 'entropy', 'splitter': 'best', 'max_depth': 13, 'min_samples_split': 10, 'min_samples_leaf': 11, 'max_features': 'sqrt'}. Best is trial 37 with value: 0.9976190476190476.\n"
     ]
    },
    {
     "name": "stdout",
     "output_type": "stream",
     "text": [
      "Training on subjects: [1 2 3 5 6 7] Testing on subject: [4]\n",
      "Training on subjects: [1 2 4 5 6 7] Testing on subject: [3]\n",
      "Training on subjects: [2 3 4 5 6 7] Testing on subject: [1]\n",
      "Training on subjects: [1 3 4 5 6 7] Testing on subject: [2]\n",
      "Training on subjects: [1 2 3 4 5 6] Testing on subject: [7]\n",
      "Training on subjects: [1 2 3 4 5 7] Testing on subject: [6]\n",
      "Training on subjects: [1 2 3 4 6 7] Testing on subject: [5]\n",
      "Training on subjects: [1 2 3 5 6 7] Testing on subject: [4]\n",
      "Training on subjects: [1 2 4 5 6 7] Testing on subject: [3]\n",
      "Training on subjects: [2 3 4 5 6 7] Testing on subject: [1]\n",
      "Training on subjects: [1 3 4 5 6 7] Testing on subject: [2]\n",
      "Training on subjects: [1 2 3 4 5 6] Testing on subject: [7]\n",
      "Training on subjects: [1 2 3 4 5 7] Testing on subject: [6]\n",
      "Training on subjects: [1 2 3 4 6 7] Testing on subject: [5]\n",
      "Training on subjects: [1 2 3 5 6 7] Testing on subject: [4]\n"
     ]
    },
    {
     "name": "stderr",
     "output_type": "stream",
     "text": [
      "[I 2024-05-14 19:14:41,326] Trial 46 finished with value: 0.9903954802259888 and parameters: {'criterion': 'entropy', 'splitter': 'best', 'max_depth': 12, 'min_samples_split': 13, 'min_samples_leaf': 7, 'max_features': 'sqrt'}. Best is trial 37 with value: 0.9976190476190476.\n",
      "[I 2024-05-14 19:14:41,440] Trial 47 finished with value: 0.969047619047619 and parameters: {'criterion': 'gini', 'splitter': 'random', 'max_depth': 15, 'min_samples_split': 8, 'min_samples_leaf': 14, 'max_features': 'sqrt'}. Best is trial 37 with value: 0.9976190476190476.\n"
     ]
    },
    {
     "name": "stdout",
     "output_type": "stream",
     "text": [
      "Training on subjects: [1 2 4 5 6 7] Testing on subject: [3]\n",
      "Training on subjects: [2 3 4 5 6 7] Testing on subject: [1]\n",
      "Training on subjects: [1 3 4 5 6 7] Testing on subject: [2]\n",
      "Training on subjects: [1 2 3 4 5 6] Testing on subject: [7]\n",
      "Training on subjects: [1 2 3 4 5 7] Testing on subject: [6]\n",
      "Training on subjects: [1 2 3 4 6 7] Testing on subject: [5]\n",
      "Training on subjects: [1 2 3 5 6 7] Testing on subject: [4]\n",
      "Training on subjects: [1 2 4 5 6 7] Testing on subject: [3]\n",
      "Training on subjects: [2 3 4 5 6 7] Testing on subject: [1]\n",
      "Training on subjects: [1 3 4 5 6 7] Testing on subject: [2]\n",
      "Training on subjects: [1 2 3 4 5 6] Testing on subject: [7]\n"
     ]
    },
    {
     "name": "stderr",
     "output_type": "stream",
     "text": [
      "[I 2024-05-14 19:14:41,600] Trial 48 finished with value: 0.9903954802259888 and parameters: {'criterion': 'entropy', 'splitter': 'best', 'max_depth': 6, 'min_samples_split': 11, 'min_samples_leaf': 18, 'max_features': None}. Best is trial 37 with value: 0.9976190476190476.\n"
     ]
    },
    {
     "name": "stdout",
     "output_type": "stream",
     "text": [
      "Training on subjects: [1 2 3 4 5 7] Testing on subject: [6]\n",
      "Training on subjects: [1 2 3 4 6 7] Testing on subject: [5]\n",
      "Training on subjects: [1 2 3 5 6 7] Testing on subject: [4]\n",
      "Training on subjects: [1 2 4 5 6 7] Testing on subject: [3]\n",
      "Training on subjects: [2 3 4 5 6 7] Testing on subject: [1]\n",
      "Training on subjects: [1 3 4 5 6 7] Testing on subject: [2]\n",
      "Training on subjects: [1 2 3 4 5 6] Testing on subject: [7]\n",
      "Training on subjects: [1 2 3 4 5 7] Testing on subject: [6]\n",
      "Training on subjects: [1 2 3 4 6 7] Testing on subject: [5]\n",
      "Training on subjects: [1 2 3 5 6 7] Testing on subject: [4]\n"
     ]
    },
    {
     "name": "stderr",
     "output_type": "stream",
     "text": [
      "[I 2024-05-14 19:14:41,792] Trial 49 finished with value: 0.9232041969330105 and parameters: {'criterion': 'entropy', 'splitter': 'best', 'max_depth': 2, 'min_samples_split': 15, 'min_samples_leaf': 8, 'max_features': 'sqrt'}. Best is trial 37 with value: 0.9976190476190476.\n",
      "[I 2024-05-14 19:14:41,909] Trial 50 finished with value: 0.9928571428571429 and parameters: {'criterion': 'entropy', 'splitter': 'best', 'max_depth': 11, 'min_samples_split': 9, 'min_samples_leaf': 4, 'max_features': 'log2'}. Best is trial 37 with value: 0.9976190476190476.\n"
     ]
    },
    {
     "name": "stdout",
     "output_type": "stream",
     "text": [
      "Training on subjects: [1 2 4 5 6 7] Testing on subject: [3]\n",
      "Training on subjects: [2 3 4 5 6 7] Testing on subject: [1]\n",
      "Training on subjects: [1 3 4 5 6 7] Testing on subject: [2]\n",
      "Training on subjects: [1 2 3 4 5 6] Testing on subject: [7]\n",
      "Training on subjects: [1 2 3 4 5 7] Testing on subject: [6]\n",
      "Training on subjects: [1 2 3 4 6 7] Testing on subject: [5]\n",
      "Training on subjects: [1 2 3 5 6 7] Testing on subject: [4]\n",
      "Training on subjects: [1 2 4 5 6 7] Testing on subject: [3]\n",
      "Training on subjects: [2 3 4 5 6 7] Testing on subject: [1]\n",
      "Training on subjects: [1 3 4 5 6 7] Testing on subject: [2]\n"
     ]
    },
    {
     "name": "stderr",
     "output_type": "stream",
     "text": [
      "[I 2024-05-14 19:14:42,027] Trial 51 finished with value: 0.9880548829701372 and parameters: {'criterion': 'entropy', 'splitter': 'best', 'max_depth': 8, 'min_samples_split': 9, 'min_samples_leaf': 3, 'max_features': 'log2'}. Best is trial 37 with value: 0.9976190476190476.\n",
      "[I 2024-05-14 19:14:42,122] Trial 52 finished with value: 0.985633575464084 and parameters: {'criterion': 'entropy', 'splitter': 'best', 'max_depth': 11, 'min_samples_split': 7, 'min_samples_leaf': 5, 'max_features': 'log2'}. Best is trial 37 with value: 0.9976190476190476.\n"
     ]
    },
    {
     "name": "stdout",
     "output_type": "stream",
     "text": [
      "Training on subjects: [1 2 3 4 5 6] Testing on subject: [7]\n",
      "Training on subjects: [1 2 3 4 5 7] Testing on subject: [6]\n",
      "Training on subjects: [1 2 3 4 6 7] Testing on subject: [5]\n",
      "Training on subjects: [1 2 3 5 6 7] Testing on subject: [4]\n",
      "Training on subjects: [1 2 4 5 6 7] Testing on subject: [3]\n",
      "Training on subjects: [2 3 4 5 6 7] Testing on subject: [1]\n",
      "Training on subjects: [1 3 4 5 6 7] Testing on subject: [2]\n",
      "Training on subjects: [1 2 3 4 5 6] Testing on subject: [7]\n",
      "Training on subjects: [1 2 3 4 5 7] Testing on subject: [6]\n",
      "Training on subjects: [1 2 3 4 6 7] Testing on subject: [5]\n",
      "Training on subjects: [1 2 3 5 6 7] Testing on subject: [4]\n",
      "Training on subjects: [1 2 4 5 6 7] Testing on subject: [3]\n",
      "Training on subjects: [2 3 4 5 6 7] Testing on subject: [1]\n",
      "Training on subjects: [1 3 4 5 6 7] Testing on subject: [2]\n"
     ]
    },
    {
     "name": "stderr",
     "output_type": "stream",
     "text": [
      "[I 2024-05-14 19:14:42,221] Trial 53 finished with value: 0.9832526230831317 and parameters: {'criterion': 'entropy', 'splitter': 'best', 'max_depth': 12, 'min_samples_split': 12, 'min_samples_leaf': 1, 'max_features': 'log2'}. Best is trial 37 with value: 0.9976190476190476.\n",
      "[I 2024-05-14 19:14:42,347] Trial 54 finished with value: 0.9833333333333334 and parameters: {'criterion': 'entropy', 'splitter': 'best', 'max_depth': 9, 'min_samples_split': 5, 'min_samples_leaf': 4, 'max_features': 'log2'}. Best is trial 37 with value: 0.9976190476190476.\n"
     ]
    },
    {
     "name": "stdout",
     "output_type": "stream",
     "text": [
      "Training on subjects: [1 2 3 4 5 6] Testing on subject: [7]\n",
      "Training on subjects: [1 2 3 4 5 7] Testing on subject: [6]\n",
      "Training on subjects: [1 2 3 4 6 7] Testing on subject: [5]\n",
      "Training on subjects: [1 2 3 5 6 7] Testing on subject: [4]\n",
      "Training on subjects: [1 2 4 5 6 7] Testing on subject: [3]\n",
      "Training on subjects: [2 3 4 5 6 7] Testing on subject: [1]\n",
      "Training on subjects: [1 3 4 5 6 7] Testing on subject: [2]\n",
      "Training on subjects: [1 2 3 4 5 6] Testing on subject: [7]\n",
      "Training on subjects: [1 2 3 4 5 7] Testing on subject: [6]\n",
      "Training on subjects: [1 2 3 4 6 7] Testing on subject: [5]\n",
      "Training on subjects: [1 2 3 5 6 7] Testing on subject: [4]\n",
      "Training on subjects: [1 2 4 5 6 7] Testing on subject: [3]\n",
      "Training on subjects: [2 3 4 5 6 7] Testing on subject: [1]\n",
      "Training on subjects: [1 3 4 5 6 7] Testing on subject: [2]\n"
     ]
    },
    {
     "name": "stderr",
     "output_type": "stream",
     "text": [
      "[I 2024-05-14 19:14:42,443] Trial 55 finished with value: 0.9785714285714285 and parameters: {'criterion': 'entropy', 'splitter': 'best', 'max_depth': 13, 'min_samples_split': 10, 'min_samples_leaf': 6, 'max_features': 'log2'}. Best is trial 37 with value: 0.9976190476190476.\n",
      "[I 2024-05-14 19:14:42,552] Trial 56 finished with value: 0.9904358353510896 and parameters: {'criterion': 'entropy', 'splitter': 'best', 'max_depth': 10, 'min_samples_split': 6, 'min_samples_leaf': 2, 'max_features': 'sqrt'}. Best is trial 37 with value: 0.9976190476190476.\n"
     ]
    },
    {
     "name": "stdout",
     "output_type": "stream",
     "text": [
      "Training on subjects: [1 2 3 4 5 6] Testing on subject: [7]\n",
      "Training on subjects: [1 2 3 4 5 7] Testing on subject: [6]\n",
      "Training on subjects: [1 2 3 4 6 7] Testing on subject: [5]\n",
      "Training on subjects: [1 2 3 5 6 7] Testing on subject: [4]\n",
      "Training on subjects: [1 2 4 5 6 7] Testing on subject: [3]\n",
      "Training on subjects: [2 3 4 5 6 7] Testing on subject: [1]\n",
      "Training on subjects: [1 3 4 5 6 7] Testing on subject: [2]\n",
      "Training on subjects: [1 2 3 4 5 6] Testing on subject: [7]\n",
      "Training on subjects: [1 2 3 4 5 7] Testing on subject: [6]\n",
      "Training on subjects: [1 2 3 4 6 7] Testing on subject: [5]\n",
      "Training on subjects: [1 2 3 5 6 7] Testing on subject: [4]\n",
      "Training on subjects: [1 2 4 5 6 7] Testing on subject: [3]\n",
      "Training on subjects: [2 3 4 5 6 7] Testing on subject: [1]\n",
      "Training on subjects: [1 3 4 5 6 7] Testing on subject: [2]\n"
     ]
    },
    {
     "name": "stderr",
     "output_type": "stream",
     "text": [
      "[I 2024-05-14 19:14:42,659] Trial 57 finished with value: 0.930952380952381 and parameters: {'criterion': 'entropy', 'splitter': 'best', 'max_depth': 14, 'min_samples_split': 8, 'min_samples_leaf': 20, 'max_features': 'sqrt'}. Best is trial 37 with value: 0.9976190476190476.\n",
      "[I 2024-05-14 19:14:42,752] Trial 58 finished with value: 0.9857142857142858 and parameters: {'criterion': 'entropy', 'splitter': 'random', 'max_depth': 11, 'min_samples_split': 11, 'min_samples_leaf': 12, 'max_features': 'sqrt'}. Best is trial 37 with value: 0.9976190476190476.\n"
     ]
    },
    {
     "name": "stdout",
     "output_type": "stream",
     "text": [
      "Training on subjects: [1 2 3 4 5 6] Testing on subject: [7]\n",
      "Training on subjects: [1 2 3 4 5 7] Testing on subject: [6]\n",
      "Training on subjects: [1 2 3 4 6 7] Testing on subject: [5]\n",
      "Training on subjects: [1 2 3 5 6 7] Testing on subject: [4]\n",
      "Training on subjects: [1 2 4 5 6 7] Testing on subject: [3]\n",
      "Training on subjects: [2 3 4 5 6 7] Testing on subject: [1]\n",
      "Training on subjects: [1 3 4 5 6 7] Testing on subject: [2]\n",
      "Training on subjects: [1 2 3 4 5 6] Testing on subject: [7]\n",
      "Training on subjects: [1 2 3 4 5 7] Testing on subject: [6]\n",
      "Training on subjects: [1 2 3 4 6 7] Testing on subject: [5]\n",
      "Training on subjects: [1 2 3 5 6 7] Testing on subject: [4]\n",
      "Training on subjects: [1 2 4 5 6 7] Testing on subject: [3]\n",
      "Training on subjects: [2 3 4 5 6 7] Testing on subject: [1]\n",
      "Training on subjects: [1 3 4 5 6 7] Testing on subject: [2]\n",
      "Training on subjects: [1 2 3 4 5 6] Testing on subject: [7]\n",
      "Training on subjects: [1 2 3 4 5 7] Testing on subject: [6]\n"
     ]
    },
    {
     "name": "stderr",
     "output_type": "stream",
     "text": [
      "[I 2024-05-14 19:14:42,933] Trial 59 finished with value: 0.9784907183212267 and parameters: {'criterion': 'gini', 'splitter': 'best', 'max_depth': 14, 'min_samples_split': 8, 'min_samples_leaf': 4, 'max_features': None}. Best is trial 37 with value: 0.9976190476190476.\n"
     ]
    },
    {
     "name": "stdout",
     "output_type": "stream",
     "text": [
      "Training on subjects: [1 2 3 4 6 7] Testing on subject: [5]\n",
      "Training on subjects: [1 2 3 5 6 7] Testing on subject: [4]\n",
      "Training on subjects: [1 2 4 5 6 7] Testing on subject: [3]\n",
      "Training on subjects: [2 3 4 5 6 7] Testing on subject: [1]\n",
      "Training on subjects: [1 3 4 5 6 7] Testing on subject: [2]\n",
      "Training on subjects: [1 2 3 4 5 6] Testing on subject: [7]\n",
      "Training on subjects: [1 2 3 4 5 7] Testing on subject: [6]\n",
      "Training on subjects: [1 2 3 4 6 7] Testing on subject: [5]\n",
      "Training on subjects: [1 2 3 5 6 7] Testing on subject: [4]\n",
      "Training on subjects: [1 2 4 5 6 7] Testing on subject: [3]\n",
      "Training on subjects: [2 3 4 5 6 7] Testing on subject: [1]\n",
      "Training on subjects: [1 3 4 5 6 7] Testing on subject: [2]\n"
     ]
    },
    {
     "name": "stderr",
     "output_type": "stream",
     "text": [
      "[I 2024-05-14 19:14:43,046] Trial 60 finished with value: 0.9761904761904763 and parameters: {'criterion': 'entropy', 'splitter': 'best', 'max_depth': 12, 'min_samples_split': 14, 'min_samples_leaf': 17, 'max_features': 'sqrt'}. Best is trial 37 with value: 0.9976190476190476.\n",
      "[I 2024-05-14 19:14:43,150] Trial 61 finished with value: 0.9904761904761905 and parameters: {'criterion': 'entropy', 'splitter': 'best', 'max_depth': 13, 'min_samples_split': 9, 'min_samples_leaf': 20, 'max_features': 'sqrt'}. Best is trial 37 with value: 0.9976190476190476.\n",
      "[I 2024-05-14 19:14:43,285] Trial 62 finished with value: 0.9475383373688459 and parameters: {'criterion': 'entropy', 'splitter': 'best', 'max_depth': 15, 'min_samples_split': 9, 'min_samples_leaf': 19, 'max_features': 'sqrt'}. Best is trial 37 with value: 0.9976190476190476.\n"
     ]
    },
    {
     "name": "stdout",
     "output_type": "stream",
     "text": [
      "Training on subjects: [1 2 3 4 5 6] Testing on subject: [7]\n",
      "Training on subjects: [1 2 3 4 5 7] Testing on subject: [6]\n",
      "Training on subjects: [1 2 3 4 6 7] Testing on subject: [5]\n",
      "Training on subjects: [1 2 3 5 6 7] Testing on subject: [4]\n",
      "Training on subjects: [1 2 4 5 6 7] Testing on subject: [3]\n",
      "Training on subjects: [2 3 4 5 6 7] Testing on subject: [1]\n",
      "Training on subjects: [1 3 4 5 6 7] Testing on subject: [2]\n",
      "Training on subjects: [1 2 3 4 5 6] Testing on subject: [7]\n",
      "Training on subjects: [1 2 3 4 5 7] Testing on subject: [6]\n",
      "Training on subjects: [1 2 3 4 6 7] Testing on subject: [5]\n",
      "Training on subjects: [1 2 3 5 6 7] Testing on subject: [4]\n",
      "Training on subjects: [1 2 4 5 6 7] Testing on subject: [3]\n",
      "Training on subjects: [2 3 4 5 6 7] Testing on subject: [1]\n",
      "Training on subjects: [1 3 4 5 6 7] Testing on subject: [2]\n"
     ]
    },
    {
     "name": "stderr",
     "output_type": "stream",
     "text": [
      "[I 2024-05-14 19:14:43,402] Trial 63 finished with value: 0.935633575464084 and parameters: {'criterion': 'entropy', 'splitter': 'best', 'max_depth': 14, 'min_samples_split': 7, 'min_samples_leaf': 20, 'max_features': 'sqrt'}. Best is trial 37 with value: 0.9976190476190476.\n",
      "[I 2024-05-14 19:14:43,506] Trial 64 finished with value: 0.9784907183212269 and parameters: {'criterion': 'entropy', 'splitter': 'best', 'max_depth': 13, 'min_samples_split': 10, 'min_samples_leaf': 19, 'max_features': 'sqrt'}. Best is trial 37 with value: 0.9976190476190476.\n"
     ]
    },
    {
     "name": "stdout",
     "output_type": "stream",
     "text": [
      "Training on subjects: [1 2 3 4 5 6] Testing on subject: [7]\n",
      "Training on subjects: [1 2 3 4 5 7] Testing on subject: [6]\n",
      "Training on subjects: [1 2 3 4 6 7] Testing on subject: [5]\n",
      "Training on subjects: [1 2 3 5 6 7] Testing on subject: [4]\n",
      "Training on subjects: [1 2 4 5 6 7] Testing on subject: [3]\n",
      "Training on subjects: [2 3 4 5 6 7] Testing on subject: [1]\n",
      "Training on subjects: [1 3 4 5 6 7] Testing on subject: [2]\n",
      "Training on subjects: [1 2 3 4 5 6] Testing on subject: [7]\n",
      "Training on subjects: [1 2 3 4 5 7] Testing on subject: [6]\n",
      "Training on subjects: [1 2 3 4 6 7] Testing on subject: [5]\n",
      "Training on subjects: [1 2 3 5 6 7] Testing on subject: [4]\n",
      "Training on subjects: [1 2 4 5 6 7] Testing on subject: [3]\n",
      "Training on subjects: [2 3 4 5 6 7] Testing on subject: [1]\n",
      "Training on subjects: [1 3 4 5 6 7] Testing on subject: [2]\n"
     ]
    },
    {
     "name": "stderr",
     "output_type": "stream",
     "text": [
      "[I 2024-05-14 19:14:43,621] Trial 65 finished with value: 0.9761097659402745 and parameters: {'criterion': 'entropy', 'splitter': 'best', 'max_depth': 12, 'min_samples_split': 6, 'min_samples_leaf': 18, 'max_features': 'sqrt'}. Best is trial 37 with value: 0.9976190476190476.\n"
     ]
    },
    {
     "name": "stdout",
     "output_type": "stream",
     "text": [
      "Training on subjects: [1 2 3 4 5 6] Testing on subject: [7]\n",
      "Training on subjects: [1 2 3 4 5 7] Testing on subject: [6]\n",
      "Training on subjects: [1 2 3 4 6 7] Testing on subject: [5]\n",
      "Training on subjects: [1 2 3 5 6 7] Testing on subject: [4]\n",
      "Training on subjects: [1 2 4 5 6 7] Testing on subject: [3]\n",
      "Training on subjects: [2 3 4 5 6 7] Testing on subject: [1]\n",
      "Training on subjects: [1 3 4 5 6 7] Testing on subject: [2]\n",
      "Training on subjects: [1 2 3 4 5 6] Testing on subject: [7]\n",
      "Training on subjects: [1 2 3 4 5 7] Testing on subject: [6]\n",
      "Training on subjects: [1 2 3 4 6 7] Testing on subject: [5]\n",
      "Training on subjects: [1 2 3 5 6 7] Testing on subject: [4]\n"
     ]
    },
    {
     "name": "stderr",
     "output_type": "stream",
     "text": [
      "[I 2024-05-14 19:14:43,814] Trial 66 finished with value: 0.9880145278450364 and parameters: {'criterion': 'entropy', 'splitter': 'best', 'max_depth': 14, 'min_samples_split': 4, 'min_samples_leaf': 16, 'max_features': 'sqrt'}. Best is trial 37 with value: 0.9976190476190476.\n",
      "[I 2024-05-14 19:14:43,925] Trial 67 finished with value: 0.973769168684423 and parameters: {'criterion': 'entropy', 'splitter': 'best', 'max_depth': 11, 'min_samples_split': 7, 'min_samples_leaf': 18, 'max_features': 'log2'}. Best is trial 37 with value: 0.9976190476190476.\n"
     ]
    },
    {
     "name": "stdout",
     "output_type": "stream",
     "text": [
      "Training on subjects: [1 2 4 5 6 7] Testing on subject: [3]\n",
      "Training on subjects: [2 3 4 5 6 7] Testing on subject: [1]\n",
      "Training on subjects: [1 3 4 5 6 7] Testing on subject: [2]\n",
      "Training on subjects: [1 2 3 4 5 6] Testing on subject: [7]\n",
      "Training on subjects: [1 2 3 4 5 7] Testing on subject: [6]\n",
      "Training on subjects: [1 2 3 4 6 7] Testing on subject: [5]\n",
      "Training on subjects: [1 2 3 5 6 7] Testing on subject: [4]\n",
      "Training on subjects: [1 2 4 5 6 7] Testing on subject: [3]\n",
      "Training on subjects: [2 3 4 5 6 7] Testing on subject: [1]\n",
      "Training on subjects: [1 3 4 5 6 7] Testing on subject: [2]\n",
      "Training on subjects: [1 2 3 4 5 6] Testing on subject: [7]\n"
     ]
    },
    {
     "name": "stderr",
     "output_type": "stream",
     "text": [
      "[I 2024-05-14 19:14:44,054] Trial 68 finished with value: 0.9880952380952381 and parameters: {'criterion': 'entropy', 'splitter': 'random', 'max_depth': 13, 'min_samples_split': 13, 'min_samples_leaf': 15, 'max_features': 'sqrt'}. Best is trial 37 with value: 0.9976190476190476.\n",
      "[I 2024-05-14 19:14:44,162] Trial 69 finished with value: 0.985633575464084 and parameters: {'criterion': 'entropy', 'splitter': 'best', 'max_depth': 4, 'min_samples_split': 3, 'min_samples_leaf': 20, 'max_features': 'sqrt'}. Best is trial 37 with value: 0.9976190476190476.\n"
     ]
    },
    {
     "name": "stdout",
     "output_type": "stream",
     "text": [
      "Training on subjects: [1 2 3 4 5 7] Testing on subject: [6]\n",
      "Training on subjects: [1 2 3 4 6 7] Testing on subject: [5]\n",
      "Training on subjects: [1 2 3 5 6 7] Testing on subject: [4]\n",
      "Training on subjects: [1 2 4 5 6 7] Testing on subject: [3]\n",
      "Training on subjects: [2 3 4 5 6 7] Testing on subject: [1]\n",
      "Training on subjects: [1 3 4 5 6 7] Testing on subject: [2]\n",
      "Training on subjects: [1 2 3 4 5 6] Testing on subject: [7]\n",
      "Training on subjects: [1 2 3 4 5 7] Testing on subject: [6]\n",
      "Training on subjects: [1 2 3 4 6 7] Testing on subject: [5]\n",
      "Training on subjects: [1 2 3 5 6 7] Testing on subject: [4]\n",
      "Training on subjects: [1 2 4 5 6 7] Testing on subject: [3]\n",
      "Training on subjects: [2 3 4 5 6 7] Testing on subject: [1]\n",
      "Training on subjects: [1 3 4 5 6 7] Testing on subject: [2]\n",
      "Training on subjects: [1 2 3 4 5 6] Testing on subject: [7]\n"
     ]
    },
    {
     "name": "stderr",
     "output_type": "stream",
     "text": [
      "[I 2024-05-14 19:14:44,315] Trial 70 finished with value: 0.9808313155770784 and parameters: {'criterion': 'gini', 'splitter': 'best', 'max_depth': 10, 'min_samples_split': 11, 'min_samples_leaf': 6, 'max_features': None}. Best is trial 37 with value: 0.9976190476190476.\n",
      "[I 2024-05-14 19:14:44,419] Trial 71 finished with value: 0.9689669087974172 and parameters: {'criterion': 'gini', 'splitter': 'best', 'max_depth': 11, 'min_samples_split': 13, 'min_samples_leaf': 14, 'max_features': 'sqrt'}. Best is trial 37 with value: 0.9976190476190476.\n"
     ]
    },
    {
     "name": "stdout",
     "output_type": "stream",
     "text": [
      "Training on subjects: [1 2 3 4 5 7] Testing on subject: [6]\n",
      "Training on subjects: [1 2 3 4 6 7] Testing on subject: [5]\n",
      "Training on subjects: [1 2 3 5 6 7] Testing on subject: [4]\n",
      "Training on subjects: [1 2 4 5 6 7] Testing on subject: [3]\n",
      "Training on subjects: [2 3 4 5 6 7] Testing on subject: [1]\n",
      "Training on subjects: [1 3 4 5 6 7] Testing on subject: [2]\n",
      "Training on subjects: [1 2 3 4 5 6] Testing on subject: [7]\n",
      "Training on subjects: [1 2 3 4 5 7] Testing on subject: [6]\n",
      "Training on subjects: [1 2 3 4 6 7] Testing on subject: [5]\n",
      "Training on subjects: [1 2 3 5 6 7] Testing on subject: [4]\n",
      "Training on subjects: [1 2 4 5 6 7] Testing on subject: [3]\n",
      "Training on subjects: [2 3 4 5 6 7] Testing on subject: [1]\n",
      "Training on subjects: [1 3 4 5 6 7] Testing on subject: [2]\n"
     ]
    },
    {
     "name": "stderr",
     "output_type": "stream",
     "text": [
      "[I 2024-05-14 19:14:44,533] Trial 72 finished with value: 0.9404761904761905 and parameters: {'criterion': 'gini', 'splitter': 'best', 'max_depth': 11, 'min_samples_split': 8, 'min_samples_leaf': 16, 'max_features': 'sqrt'}. Best is trial 37 with value: 0.9976190476190476.\n",
      "[I 2024-05-14 19:14:44,650] Trial 73 finished with value: 0.9833333333333333 and parameters: {'criterion': 'gini', 'splitter': 'best', 'max_depth': 12, 'min_samples_split': 12, 'min_samples_leaf': 18, 'max_features': 'sqrt'}. Best is trial 37 with value: 0.9976190476190476.\n"
     ]
    },
    {
     "name": "stdout",
     "output_type": "stream",
     "text": [
      "Training on subjects: [1 2 3 4 5 6] Testing on subject: [7]\n",
      "Training on subjects: [1 2 3 4 5 7] Testing on subject: [6]\n",
      "Training on subjects: [1 2 3 4 6 7] Testing on subject: [5]\n",
      "Training on subjects: [1 2 3 5 6 7] Testing on subject: [4]\n",
      "Training on subjects: [1 2 4 5 6 7] Testing on subject: [3]\n",
      "Training on subjects: [2 3 4 5 6 7] Testing on subject: [1]\n",
      "Training on subjects: [1 3 4 5 6 7] Testing on subject: [2]\n",
      "Training on subjects: [1 2 3 4 5 6] Testing on subject: [7]\n",
      "Training on subjects: [1 2 3 4 5 7] Testing on subject: [6]\n",
      "Training on subjects: [1 2 3 4 6 7] Testing on subject: [5]\n",
      "Training on subjects: [1 2 3 5 6 7] Testing on subject: [4]\n",
      "Training on subjects: [1 2 4 5 6 7] Testing on subject: [3]\n",
      "Training on subjects: [2 3 4 5 6 7] Testing on subject: [1]\n",
      "Training on subjects: [1 3 4 5 6 7] Testing on subject: [2]\n"
     ]
    },
    {
     "name": "stderr",
     "output_type": "stream",
     "text": [
      "[I 2024-05-14 19:14:44,752] Trial 74 finished with value: 0.9928571428571429 and parameters: {'criterion': 'gini', 'splitter': 'best', 'max_depth': 15, 'min_samples_split': 16, 'min_samples_leaf': 17, 'max_features': 'sqrt'}. Best is trial 37 with value: 0.9976190476190476.\n",
      "[I 2024-05-14 19:14:44,865] Trial 75 finished with value: 0.9880145278450364 and parameters: {'criterion': 'gini', 'splitter': 'best', 'max_depth': 15, 'min_samples_split': 16, 'min_samples_leaf': 17, 'max_features': 'sqrt'}. Best is trial 37 with value: 0.9976190476190476.\n"
     ]
    },
    {
     "name": "stdout",
     "output_type": "stream",
     "text": [
      "Training on subjects: [1 2 3 4 5 6] Testing on subject: [7]\n",
      "Training on subjects: [1 2 3 4 5 7] Testing on subject: [6]\n",
      "Training on subjects: [1 2 3 4 6 7] Testing on subject: [5]\n",
      "Training on subjects: [1 2 3 5 6 7] Testing on subject: [4]\n",
      "Training on subjects: [1 2 4 5 6 7] Testing on subject: [3]\n",
      "Training on subjects: [2 3 4 5 6 7] Testing on subject: [1]\n",
      "Training on subjects: [1 3 4 5 6 7] Testing on subject: [2]\n",
      "Training on subjects: [1 2 3 4 5 6] Testing on subject: [7]\n",
      "Training on subjects: [1 2 3 4 5 7] Testing on subject: [6]\n",
      "Training on subjects: [1 2 3 4 6 7] Testing on subject: [5]\n",
      "Training on subjects: [1 2 3 5 6 7] Testing on subject: [4]\n",
      "Training on subjects: [1 2 4 5 6 7] Testing on subject: [3]\n",
      "Training on subjects: [2 3 4 5 6 7] Testing on subject: [1]\n",
      "Training on subjects: [1 3 4 5 6 7] Testing on subject: [2]\n"
     ]
    },
    {
     "name": "stderr",
     "output_type": "stream",
     "text": [
      "[I 2024-05-14 19:14:44,965] Trial 76 finished with value: 0.9642857142857143 and parameters: {'criterion': 'gini', 'splitter': 'random', 'max_depth': 15, 'min_samples_split': 17, 'min_samples_leaf': 19, 'max_features': 'sqrt'}. Best is trial 37 with value: 0.9976190476190476.\n",
      "[I 2024-05-14 19:14:45,077] Trial 77 finished with value: 0.9404761904761905 and parameters: {'criterion': 'entropy', 'splitter': 'best', 'max_depth': 14, 'min_samples_split': 16, 'min_samples_leaf': 15, 'max_features': 'sqrt'}. Best is trial 37 with value: 0.9976190476190476.\n"
     ]
    },
    {
     "name": "stdout",
     "output_type": "stream",
     "text": [
      "Training on subjects: [1 2 3 4 5 6] Testing on subject: [7]\n",
      "Training on subjects: [1 2 3 4 5 7] Testing on subject: [6]\n",
      "Training on subjects: [1 2 3 4 6 7] Testing on subject: [5]\n",
      "Training on subjects: [1 2 3 5 6 7] Testing on subject: [4]\n",
      "Training on subjects: [1 2 4 5 6 7] Testing on subject: [3]\n",
      "Training on subjects: [2 3 4 5 6 7] Testing on subject: [1]\n",
      "Training on subjects: [1 3 4 5 6 7] Testing on subject: [2]\n",
      "Training on subjects: [1 2 3 4 5 6] Testing on subject: [7]\n",
      "Training on subjects: [1 2 3 4 5 7] Testing on subject: [6]\n",
      "Training on subjects: [1 2 3 4 6 7] Testing on subject: [5]\n",
      "Training on subjects: [1 2 3 5 6 7] Testing on subject: [4]\n",
      "Training on subjects: [1 2 4 5 6 7] Testing on subject: [3]\n",
      "Training on subjects: [2 3 4 5 6 7] Testing on subject: [1]\n",
      "Training on subjects: [1 3 4 5 6 7] Testing on subject: [2]\n"
     ]
    },
    {
     "name": "stderr",
     "output_type": "stream",
     "text": [
      "[I 2024-05-14 19:14:45,194] Trial 78 finished with value: 0.9904761904761905 and parameters: {'criterion': 'entropy', 'splitter': 'best', 'max_depth': 15, 'min_samples_split': 18, 'min_samples_leaf': 13, 'max_features': 'sqrt'}. Best is trial 37 with value: 0.9976190476190476.\n",
      "[I 2024-05-14 19:14:45,298] Trial 79 finished with value: 0.9690072639225181 and parameters: {'criterion': 'gini', 'splitter': 'best', 'max_depth': 14, 'min_samples_split': 9, 'min_samples_leaf': 9, 'max_features': 'log2'}. Best is trial 37 with value: 0.9976190476190476.\n"
     ]
    },
    {
     "name": "stdout",
     "output_type": "stream",
     "text": [
      "Training on subjects: [1 2 3 4 5 6] Testing on subject: [7]\n",
      "Training on subjects: [1 2 3 4 5 7] Testing on subject: [6]\n",
      "Training on subjects: [1 2 3 4 6 7] Testing on subject: [5]\n",
      "Training on subjects: [1 2 3 5 6 7] Testing on subject: [4]\n",
      "Training on subjects: [1 2 4 5 6 7] Testing on subject: [3]\n",
      "Training on subjects: [2 3 4 5 6 7] Testing on subject: [1]\n",
      "Training on subjects: [1 3 4 5 6 7] Testing on subject: [2]\n",
      "Training on subjects: [1 2 3 4 5 6] Testing on subject: [7]\n",
      "Training on subjects: [1 2 3 4 5 7] Testing on subject: [6]\n",
      "Training on subjects: [1 2 3 4 6 7] Testing on subject: [5]\n",
      "Training on subjects: [1 2 3 5 6 7] Testing on subject: [4]\n",
      "Training on subjects: [1 2 4 5 6 7] Testing on subject: [3]\n",
      "Training on subjects: [2 3 4 5 6 7] Testing on subject: [1]\n",
      "Training on subjects: [1 3 4 5 6 7] Testing on subject: [2]\n"
     ]
    },
    {
     "name": "stderr",
     "output_type": "stream",
     "text": [
      "[I 2024-05-14 19:14:45,403] Trial 80 finished with value: 0.9761904761904763 and parameters: {'criterion': 'entropy', 'splitter': 'random', 'max_depth': 13, 'min_samples_split': 9, 'min_samples_leaf': 12, 'max_features': 'sqrt'}. Best is trial 37 with value: 0.9976190476190476.\n",
      "[I 2024-05-14 19:14:45,519] Trial 81 finished with value: 0.966585956416465 and parameters: {'criterion': 'gini', 'splitter': 'best', 'max_depth': 11, 'min_samples_split': 15, 'min_samples_leaf': 17, 'max_features': 'sqrt'}. Best is trial 37 with value: 0.9976190476190476.\n"
     ]
    },
    {
     "name": "stdout",
     "output_type": "stream",
     "text": [
      "Training on subjects: [1 2 3 4 5 6] Testing on subject: [7]\n",
      "Training on subjects: [1 2 3 4 5 7] Testing on subject: [6]\n",
      "Training on subjects: [1 2 3 4 6 7] Testing on subject: [5]\n",
      "Training on subjects: [1 2 3 5 6 7] Testing on subject: [4]\n",
      "Training on subjects: [1 2 4 5 6 7] Testing on subject: [3]\n",
      "Training on subjects: [2 3 4 5 6 7] Testing on subject: [1]\n",
      "Training on subjects: [1 3 4 5 6 7] Testing on subject: [2]\n",
      "Training on subjects: [1 2 3 4 5 6] Testing on subject: [7]\n",
      "Training on subjects: [1 2 3 4 5 7] Testing on subject: [6]\n",
      "Training on subjects: [1 2 3 4 6 7] Testing on subject: [5]\n",
      "Training on subjects: [1 2 3 5 6 7] Testing on subject: [4]\n",
      "Training on subjects: [1 2 4 5 6 7] Testing on subject: [3]\n",
      "Training on subjects: [2 3 4 5 6 7] Testing on subject: [1]\n",
      "Training on subjects: [1 3 4 5 6 7] Testing on subject: [2]\n"
     ]
    },
    {
     "name": "stderr",
     "output_type": "stream",
     "text": [
      "[I 2024-05-14 19:14:45,625] Trial 82 finished with value: 0.9880952380952381 and parameters: {'criterion': 'gini', 'splitter': 'best', 'max_depth': 12, 'min_samples_split': 10, 'min_samples_leaf': 19, 'max_features': 'sqrt'}. Best is trial 37 with value: 0.9976190476190476.\n"
     ]
    },
    {
     "name": "stdout",
     "output_type": "stream",
     "text": [
      "Training on subjects: [1 2 3 4 5 6] Testing on subject: [7]\n",
      "Training on subjects: [1 2 3 4 5 7] Testing on subject: [6]\n",
      "Training on subjects: [1 2 3 4 6 7] Testing on subject: [5]\n",
      "Training on subjects: [1 2 3 5 6 7] Testing on subject: [4]\n",
      "Training on subjects: [1 2 4 5 6 7] Testing on subject: [3]\n",
      "Training on subjects: [2 3 4 5 6 7] Testing on subject: [1]\n",
      "Training on subjects: [1 3 4 5 6 7] Testing on subject: [2]\n",
      "Training on subjects: [1 2 3 4 5 6] Testing on subject: [7]\n",
      "Training on subjects: [1 2 3 4 5 7] Testing on subject: [6]\n",
      "Training on subjects: [1 2 3 4 6 7] Testing on subject: [5]\n",
      "Training on subjects: [1 2 3 5 6 7] Testing on subject: [4]\n",
      "Training on subjects: [1 2 4 5 6 7] Testing on subject: [3]\n",
      "Training on subjects: [2 3 4 5 6 7] Testing on subject: [1]\n",
      "Training on subjects: [1 3 4 5 6 7] Testing on subject: [2]\n"
     ]
    },
    {
     "name": "stderr",
     "output_type": "stream",
     "text": [
      "[I 2024-05-14 19:14:45,749] Trial 83 finished with value: 0.9952380952380953 and parameters: {'criterion': 'gini', 'splitter': 'best', 'max_depth': 10, 'min_samples_split': 12, 'min_samples_leaf': 10, 'max_features': 'sqrt'}. Best is trial 37 with value: 0.9976190476190476.\n",
      "[I 2024-05-14 19:14:45,877] Trial 84 finished with value: 0.9619047619047619 and parameters: {'criterion': 'gini', 'splitter': 'best', 'max_depth': 8, 'min_samples_split': 12, 'min_samples_leaf': 4, 'max_features': 'sqrt'}. Best is trial 37 with value: 0.9976190476190476.\n",
      "[I 2024-05-14 19:14:45,975] Trial 85 finished with value: 0.98091202582728 and parameters: {'criterion': 'gini', 'splitter': 'best', 'max_depth': 10, 'min_samples_split': 11, 'min_samples_leaf': 10, 'max_features': 'sqrt'}. Best is trial 37 with value: 0.9976190476190476.\n"
     ]
    },
    {
     "name": "stdout",
     "output_type": "stream",
     "text": [
      "Training on subjects: [1 2 3 4 5 6] Testing on subject: [7]\n",
      "Training on subjects: [1 2 3 4 5 7] Testing on subject: [6]\n",
      "Training on subjects: [1 2 3 4 6 7] Testing on subject: [5]\n",
      "Training on subjects: [1 2 3 5 6 7] Testing on subject: [4]\n",
      "Training on subjects: [1 2 4 5 6 7] Testing on subject: [3]\n",
      "Training on subjects: [2 3 4 5 6 7] Testing on subject: [1]\n",
      "Training on subjects: [1 3 4 5 6 7] Testing on subject: [2]\n",
      "Training on subjects: [1 2 3 4 5 6] Testing on subject: [7]\n",
      "Training on subjects: [1 2 3 4 5 7] Testing on subject: [6]\n",
      "Training on subjects: [1 2 3 4 6 7] Testing on subject: [5]\n",
      "Training on subjects: [1 2 3 5 6 7] Testing on subject: [4]\n",
      "Training on subjects: [1 2 4 5 6 7] Testing on subject: [3]\n",
      "Training on subjects: [2 3 4 5 6 7] Testing on subject: [1]\n",
      "Training on subjects: [1 3 4 5 6 7] Testing on subject: [2]\n"
     ]
    },
    {
     "name": "stderr",
     "output_type": "stream",
     "text": [
      "[I 2024-05-14 19:14:46,096] Trial 86 finished with value: 0.985633575464084 and parameters: {'criterion': 'gini', 'splitter': 'best', 'max_depth': 12, 'min_samples_split': 14, 'min_samples_leaf': 2, 'max_features': 'sqrt'}. Best is trial 37 with value: 0.9976190476190476.\n",
      "[I 2024-05-14 19:14:46,201] Trial 87 finished with value: 0.9855932203389831 and parameters: {'criterion': 'entropy', 'splitter': 'best', 'max_depth': 10, 'min_samples_split': 19, 'min_samples_leaf': 10, 'max_features': 'sqrt'}. Best is trial 37 with value: 0.9976190476190476.\n"
     ]
    },
    {
     "name": "stdout",
     "output_type": "stream",
     "text": [
      "Training on subjects: [1 2 3 4 5 6] Testing on subject: [7]\n",
      "Training on subjects: [1 2 3 4 5 7] Testing on subject: [6]\n",
      "Training on subjects: [1 2 3 4 6 7] Testing on subject: [5]\n",
      "Training on subjects: [1 2 3 5 6 7] Testing on subject: [4]\n",
      "Training on subjects: [1 2 4 5 6 7] Testing on subject: [3]\n",
      "Training on subjects: [2 3 4 5 6 7] Testing on subject: [1]\n",
      "Training on subjects: [1 3 4 5 6 7] Testing on subject: [2]\n",
      "Training on subjects: [1 2 3 4 5 6] Testing on subject: [7]\n",
      "Training on subjects: [1 2 3 4 5 7] Testing on subject: [6]\n",
      "Training on subjects: [1 2 3 4 6 7] Testing on subject: [5]\n",
      "Training on subjects: [1 2 3 5 6 7] Testing on subject: [4]\n",
      "Training on subjects: [1 2 4 5 6 7] Testing on subject: [3]\n",
      "Training on subjects: [2 3 4 5 6 7] Testing on subject: [1]\n",
      "Training on subjects: [1 3 4 5 6 7] Testing on subject: [2]\n"
     ]
    },
    {
     "name": "stderr",
     "output_type": "stream",
     "text": [
      "[I 2024-05-14 19:14:46,309] Trial 88 finished with value: 0.9832929782082325 and parameters: {'criterion': 'entropy', 'splitter': 'best', 'max_depth': 13, 'min_samples_split': 10, 'min_samples_leaf': 11, 'max_features': 'log2'}. Best is trial 37 with value: 0.9976190476190476.\n",
      "[I 2024-05-14 19:14:46,429] Trial 89 finished with value: 0.956900726392252 and parameters: {'criterion': 'gini', 'splitter': 'random', 'max_depth': 9, 'min_samples_split': 5, 'min_samples_leaf': 20, 'max_features': 'sqrt'}. Best is trial 37 with value: 0.9976190476190476.\n"
     ]
    },
    {
     "name": "stdout",
     "output_type": "stream",
     "text": [
      "Training on subjects: [1 2 3 4 5 6] Testing on subject: [7]\n",
      "Training on subjects: [1 2 3 4 5 7] Testing on subject: [6]\n",
      "Training on subjects: [1 2 3 4 6 7] Testing on subject: [5]\n",
      "Training on subjects: [1 2 3 5 6 7] Testing on subject: [4]\n",
      "Training on subjects: [1 2 4 5 6 7] Testing on subject: [3]\n",
      "Training on subjects: [2 3 4 5 6 7] Testing on subject: [1]\n",
      "Training on subjects: [1 3 4 5 6 7] Testing on subject: [2]\n",
      "Training on subjects: [1 2 3 4 5 6] Testing on subject: [7]\n",
      "Training on subjects: [1 2 3 4 5 7] Testing on subject: [6]\n",
      "Training on subjects: [1 2 3 4 6 7] Testing on subject: [5]\n",
      "Training on subjects: [1 2 3 5 6 7] Testing on subject: [4]\n",
      "Training on subjects: [1 2 4 5 6 7] Testing on subject: [3]\n",
      "Training on subjects: [2 3 4 5 6 7] Testing on subject: [1]\n",
      "Training on subjects: [1 3 4 5 6 7] Testing on subject: [2]\n"
     ]
    },
    {
     "name": "stderr",
     "output_type": "stream",
     "text": [
      "[I 2024-05-14 19:14:46,584] Trial 90 finished with value: 0.9808313155770784 and parameters: {'criterion': 'entropy', 'splitter': 'best', 'max_depth': 14, 'min_samples_split': 6, 'min_samples_leaf': 7, 'max_features': None}. Best is trial 37 with value: 0.9976190476190476.\n"
     ]
    },
    {
     "name": "stdout",
     "output_type": "stream",
     "text": [
      "Training on subjects: [1 2 3 4 5 6] Testing on subject: [7]\n",
      "Training on subjects: [1 2 3 4 5 7] Testing on subject: [6]\n",
      "Training on subjects: [1 2 3 4 6 7] Testing on subject: [5]\n",
      "Training on subjects: [1 2 3 5 6 7] Testing on subject: [4]\n",
      "Training on subjects: [1 2 4 5 6 7] Testing on subject: [3]\n",
      "Training on subjects: [2 3 4 5 6 7] Testing on subject: [1]\n",
      "Training on subjects: [1 3 4 5 6 7] Testing on subject: [2]\n",
      "Training on subjects: [1 2 3 4 5 6] Testing on subject: [7]\n",
      "Training on subjects: [1 2 3 4 5 7] Testing on subject: [6]\n",
      "Training on subjects: [1 2 3 4 6 7] Testing on subject: [5]\n",
      "Training on subjects: [1 2 3 5 6 7] Testing on subject: [4]\n"
     ]
    },
    {
     "name": "stderr",
     "output_type": "stream",
     "text": [
      "[I 2024-05-14 19:14:46,728] Trial 91 finished with value: 0.961864406779661 and parameters: {'criterion': 'gini', 'splitter': 'best', 'max_depth': 11, 'min_samples_split': 13, 'min_samples_leaf': 8, 'max_features': 'sqrt'}. Best is trial 37 with value: 0.9976190476190476.\n"
     ]
    },
    {
     "name": "stdout",
     "output_type": "stream",
     "text": [
      "Training on subjects: [1 2 4 5 6 7] Testing on subject: [3]\n",
      "Training on subjects: [2 3 4 5 6 7] Testing on subject: [1]\n",
      "Training on subjects: [1 3 4 5 6 7] Testing on subject: [2]\n",
      "Training on subjects: [1 2 3 4 5 6] Testing on subject: [7]\n",
      "Training on subjects: [1 2 3 4 5 7] Testing on subject: [6]\n",
      "Training on subjects: [1 2 3 4 6 7] Testing on subject: [5]\n",
      "Training on subjects: [1 2 3 5 6 7] Testing on subject: [4]\n",
      "Training on subjects: [1 2 4 5 6 7] Testing on subject: [3]\n",
      "Training on subjects: [2 3 4 5 6 7] Testing on subject: [1]\n",
      "Training on subjects: [1 3 4 5 6 7] Testing on subject: [2]\n"
     ]
    },
    {
     "name": "stderr",
     "output_type": "stream",
     "text": [
      "[I 2024-05-14 19:14:46,928] Trial 92 finished with value: 0.9736884584342212 and parameters: {'criterion': 'gini', 'splitter': 'best', 'max_depth': 7, 'min_samples_split': 14, 'min_samples_leaf': 18, 'max_features': 'sqrt'}. Best is trial 37 with value: 0.9976190476190476.\n",
      "[I 2024-05-14 19:14:47,096] Trial 93 finished with value: 0.9833333333333334 and parameters: {'criterion': 'gini', 'splitter': 'best', 'max_depth': 12, 'min_samples_split': 12, 'min_samples_leaf': 16, 'max_features': 'sqrt'}. Best is trial 37 with value: 0.9976190476190476.\n"
     ]
    },
    {
     "name": "stdout",
     "output_type": "stream",
     "text": [
      "Training on subjects: [1 2 3 4 5 6] Testing on subject: [7]\n",
      "Training on subjects: [1 2 3 4 5 7] Testing on subject: [6]\n",
      "Training on subjects: [1 2 3 4 6 7] Testing on subject: [5]\n",
      "Training on subjects: [1 2 3 5 6 7] Testing on subject: [4]\n",
      "Training on subjects: [1 2 4 5 6 7] Testing on subject: [3]\n",
      "Training on subjects: [2 3 4 5 6 7] Testing on subject: [1]\n",
      "Training on subjects: [1 3 4 5 6 7] Testing on subject: [2]\n",
      "Training on subjects: [1 2 3 4 5 6] Testing on subject: [7]\n",
      "Training on subjects: [1 2 3 4 5 7] Testing on subject: [6]\n",
      "Training on subjects: [1 2 3 4 6 7] Testing on subject: [5]\n",
      "Training on subjects: [1 2 3 5 6 7] Testing on subject: [4]\n"
     ]
    },
    {
     "name": "stderr",
     "output_type": "stream",
     "text": [
      "[I 2024-05-14 19:14:47,265] Trial 94 finished with value: 0.9809120258272801 and parameters: {'criterion': 'gini', 'splitter': 'best', 'max_depth': 11, 'min_samples_split': 13, 'min_samples_leaf': 15, 'max_features': 'sqrt'}. Best is trial 37 with value: 0.9976190476190476.\n",
      "[I 2024-05-14 19:14:47,381] Trial 95 finished with value: 0.9785714285714285 and parameters: {'criterion': 'gini', 'splitter': 'best', 'max_depth': 10, 'min_samples_split': 11, 'min_samples_leaf': 16, 'max_features': 'sqrt'}. Best is trial 37 with value: 0.9976190476190476.\n"
     ]
    },
    {
     "name": "stdout",
     "output_type": "stream",
     "text": [
      "Training on subjects: [1 2 4 5 6 7] Testing on subject: [3]\n",
      "Training on subjects: [2 3 4 5 6 7] Testing on subject: [1]\n",
      "Training on subjects: [1 3 4 5 6 7] Testing on subject: [2]\n",
      "Training on subjects: [1 2 3 4 5 6] Testing on subject: [7]\n",
      "Training on subjects: [1 2 3 4 5 7] Testing on subject: [6]\n",
      "Training on subjects: [1 2 3 4 6 7] Testing on subject: [5]\n",
      "Training on subjects: [1 2 3 5 6 7] Testing on subject: [4]\n",
      "Training on subjects: [1 2 4 5 6 7] Testing on subject: [3]\n",
      "Training on subjects: [2 3 4 5 6 7] Testing on subject: [1]\n",
      "Training on subjects: [1 3 4 5 6 7] Testing on subject: [2]\n",
      "Training on subjects: [1 2 3 4 5 6] Testing on subject: [7]\n",
      "Training on subjects: [1 2 3 4 5 7] Testing on subject: [6]\n"
     ]
    },
    {
     "name": "stderr",
     "output_type": "stream",
     "text": [
      "[I 2024-05-14 19:14:47,511] Trial 96 finished with value: 0.8947941888619856 and parameters: {'criterion': 'entropy', 'splitter': 'best', 'max_depth': 13, 'min_samples_split': 8, 'min_samples_leaf': 13, 'max_features': 'sqrt'}. Best is trial 37 with value: 0.9976190476190476.\n",
      "[I 2024-05-14 19:14:47,647] Trial 97 finished with value: 0.9832526230831317 and parameters: {'criterion': 'entropy', 'splitter': 'best', 'max_depth': 12, 'min_samples_split': 6, 'min_samples_leaf': 20, 'max_features': 'log2'}. Best is trial 37 with value: 0.9976190476190476.\n"
     ]
    },
    {
     "name": "stdout",
     "output_type": "stream",
     "text": [
      "Training on subjects: [1 2 3 4 6 7] Testing on subject: [5]\n",
      "Training on subjects: [1 2 3 5 6 7] Testing on subject: [4]\n",
      "Training on subjects: [1 2 4 5 6 7] Testing on subject: [3]\n",
      "Training on subjects: [2 3 4 5 6 7] Testing on subject: [1]\n",
      "Training on subjects: [1 3 4 5 6 7] Testing on subject: [2]\n",
      "Training on subjects: [1 2 3 4 5 6] Testing on subject: [7]\n",
      "Training on subjects: [1 2 3 4 5 7] Testing on subject: [6]\n",
      "Training on subjects: [1 2 3 4 6 7] Testing on subject: [5]\n",
      "Training on subjects: [1 2 3 5 6 7] Testing on subject: [4]\n",
      "Training on subjects: [1 2 4 5 6 7] Testing on subject: [3]\n",
      "Training on subjects: [2 3 4 5 6 7] Testing on subject: [1]\n",
      "Training on subjects: [1 3 4 5 6 7] Testing on subject: [2]\n"
     ]
    },
    {
     "name": "stderr",
     "output_type": "stream",
     "text": [
      "[I 2024-05-14 19:14:47,754] Trial 98 finished with value: 0.9833333333333334 and parameters: {'criterion': 'entropy', 'splitter': 'random', 'max_depth': 15, 'min_samples_split': 7, 'min_samples_leaf': 5, 'max_features': 'sqrt'}. Best is trial 37 with value: 0.9976190476190476.\n",
      "[I 2024-05-14 19:14:47,882] Trial 99 finished with value: 0.9857142857142858 and parameters: {'criterion': 'gini', 'splitter': 'best', 'max_depth': 11, 'min_samples_split': 10, 'min_samples_leaf': 19, 'max_features': 'sqrt'}. Best is trial 37 with value: 0.9976190476190476.\n"
     ]
    },
    {
     "name": "stdout",
     "output_type": "stream",
     "text": [
      "Training on subjects: [1 2 3 4 5 6] Testing on subject: [7]\n",
      "Training on subjects: [1 2 3 4 5 7] Testing on subject: [6]\n",
      "Training on subjects: [1 2 3 4 6 7] Testing on subject: [5]\n",
      "Training on subjects: [1 2 3 5 6 7] Testing on subject: [4]\n",
      "Training on subjects: [1 2 4 5 6 7] Testing on subject: [3]\n",
      "Training on subjects: [2 3 4 5 6 7] Testing on subject: [1]\n",
      "Training on subjects: [1 3 4 5 6 7] Testing on subject: [2]\n",
      "Training on subjects: [1 2 3 4 5 6] Testing on subject: [7]\n",
      "Training on subjects: [1 2 3 4 5 7] Testing on subject: [6]\n",
      "Training on subjects: [1 2 3 4 6 7] Testing on subject: [5]\n",
      "Training on subjects: [1 2 3 5 6 7] Testing on subject: [4]\n",
      "Training on subjects: [1 2 4 5 6 7] Testing on subject: [3]\n",
      "Training on subjects: [2 3 4 5 6 7] Testing on subject: [1]\n",
      "Training on subjects: [1 3 4 5 6 7] Testing on subject: [2]\n",
      "Best trial:\n",
      " Accuracy:  0.9976190476190476\n",
      " Params: \n",
      "    criterion: gini\n",
      "    splitter: random\n",
      "    max_depth: 11\n",
      "    min_samples_split: 13\n",
      "    min_samples_leaf: 6\n",
      "    max_features: sqrt\n",
      "Best Hyperparameters: {'criterion': 'gini', 'splitter': 'random', 'max_depth': 11, 'min_samples_split': 13, 'min_samples_leaf': 6, 'max_features': 'sqrt'}\n",
      "Best Score for Top 50,000: 0.9976190476190476\n"
     ]
    },
    {
     "data": {
      "application/vnd.plotly.v1+json": {
       "config": {
        "plotlyServerURL": "https://plot.ly"
       },
       "data": [
        {
         "mode": "markers",
         "name": "Objective Value",
         "type": "scatter",
         "x": [
          0,
          1,
          2,
          3,
          4,
          5,
          6,
          7,
          8,
          9,
          10,
          11,
          12,
          13,
          14,
          15,
          16,
          17,
          18,
          19,
          20,
          21,
          22,
          23,
          24,
          25,
          26,
          27,
          28,
          29,
          30,
          31,
          32,
          33,
          34,
          35,
          36,
          37,
          38,
          39,
          40,
          41,
          42,
          43,
          44,
          45,
          46,
          47,
          48,
          49,
          50,
          51,
          52,
          53,
          54,
          55,
          56,
          57,
          58,
          59,
          60,
          61,
          62,
          63,
          64,
          65,
          66,
          67,
          68,
          69,
          70,
          71,
          72,
          73,
          74,
          75,
          76,
          77,
          78,
          79,
          80,
          81,
          82,
          83,
          84,
          85,
          86,
          87,
          88,
          89,
          90,
          91,
          92,
          93,
          94,
          95,
          96,
          97,
          98,
          99
         ],
         "y": [
          0.947497982243745,
          0.9880145278450364,
          0.9880952380952381,
          0.9641646489104116,
          0.9642857142857143,
          0.9904358353510896,
          0.9904358353510896,
          0.9190476190476191,
          0.9904761904761905,
          0.992816787732042,
          0.992816787732042,
          0.9928571428571429,
          0.9904358353510896,
          0.9928571428571429,
          0.980952380952381,
          0.9928571428571429,
          0.9904761904761905,
          0.9879741727199355,
          0.9547619047619047,
          0.9808716707021793,
          0.9808716707021793,
          0.9356335754640839,
          0.9832526230831317,
          0.9904358353510896,
          0.9903954802259888,
          0.9904358353510896,
          0.9904358353510896,
          0.9500000000000001,
          0.98091202582728,
          0.9855932203389831,
          0.9832929782082325,
          0.9880145278450364,
          0.9880145278450364,
          0.9665859564164648,
          0.9808716707021793,
          0.9046811945117029,
          0.9214285714285715,
          0.9976190476190476,
          0.9856739305891848,
          0.9904761904761905,
          0.9714285714285714,
          0.9642453591606134,
          0.9880952380952381,
          0.992816787732042,
          0.8663034705407586,
          0.9666666666666667,
          0.9903954802259888,
          0.969047619047619,
          0.9903954802259888,
          0.9232041969330105,
          0.9928571428571429,
          0.9880548829701372,
          0.985633575464084,
          0.9832526230831317,
          0.9833333333333334,
          0.9785714285714285,
          0.9904358353510896,
          0.930952380952381,
          0.9857142857142858,
          0.9784907183212267,
          0.9761904761904763,
          0.9904761904761905,
          0.9475383373688459,
          0.935633575464084,
          0.9784907183212269,
          0.9761097659402745,
          0.9880145278450364,
          0.973769168684423,
          0.9880952380952381,
          0.985633575464084,
          0.9808313155770784,
          0.9689669087974172,
          0.9404761904761905,
          0.9833333333333333,
          0.9928571428571429,
          0.9880145278450364,
          0.9642857142857143,
          0.9404761904761905,
          0.9904761904761905,
          0.9690072639225181,
          0.9761904761904763,
          0.966585956416465,
          0.9880952380952381,
          0.9952380952380953,
          0.9619047619047619,
          0.98091202582728,
          0.985633575464084,
          0.9855932203389831,
          0.9832929782082325,
          0.956900726392252,
          0.9808313155770784,
          0.961864406779661,
          0.9736884584342212,
          0.9833333333333334,
          0.9809120258272801,
          0.9785714285714285,
          0.8947941888619856,
          0.9832526230831317,
          0.9833333333333334,
          0.9857142857142858
         ]
        },
        {
         "mode": "lines",
         "name": "Best Value",
         "type": "scatter",
         "x": [
          0,
          1,
          2,
          3,
          4,
          5,
          6,
          7,
          8,
          9,
          10,
          11,
          12,
          13,
          14,
          15,
          16,
          17,
          18,
          19,
          20,
          21,
          22,
          23,
          24,
          25,
          26,
          27,
          28,
          29,
          30,
          31,
          32,
          33,
          34,
          35,
          36,
          37,
          38,
          39,
          40,
          41,
          42,
          43,
          44,
          45,
          46,
          47,
          48,
          49,
          50,
          51,
          52,
          53,
          54,
          55,
          56,
          57,
          58,
          59,
          60,
          61,
          62,
          63,
          64,
          65,
          66,
          67,
          68,
          69,
          70,
          71,
          72,
          73,
          74,
          75,
          76,
          77,
          78,
          79,
          80,
          81,
          82,
          83,
          84,
          85,
          86,
          87,
          88,
          89,
          90,
          91,
          92,
          93,
          94,
          95,
          96,
          97,
          98,
          99
         ],
         "y": [
          0.947497982243745,
          0.9880145278450364,
          0.9880952380952381,
          0.9880952380952381,
          0.9880952380952381,
          0.9904358353510896,
          0.9904358353510896,
          0.9904358353510896,
          0.9904761904761905,
          0.992816787732042,
          0.992816787732042,
          0.9928571428571429,
          0.9928571428571429,
          0.9928571428571429,
          0.9928571428571429,
          0.9928571428571429,
          0.9928571428571429,
          0.9928571428571429,
          0.9928571428571429,
          0.9928571428571429,
          0.9928571428571429,
          0.9928571428571429,
          0.9928571428571429,
          0.9928571428571429,
          0.9928571428571429,
          0.9928571428571429,
          0.9928571428571429,
          0.9928571428571429,
          0.9928571428571429,
          0.9928571428571429,
          0.9928571428571429,
          0.9928571428571429,
          0.9928571428571429,
          0.9928571428571429,
          0.9928571428571429,
          0.9928571428571429,
          0.9928571428571429,
          0.9976190476190476,
          0.9976190476190476,
          0.9976190476190476,
          0.9976190476190476,
          0.9976190476190476,
          0.9976190476190476,
          0.9976190476190476,
          0.9976190476190476,
          0.9976190476190476,
          0.9976190476190476,
          0.9976190476190476,
          0.9976190476190476,
          0.9976190476190476,
          0.9976190476190476,
          0.9976190476190476,
          0.9976190476190476,
          0.9976190476190476,
          0.9976190476190476,
          0.9976190476190476,
          0.9976190476190476,
          0.9976190476190476,
          0.9976190476190476,
          0.9976190476190476,
          0.9976190476190476,
          0.9976190476190476,
          0.9976190476190476,
          0.9976190476190476,
          0.9976190476190476,
          0.9976190476190476,
          0.9976190476190476,
          0.9976190476190476,
          0.9976190476190476,
          0.9976190476190476,
          0.9976190476190476,
          0.9976190476190476,
          0.9976190476190476,
          0.9976190476190476,
          0.9976190476190476,
          0.9976190476190476,
          0.9976190476190476,
          0.9976190476190476,
          0.9976190476190476,
          0.9976190476190476,
          0.9976190476190476,
          0.9976190476190476,
          0.9976190476190476,
          0.9976190476190476,
          0.9976190476190476,
          0.9976190476190476,
          0.9976190476190476,
          0.9976190476190476,
          0.9976190476190476,
          0.9976190476190476,
          0.9976190476190476,
          0.9976190476190476,
          0.9976190476190476,
          0.9976190476190476,
          0.9976190476190476,
          0.9976190476190476,
          0.9976190476190476,
          0.9976190476190476,
          0.9976190476190476,
          0.9976190476190476
         ]
        },
        {
         "marker": {
          "color": "#cccccc"
         },
         "mode": "markers",
         "name": "Infeasible Trial",
         "showlegend": false,
         "type": "scatter",
         "x": [],
         "y": []
        }
       ],
       "layout": {
        "template": {
         "data": {
          "bar": [
           {
            "error_x": {
             "color": "#2a3f5f"
            },
            "error_y": {
             "color": "#2a3f5f"
            },
            "marker": {
             "line": {
              "color": "#E5ECF6",
              "width": 0.5
             },
             "pattern": {
              "fillmode": "overlay",
              "size": 10,
              "solidity": 0.2
             }
            },
            "type": "bar"
           }
          ],
          "barpolar": [
           {
            "marker": {
             "line": {
              "color": "#E5ECF6",
              "width": 0.5
             },
             "pattern": {
              "fillmode": "overlay",
              "size": 10,
              "solidity": 0.2
             }
            },
            "type": "barpolar"
           }
          ],
          "carpet": [
           {
            "aaxis": {
             "endlinecolor": "#2a3f5f",
             "gridcolor": "white",
             "linecolor": "white",
             "minorgridcolor": "white",
             "startlinecolor": "#2a3f5f"
            },
            "baxis": {
             "endlinecolor": "#2a3f5f",
             "gridcolor": "white",
             "linecolor": "white",
             "minorgridcolor": "white",
             "startlinecolor": "#2a3f5f"
            },
            "type": "carpet"
           }
          ],
          "choropleth": [
           {
            "colorbar": {
             "outlinewidth": 0,
             "ticks": ""
            },
            "type": "choropleth"
           }
          ],
          "contour": [
           {
            "colorbar": {
             "outlinewidth": 0,
             "ticks": ""
            },
            "colorscale": [
             [
              0,
              "#0d0887"
             ],
             [
              0.1111111111111111,
              "#46039f"
             ],
             [
              0.2222222222222222,
              "#7201a8"
             ],
             [
              0.3333333333333333,
              "#9c179e"
             ],
             [
              0.4444444444444444,
              "#bd3786"
             ],
             [
              0.5555555555555556,
              "#d8576b"
             ],
             [
              0.6666666666666666,
              "#ed7953"
             ],
             [
              0.7777777777777778,
              "#fb9f3a"
             ],
             [
              0.8888888888888888,
              "#fdca26"
             ],
             [
              1,
              "#f0f921"
             ]
            ],
            "type": "contour"
           }
          ],
          "contourcarpet": [
           {
            "colorbar": {
             "outlinewidth": 0,
             "ticks": ""
            },
            "type": "contourcarpet"
           }
          ],
          "heatmap": [
           {
            "colorbar": {
             "outlinewidth": 0,
             "ticks": ""
            },
            "colorscale": [
             [
              0,
              "#0d0887"
             ],
             [
              0.1111111111111111,
              "#46039f"
             ],
             [
              0.2222222222222222,
              "#7201a8"
             ],
             [
              0.3333333333333333,
              "#9c179e"
             ],
             [
              0.4444444444444444,
              "#bd3786"
             ],
             [
              0.5555555555555556,
              "#d8576b"
             ],
             [
              0.6666666666666666,
              "#ed7953"
             ],
             [
              0.7777777777777778,
              "#fb9f3a"
             ],
             [
              0.8888888888888888,
              "#fdca26"
             ],
             [
              1,
              "#f0f921"
             ]
            ],
            "type": "heatmap"
           }
          ],
          "heatmapgl": [
           {
            "colorbar": {
             "outlinewidth": 0,
             "ticks": ""
            },
            "colorscale": [
             [
              0,
              "#0d0887"
             ],
             [
              0.1111111111111111,
              "#46039f"
             ],
             [
              0.2222222222222222,
              "#7201a8"
             ],
             [
              0.3333333333333333,
              "#9c179e"
             ],
             [
              0.4444444444444444,
              "#bd3786"
             ],
             [
              0.5555555555555556,
              "#d8576b"
             ],
             [
              0.6666666666666666,
              "#ed7953"
             ],
             [
              0.7777777777777778,
              "#fb9f3a"
             ],
             [
              0.8888888888888888,
              "#fdca26"
             ],
             [
              1,
              "#f0f921"
             ]
            ],
            "type": "heatmapgl"
           }
          ],
          "histogram": [
           {
            "marker": {
             "pattern": {
              "fillmode": "overlay",
              "size": 10,
              "solidity": 0.2
             }
            },
            "type": "histogram"
           }
          ],
          "histogram2d": [
           {
            "colorbar": {
             "outlinewidth": 0,
             "ticks": ""
            },
            "colorscale": [
             [
              0,
              "#0d0887"
             ],
             [
              0.1111111111111111,
              "#46039f"
             ],
             [
              0.2222222222222222,
              "#7201a8"
             ],
             [
              0.3333333333333333,
              "#9c179e"
             ],
             [
              0.4444444444444444,
              "#bd3786"
             ],
             [
              0.5555555555555556,
              "#d8576b"
             ],
             [
              0.6666666666666666,
              "#ed7953"
             ],
             [
              0.7777777777777778,
              "#fb9f3a"
             ],
             [
              0.8888888888888888,
              "#fdca26"
             ],
             [
              1,
              "#f0f921"
             ]
            ],
            "type": "histogram2d"
           }
          ],
          "histogram2dcontour": [
           {
            "colorbar": {
             "outlinewidth": 0,
             "ticks": ""
            },
            "colorscale": [
             [
              0,
              "#0d0887"
             ],
             [
              0.1111111111111111,
              "#46039f"
             ],
             [
              0.2222222222222222,
              "#7201a8"
             ],
             [
              0.3333333333333333,
              "#9c179e"
             ],
             [
              0.4444444444444444,
              "#bd3786"
             ],
             [
              0.5555555555555556,
              "#d8576b"
             ],
             [
              0.6666666666666666,
              "#ed7953"
             ],
             [
              0.7777777777777778,
              "#fb9f3a"
             ],
             [
              0.8888888888888888,
              "#fdca26"
             ],
             [
              1,
              "#f0f921"
             ]
            ],
            "type": "histogram2dcontour"
           }
          ],
          "mesh3d": [
           {
            "colorbar": {
             "outlinewidth": 0,
             "ticks": ""
            },
            "type": "mesh3d"
           }
          ],
          "parcoords": [
           {
            "line": {
             "colorbar": {
              "outlinewidth": 0,
              "ticks": ""
             }
            },
            "type": "parcoords"
           }
          ],
          "pie": [
           {
            "automargin": true,
            "type": "pie"
           }
          ],
          "scatter": [
           {
            "fillpattern": {
             "fillmode": "overlay",
             "size": 10,
             "solidity": 0.2
            },
            "type": "scatter"
           }
          ],
          "scatter3d": [
           {
            "line": {
             "colorbar": {
              "outlinewidth": 0,
              "ticks": ""
             }
            },
            "marker": {
             "colorbar": {
              "outlinewidth": 0,
              "ticks": ""
             }
            },
            "type": "scatter3d"
           }
          ],
          "scattercarpet": [
           {
            "marker": {
             "colorbar": {
              "outlinewidth": 0,
              "ticks": ""
             }
            },
            "type": "scattercarpet"
           }
          ],
          "scattergeo": [
           {
            "marker": {
             "colorbar": {
              "outlinewidth": 0,
              "ticks": ""
             }
            },
            "type": "scattergeo"
           }
          ],
          "scattergl": [
           {
            "marker": {
             "colorbar": {
              "outlinewidth": 0,
              "ticks": ""
             }
            },
            "type": "scattergl"
           }
          ],
          "scattermapbox": [
           {
            "marker": {
             "colorbar": {
              "outlinewidth": 0,
              "ticks": ""
             }
            },
            "type": "scattermapbox"
           }
          ],
          "scatterpolar": [
           {
            "marker": {
             "colorbar": {
              "outlinewidth": 0,
              "ticks": ""
             }
            },
            "type": "scatterpolar"
           }
          ],
          "scatterpolargl": [
           {
            "marker": {
             "colorbar": {
              "outlinewidth": 0,
              "ticks": ""
             }
            },
            "type": "scatterpolargl"
           }
          ],
          "scatterternary": [
           {
            "marker": {
             "colorbar": {
              "outlinewidth": 0,
              "ticks": ""
             }
            },
            "type": "scatterternary"
           }
          ],
          "surface": [
           {
            "colorbar": {
             "outlinewidth": 0,
             "ticks": ""
            },
            "colorscale": [
             [
              0,
              "#0d0887"
             ],
             [
              0.1111111111111111,
              "#46039f"
             ],
             [
              0.2222222222222222,
              "#7201a8"
             ],
             [
              0.3333333333333333,
              "#9c179e"
             ],
             [
              0.4444444444444444,
              "#bd3786"
             ],
             [
              0.5555555555555556,
              "#d8576b"
             ],
             [
              0.6666666666666666,
              "#ed7953"
             ],
             [
              0.7777777777777778,
              "#fb9f3a"
             ],
             [
              0.8888888888888888,
              "#fdca26"
             ],
             [
              1,
              "#f0f921"
             ]
            ],
            "type": "surface"
           }
          ],
          "table": [
           {
            "cells": {
             "fill": {
              "color": "#EBF0F8"
             },
             "line": {
              "color": "white"
             }
            },
            "header": {
             "fill": {
              "color": "#C8D4E3"
             },
             "line": {
              "color": "white"
             }
            },
            "type": "table"
           }
          ]
         },
         "layout": {
          "annotationdefaults": {
           "arrowcolor": "#2a3f5f",
           "arrowhead": 0,
           "arrowwidth": 1
          },
          "autotypenumbers": "strict",
          "coloraxis": {
           "colorbar": {
            "outlinewidth": 0,
            "ticks": ""
           }
          },
          "colorscale": {
           "diverging": [
            [
             0,
             "#8e0152"
            ],
            [
             0.1,
             "#c51b7d"
            ],
            [
             0.2,
             "#de77ae"
            ],
            [
             0.3,
             "#f1b6da"
            ],
            [
             0.4,
             "#fde0ef"
            ],
            [
             0.5,
             "#f7f7f7"
            ],
            [
             0.6,
             "#e6f5d0"
            ],
            [
             0.7,
             "#b8e186"
            ],
            [
             0.8,
             "#7fbc41"
            ],
            [
             0.9,
             "#4d9221"
            ],
            [
             1,
             "#276419"
            ]
           ],
           "sequential": [
            [
             0,
             "#0d0887"
            ],
            [
             0.1111111111111111,
             "#46039f"
            ],
            [
             0.2222222222222222,
             "#7201a8"
            ],
            [
             0.3333333333333333,
             "#9c179e"
            ],
            [
             0.4444444444444444,
             "#bd3786"
            ],
            [
             0.5555555555555556,
             "#d8576b"
            ],
            [
             0.6666666666666666,
             "#ed7953"
            ],
            [
             0.7777777777777778,
             "#fb9f3a"
            ],
            [
             0.8888888888888888,
             "#fdca26"
            ],
            [
             1,
             "#f0f921"
            ]
           ],
           "sequentialminus": [
            [
             0,
             "#0d0887"
            ],
            [
             0.1111111111111111,
             "#46039f"
            ],
            [
             0.2222222222222222,
             "#7201a8"
            ],
            [
             0.3333333333333333,
             "#9c179e"
            ],
            [
             0.4444444444444444,
             "#bd3786"
            ],
            [
             0.5555555555555556,
             "#d8576b"
            ],
            [
             0.6666666666666666,
             "#ed7953"
            ],
            [
             0.7777777777777778,
             "#fb9f3a"
            ],
            [
             0.8888888888888888,
             "#fdca26"
            ],
            [
             1,
             "#f0f921"
            ]
           ]
          },
          "colorway": [
           "#636efa",
           "#EF553B",
           "#00cc96",
           "#ab63fa",
           "#FFA15A",
           "#19d3f3",
           "#FF6692",
           "#B6E880",
           "#FF97FF",
           "#FECB52"
          ],
          "font": {
           "color": "#2a3f5f"
          },
          "geo": {
           "bgcolor": "white",
           "lakecolor": "white",
           "landcolor": "#E5ECF6",
           "showlakes": true,
           "showland": true,
           "subunitcolor": "white"
          },
          "hoverlabel": {
           "align": "left"
          },
          "hovermode": "closest",
          "mapbox": {
           "style": "light"
          },
          "paper_bgcolor": "white",
          "plot_bgcolor": "#E5ECF6",
          "polar": {
           "angularaxis": {
            "gridcolor": "white",
            "linecolor": "white",
            "ticks": ""
           },
           "bgcolor": "#E5ECF6",
           "radialaxis": {
            "gridcolor": "white",
            "linecolor": "white",
            "ticks": ""
           }
          },
          "scene": {
           "xaxis": {
            "backgroundcolor": "#E5ECF6",
            "gridcolor": "white",
            "gridwidth": 2,
            "linecolor": "white",
            "showbackground": true,
            "ticks": "",
            "zerolinecolor": "white"
           },
           "yaxis": {
            "backgroundcolor": "#E5ECF6",
            "gridcolor": "white",
            "gridwidth": 2,
            "linecolor": "white",
            "showbackground": true,
            "ticks": "",
            "zerolinecolor": "white"
           },
           "zaxis": {
            "backgroundcolor": "#E5ECF6",
            "gridcolor": "white",
            "gridwidth": 2,
            "linecolor": "white",
            "showbackground": true,
            "ticks": "",
            "zerolinecolor": "white"
           }
          },
          "shapedefaults": {
           "line": {
            "color": "#2a3f5f"
           }
          },
          "ternary": {
           "aaxis": {
            "gridcolor": "white",
            "linecolor": "white",
            "ticks": ""
           },
           "baxis": {
            "gridcolor": "white",
            "linecolor": "white",
            "ticks": ""
           },
           "bgcolor": "#E5ECF6",
           "caxis": {
            "gridcolor": "white",
            "linecolor": "white",
            "ticks": ""
           }
          },
          "title": {
           "x": 0.05
          },
          "xaxis": {
           "automargin": true,
           "gridcolor": "white",
           "linecolor": "white",
           "ticks": "",
           "title": {
            "standoff": 15
           },
           "zerolinecolor": "white",
           "zerolinewidth": 2
          },
          "yaxis": {
           "automargin": true,
           "gridcolor": "white",
           "linecolor": "white",
           "ticks": "",
           "title": {
            "standoff": 15
           },
           "zerolinecolor": "white",
           "zerolinewidth": 2
          }
         }
        },
        "title": {
         "text": "Optimization History Plot"
        },
        "xaxis": {
         "title": {
          "text": "Trial"
         }
        },
        "yaxis": {
         "title": {
          "text": "Objective Value"
         }
        }
       }
      }
     },
     "metadata": {},
     "output_type": "display_data"
    },
    {
     "data": {
      "application/vnd.plotly.v1+json": {
       "config": {
        "plotlyServerURL": "https://plot.ly"
       },
       "data": [
        {
         "cliponaxis": false,
         "hovertemplate": [
          "criterion (CategoricalDistribution): 0.07879797090673246<extra></extra>",
          "max_features (CategoricalDistribution): 0.09992976213968036<extra></extra>",
          "splitter (CategoricalDistribution): 0.12508645759378126<extra></extra>",
          "min_samples_split (IntDistribution): 0.1964580864088194<extra></extra>",
          "max_depth (IntDistribution): 0.22658257783199087<extra></extra>",
          "min_samples_leaf (IntDistribution): 0.2731451451189955<extra></extra>"
         ],
         "name": "Objective Value",
         "orientation": "h",
         "text": [
          "0.08",
          "0.10",
          "0.13",
          "0.20",
          "0.23",
          "0.27"
         ],
         "textposition": "outside",
         "type": "bar",
         "x": [
          0.07879797090673246,
          0.09992976213968036,
          0.12508645759378126,
          0.1964580864088194,
          0.22658257783199087,
          0.2731451451189955
         ],
         "y": [
          "criterion",
          "max_features",
          "splitter",
          "min_samples_split",
          "max_depth",
          "min_samples_leaf"
         ]
        }
       ],
       "layout": {
        "template": {
         "data": {
          "bar": [
           {
            "error_x": {
             "color": "#2a3f5f"
            },
            "error_y": {
             "color": "#2a3f5f"
            },
            "marker": {
             "line": {
              "color": "#E5ECF6",
              "width": 0.5
             },
             "pattern": {
              "fillmode": "overlay",
              "size": 10,
              "solidity": 0.2
             }
            },
            "type": "bar"
           }
          ],
          "barpolar": [
           {
            "marker": {
             "line": {
              "color": "#E5ECF6",
              "width": 0.5
             },
             "pattern": {
              "fillmode": "overlay",
              "size": 10,
              "solidity": 0.2
             }
            },
            "type": "barpolar"
           }
          ],
          "carpet": [
           {
            "aaxis": {
             "endlinecolor": "#2a3f5f",
             "gridcolor": "white",
             "linecolor": "white",
             "minorgridcolor": "white",
             "startlinecolor": "#2a3f5f"
            },
            "baxis": {
             "endlinecolor": "#2a3f5f",
             "gridcolor": "white",
             "linecolor": "white",
             "minorgridcolor": "white",
             "startlinecolor": "#2a3f5f"
            },
            "type": "carpet"
           }
          ],
          "choropleth": [
           {
            "colorbar": {
             "outlinewidth": 0,
             "ticks": ""
            },
            "type": "choropleth"
           }
          ],
          "contour": [
           {
            "colorbar": {
             "outlinewidth": 0,
             "ticks": ""
            },
            "colorscale": [
             [
              0,
              "#0d0887"
             ],
             [
              0.1111111111111111,
              "#46039f"
             ],
             [
              0.2222222222222222,
              "#7201a8"
             ],
             [
              0.3333333333333333,
              "#9c179e"
             ],
             [
              0.4444444444444444,
              "#bd3786"
             ],
             [
              0.5555555555555556,
              "#d8576b"
             ],
             [
              0.6666666666666666,
              "#ed7953"
             ],
             [
              0.7777777777777778,
              "#fb9f3a"
             ],
             [
              0.8888888888888888,
              "#fdca26"
             ],
             [
              1,
              "#f0f921"
             ]
            ],
            "type": "contour"
           }
          ],
          "contourcarpet": [
           {
            "colorbar": {
             "outlinewidth": 0,
             "ticks": ""
            },
            "type": "contourcarpet"
           }
          ],
          "heatmap": [
           {
            "colorbar": {
             "outlinewidth": 0,
             "ticks": ""
            },
            "colorscale": [
             [
              0,
              "#0d0887"
             ],
             [
              0.1111111111111111,
              "#46039f"
             ],
             [
              0.2222222222222222,
              "#7201a8"
             ],
             [
              0.3333333333333333,
              "#9c179e"
             ],
             [
              0.4444444444444444,
              "#bd3786"
             ],
             [
              0.5555555555555556,
              "#d8576b"
             ],
             [
              0.6666666666666666,
              "#ed7953"
             ],
             [
              0.7777777777777778,
              "#fb9f3a"
             ],
             [
              0.8888888888888888,
              "#fdca26"
             ],
             [
              1,
              "#f0f921"
             ]
            ],
            "type": "heatmap"
           }
          ],
          "heatmapgl": [
           {
            "colorbar": {
             "outlinewidth": 0,
             "ticks": ""
            },
            "colorscale": [
             [
              0,
              "#0d0887"
             ],
             [
              0.1111111111111111,
              "#46039f"
             ],
             [
              0.2222222222222222,
              "#7201a8"
             ],
             [
              0.3333333333333333,
              "#9c179e"
             ],
             [
              0.4444444444444444,
              "#bd3786"
             ],
             [
              0.5555555555555556,
              "#d8576b"
             ],
             [
              0.6666666666666666,
              "#ed7953"
             ],
             [
              0.7777777777777778,
              "#fb9f3a"
             ],
             [
              0.8888888888888888,
              "#fdca26"
             ],
             [
              1,
              "#f0f921"
             ]
            ],
            "type": "heatmapgl"
           }
          ],
          "histogram": [
           {
            "marker": {
             "pattern": {
              "fillmode": "overlay",
              "size": 10,
              "solidity": 0.2
             }
            },
            "type": "histogram"
           }
          ],
          "histogram2d": [
           {
            "colorbar": {
             "outlinewidth": 0,
             "ticks": ""
            },
            "colorscale": [
             [
              0,
              "#0d0887"
             ],
             [
              0.1111111111111111,
              "#46039f"
             ],
             [
              0.2222222222222222,
              "#7201a8"
             ],
             [
              0.3333333333333333,
              "#9c179e"
             ],
             [
              0.4444444444444444,
              "#bd3786"
             ],
             [
              0.5555555555555556,
              "#d8576b"
             ],
             [
              0.6666666666666666,
              "#ed7953"
             ],
             [
              0.7777777777777778,
              "#fb9f3a"
             ],
             [
              0.8888888888888888,
              "#fdca26"
             ],
             [
              1,
              "#f0f921"
             ]
            ],
            "type": "histogram2d"
           }
          ],
          "histogram2dcontour": [
           {
            "colorbar": {
             "outlinewidth": 0,
             "ticks": ""
            },
            "colorscale": [
             [
              0,
              "#0d0887"
             ],
             [
              0.1111111111111111,
              "#46039f"
             ],
             [
              0.2222222222222222,
              "#7201a8"
             ],
             [
              0.3333333333333333,
              "#9c179e"
             ],
             [
              0.4444444444444444,
              "#bd3786"
             ],
             [
              0.5555555555555556,
              "#d8576b"
             ],
             [
              0.6666666666666666,
              "#ed7953"
             ],
             [
              0.7777777777777778,
              "#fb9f3a"
             ],
             [
              0.8888888888888888,
              "#fdca26"
             ],
             [
              1,
              "#f0f921"
             ]
            ],
            "type": "histogram2dcontour"
           }
          ],
          "mesh3d": [
           {
            "colorbar": {
             "outlinewidth": 0,
             "ticks": ""
            },
            "type": "mesh3d"
           }
          ],
          "parcoords": [
           {
            "line": {
             "colorbar": {
              "outlinewidth": 0,
              "ticks": ""
             }
            },
            "type": "parcoords"
           }
          ],
          "pie": [
           {
            "automargin": true,
            "type": "pie"
           }
          ],
          "scatter": [
           {
            "fillpattern": {
             "fillmode": "overlay",
             "size": 10,
             "solidity": 0.2
            },
            "type": "scatter"
           }
          ],
          "scatter3d": [
           {
            "line": {
             "colorbar": {
              "outlinewidth": 0,
              "ticks": ""
             }
            },
            "marker": {
             "colorbar": {
              "outlinewidth": 0,
              "ticks": ""
             }
            },
            "type": "scatter3d"
           }
          ],
          "scattercarpet": [
           {
            "marker": {
             "colorbar": {
              "outlinewidth": 0,
              "ticks": ""
             }
            },
            "type": "scattercarpet"
           }
          ],
          "scattergeo": [
           {
            "marker": {
             "colorbar": {
              "outlinewidth": 0,
              "ticks": ""
             }
            },
            "type": "scattergeo"
           }
          ],
          "scattergl": [
           {
            "marker": {
             "colorbar": {
              "outlinewidth": 0,
              "ticks": ""
             }
            },
            "type": "scattergl"
           }
          ],
          "scattermapbox": [
           {
            "marker": {
             "colorbar": {
              "outlinewidth": 0,
              "ticks": ""
             }
            },
            "type": "scattermapbox"
           }
          ],
          "scatterpolar": [
           {
            "marker": {
             "colorbar": {
              "outlinewidth": 0,
              "ticks": ""
             }
            },
            "type": "scatterpolar"
           }
          ],
          "scatterpolargl": [
           {
            "marker": {
             "colorbar": {
              "outlinewidth": 0,
              "ticks": ""
             }
            },
            "type": "scatterpolargl"
           }
          ],
          "scatterternary": [
           {
            "marker": {
             "colorbar": {
              "outlinewidth": 0,
              "ticks": ""
             }
            },
            "type": "scatterternary"
           }
          ],
          "surface": [
           {
            "colorbar": {
             "outlinewidth": 0,
             "ticks": ""
            },
            "colorscale": [
             [
              0,
              "#0d0887"
             ],
             [
              0.1111111111111111,
              "#46039f"
             ],
             [
              0.2222222222222222,
              "#7201a8"
             ],
             [
              0.3333333333333333,
              "#9c179e"
             ],
             [
              0.4444444444444444,
              "#bd3786"
             ],
             [
              0.5555555555555556,
              "#d8576b"
             ],
             [
              0.6666666666666666,
              "#ed7953"
             ],
             [
              0.7777777777777778,
              "#fb9f3a"
             ],
             [
              0.8888888888888888,
              "#fdca26"
             ],
             [
              1,
              "#f0f921"
             ]
            ],
            "type": "surface"
           }
          ],
          "table": [
           {
            "cells": {
             "fill": {
              "color": "#EBF0F8"
             },
             "line": {
              "color": "white"
             }
            },
            "header": {
             "fill": {
              "color": "#C8D4E3"
             },
             "line": {
              "color": "white"
             }
            },
            "type": "table"
           }
          ]
         },
         "layout": {
          "annotationdefaults": {
           "arrowcolor": "#2a3f5f",
           "arrowhead": 0,
           "arrowwidth": 1
          },
          "autotypenumbers": "strict",
          "coloraxis": {
           "colorbar": {
            "outlinewidth": 0,
            "ticks": ""
           }
          },
          "colorscale": {
           "diverging": [
            [
             0,
             "#8e0152"
            ],
            [
             0.1,
             "#c51b7d"
            ],
            [
             0.2,
             "#de77ae"
            ],
            [
             0.3,
             "#f1b6da"
            ],
            [
             0.4,
             "#fde0ef"
            ],
            [
             0.5,
             "#f7f7f7"
            ],
            [
             0.6,
             "#e6f5d0"
            ],
            [
             0.7,
             "#b8e186"
            ],
            [
             0.8,
             "#7fbc41"
            ],
            [
             0.9,
             "#4d9221"
            ],
            [
             1,
             "#276419"
            ]
           ],
           "sequential": [
            [
             0,
             "#0d0887"
            ],
            [
             0.1111111111111111,
             "#46039f"
            ],
            [
             0.2222222222222222,
             "#7201a8"
            ],
            [
             0.3333333333333333,
             "#9c179e"
            ],
            [
             0.4444444444444444,
             "#bd3786"
            ],
            [
             0.5555555555555556,
             "#d8576b"
            ],
            [
             0.6666666666666666,
             "#ed7953"
            ],
            [
             0.7777777777777778,
             "#fb9f3a"
            ],
            [
             0.8888888888888888,
             "#fdca26"
            ],
            [
             1,
             "#f0f921"
            ]
           ],
           "sequentialminus": [
            [
             0,
             "#0d0887"
            ],
            [
             0.1111111111111111,
             "#46039f"
            ],
            [
             0.2222222222222222,
             "#7201a8"
            ],
            [
             0.3333333333333333,
             "#9c179e"
            ],
            [
             0.4444444444444444,
             "#bd3786"
            ],
            [
             0.5555555555555556,
             "#d8576b"
            ],
            [
             0.6666666666666666,
             "#ed7953"
            ],
            [
             0.7777777777777778,
             "#fb9f3a"
            ],
            [
             0.8888888888888888,
             "#fdca26"
            ],
            [
             1,
             "#f0f921"
            ]
           ]
          },
          "colorway": [
           "#636efa",
           "#EF553B",
           "#00cc96",
           "#ab63fa",
           "#FFA15A",
           "#19d3f3",
           "#FF6692",
           "#B6E880",
           "#FF97FF",
           "#FECB52"
          ],
          "font": {
           "color": "#2a3f5f"
          },
          "geo": {
           "bgcolor": "white",
           "lakecolor": "white",
           "landcolor": "#E5ECF6",
           "showlakes": true,
           "showland": true,
           "subunitcolor": "white"
          },
          "hoverlabel": {
           "align": "left"
          },
          "hovermode": "closest",
          "mapbox": {
           "style": "light"
          },
          "paper_bgcolor": "white",
          "plot_bgcolor": "#E5ECF6",
          "polar": {
           "angularaxis": {
            "gridcolor": "white",
            "linecolor": "white",
            "ticks": ""
           },
           "bgcolor": "#E5ECF6",
           "radialaxis": {
            "gridcolor": "white",
            "linecolor": "white",
            "ticks": ""
           }
          },
          "scene": {
           "xaxis": {
            "backgroundcolor": "#E5ECF6",
            "gridcolor": "white",
            "gridwidth": 2,
            "linecolor": "white",
            "showbackground": true,
            "ticks": "",
            "zerolinecolor": "white"
           },
           "yaxis": {
            "backgroundcolor": "#E5ECF6",
            "gridcolor": "white",
            "gridwidth": 2,
            "linecolor": "white",
            "showbackground": true,
            "ticks": "",
            "zerolinecolor": "white"
           },
           "zaxis": {
            "backgroundcolor": "#E5ECF6",
            "gridcolor": "white",
            "gridwidth": 2,
            "linecolor": "white",
            "showbackground": true,
            "ticks": "",
            "zerolinecolor": "white"
           }
          },
          "shapedefaults": {
           "line": {
            "color": "#2a3f5f"
           }
          },
          "ternary": {
           "aaxis": {
            "gridcolor": "white",
            "linecolor": "white",
            "ticks": ""
           },
           "baxis": {
            "gridcolor": "white",
            "linecolor": "white",
            "ticks": ""
           },
           "bgcolor": "#E5ECF6",
           "caxis": {
            "gridcolor": "white",
            "linecolor": "white",
            "ticks": ""
           }
          },
          "title": {
           "x": 0.05
          },
          "xaxis": {
           "automargin": true,
           "gridcolor": "white",
           "linecolor": "white",
           "ticks": "",
           "title": {
            "standoff": 15
           },
           "zerolinecolor": "white",
           "zerolinewidth": 2
          },
          "yaxis": {
           "automargin": true,
           "gridcolor": "white",
           "linecolor": "white",
           "ticks": "",
           "title": {
            "standoff": 15
           },
           "zerolinecolor": "white",
           "zerolinewidth": 2
          }
         }
        },
        "title": {
         "text": "Hyperparameter Importances"
        },
        "xaxis": {
         "title": {
          "text": "Hyperparameter Importance"
         }
        },
        "yaxis": {
         "title": {
          "text": "Hyperparameter"
         }
        }
       }
      }
     },
     "metadata": {},
     "output_type": "display_data"
    },
    {
     "data": {
      "application/vnd.plotly.v1+json": {
       "config": {
        "plotlyServerURL": "https://plot.ly"
       },
       "data": [
        {
         "marker": {
          "color": [
           0,
           1,
           2,
           3,
           4,
           5,
           6,
           7,
           8,
           9,
           10,
           11,
           12,
           13,
           14,
           15,
           16,
           17,
           18,
           19,
           20,
           21,
           22,
           23,
           24,
           25,
           26,
           27,
           28,
           29,
           30,
           31,
           32,
           33,
           34,
           35,
           36,
           37,
           38,
           39,
           40,
           41,
           42,
           43,
           44,
           45,
           46,
           47,
           48,
           49,
           50,
           51,
           52,
           53,
           54,
           55,
           56,
           57,
           58,
           59,
           60,
           61,
           62,
           63,
           64,
           65,
           66,
           67,
           68,
           69,
           70,
           71,
           72,
           73,
           74,
           75,
           76,
           77,
           78,
           79,
           80,
           81,
           82,
           83,
           84,
           85,
           86,
           87,
           88,
           89,
           90,
           91,
           92,
           93,
           94,
           95,
           96,
           97,
           98,
           99
          ],
          "colorbar": {
           "title": {
            "text": "Trial"
           },
           "x": 1,
           "xpad": 40
          },
          "colorscale": [
           [
            0,
            "rgb(247,251,255)"
           ],
           [
            0.125,
            "rgb(222,235,247)"
           ],
           [
            0.25,
            "rgb(198,219,239)"
           ],
           [
            0.375,
            "rgb(158,202,225)"
           ],
           [
            0.5,
            "rgb(107,174,214)"
           ],
           [
            0.625,
            "rgb(66,146,198)"
           ],
           [
            0.75,
            "rgb(33,113,181)"
           ],
           [
            0.875,
            "rgb(8,81,156)"
           ],
           [
            1,
            "rgb(8,48,107)"
           ]
          ],
          "line": {
           "color": "Grey",
           "width": 0.5
          },
          "showscale": true
         },
         "mode": "markers",
         "name": "Feasible Trial",
         "showlegend": false,
         "type": "scatter",
         "x": [
          "entropy",
          "entropy",
          "gini",
          "gini",
          "entropy",
          "gini",
          "gini",
          "gini",
          "gini",
          "entropy",
          "entropy",
          "entropy",
          "entropy",
          "entropy",
          "entropy",
          "entropy",
          "entropy",
          "entropy",
          "entropy",
          "entropy",
          "entropy",
          "entropy",
          "entropy",
          "entropy",
          "entropy",
          "entropy",
          "entropy",
          "entropy",
          "entropy",
          "entropy",
          "entropy",
          "entropy",
          "entropy",
          "entropy",
          "entropy",
          "gini",
          "entropy",
          "gini",
          "gini",
          "gini",
          "gini",
          "gini",
          "gini",
          "gini",
          "gini",
          "entropy",
          "entropy",
          "gini",
          "entropy",
          "entropy",
          "entropy",
          "entropy",
          "entropy",
          "entropy",
          "entropy",
          "entropy",
          "entropy",
          "entropy",
          "entropy",
          "gini",
          "entropy",
          "entropy",
          "entropy",
          "entropy",
          "entropy",
          "entropy",
          "entropy",
          "entropy",
          "entropy",
          "entropy",
          "gini",
          "gini",
          "gini",
          "gini",
          "gini",
          "gini",
          "gini",
          "entropy",
          "entropy",
          "gini",
          "entropy",
          "gini",
          "gini",
          "gini",
          "gini",
          "gini",
          "gini",
          "entropy",
          "entropy",
          "gini",
          "entropy",
          "gini",
          "gini",
          "gini",
          "gini",
          "gini",
          "entropy",
          "entropy",
          "entropy",
          "gini"
         ],
         "xaxis": "x",
         "y": [
          0.947497982243745,
          0.9880145278450364,
          0.9880952380952381,
          0.9641646489104116,
          0.9642857142857143,
          0.9904358353510896,
          0.9904358353510896,
          0.9190476190476191,
          0.9904761904761905,
          0.992816787732042,
          0.992816787732042,
          0.9928571428571429,
          0.9904358353510896,
          0.9928571428571429,
          0.980952380952381,
          0.9928571428571429,
          0.9904761904761905,
          0.9879741727199355,
          0.9547619047619047,
          0.9808716707021793,
          0.9808716707021793,
          0.9356335754640839,
          0.9832526230831317,
          0.9904358353510896,
          0.9903954802259888,
          0.9904358353510896,
          0.9904358353510896,
          0.9500000000000001,
          0.98091202582728,
          0.9855932203389831,
          0.9832929782082325,
          0.9880145278450364,
          0.9880145278450364,
          0.9665859564164648,
          0.9808716707021793,
          0.9046811945117029,
          0.9214285714285715,
          0.9976190476190476,
          0.9856739305891848,
          0.9904761904761905,
          0.9714285714285714,
          0.9642453591606134,
          0.9880952380952381,
          0.992816787732042,
          0.8663034705407586,
          0.9666666666666667,
          0.9903954802259888,
          0.969047619047619,
          0.9903954802259888,
          0.9232041969330105,
          0.9928571428571429,
          0.9880548829701372,
          0.985633575464084,
          0.9832526230831317,
          0.9833333333333334,
          0.9785714285714285,
          0.9904358353510896,
          0.930952380952381,
          0.9857142857142858,
          0.9784907183212267,
          0.9761904761904763,
          0.9904761904761905,
          0.9475383373688459,
          0.935633575464084,
          0.9784907183212269,
          0.9761097659402745,
          0.9880145278450364,
          0.973769168684423,
          0.9880952380952381,
          0.985633575464084,
          0.9808313155770784,
          0.9689669087974172,
          0.9404761904761905,
          0.9833333333333333,
          0.9928571428571429,
          0.9880145278450364,
          0.9642857142857143,
          0.9404761904761905,
          0.9904761904761905,
          0.9690072639225181,
          0.9761904761904763,
          0.966585956416465,
          0.9880952380952381,
          0.9952380952380953,
          0.9619047619047619,
          0.98091202582728,
          0.985633575464084,
          0.9855932203389831,
          0.9832929782082325,
          0.956900726392252,
          0.9808313155770784,
          0.961864406779661,
          0.9736884584342212,
          0.9833333333333334,
          0.9809120258272801,
          0.9785714285714285,
          0.8947941888619856,
          0.9832526230831317,
          0.9833333333333334,
          0.9857142857142858
         ],
         "yaxis": "y"
        },
        {
         "marker": {
          "color": [
           0,
           1,
           2,
           3,
           4,
           5,
           6,
           7,
           8,
           9,
           10,
           11,
           12,
           13,
           14,
           15,
           16,
           17,
           18,
           19,
           20,
           21,
           22,
           23,
           24,
           25,
           26,
           27,
           28,
           29,
           30,
           31,
           32,
           33,
           34,
           35,
           36,
           37,
           38,
           39,
           40,
           41,
           42,
           43,
           44,
           45,
           46,
           47,
           48,
           49,
           50,
           51,
           52,
           53,
           54,
           55,
           56,
           57,
           58,
           59,
           60,
           61,
           62,
           63,
           64,
           65,
           66,
           67,
           68,
           69,
           70,
           71,
           72,
           73,
           74,
           75,
           76,
           77,
           78,
           79,
           80,
           81,
           82,
           83,
           84,
           85,
           86,
           87,
           88,
           89,
           90,
           91,
           92,
           93,
           94,
           95,
           96,
           97,
           98,
           99
          ],
          "colorbar": {
           "title": {
            "text": "Trial"
           },
           "x": 1,
           "xpad": 40
          },
          "colorscale": [
           [
            0,
            "rgb(247,251,255)"
           ],
           [
            0.125,
            "rgb(222,235,247)"
           ],
           [
            0.25,
            "rgb(198,219,239)"
           ],
           [
            0.375,
            "rgb(158,202,225)"
           ],
           [
            0.5,
            "rgb(107,174,214)"
           ],
           [
            0.625,
            "rgb(66,146,198)"
           ],
           [
            0.75,
            "rgb(33,113,181)"
           ],
           [
            0.875,
            "rgb(8,81,156)"
           ],
           [
            1,
            "rgb(8,48,107)"
           ]
          ],
          "line": {
           "color": "Grey",
           "width": 0.5
          },
          "showscale": false
         },
         "mode": "markers",
         "name": "Feasible Trial",
         "showlegend": false,
         "type": "scatter",
         "x": [
          3,
          3,
          7,
          15,
          4,
          9,
          5,
          11,
          5,
          12,
          14,
          14,
          12,
          12,
          10,
          13,
          15,
          8,
          13,
          1,
          10,
          13,
          13,
          15,
          11,
          14,
          12,
          14,
          7,
          11,
          10,
          12,
          13,
          12,
          14,
          9,
          15,
          11,
          11,
          9,
          13,
          12,
          14,
          11,
          10,
          13,
          12,
          15,
          6,
          2,
          11,
          8,
          11,
          12,
          9,
          13,
          10,
          14,
          11,
          14,
          12,
          13,
          15,
          14,
          13,
          12,
          14,
          11,
          13,
          4,
          10,
          11,
          11,
          12,
          15,
          15,
          15,
          14,
          15,
          14,
          13,
          11,
          12,
          10,
          8,
          10,
          12,
          10,
          13,
          9,
          14,
          11,
          7,
          12,
          11,
          10,
          13,
          12,
          15,
          11
         ],
         "xaxis": "x2",
         "y": [
          0.947497982243745,
          0.9880145278450364,
          0.9880952380952381,
          0.9641646489104116,
          0.9642857142857143,
          0.9904358353510896,
          0.9904358353510896,
          0.9190476190476191,
          0.9904761904761905,
          0.992816787732042,
          0.992816787732042,
          0.9928571428571429,
          0.9904358353510896,
          0.9928571428571429,
          0.980952380952381,
          0.9928571428571429,
          0.9904761904761905,
          0.9879741727199355,
          0.9547619047619047,
          0.9808716707021793,
          0.9808716707021793,
          0.9356335754640839,
          0.9832526230831317,
          0.9904358353510896,
          0.9903954802259888,
          0.9904358353510896,
          0.9904358353510896,
          0.9500000000000001,
          0.98091202582728,
          0.9855932203389831,
          0.9832929782082325,
          0.9880145278450364,
          0.9880145278450364,
          0.9665859564164648,
          0.9808716707021793,
          0.9046811945117029,
          0.9214285714285715,
          0.9976190476190476,
          0.9856739305891848,
          0.9904761904761905,
          0.9714285714285714,
          0.9642453591606134,
          0.9880952380952381,
          0.992816787732042,
          0.8663034705407586,
          0.9666666666666667,
          0.9903954802259888,
          0.969047619047619,
          0.9903954802259888,
          0.9232041969330105,
          0.9928571428571429,
          0.9880548829701372,
          0.985633575464084,
          0.9832526230831317,
          0.9833333333333334,
          0.9785714285714285,
          0.9904358353510896,
          0.930952380952381,
          0.9857142857142858,
          0.9784907183212267,
          0.9761904761904763,
          0.9904761904761905,
          0.9475383373688459,
          0.935633575464084,
          0.9784907183212269,
          0.9761097659402745,
          0.9880145278450364,
          0.973769168684423,
          0.9880952380952381,
          0.985633575464084,
          0.9808313155770784,
          0.9689669087974172,
          0.9404761904761905,
          0.9833333333333333,
          0.9928571428571429,
          0.9880145278450364,
          0.9642857142857143,
          0.9404761904761905,
          0.9904761904761905,
          0.9690072639225181,
          0.9761904761904763,
          0.966585956416465,
          0.9880952380952381,
          0.9952380952380953,
          0.9619047619047619,
          0.98091202582728,
          0.985633575464084,
          0.9855932203389831,
          0.9832929782082325,
          0.956900726392252,
          0.9808313155770784,
          0.961864406779661,
          0.9736884584342212,
          0.9833333333333334,
          0.9809120258272801,
          0.9785714285714285,
          0.8947941888619856,
          0.9832526230831317,
          0.9833333333333334,
          0.9857142857142858
         ],
         "yaxis": "y2"
        },
        {
         "marker": {
          "color": [
           0,
           1,
           2,
           3,
           4,
           5,
           6,
           7,
           8,
           9,
           10,
           11,
           12,
           13,
           14,
           15,
           16,
           17,
           18,
           19,
           20,
           21,
           22,
           23,
           24,
           25,
           26,
           27,
           28,
           29,
           30,
           31,
           32,
           33,
           34,
           35,
           36,
           37,
           38,
           39,
           40,
           41,
           42,
           43,
           44,
           45,
           46,
           47,
           48,
           49,
           50,
           51,
           52,
           53,
           54,
           55,
           56,
           57,
           58,
           59,
           60,
           61,
           62,
           63,
           64,
           65,
           66,
           67,
           68,
           69,
           70,
           71,
           72,
           73,
           74,
           75,
           76,
           77,
           78,
           79,
           80,
           81,
           82,
           83,
           84,
           85,
           86,
           87,
           88,
           89,
           90,
           91,
           92,
           93,
           94,
           95,
           96,
           97,
           98,
           99
          ],
          "colorbar": {
           "title": {
            "text": "Trial"
           },
           "x": 1,
           "xpad": 40
          },
          "colorscale": [
           [
            0,
            "rgb(247,251,255)"
           ],
           [
            0.125,
            "rgb(222,235,247)"
           ],
           [
            0.25,
            "rgb(198,219,239)"
           ],
           [
            0.375,
            "rgb(158,202,225)"
           ],
           [
            0.5,
            "rgb(107,174,214)"
           ],
           [
            0.625,
            "rgb(66,146,198)"
           ],
           [
            0.75,
            "rgb(33,113,181)"
           ],
           [
            0.875,
            "rgb(8,81,156)"
           ],
           [
            1,
            "rgb(8,48,107)"
           ]
          ],
          "line": {
           "color": "Grey",
           "width": 0.5
          },
          "showscale": false
         },
         "mode": "markers",
         "name": "Feasible Trial",
         "showlegend": false,
         "type": "scatter",
         "x": [
          "sqrt",
          "sqrt",
          "log2",
          "log2",
          "log2",
          null,
          null,
          "log2",
          "log2",
          "sqrt",
          "sqrt",
          "sqrt",
          "sqrt",
          "sqrt",
          "sqrt",
          "sqrt",
          "sqrt",
          null,
          "sqrt",
          "sqrt",
          null,
          "sqrt",
          "sqrt",
          "sqrt",
          "sqrt",
          "sqrt",
          "sqrt",
          "sqrt",
          null,
          "sqrt",
          "sqrt",
          "sqrt",
          "sqrt",
          "sqrt",
          "sqrt",
          "log2",
          "sqrt",
          "sqrt",
          "log2",
          null,
          "sqrt",
          "sqrt",
          "sqrt",
          "sqrt",
          "log2",
          "sqrt",
          "sqrt",
          "sqrt",
          null,
          "sqrt",
          "log2",
          "log2",
          "log2",
          "log2",
          "log2",
          "log2",
          "sqrt",
          "sqrt",
          "sqrt",
          null,
          "sqrt",
          "sqrt",
          "sqrt",
          "sqrt",
          "sqrt",
          "sqrt",
          "sqrt",
          "log2",
          "sqrt",
          "sqrt",
          null,
          "sqrt",
          "sqrt",
          "sqrt",
          "sqrt",
          "sqrt",
          "sqrt",
          "sqrt",
          "sqrt",
          "log2",
          "sqrt",
          "sqrt",
          "sqrt",
          "sqrt",
          "sqrt",
          "sqrt",
          "sqrt",
          "sqrt",
          "log2",
          "sqrt",
          null,
          "sqrt",
          "sqrt",
          "sqrt",
          "sqrt",
          "sqrt",
          "sqrt",
          "log2",
          "sqrt",
          "sqrt"
         ],
         "xaxis": "x3",
         "y": [
          0.947497982243745,
          0.9880145278450364,
          0.9880952380952381,
          0.9641646489104116,
          0.9642857142857143,
          0.9904358353510896,
          0.9904358353510896,
          0.9190476190476191,
          0.9904761904761905,
          0.992816787732042,
          0.992816787732042,
          0.9928571428571429,
          0.9904358353510896,
          0.9928571428571429,
          0.980952380952381,
          0.9928571428571429,
          0.9904761904761905,
          0.9879741727199355,
          0.9547619047619047,
          0.9808716707021793,
          0.9808716707021793,
          0.9356335754640839,
          0.9832526230831317,
          0.9904358353510896,
          0.9903954802259888,
          0.9904358353510896,
          0.9904358353510896,
          0.9500000000000001,
          0.98091202582728,
          0.9855932203389831,
          0.9832929782082325,
          0.9880145278450364,
          0.9880145278450364,
          0.9665859564164648,
          0.9808716707021793,
          0.9046811945117029,
          0.9214285714285715,
          0.9976190476190476,
          0.9856739305891848,
          0.9904761904761905,
          0.9714285714285714,
          0.9642453591606134,
          0.9880952380952381,
          0.992816787732042,
          0.8663034705407586,
          0.9666666666666667,
          0.9903954802259888,
          0.969047619047619,
          0.9903954802259888,
          0.9232041969330105,
          0.9928571428571429,
          0.9880548829701372,
          0.985633575464084,
          0.9832526230831317,
          0.9833333333333334,
          0.9785714285714285,
          0.9904358353510896,
          0.930952380952381,
          0.9857142857142858,
          0.9784907183212267,
          0.9761904761904763,
          0.9904761904761905,
          0.9475383373688459,
          0.935633575464084,
          0.9784907183212269,
          0.9761097659402745,
          0.9880145278450364,
          0.973769168684423,
          0.9880952380952381,
          0.985633575464084,
          0.9808313155770784,
          0.9689669087974172,
          0.9404761904761905,
          0.9833333333333333,
          0.9928571428571429,
          0.9880145278450364,
          0.9642857142857143,
          0.9404761904761905,
          0.9904761904761905,
          0.9690072639225181,
          0.9761904761904763,
          0.966585956416465,
          0.9880952380952381,
          0.9952380952380953,
          0.9619047619047619,
          0.98091202582728,
          0.985633575464084,
          0.9855932203389831,
          0.9832929782082325,
          0.956900726392252,
          0.9808313155770784,
          0.961864406779661,
          0.9736884584342212,
          0.9833333333333334,
          0.9809120258272801,
          0.9785714285714285,
          0.8947941888619856,
          0.9832526230831317,
          0.9833333333333334,
          0.9857142857142858
         ],
         "yaxis": "y3"
        },
        {
         "marker": {
          "color": [
           0,
           1,
           2,
           3,
           4,
           5,
           6,
           7,
           8,
           9,
           10,
           11,
           12,
           13,
           14,
           15,
           16,
           17,
           18,
           19,
           20,
           21,
           22,
           23,
           24,
           25,
           26,
           27,
           28,
           29,
           30,
           31,
           32,
           33,
           34,
           35,
           36,
           37,
           38,
           39,
           40,
           41,
           42,
           43,
           44,
           45,
           46,
           47,
           48,
           49,
           50,
           51,
           52,
           53,
           54,
           55,
           56,
           57,
           58,
           59,
           60,
           61,
           62,
           63,
           64,
           65,
           66,
           67,
           68,
           69,
           70,
           71,
           72,
           73,
           74,
           75,
           76,
           77,
           78,
           79,
           80,
           81,
           82,
           83,
           84,
           85,
           86,
           87,
           88,
           89,
           90,
           91,
           92,
           93,
           94,
           95,
           96,
           97,
           98,
           99
          ],
          "colorbar": {
           "title": {
            "text": "Trial"
           },
           "x": 1,
           "xpad": 40
          },
          "colorscale": [
           [
            0,
            "rgb(247,251,255)"
           ],
           [
            0.125,
            "rgb(222,235,247)"
           ],
           [
            0.25,
            "rgb(198,219,239)"
           ],
           [
            0.375,
            "rgb(158,202,225)"
           ],
           [
            0.5,
            "rgb(107,174,214)"
           ],
           [
            0.625,
            "rgb(66,146,198)"
           ],
           [
            0.75,
            "rgb(33,113,181)"
           ],
           [
            0.875,
            "rgb(8,81,156)"
           ],
           [
            1,
            "rgb(8,48,107)"
           ]
          ],
          "line": {
           "color": "Grey",
           "width": 0.5
          },
          "showscale": false
         },
         "mode": "markers",
         "name": "Feasible Trial",
         "showlegend": false,
         "type": "scatter",
         "x": [
          2,
          7,
          4,
          7,
          7,
          2,
          3,
          16,
          15,
          11,
          20,
          20,
          13,
          20,
          20,
          17,
          18,
          14,
          18,
          12,
          9,
          17,
          20,
          18,
          16,
          19,
          17,
          15,
          19,
          20,
          17,
          11,
          10,
          9,
          5,
          13,
          19,
          6,
          5,
          1,
          6,
          8,
          3,
          16,
          19,
          11,
          7,
          14,
          18,
          8,
          4,
          3,
          5,
          1,
          4,
          6,
          2,
          20,
          12,
          4,
          17,
          20,
          19,
          20,
          19,
          18,
          16,
          18,
          15,
          20,
          6,
          14,
          16,
          18,
          17,
          17,
          19,
          15,
          13,
          9,
          12,
          17,
          19,
          10,
          4,
          10,
          2,
          10,
          11,
          20,
          7,
          8,
          18,
          16,
          15,
          16,
          13,
          20,
          5,
          19
         ],
         "xaxis": "x4",
         "y": [
          0.947497982243745,
          0.9880145278450364,
          0.9880952380952381,
          0.9641646489104116,
          0.9642857142857143,
          0.9904358353510896,
          0.9904358353510896,
          0.9190476190476191,
          0.9904761904761905,
          0.992816787732042,
          0.992816787732042,
          0.9928571428571429,
          0.9904358353510896,
          0.9928571428571429,
          0.980952380952381,
          0.9928571428571429,
          0.9904761904761905,
          0.9879741727199355,
          0.9547619047619047,
          0.9808716707021793,
          0.9808716707021793,
          0.9356335754640839,
          0.9832526230831317,
          0.9904358353510896,
          0.9903954802259888,
          0.9904358353510896,
          0.9904358353510896,
          0.9500000000000001,
          0.98091202582728,
          0.9855932203389831,
          0.9832929782082325,
          0.9880145278450364,
          0.9880145278450364,
          0.9665859564164648,
          0.9808716707021793,
          0.9046811945117029,
          0.9214285714285715,
          0.9976190476190476,
          0.9856739305891848,
          0.9904761904761905,
          0.9714285714285714,
          0.9642453591606134,
          0.9880952380952381,
          0.992816787732042,
          0.8663034705407586,
          0.9666666666666667,
          0.9903954802259888,
          0.969047619047619,
          0.9903954802259888,
          0.9232041969330105,
          0.9928571428571429,
          0.9880548829701372,
          0.985633575464084,
          0.9832526230831317,
          0.9833333333333334,
          0.9785714285714285,
          0.9904358353510896,
          0.930952380952381,
          0.9857142857142858,
          0.9784907183212267,
          0.9761904761904763,
          0.9904761904761905,
          0.9475383373688459,
          0.935633575464084,
          0.9784907183212269,
          0.9761097659402745,
          0.9880145278450364,
          0.973769168684423,
          0.9880952380952381,
          0.985633575464084,
          0.9808313155770784,
          0.9689669087974172,
          0.9404761904761905,
          0.9833333333333333,
          0.9928571428571429,
          0.9880145278450364,
          0.9642857142857143,
          0.9404761904761905,
          0.9904761904761905,
          0.9690072639225181,
          0.9761904761904763,
          0.966585956416465,
          0.9880952380952381,
          0.9952380952380953,
          0.9619047619047619,
          0.98091202582728,
          0.985633575464084,
          0.9855932203389831,
          0.9832929782082325,
          0.956900726392252,
          0.9808313155770784,
          0.961864406779661,
          0.9736884584342212,
          0.9833333333333334,
          0.9809120258272801,
          0.9785714285714285,
          0.8947941888619856,
          0.9832526230831317,
          0.9833333333333334,
          0.9857142857142858
         ],
         "yaxis": "y4"
        },
        {
         "marker": {
          "color": [
           0,
           1,
           2,
           3,
           4,
           5,
           6,
           7,
           8,
           9,
           10,
           11,
           12,
           13,
           14,
           15,
           16,
           17,
           18,
           19,
           20,
           21,
           22,
           23,
           24,
           25,
           26,
           27,
           28,
           29,
           30,
           31,
           32,
           33,
           34,
           35,
           36,
           37,
           38,
           39,
           40,
           41,
           42,
           43,
           44,
           45,
           46,
           47,
           48,
           49,
           50,
           51,
           52,
           53,
           54,
           55,
           56,
           57,
           58,
           59,
           60,
           61,
           62,
           63,
           64,
           65,
           66,
           67,
           68,
           69,
           70,
           71,
           72,
           73,
           74,
           75,
           76,
           77,
           78,
           79,
           80,
           81,
           82,
           83,
           84,
           85,
           86,
           87,
           88,
           89,
           90,
           91,
           92,
           93,
           94,
           95,
           96,
           97,
           98,
           99
          ],
          "colorbar": {
           "title": {
            "text": "Trial"
           },
           "x": 1,
           "xpad": 40
          },
          "colorscale": [
           [
            0,
            "rgb(247,251,255)"
           ],
           [
            0.125,
            "rgb(222,235,247)"
           ],
           [
            0.25,
            "rgb(198,219,239)"
           ],
           [
            0.375,
            "rgb(158,202,225)"
           ],
           [
            0.5,
            "rgb(107,174,214)"
           ],
           [
            0.625,
            "rgb(66,146,198)"
           ],
           [
            0.75,
            "rgb(33,113,181)"
           ],
           [
            0.875,
            "rgb(8,81,156)"
           ],
           [
            1,
            "rgb(8,48,107)"
           ]
          ],
          "line": {
           "color": "Grey",
           "width": 0.5
          },
          "showscale": false
         },
         "mode": "markers",
         "name": "Feasible Trial",
         "showlegend": false,
         "type": "scatter",
         "x": [
          4,
          5,
          16,
          17,
          14,
          19,
          12,
          15,
          8,
          11,
          9,
          9,
          10,
          6,
          2,
          7,
          6,
          2,
          13,
          4,
          8,
          7,
          6,
          10,
          8,
          5,
          7,
          10,
          4,
          12,
          3,
          11,
          9,
          6,
          11,
          5,
          9,
          13,
          15,
          17,
          14,
          12,
          20,
          13,
          7,
          10,
          13,
          8,
          11,
          15,
          9,
          9,
          7,
          12,
          5,
          10,
          6,
          8,
          11,
          8,
          14,
          9,
          9,
          7,
          10,
          6,
          4,
          7,
          13,
          3,
          11,
          13,
          8,
          12,
          16,
          16,
          17,
          16,
          18,
          9,
          9,
          15,
          10,
          12,
          12,
          11,
          14,
          19,
          10,
          5,
          6,
          13,
          14,
          12,
          13,
          11,
          8,
          6,
          7,
          10
         ],
         "xaxis": "x5",
         "y": [
          0.947497982243745,
          0.9880145278450364,
          0.9880952380952381,
          0.9641646489104116,
          0.9642857142857143,
          0.9904358353510896,
          0.9904358353510896,
          0.9190476190476191,
          0.9904761904761905,
          0.992816787732042,
          0.992816787732042,
          0.9928571428571429,
          0.9904358353510896,
          0.9928571428571429,
          0.980952380952381,
          0.9928571428571429,
          0.9904761904761905,
          0.9879741727199355,
          0.9547619047619047,
          0.9808716707021793,
          0.9808716707021793,
          0.9356335754640839,
          0.9832526230831317,
          0.9904358353510896,
          0.9903954802259888,
          0.9904358353510896,
          0.9904358353510896,
          0.9500000000000001,
          0.98091202582728,
          0.9855932203389831,
          0.9832929782082325,
          0.9880145278450364,
          0.9880145278450364,
          0.9665859564164648,
          0.9808716707021793,
          0.9046811945117029,
          0.9214285714285715,
          0.9976190476190476,
          0.9856739305891848,
          0.9904761904761905,
          0.9714285714285714,
          0.9642453591606134,
          0.9880952380952381,
          0.992816787732042,
          0.8663034705407586,
          0.9666666666666667,
          0.9903954802259888,
          0.969047619047619,
          0.9903954802259888,
          0.9232041969330105,
          0.9928571428571429,
          0.9880548829701372,
          0.985633575464084,
          0.9832526230831317,
          0.9833333333333334,
          0.9785714285714285,
          0.9904358353510896,
          0.930952380952381,
          0.9857142857142858,
          0.9784907183212267,
          0.9761904761904763,
          0.9904761904761905,
          0.9475383373688459,
          0.935633575464084,
          0.9784907183212269,
          0.9761097659402745,
          0.9880145278450364,
          0.973769168684423,
          0.9880952380952381,
          0.985633575464084,
          0.9808313155770784,
          0.9689669087974172,
          0.9404761904761905,
          0.9833333333333333,
          0.9928571428571429,
          0.9880145278450364,
          0.9642857142857143,
          0.9404761904761905,
          0.9904761904761905,
          0.9690072639225181,
          0.9761904761904763,
          0.966585956416465,
          0.9880952380952381,
          0.9952380952380953,
          0.9619047619047619,
          0.98091202582728,
          0.985633575464084,
          0.9855932203389831,
          0.9832929782082325,
          0.956900726392252,
          0.9808313155770784,
          0.961864406779661,
          0.9736884584342212,
          0.9833333333333334,
          0.9809120258272801,
          0.9785714285714285,
          0.8947941888619856,
          0.9832526230831317,
          0.9833333333333334,
          0.9857142857142858
         ],
         "yaxis": "y5"
        },
        {
         "marker": {
          "color": [
           0,
           1,
           2,
           3,
           4,
           5,
           6,
           7,
           8,
           9,
           10,
           11,
           12,
           13,
           14,
           15,
           16,
           17,
           18,
           19,
           20,
           21,
           22,
           23,
           24,
           25,
           26,
           27,
           28,
           29,
           30,
           31,
           32,
           33,
           34,
           35,
           36,
           37,
           38,
           39,
           40,
           41,
           42,
           43,
           44,
           45,
           46,
           47,
           48,
           49,
           50,
           51,
           52,
           53,
           54,
           55,
           56,
           57,
           58,
           59,
           60,
           61,
           62,
           63,
           64,
           65,
           66,
           67,
           68,
           69,
           70,
           71,
           72,
           73,
           74,
           75,
           76,
           77,
           78,
           79,
           80,
           81,
           82,
           83,
           84,
           85,
           86,
           87,
           88,
           89,
           90,
           91,
           92,
           93,
           94,
           95,
           96,
           97,
           98,
           99
          ],
          "colorbar": {
           "title": {
            "text": "Trial"
           },
           "x": 1,
           "xpad": 40
          },
          "colorscale": [
           [
            0,
            "rgb(247,251,255)"
           ],
           [
            0.125,
            "rgb(222,235,247)"
           ],
           [
            0.25,
            "rgb(198,219,239)"
           ],
           [
            0.375,
            "rgb(158,202,225)"
           ],
           [
            0.5,
            "rgb(107,174,214)"
           ],
           [
            0.625,
            "rgb(66,146,198)"
           ],
           [
            0.75,
            "rgb(33,113,181)"
           ],
           [
            0.875,
            "rgb(8,81,156)"
           ],
           [
            1,
            "rgb(8,48,107)"
           ]
          ],
          "line": {
           "color": "Grey",
           "width": 0.5
          },
          "showscale": false
         },
         "mode": "markers",
         "name": "Feasible Trial",
         "showlegend": false,
         "type": "scatter",
         "x": [
          "best",
          "best",
          "random",
          "random",
          "random",
          "best",
          "best",
          "random",
          "best",
          "best",
          "best",
          "best",
          "best",
          "best",
          "best",
          "best",
          "best",
          "best",
          "random",
          "best",
          "best",
          "best",
          "best",
          "best",
          "best",
          "best",
          "random",
          "best",
          "best",
          "best",
          "best",
          "best",
          "best",
          "best",
          "best",
          "random",
          "best",
          "random",
          "random",
          "random",
          "random",
          "random",
          "random",
          "best",
          "random",
          "best",
          "best",
          "random",
          "best",
          "best",
          "best",
          "best",
          "best",
          "best",
          "best",
          "best",
          "best",
          "best",
          "random",
          "best",
          "best",
          "best",
          "best",
          "best",
          "best",
          "best",
          "best",
          "best",
          "random",
          "best",
          "best",
          "best",
          "best",
          "best",
          "best",
          "best",
          "random",
          "best",
          "best",
          "best",
          "random",
          "best",
          "best",
          "best",
          "best",
          "best",
          "best",
          "best",
          "best",
          "random",
          "best",
          "best",
          "best",
          "best",
          "best",
          "best",
          "best",
          "best",
          "random",
          "best"
         ],
         "xaxis": "x6",
         "y": [
          0.947497982243745,
          0.9880145278450364,
          0.9880952380952381,
          0.9641646489104116,
          0.9642857142857143,
          0.9904358353510896,
          0.9904358353510896,
          0.9190476190476191,
          0.9904761904761905,
          0.992816787732042,
          0.992816787732042,
          0.9928571428571429,
          0.9904358353510896,
          0.9928571428571429,
          0.980952380952381,
          0.9928571428571429,
          0.9904761904761905,
          0.9879741727199355,
          0.9547619047619047,
          0.9808716707021793,
          0.9808716707021793,
          0.9356335754640839,
          0.9832526230831317,
          0.9904358353510896,
          0.9903954802259888,
          0.9904358353510896,
          0.9904358353510896,
          0.9500000000000001,
          0.98091202582728,
          0.9855932203389831,
          0.9832929782082325,
          0.9880145278450364,
          0.9880145278450364,
          0.9665859564164648,
          0.9808716707021793,
          0.9046811945117029,
          0.9214285714285715,
          0.9976190476190476,
          0.9856739305891848,
          0.9904761904761905,
          0.9714285714285714,
          0.9642453591606134,
          0.9880952380952381,
          0.992816787732042,
          0.8663034705407586,
          0.9666666666666667,
          0.9903954802259888,
          0.969047619047619,
          0.9903954802259888,
          0.9232041969330105,
          0.9928571428571429,
          0.9880548829701372,
          0.985633575464084,
          0.9832526230831317,
          0.9833333333333334,
          0.9785714285714285,
          0.9904358353510896,
          0.930952380952381,
          0.9857142857142858,
          0.9784907183212267,
          0.9761904761904763,
          0.9904761904761905,
          0.9475383373688459,
          0.935633575464084,
          0.9784907183212269,
          0.9761097659402745,
          0.9880145278450364,
          0.973769168684423,
          0.9880952380952381,
          0.985633575464084,
          0.9808313155770784,
          0.9689669087974172,
          0.9404761904761905,
          0.9833333333333333,
          0.9928571428571429,
          0.9880145278450364,
          0.9642857142857143,
          0.9404761904761905,
          0.9904761904761905,
          0.9690072639225181,
          0.9761904761904763,
          0.966585956416465,
          0.9880952380952381,
          0.9952380952380953,
          0.9619047619047619,
          0.98091202582728,
          0.985633575464084,
          0.9855932203389831,
          0.9832929782082325,
          0.956900726392252,
          0.9808313155770784,
          0.961864406779661,
          0.9736884584342212,
          0.9833333333333334,
          0.9809120258272801,
          0.9785714285714285,
          0.8947941888619856,
          0.9832526230831317,
          0.9833333333333334,
          0.9857142857142858
         ],
         "yaxis": "y6"
        }
       ],
       "layout": {
        "template": {
         "data": {
          "bar": [
           {
            "error_x": {
             "color": "#2a3f5f"
            },
            "error_y": {
             "color": "#2a3f5f"
            },
            "marker": {
             "line": {
              "color": "#E5ECF6",
              "width": 0.5
             },
             "pattern": {
              "fillmode": "overlay",
              "size": 10,
              "solidity": 0.2
             }
            },
            "type": "bar"
           }
          ],
          "barpolar": [
           {
            "marker": {
             "line": {
              "color": "#E5ECF6",
              "width": 0.5
             },
             "pattern": {
              "fillmode": "overlay",
              "size": 10,
              "solidity": 0.2
             }
            },
            "type": "barpolar"
           }
          ],
          "carpet": [
           {
            "aaxis": {
             "endlinecolor": "#2a3f5f",
             "gridcolor": "white",
             "linecolor": "white",
             "minorgridcolor": "white",
             "startlinecolor": "#2a3f5f"
            },
            "baxis": {
             "endlinecolor": "#2a3f5f",
             "gridcolor": "white",
             "linecolor": "white",
             "minorgridcolor": "white",
             "startlinecolor": "#2a3f5f"
            },
            "type": "carpet"
           }
          ],
          "choropleth": [
           {
            "colorbar": {
             "outlinewidth": 0,
             "ticks": ""
            },
            "type": "choropleth"
           }
          ],
          "contour": [
           {
            "colorbar": {
             "outlinewidth": 0,
             "ticks": ""
            },
            "colorscale": [
             [
              0,
              "#0d0887"
             ],
             [
              0.1111111111111111,
              "#46039f"
             ],
             [
              0.2222222222222222,
              "#7201a8"
             ],
             [
              0.3333333333333333,
              "#9c179e"
             ],
             [
              0.4444444444444444,
              "#bd3786"
             ],
             [
              0.5555555555555556,
              "#d8576b"
             ],
             [
              0.6666666666666666,
              "#ed7953"
             ],
             [
              0.7777777777777778,
              "#fb9f3a"
             ],
             [
              0.8888888888888888,
              "#fdca26"
             ],
             [
              1,
              "#f0f921"
             ]
            ],
            "type": "contour"
           }
          ],
          "contourcarpet": [
           {
            "colorbar": {
             "outlinewidth": 0,
             "ticks": ""
            },
            "type": "contourcarpet"
           }
          ],
          "heatmap": [
           {
            "colorbar": {
             "outlinewidth": 0,
             "ticks": ""
            },
            "colorscale": [
             [
              0,
              "#0d0887"
             ],
             [
              0.1111111111111111,
              "#46039f"
             ],
             [
              0.2222222222222222,
              "#7201a8"
             ],
             [
              0.3333333333333333,
              "#9c179e"
             ],
             [
              0.4444444444444444,
              "#bd3786"
             ],
             [
              0.5555555555555556,
              "#d8576b"
             ],
             [
              0.6666666666666666,
              "#ed7953"
             ],
             [
              0.7777777777777778,
              "#fb9f3a"
             ],
             [
              0.8888888888888888,
              "#fdca26"
             ],
             [
              1,
              "#f0f921"
             ]
            ],
            "type": "heatmap"
           }
          ],
          "heatmapgl": [
           {
            "colorbar": {
             "outlinewidth": 0,
             "ticks": ""
            },
            "colorscale": [
             [
              0,
              "#0d0887"
             ],
             [
              0.1111111111111111,
              "#46039f"
             ],
             [
              0.2222222222222222,
              "#7201a8"
             ],
             [
              0.3333333333333333,
              "#9c179e"
             ],
             [
              0.4444444444444444,
              "#bd3786"
             ],
             [
              0.5555555555555556,
              "#d8576b"
             ],
             [
              0.6666666666666666,
              "#ed7953"
             ],
             [
              0.7777777777777778,
              "#fb9f3a"
             ],
             [
              0.8888888888888888,
              "#fdca26"
             ],
             [
              1,
              "#f0f921"
             ]
            ],
            "type": "heatmapgl"
           }
          ],
          "histogram": [
           {
            "marker": {
             "pattern": {
              "fillmode": "overlay",
              "size": 10,
              "solidity": 0.2
             }
            },
            "type": "histogram"
           }
          ],
          "histogram2d": [
           {
            "colorbar": {
             "outlinewidth": 0,
             "ticks": ""
            },
            "colorscale": [
             [
              0,
              "#0d0887"
             ],
             [
              0.1111111111111111,
              "#46039f"
             ],
             [
              0.2222222222222222,
              "#7201a8"
             ],
             [
              0.3333333333333333,
              "#9c179e"
             ],
             [
              0.4444444444444444,
              "#bd3786"
             ],
             [
              0.5555555555555556,
              "#d8576b"
             ],
             [
              0.6666666666666666,
              "#ed7953"
             ],
             [
              0.7777777777777778,
              "#fb9f3a"
             ],
             [
              0.8888888888888888,
              "#fdca26"
             ],
             [
              1,
              "#f0f921"
             ]
            ],
            "type": "histogram2d"
           }
          ],
          "histogram2dcontour": [
           {
            "colorbar": {
             "outlinewidth": 0,
             "ticks": ""
            },
            "colorscale": [
             [
              0,
              "#0d0887"
             ],
             [
              0.1111111111111111,
              "#46039f"
             ],
             [
              0.2222222222222222,
              "#7201a8"
             ],
             [
              0.3333333333333333,
              "#9c179e"
             ],
             [
              0.4444444444444444,
              "#bd3786"
             ],
             [
              0.5555555555555556,
              "#d8576b"
             ],
             [
              0.6666666666666666,
              "#ed7953"
             ],
             [
              0.7777777777777778,
              "#fb9f3a"
             ],
             [
              0.8888888888888888,
              "#fdca26"
             ],
             [
              1,
              "#f0f921"
             ]
            ],
            "type": "histogram2dcontour"
           }
          ],
          "mesh3d": [
           {
            "colorbar": {
             "outlinewidth": 0,
             "ticks": ""
            },
            "type": "mesh3d"
           }
          ],
          "parcoords": [
           {
            "line": {
             "colorbar": {
              "outlinewidth": 0,
              "ticks": ""
             }
            },
            "type": "parcoords"
           }
          ],
          "pie": [
           {
            "automargin": true,
            "type": "pie"
           }
          ],
          "scatter": [
           {
            "fillpattern": {
             "fillmode": "overlay",
             "size": 10,
             "solidity": 0.2
            },
            "type": "scatter"
           }
          ],
          "scatter3d": [
           {
            "line": {
             "colorbar": {
              "outlinewidth": 0,
              "ticks": ""
             }
            },
            "marker": {
             "colorbar": {
              "outlinewidth": 0,
              "ticks": ""
             }
            },
            "type": "scatter3d"
           }
          ],
          "scattercarpet": [
           {
            "marker": {
             "colorbar": {
              "outlinewidth": 0,
              "ticks": ""
             }
            },
            "type": "scattercarpet"
           }
          ],
          "scattergeo": [
           {
            "marker": {
             "colorbar": {
              "outlinewidth": 0,
              "ticks": ""
             }
            },
            "type": "scattergeo"
           }
          ],
          "scattergl": [
           {
            "marker": {
             "colorbar": {
              "outlinewidth": 0,
              "ticks": ""
             }
            },
            "type": "scattergl"
           }
          ],
          "scattermapbox": [
           {
            "marker": {
             "colorbar": {
              "outlinewidth": 0,
              "ticks": ""
             }
            },
            "type": "scattermapbox"
           }
          ],
          "scatterpolar": [
           {
            "marker": {
             "colorbar": {
              "outlinewidth": 0,
              "ticks": ""
             }
            },
            "type": "scatterpolar"
           }
          ],
          "scatterpolargl": [
           {
            "marker": {
             "colorbar": {
              "outlinewidth": 0,
              "ticks": ""
             }
            },
            "type": "scatterpolargl"
           }
          ],
          "scatterternary": [
           {
            "marker": {
             "colorbar": {
              "outlinewidth": 0,
              "ticks": ""
             }
            },
            "type": "scatterternary"
           }
          ],
          "surface": [
           {
            "colorbar": {
             "outlinewidth": 0,
             "ticks": ""
            },
            "colorscale": [
             [
              0,
              "#0d0887"
             ],
             [
              0.1111111111111111,
              "#46039f"
             ],
             [
              0.2222222222222222,
              "#7201a8"
             ],
             [
              0.3333333333333333,
              "#9c179e"
             ],
             [
              0.4444444444444444,
              "#bd3786"
             ],
             [
              0.5555555555555556,
              "#d8576b"
             ],
             [
              0.6666666666666666,
              "#ed7953"
             ],
             [
              0.7777777777777778,
              "#fb9f3a"
             ],
             [
              0.8888888888888888,
              "#fdca26"
             ],
             [
              1,
              "#f0f921"
             ]
            ],
            "type": "surface"
           }
          ],
          "table": [
           {
            "cells": {
             "fill": {
              "color": "#EBF0F8"
             },
             "line": {
              "color": "white"
             }
            },
            "header": {
             "fill": {
              "color": "#C8D4E3"
             },
             "line": {
              "color": "white"
             }
            },
            "type": "table"
           }
          ]
         },
         "layout": {
          "annotationdefaults": {
           "arrowcolor": "#2a3f5f",
           "arrowhead": 0,
           "arrowwidth": 1
          },
          "autotypenumbers": "strict",
          "coloraxis": {
           "colorbar": {
            "outlinewidth": 0,
            "ticks": ""
           }
          },
          "colorscale": {
           "diverging": [
            [
             0,
             "#8e0152"
            ],
            [
             0.1,
             "#c51b7d"
            ],
            [
             0.2,
             "#de77ae"
            ],
            [
             0.3,
             "#f1b6da"
            ],
            [
             0.4,
             "#fde0ef"
            ],
            [
             0.5,
             "#f7f7f7"
            ],
            [
             0.6,
             "#e6f5d0"
            ],
            [
             0.7,
             "#b8e186"
            ],
            [
             0.8,
             "#7fbc41"
            ],
            [
             0.9,
             "#4d9221"
            ],
            [
             1,
             "#276419"
            ]
           ],
           "sequential": [
            [
             0,
             "#0d0887"
            ],
            [
             0.1111111111111111,
             "#46039f"
            ],
            [
             0.2222222222222222,
             "#7201a8"
            ],
            [
             0.3333333333333333,
             "#9c179e"
            ],
            [
             0.4444444444444444,
             "#bd3786"
            ],
            [
             0.5555555555555556,
             "#d8576b"
            ],
            [
             0.6666666666666666,
             "#ed7953"
            ],
            [
             0.7777777777777778,
             "#fb9f3a"
            ],
            [
             0.8888888888888888,
             "#fdca26"
            ],
            [
             1,
             "#f0f921"
            ]
           ],
           "sequentialminus": [
            [
             0,
             "#0d0887"
            ],
            [
             0.1111111111111111,
             "#46039f"
            ],
            [
             0.2222222222222222,
             "#7201a8"
            ],
            [
             0.3333333333333333,
             "#9c179e"
            ],
            [
             0.4444444444444444,
             "#bd3786"
            ],
            [
             0.5555555555555556,
             "#d8576b"
            ],
            [
             0.6666666666666666,
             "#ed7953"
            ],
            [
             0.7777777777777778,
             "#fb9f3a"
            ],
            [
             0.8888888888888888,
             "#fdca26"
            ],
            [
             1,
             "#f0f921"
            ]
           ]
          },
          "colorway": [
           "#636efa",
           "#EF553B",
           "#00cc96",
           "#ab63fa",
           "#FFA15A",
           "#19d3f3",
           "#FF6692",
           "#B6E880",
           "#FF97FF",
           "#FECB52"
          ],
          "font": {
           "color": "#2a3f5f"
          },
          "geo": {
           "bgcolor": "white",
           "lakecolor": "white",
           "landcolor": "#E5ECF6",
           "showlakes": true,
           "showland": true,
           "subunitcolor": "white"
          },
          "hoverlabel": {
           "align": "left"
          },
          "hovermode": "closest",
          "mapbox": {
           "style": "light"
          },
          "paper_bgcolor": "white",
          "plot_bgcolor": "#E5ECF6",
          "polar": {
           "angularaxis": {
            "gridcolor": "white",
            "linecolor": "white",
            "ticks": ""
           },
           "bgcolor": "#E5ECF6",
           "radialaxis": {
            "gridcolor": "white",
            "linecolor": "white",
            "ticks": ""
           }
          },
          "scene": {
           "xaxis": {
            "backgroundcolor": "#E5ECF6",
            "gridcolor": "white",
            "gridwidth": 2,
            "linecolor": "white",
            "showbackground": true,
            "ticks": "",
            "zerolinecolor": "white"
           },
           "yaxis": {
            "backgroundcolor": "#E5ECF6",
            "gridcolor": "white",
            "gridwidth": 2,
            "linecolor": "white",
            "showbackground": true,
            "ticks": "",
            "zerolinecolor": "white"
           },
           "zaxis": {
            "backgroundcolor": "#E5ECF6",
            "gridcolor": "white",
            "gridwidth": 2,
            "linecolor": "white",
            "showbackground": true,
            "ticks": "",
            "zerolinecolor": "white"
           }
          },
          "shapedefaults": {
           "line": {
            "color": "#2a3f5f"
           }
          },
          "ternary": {
           "aaxis": {
            "gridcolor": "white",
            "linecolor": "white",
            "ticks": ""
           },
           "baxis": {
            "gridcolor": "white",
            "linecolor": "white",
            "ticks": ""
           },
           "bgcolor": "#E5ECF6",
           "caxis": {
            "gridcolor": "white",
            "linecolor": "white",
            "ticks": ""
           }
          },
          "title": {
           "x": 0.05
          },
          "xaxis": {
           "automargin": true,
           "gridcolor": "white",
           "linecolor": "white",
           "ticks": "",
           "title": {
            "standoff": 15
           },
           "zerolinecolor": "white",
           "zerolinewidth": 2
          },
          "yaxis": {
           "automargin": true,
           "gridcolor": "white",
           "linecolor": "white",
           "ticks": "",
           "title": {
            "standoff": 15
           },
           "zerolinecolor": "white",
           "zerolinewidth": 2
          }
         }
        },
        "title": {
         "text": "Slice Plot"
        },
        "width": 1800,
        "xaxis": {
         "anchor": "y",
         "categoryarray": [
          "gini",
          "entropy"
         ],
         "categoryorder": "array",
         "domain": [
          0,
          0.1388888888888889
         ],
         "title": {
          "text": "criterion"
         },
         "type": "category"
        },
        "xaxis2": {
         "anchor": "y2",
         "domain": [
          0.17222222222222222,
          0.3111111111111111
         ],
         "title": {
          "text": "max_depth"
         }
        },
        "xaxis3": {
         "anchor": "y3",
         "categoryarray": [
          "sqrt",
          "log2",
          null
         ],
         "categoryorder": "array",
         "domain": [
          0.34444444444444444,
          0.48333333333333334
         ],
         "title": {
          "text": "max_features"
         },
         "type": "category"
        },
        "xaxis4": {
         "anchor": "y4",
         "domain": [
          0.5166666666666667,
          0.6555555555555557
         ],
         "title": {
          "text": "min_samples_leaf"
         }
        },
        "xaxis5": {
         "anchor": "y5",
         "domain": [
          0.6888888888888889,
          0.8277777777777777
         ],
         "title": {
          "text": "min_samples_split"
         }
        },
        "xaxis6": {
         "anchor": "y6",
         "categoryarray": [
          "best",
          "random"
         ],
         "categoryorder": "array",
         "domain": [
          0.861111111111111,
          1
         ],
         "title": {
          "text": "splitter"
         },
         "type": "category"
        },
        "yaxis": {
         "anchor": "x",
         "domain": [
          0,
          1
         ],
         "title": {
          "text": "Objective Value"
         }
        },
        "yaxis2": {
         "anchor": "x2",
         "domain": [
          0,
          1
         ],
         "matches": "y",
         "showticklabels": false
        },
        "yaxis3": {
         "anchor": "x3",
         "domain": [
          0,
          1
         ],
         "matches": "y",
         "showticklabels": false
        },
        "yaxis4": {
         "anchor": "x4",
         "domain": [
          0,
          1
         ],
         "matches": "y",
         "showticklabels": false
        },
        "yaxis5": {
         "anchor": "x5",
         "domain": [
          0,
          1
         ],
         "matches": "y",
         "showticklabels": false
        },
        "yaxis6": {
         "anchor": "x6",
         "domain": [
          0,
          1
         ],
         "matches": "y",
         "showticklabels": false
        }
       }
      }
     },
     "metadata": {},
     "output_type": "display_data"
    }
   ],
   "source": [
    "import pandas as pd\n",
    "import numpy as np\n",
    "from sklearn.tree import DecisionTreeClassifier\n",
    "from sklearn.model_selection import GroupKFold\n",
    "from sklearn.metrics import accuracy_score\n",
    "import optuna\n",
    "\n",
    "# Load the data\n",
    "file_path = \"AF3_FeatReduc.xlsx\"\n",
    "data = pd.read_excel(file_path)\n",
    "y = data[\"Type\"]\n",
    "X = data.iloc[:, 1:-1]\n",
    "subjects = data[\"Sub\"]\n",
    "\n",
    "# Define the cross-validation strategy\n",
    "gkf = GroupKFold(n_splits=7)  # Since there are 7 players\n",
    "\n",
    "# Define the objective function for Optuna\n",
    "def objective(trial):\n",
    "    # Hyperparameters to tune for DecisionTreeClassifier\n",
    "    param = {\n",
    "        'criterion': trial.suggest_categorical('criterion', ['gini', 'entropy']),\n",
    "        'splitter': trial.suggest_categorical('splitter', ['best', 'random']),\n",
    "        'max_depth': trial.suggest_int('max_depth', 1, 15),\n",
    "        'min_samples_split': trial.suggest_int('min_samples_split', 2, 20),\n",
    "        'min_samples_leaf': trial.suggest_int('min_samples_leaf', 1, 20),\n",
    "        'max_features': trial.suggest_categorical('max_features', [ 'sqrt', 'log2', None])\n",
    "    }\n",
    "    \n",
    "    # Storage for fold accuracy\n",
    "    accuracies = []\n",
    "    \n",
    "    for train_idx, test_idx in gkf.split(X, y, groups=subjects):\n",
    "        print(\"Training on subjects:\", subjects.iloc[train_idx].unique(), \"Testing on subject:\", subjects.iloc[test_idx].unique())\n",
    "        X_train, X_test = X.iloc[train_idx], X.iloc[test_idx]\n",
    "        y_train, y_test = y.iloc[train_idx], y.iloc[test_idx]\n",
    "        \n",
    "        # Create and train Decision Tree model\n",
    "        model = DecisionTreeClassifier(**param)\n",
    "        model.fit(X_train, y_train)\n",
    "        \n",
    "        # Predict on test data\n",
    "        preds = model.predict(X_test)\n",
    "        acc = accuracy_score(y_test, preds)\n",
    "        accuracies.append(acc)\n",
    "    \n",
    "    # Calculate the average accuracy across all folds\n",
    "    average_accuracy = np.mean(accuracies)\n",
    "    return average_accuracy\n",
    "\n",
    "# Sampler with a seed for reproducibility\n",
    "sampler = optuna.samplers.TPESampler(seed=42)\n",
    "\n",
    "# Create a study object and optimize the objective\n",
    "study = optuna.create_study(direction='maximize', sampler=sampler)\n",
    "study.optimize(objective, n_trials=100)  # Modify `n_trials` as per computation resource availability\n",
    "\n",
    "# Print best parameters\n",
    "print(\"Best trial:\")\n",
    "trial = study.best_trial\n",
    "print(\" Accuracy: \", trial.value)\n",
    "print(\" Params: \")\n",
    "for key, value in trial.params.items():\n",
    "    print(f\"    {key}: {value}\")\n",
    "\n",
    "\n",
    "\n",
    "best_params = study.best_params\n",
    "best_score = study.best_value\n",
    "\n",
    "print(\"Best Hyperparameters:\", best_params)\n",
    "print(\"Best Score for Top 50,000:\", best_score)\n",
    "\n",
    "history_plot = vis.plot_optimization_history(study)\n",
    "history_plot.show()\n",
    "\n",
    "importance_plot = vis.plot_param_importances(study)\n",
    "importance_plot.show()\n",
    "\n",
    "slice_plot = vis.plot_slice(study)\n",
    "slice_plot.show()"
   ]
  },
  {
   "cell_type": "code",
   "execution_count": null,
   "metadata": {},
   "outputs": [],
   "source": []
  },
  {
   "cell_type": "code",
   "execution_count": 18,
   "metadata": {},
   "outputs": [
    {
     "data": {
      "text/html": [
       "<style>#sk-container-id-1 {\n",
       "  /* Definition of color scheme common for light and dark mode */\n",
       "  --sklearn-color-text: black;\n",
       "  --sklearn-color-line: gray;\n",
       "  /* Definition of color scheme for unfitted estimators */\n",
       "  --sklearn-color-unfitted-level-0: #fff5e6;\n",
       "  --sklearn-color-unfitted-level-1: #f6e4d2;\n",
       "  --sklearn-color-unfitted-level-2: #ffe0b3;\n",
       "  --sklearn-color-unfitted-level-3: chocolate;\n",
       "  /* Definition of color scheme for fitted estimators */\n",
       "  --sklearn-color-fitted-level-0: #f0f8ff;\n",
       "  --sklearn-color-fitted-level-1: #d4ebff;\n",
       "  --sklearn-color-fitted-level-2: #b3dbfd;\n",
       "  --sklearn-color-fitted-level-3: cornflowerblue;\n",
       "\n",
       "  /* Specific color for light theme */\n",
       "  --sklearn-color-text-on-default-background: var(--sg-text-color, var(--theme-code-foreground, var(--jp-content-font-color1, black)));\n",
       "  --sklearn-color-background: var(--sg-background-color, var(--theme-background, var(--jp-layout-color0, white)));\n",
       "  --sklearn-color-border-box: var(--sg-text-color, var(--theme-code-foreground, var(--jp-content-font-color1, black)));\n",
       "  --sklearn-color-icon: #696969;\n",
       "\n",
       "  @media (prefers-color-scheme: dark) {\n",
       "    /* Redefinition of color scheme for dark theme */\n",
       "    --sklearn-color-text-on-default-background: var(--sg-text-color, var(--theme-code-foreground, var(--jp-content-font-color1, white)));\n",
       "    --sklearn-color-background: var(--sg-background-color, var(--theme-background, var(--jp-layout-color0, #111)));\n",
       "    --sklearn-color-border-box: var(--sg-text-color, var(--theme-code-foreground, var(--jp-content-font-color1, white)));\n",
       "    --sklearn-color-icon: #878787;\n",
       "  }\n",
       "}\n",
       "\n",
       "#sk-container-id-1 {\n",
       "  color: var(--sklearn-color-text);\n",
       "}\n",
       "\n",
       "#sk-container-id-1 pre {\n",
       "  padding: 0;\n",
       "}\n",
       "\n",
       "#sk-container-id-1 input.sk-hidden--visually {\n",
       "  border: 0;\n",
       "  clip: rect(1px 1px 1px 1px);\n",
       "  clip: rect(1px, 1px, 1px, 1px);\n",
       "  height: 1px;\n",
       "  margin: -1px;\n",
       "  overflow: hidden;\n",
       "  padding: 0;\n",
       "  position: absolute;\n",
       "  width: 1px;\n",
       "}\n",
       "\n",
       "#sk-container-id-1 div.sk-dashed-wrapped {\n",
       "  border: 1px dashed var(--sklearn-color-line);\n",
       "  margin: 0 0.4em 0.5em 0.4em;\n",
       "  box-sizing: border-box;\n",
       "  padding-bottom: 0.4em;\n",
       "  background-color: var(--sklearn-color-background);\n",
       "}\n",
       "\n",
       "#sk-container-id-1 div.sk-container {\n",
       "  /* jupyter's `normalize.less` sets `[hidden] { display: none; }`\n",
       "     but bootstrap.min.css set `[hidden] { display: none !important; }`\n",
       "     so we also need the `!important` here to be able to override the\n",
       "     default hidden behavior on the sphinx rendered scikit-learn.org.\n",
       "     See: https://github.com/scikit-learn/scikit-learn/issues/21755 */\n",
       "  display: inline-block !important;\n",
       "  position: relative;\n",
       "}\n",
       "\n",
       "#sk-container-id-1 div.sk-text-repr-fallback {\n",
       "  display: none;\n",
       "}\n",
       "\n",
       "div.sk-parallel-item,\n",
       "div.sk-serial,\n",
       "div.sk-item {\n",
       "  /* draw centered vertical line to link estimators */\n",
       "  background-image: linear-gradient(var(--sklearn-color-text-on-default-background), var(--sklearn-color-text-on-default-background));\n",
       "  background-size: 2px 100%;\n",
       "  background-repeat: no-repeat;\n",
       "  background-position: center center;\n",
       "}\n",
       "\n",
       "/* Parallel-specific style estimator block */\n",
       "\n",
       "#sk-container-id-1 div.sk-parallel-item::after {\n",
       "  content: \"\";\n",
       "  width: 100%;\n",
       "  border-bottom: 2px solid var(--sklearn-color-text-on-default-background);\n",
       "  flex-grow: 1;\n",
       "}\n",
       "\n",
       "#sk-container-id-1 div.sk-parallel {\n",
       "  display: flex;\n",
       "  align-items: stretch;\n",
       "  justify-content: center;\n",
       "  background-color: var(--sklearn-color-background);\n",
       "  position: relative;\n",
       "}\n",
       "\n",
       "#sk-container-id-1 div.sk-parallel-item {\n",
       "  display: flex;\n",
       "  flex-direction: column;\n",
       "}\n",
       "\n",
       "#sk-container-id-1 div.sk-parallel-item:first-child::after {\n",
       "  align-self: flex-end;\n",
       "  width: 50%;\n",
       "}\n",
       "\n",
       "#sk-container-id-1 div.sk-parallel-item:last-child::after {\n",
       "  align-self: flex-start;\n",
       "  width: 50%;\n",
       "}\n",
       "\n",
       "#sk-container-id-1 div.sk-parallel-item:only-child::after {\n",
       "  width: 0;\n",
       "}\n",
       "\n",
       "/* Serial-specific style estimator block */\n",
       "\n",
       "#sk-container-id-1 div.sk-serial {\n",
       "  display: flex;\n",
       "  flex-direction: column;\n",
       "  align-items: center;\n",
       "  background-color: var(--sklearn-color-background);\n",
       "  padding-right: 1em;\n",
       "  padding-left: 1em;\n",
       "}\n",
       "\n",
       "\n",
       "/* Toggleable style: style used for estimator/Pipeline/ColumnTransformer box that is\n",
       "clickable and can be expanded/collapsed.\n",
       "- Pipeline and ColumnTransformer use this feature and define the default style\n",
       "- Estimators will overwrite some part of the style using the `sk-estimator` class\n",
       "*/\n",
       "\n",
       "/* Pipeline and ColumnTransformer style (default) */\n",
       "\n",
       "#sk-container-id-1 div.sk-toggleable {\n",
       "  /* Default theme specific background. It is overwritten whether we have a\n",
       "  specific estimator or a Pipeline/ColumnTransformer */\n",
       "  background-color: var(--sklearn-color-background);\n",
       "}\n",
       "\n",
       "/* Toggleable label */\n",
       "#sk-container-id-1 label.sk-toggleable__label {\n",
       "  cursor: pointer;\n",
       "  display: block;\n",
       "  width: 100%;\n",
       "  margin-bottom: 0;\n",
       "  padding: 0.5em;\n",
       "  box-sizing: border-box;\n",
       "  text-align: center;\n",
       "}\n",
       "\n",
       "#sk-container-id-1 label.sk-toggleable__label-arrow:before {\n",
       "  /* Arrow on the left of the label */\n",
       "  content: \"▸\";\n",
       "  float: left;\n",
       "  margin-right: 0.25em;\n",
       "  color: var(--sklearn-color-icon);\n",
       "}\n",
       "\n",
       "#sk-container-id-1 label.sk-toggleable__label-arrow:hover:before {\n",
       "  color: var(--sklearn-color-text);\n",
       "}\n",
       "\n",
       "/* Toggleable content - dropdown */\n",
       "\n",
       "#sk-container-id-1 div.sk-toggleable__content {\n",
       "  max-height: 0;\n",
       "  max-width: 0;\n",
       "  overflow: hidden;\n",
       "  text-align: left;\n",
       "  /* unfitted */\n",
       "  background-color: var(--sklearn-color-unfitted-level-0);\n",
       "}\n",
       "\n",
       "#sk-container-id-1 div.sk-toggleable__content.fitted {\n",
       "  /* fitted */\n",
       "  background-color: var(--sklearn-color-fitted-level-0);\n",
       "}\n",
       "\n",
       "#sk-container-id-1 div.sk-toggleable__content pre {\n",
       "  margin: 0.2em;\n",
       "  border-radius: 0.25em;\n",
       "  color: var(--sklearn-color-text);\n",
       "  /* unfitted */\n",
       "  background-color: var(--sklearn-color-unfitted-level-0);\n",
       "}\n",
       "\n",
       "#sk-container-id-1 div.sk-toggleable__content.fitted pre {\n",
       "  /* unfitted */\n",
       "  background-color: var(--sklearn-color-fitted-level-0);\n",
       "}\n",
       "\n",
       "#sk-container-id-1 input.sk-toggleable__control:checked~div.sk-toggleable__content {\n",
       "  /* Expand drop-down */\n",
       "  max-height: 200px;\n",
       "  max-width: 100%;\n",
       "  overflow: auto;\n",
       "}\n",
       "\n",
       "#sk-container-id-1 input.sk-toggleable__control:checked~label.sk-toggleable__label-arrow:before {\n",
       "  content: \"▾\";\n",
       "}\n",
       "\n",
       "/* Pipeline/ColumnTransformer-specific style */\n",
       "\n",
       "#sk-container-id-1 div.sk-label input.sk-toggleable__control:checked~label.sk-toggleable__label {\n",
       "  color: var(--sklearn-color-text);\n",
       "  background-color: var(--sklearn-color-unfitted-level-2);\n",
       "}\n",
       "\n",
       "#sk-container-id-1 div.sk-label.fitted input.sk-toggleable__control:checked~label.sk-toggleable__label {\n",
       "  background-color: var(--sklearn-color-fitted-level-2);\n",
       "}\n",
       "\n",
       "/* Estimator-specific style */\n",
       "\n",
       "/* Colorize estimator box */\n",
       "#sk-container-id-1 div.sk-estimator input.sk-toggleable__control:checked~label.sk-toggleable__label {\n",
       "  /* unfitted */\n",
       "  background-color: var(--sklearn-color-unfitted-level-2);\n",
       "}\n",
       "\n",
       "#sk-container-id-1 div.sk-estimator.fitted input.sk-toggleable__control:checked~label.sk-toggleable__label {\n",
       "  /* fitted */\n",
       "  background-color: var(--sklearn-color-fitted-level-2);\n",
       "}\n",
       "\n",
       "#sk-container-id-1 div.sk-label label.sk-toggleable__label,\n",
       "#sk-container-id-1 div.sk-label label {\n",
       "  /* The background is the default theme color */\n",
       "  color: var(--sklearn-color-text-on-default-background);\n",
       "}\n",
       "\n",
       "/* On hover, darken the color of the background */\n",
       "#sk-container-id-1 div.sk-label:hover label.sk-toggleable__label {\n",
       "  color: var(--sklearn-color-text);\n",
       "  background-color: var(--sklearn-color-unfitted-level-2);\n",
       "}\n",
       "\n",
       "/* Label box, darken color on hover, fitted */\n",
       "#sk-container-id-1 div.sk-label.fitted:hover label.sk-toggleable__label.fitted {\n",
       "  color: var(--sklearn-color-text);\n",
       "  background-color: var(--sklearn-color-fitted-level-2);\n",
       "}\n",
       "\n",
       "/* Estimator label */\n",
       "\n",
       "#sk-container-id-1 div.sk-label label {\n",
       "  font-family: monospace;\n",
       "  font-weight: bold;\n",
       "  display: inline-block;\n",
       "  line-height: 1.2em;\n",
       "}\n",
       "\n",
       "#sk-container-id-1 div.sk-label-container {\n",
       "  text-align: center;\n",
       "}\n",
       "\n",
       "/* Estimator-specific */\n",
       "#sk-container-id-1 div.sk-estimator {\n",
       "  font-family: monospace;\n",
       "  border: 1px dotted var(--sklearn-color-border-box);\n",
       "  border-radius: 0.25em;\n",
       "  box-sizing: border-box;\n",
       "  margin-bottom: 0.5em;\n",
       "  /* unfitted */\n",
       "  background-color: var(--sklearn-color-unfitted-level-0);\n",
       "}\n",
       "\n",
       "#sk-container-id-1 div.sk-estimator.fitted {\n",
       "  /* fitted */\n",
       "  background-color: var(--sklearn-color-fitted-level-0);\n",
       "}\n",
       "\n",
       "/* on hover */\n",
       "#sk-container-id-1 div.sk-estimator:hover {\n",
       "  /* unfitted */\n",
       "  background-color: var(--sklearn-color-unfitted-level-2);\n",
       "}\n",
       "\n",
       "#sk-container-id-1 div.sk-estimator.fitted:hover {\n",
       "  /* fitted */\n",
       "  background-color: var(--sklearn-color-fitted-level-2);\n",
       "}\n",
       "\n",
       "/* Specification for estimator info (e.g. \"i\" and \"?\") */\n",
       "\n",
       "/* Common style for \"i\" and \"?\" */\n",
       "\n",
       ".sk-estimator-doc-link,\n",
       "a:link.sk-estimator-doc-link,\n",
       "a:visited.sk-estimator-doc-link {\n",
       "  float: right;\n",
       "  font-size: smaller;\n",
       "  line-height: 1em;\n",
       "  font-family: monospace;\n",
       "  background-color: var(--sklearn-color-background);\n",
       "  border-radius: 1em;\n",
       "  height: 1em;\n",
       "  width: 1em;\n",
       "  text-decoration: none !important;\n",
       "  margin-left: 1ex;\n",
       "  /* unfitted */\n",
       "  border: var(--sklearn-color-unfitted-level-1) 1pt solid;\n",
       "  color: var(--sklearn-color-unfitted-level-1);\n",
       "}\n",
       "\n",
       ".sk-estimator-doc-link.fitted,\n",
       "a:link.sk-estimator-doc-link.fitted,\n",
       "a:visited.sk-estimator-doc-link.fitted {\n",
       "  /* fitted */\n",
       "  border: var(--sklearn-color-fitted-level-1) 1pt solid;\n",
       "  color: var(--sklearn-color-fitted-level-1);\n",
       "}\n",
       "\n",
       "/* On hover */\n",
       "div.sk-estimator:hover .sk-estimator-doc-link:hover,\n",
       ".sk-estimator-doc-link:hover,\n",
       "div.sk-label-container:hover .sk-estimator-doc-link:hover,\n",
       ".sk-estimator-doc-link:hover {\n",
       "  /* unfitted */\n",
       "  background-color: var(--sklearn-color-unfitted-level-3);\n",
       "  color: var(--sklearn-color-background);\n",
       "  text-decoration: none;\n",
       "}\n",
       "\n",
       "div.sk-estimator.fitted:hover .sk-estimator-doc-link.fitted:hover,\n",
       ".sk-estimator-doc-link.fitted:hover,\n",
       "div.sk-label-container:hover .sk-estimator-doc-link.fitted:hover,\n",
       ".sk-estimator-doc-link.fitted:hover {\n",
       "  /* fitted */\n",
       "  background-color: var(--sklearn-color-fitted-level-3);\n",
       "  color: var(--sklearn-color-background);\n",
       "  text-decoration: none;\n",
       "}\n",
       "\n",
       "/* Span, style for the box shown on hovering the info icon */\n",
       ".sk-estimator-doc-link span {\n",
       "  display: none;\n",
       "  z-index: 9999;\n",
       "  position: relative;\n",
       "  font-weight: normal;\n",
       "  right: .2ex;\n",
       "  padding: .5ex;\n",
       "  margin: .5ex;\n",
       "  width: min-content;\n",
       "  min-width: 20ex;\n",
       "  max-width: 50ex;\n",
       "  color: var(--sklearn-color-text);\n",
       "  box-shadow: 2pt 2pt 4pt #999;\n",
       "  /* unfitted */\n",
       "  background: var(--sklearn-color-unfitted-level-0);\n",
       "  border: .5pt solid var(--sklearn-color-unfitted-level-3);\n",
       "}\n",
       "\n",
       ".sk-estimator-doc-link.fitted span {\n",
       "  /* fitted */\n",
       "  background: var(--sklearn-color-fitted-level-0);\n",
       "  border: var(--sklearn-color-fitted-level-3);\n",
       "}\n",
       "\n",
       ".sk-estimator-doc-link:hover span {\n",
       "  display: block;\n",
       "}\n",
       "\n",
       "/* \"?\"-specific style due to the `<a>` HTML tag */\n",
       "\n",
       "#sk-container-id-1 a.estimator_doc_link {\n",
       "  float: right;\n",
       "  font-size: 1rem;\n",
       "  line-height: 1em;\n",
       "  font-family: monospace;\n",
       "  background-color: var(--sklearn-color-background);\n",
       "  border-radius: 1rem;\n",
       "  height: 1rem;\n",
       "  width: 1rem;\n",
       "  text-decoration: none;\n",
       "  /* unfitted */\n",
       "  color: var(--sklearn-color-unfitted-level-1);\n",
       "  border: var(--sklearn-color-unfitted-level-1) 1pt solid;\n",
       "}\n",
       "\n",
       "#sk-container-id-1 a.estimator_doc_link.fitted {\n",
       "  /* fitted */\n",
       "  border: var(--sklearn-color-fitted-level-1) 1pt solid;\n",
       "  color: var(--sklearn-color-fitted-level-1);\n",
       "}\n",
       "\n",
       "/* On hover */\n",
       "#sk-container-id-1 a.estimator_doc_link:hover {\n",
       "  /* unfitted */\n",
       "  background-color: var(--sklearn-color-unfitted-level-3);\n",
       "  color: var(--sklearn-color-background);\n",
       "  text-decoration: none;\n",
       "}\n",
       "\n",
       "#sk-container-id-1 a.estimator_doc_link.fitted:hover {\n",
       "  /* fitted */\n",
       "  background-color: var(--sklearn-color-fitted-level-3);\n",
       "}\n",
       "</style><div id=\"sk-container-id-1\" class=\"sk-top-container\"><div class=\"sk-text-repr-fallback\"><pre>DecisionTreeClassifier(max_depth=11, max_features=&#x27;sqrt&#x27;, min_samples_leaf=6,\n",
       "                       min_samples_split=13, splitter=&#x27;random&#x27;)</pre><b>In a Jupyter environment, please rerun this cell to show the HTML representation or trust the notebook. <br />On GitHub, the HTML representation is unable to render, please try loading this page with nbviewer.org.</b></div><div class=\"sk-container\" hidden><div class=\"sk-item\"><div class=\"sk-estimator fitted sk-toggleable\"><input class=\"sk-toggleable__control sk-hidden--visually\" id=\"sk-estimator-id-1\" type=\"checkbox\" checked><label for=\"sk-estimator-id-1\" class=\"sk-toggleable__label fitted sk-toggleable__label-arrow fitted\">&nbsp;&nbsp;DecisionTreeClassifier<a class=\"sk-estimator-doc-link fitted\" rel=\"noreferrer\" target=\"_blank\" href=\"https://scikit-learn.org/1.4/modules/generated/sklearn.tree.DecisionTreeClassifier.html\">?<span>Documentation for DecisionTreeClassifier</span></a><span class=\"sk-estimator-doc-link fitted\">i<span>Fitted</span></span></label><div class=\"sk-toggleable__content fitted\"><pre>DecisionTreeClassifier(max_depth=11, max_features=&#x27;sqrt&#x27;, min_samples_leaf=6,\n",
       "                       min_samples_split=13, splitter=&#x27;random&#x27;)</pre></div> </div></div></div></div>"
      ],
      "text/plain": [
       "DecisionTreeClassifier(max_depth=11, max_features='sqrt', min_samples_leaf=6,\n",
       "                       min_samples_split=13, splitter='random')"
      ]
     },
     "execution_count": 18,
     "metadata": {},
     "output_type": "execute_result"
    }
   ],
   "source": [
    "import pandas as pd\n",
    "import numpy as np\n",
    "from sklearn.tree import DecisionTreeClassifier\n",
    "from sklearn import tree\n",
    "import matplotlib.pyplot as plt\n",
    "\n",
    "train_indices = subjects < 7  # Assuming player numbers are from 1 to 7 and are in sequence\n",
    "test_indices = subjects == 7\n",
    "\n",
    "X_train, X_test = X[train_indices], X[test_indices]\n",
    "y_train, y_test = y[train_indices], y[test_indices]\n",
    "\n",
    "params = {\n",
    "    'criterion': 'gini',\n",
    "    'splitter': 'random',\n",
    "    'max_depth': 11,\n",
    "    'min_samples_split': 13,\n",
    "    'min_samples_leaf': 6,\n",
    "    'max_features': 'sqrt'\n",
    "}\n",
    "\n",
    "# Create and train the Decision Tree model\n",
    "model = DecisionTreeClassifier(**params)\n",
    "model.fit(X_train, y_train)\n"
   ]
  },
  {
   "cell_type": "code",
   "execution_count": 19,
   "metadata": {},
   "outputs": [
    {
     "data": {
      "image/png": "[encoded data removed]",
      "text/plain": [
       "<Figure size 2000x1000 with 1 Axes>"
      ]
     },
     "metadata": {},
     "output_type": "display_data"
    }
   ],
   "source": [
    "# Plot the tree\n",
    "plt.figure(figsize=(20,10))\n",
    "tree.plot_tree(model, \n",
    "               filled=True, \n",
    "               rounded=True, \n",
    "               class_names=['Class 0', 'Class 1'],\n",
    "               feature_names=X.columns)\n",
    "plt.show()"
   ]
  },
  {
   "cell_type": "code",
   "execution_count": 20,
   "metadata": {},
   "outputs": [
    {
     "data": {
      "image/png": "[encoded data removed]",
      "text/plain": [
       "<Figure size 1000x600 with 1 Axes>"
      ]
     },
     "metadata": {},
     "output_type": "display_data"
    }
   ],
   "source": [
    "# Get feature importances\n",
    "importance = model.feature_importances_\n",
    "\n",
    "# Summarize feature importances\n",
    "features = X_train.columns\n",
    "importance_df = pd.DataFrame({'Feature': features, 'Importance': importance})\n",
    "importance_df = importance_df.sort_values(by='Importance', ascending=False)\n",
    "\n",
    "# Plot feature importances\n",
    "plt.figure(figsize=(10, 6))\n",
    "plt.barh(importance_df['Feature'].head(10), importance_df['Importance'].head(10), color='skyblue')\n",
    "plt.xlabel('Importance')\n",
    "plt.title('Top 10 Variable Importances')\n",
    "plt.gca().invert_yaxis()  \n",
    "plt.show()"
   ]
  },
  {
   "cell_type": "code",
   "execution_count": 21,
   "metadata": {},
   "outputs": [
    {
     "data": {
      "image/png": "[encoded data removed]",
      "text/plain": [
       "<Figure size 640x480 with 2 Axes>"
      ]
     },
     "metadata": {},
     "output_type": "display_data"
    }
   ],
   "source": [
    "from sklearn.metrics import confusion_matrix\n",
    "import seaborn as sns\n",
    "y_pred = model.predict(X_test)\n",
    "\n",
    "cm = confusion_matrix(y_test, y_pred)\n",
    "sns.heatmap(cm, annot=True, fmt=\"d\", cmap='Blues')\n",
    "plt.xlabel('Predicted Labels')\n",
    "plt.ylabel('True Labels')\n",
    "plt.title('Confusion Matrix')\n",
    "plt.show()"
   ]
  },
  {
   "cell_type": "code",
   "execution_count": null,
   "metadata": {},
   "outputs": [],
   "source": [
    "from sklearn.model_selection import learning_curve\n",
    "\n",
    "train_sizes, train_scores, test_scores = learning_curve(model, X_train, y_train, cv=5, scoring='accuracy', n_jobs=-1, train_sizes=np.linspace(0.1, 1.0, 10))\n",
    "train_mean = np.mean(train_scores, axis=1)\n",
    "train_std = np.std(train_scores, axis=1)\n",
    "test_mean = np.mean(test_scores, axis=1)\n",
    "test_std = np.std(test_scores, axis=1)\n",
    "\n",
    "plt.fill_between(train_sizes, train_mean - train_std, train_mean + train_std, color='r', alpha=0.1)\n",
    "plt.fill_between(train_sizes, test_mean - test_std, test_mean + test_std, color='g', alpha=0.1)\n",
    "plt.plot(train_sizes, train_mean, 'o-', color='r', label='Training score')\n",
    "plt.plot(train_sizes, test_mean, 'o-', color='g', label='Cross-validation score')\n",
    "plt.xlabel('Training Size')\n",
    "plt.ylabel('Score')\n",
    "plt.title('Learning Curve')\n",
    "plt.legend(loc=\"best\")\n",
    "plt.show()"
   ]
  },
  {
   "cell_type": "code",
   "execution_count": 23,
   "metadata": {},
   "outputs": [
    {
     "data": {
      "image/png": "[encoded data removed]",
      "text/plain": [
       "<Figure size 640x480 with 1 Axes>"
      ]
     },
     "metadata": {},
     "output_type": "display_data"
    }
   ],
   "source": [
    "from sklearn.model_selection import learning_curve\n",
    "\n",
    "gkf = GroupKFold(n_splits=7)  # 7 players, each player's data is isolated once as a test set\n",
    "\n",
    "# Define the DecisionTreeClassifier (assuming it's already tuned)\n",
    "params = {\n",
    "    'criterion': 'gini',\n",
    "    'splitter': 'random',\n",
    "    'max_depth': 11,\n",
    "    'min_samples_split': 13,\n",
    "    'min_samples_leaf': 6,\n",
    "    'max_features': 'sqrt'\n",
    "}\n",
    "model = DecisionTreeClassifier(**params)\n",
    "\n",
    "# Generate learning curves\n",
    "train_sizes, train_scores, test_scores = learning_curve(\n",
    "    model, X, y, cv=gkf.split(X, y, groups=subjects),\n",
    "    scoring='accuracy', n_jobs=-1, train_sizes=np.linspace(0.1, 1.0, 10))\n",
    "\n",
    "# Calculate mean and standard deviation for training set scores\n",
    "train_mean = np.mean(train_scores, axis=1)\n",
    "train_std = np.std(train_scores, axis=1)\n",
    "\n",
    "# Calculate mean and standard deviation for test set scores\n",
    "test_mean = np.mean(test_scores, axis=1)\n",
    "test_std = np.std(test_scores, axis=1)\n",
    "\n",
    "# Plotting the learning curve\n",
    "plt.fill_between(train_sizes, train_mean - train_std, train_mean + train_std, color='r', alpha=0.1)\n",
    "plt.fill_between(train_sizes, test_mean - test_std, test_mean + test_std, color='g', alpha=0.1)\n",
    "plt.plot(train_sizes, train_mean, 'o-', color='r', label='Training score')\n",
    "plt.plot(train_sizes, test_mean, 'o-', color='g', label='Cross-validation score')\n",
    "plt.xlabel('Training Size')\n",
    "plt.ylabel('Score')\n",
    "plt.title('Learning Curve')\n",
    "plt.legend(loc=\"best\")\n",
    "plt.show()\n"
   ]
  }
 ],
 "metadata": {
  "language_info": {
   "name": "python"
  }
 },
 "nbformat": 4,
 "nbformat_minor": 2
}
