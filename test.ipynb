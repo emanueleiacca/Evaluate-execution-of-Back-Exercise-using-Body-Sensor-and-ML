{
 "cells": [
  {
   "cell_type": "code",
   "execution_count": null,
   "metadata": {},
   "outputs": [],
   "source": [
    "import pandas as pd\n",
    "import numpy as np\n",
    "import plotly.express as px\n",
    "\n",
    "file_path = \"AF3_FeatReduc.xlsx\"\n",
    "data = pd.read_excel(file_path)\n",
    "y=data[\"Type\"]\n",
    "X= data.iloc[:, 2:-1]\n",
    "subjects=data[\"Sub\"]"
   ]
  }
 ],
 "metadata": {
  "language_info": {
   "name": "python"
  }
 },
 "nbformat": 4,
 "nbformat_minor": 2
}
